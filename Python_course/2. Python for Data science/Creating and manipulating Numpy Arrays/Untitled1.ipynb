{
 "cells": [
  {
   "cell_type": "code",
   "execution_count": 8,
   "id": "f25fb6ae-efc5-458d-9b67-3d2a1fada34c",
   "metadata": {},
   "outputs": [
    {
     "name": "stdout",
     "output_type": "stream",
     "text": [
      "1      boomi\n",
      "2    nagaraj\n",
      "dtype: object\n"
     ]
    }
   ],
   "source": [
    "import pandas as pd\n",
    "import numpy as np\n",
    "s=pd.Series([\"boomi\",\"nagaraj\"],index=np.arange(1,3))\n",
    "print(s)"
   ]
  },
  {
   "cell_type": "code",
   "execution_count": 12,
   "id": "135132e7-79ab-4a68-b181-d1e473f1ec76",
   "metadata": {},
   "outputs": [
    {
     "data": {
      "text/plain": [
       "1     78\n",
       "2     83\n",
       "3     96\n",
       "4     97\n",
       "5     94\n",
       "6     77\n",
       "7     88\n",
       "8     99\n",
       "9     81\n",
       "10    71\n",
       "dtype: int32"
      ]
     },
     "execution_count": 12,
     "metadata": {},
     "output_type": "execute_result"
    }
   ],
   "source": [
    "s1=pd.Series(np.random.randint(70,100,size=10),index=np.arange(1,11))\n",
    "s1"
   ]
  },
  {
   "cell_type": "code",
   "execution_count": 14,
   "id": "c9436ddf-e4f7-404c-9378-aa41f98fbc7c",
   "metadata": {},
   "outputs": [
    {
     "data": {
      "text/plain": [
       "boo123    46\n",
       "sai675    48\n",
       "nag657    13\n",
       "rah983    94\n",
       "yog675     9\n",
       "dtype: int32"
      ]
     },
     "execution_count": 14,
     "metadata": {},
     "output_type": "execute_result"
    }
   ],
   "source": [
    "Alnum=[\"boo123\",\"sai675\",\"nag657\",\"rah983\",\"yog675\"]\n",
    "cus=pd.Series(np.random.randint(1,100,size=5),index=Alnum)\n",
    "cus"
   ]
  },
  {
   "cell_type": "code",
   "execution_count": 22,
   "id": "e52c4ce0-331a-4090-b979-85ac180b46e0",
   "metadata": {},
   "outputs": [
    {
     "data": {
      "text/plain": [
       "1    1845\n",
       "2    1214\n",
       "3    1282\n",
       "4    1512\n",
       "5    1344\n",
       "dtype: int32"
      ]
     },
     "execution_count": 22,
     "metadata": {},
     "output_type": "execute_result"
    }
   ],
   "source": [
    "ele=pd.Series(np.random.randint(1000,2000,size=100),index=np.arange(1,101))\n",
    "ele[0:5]\n"
   ]
  },
  {
   "cell_type": "code",
   "execution_count": 21,
   "id": "767d2471-7895-443e-9c91-d93dd2f1b2d5",
   "metadata": {},
   "outputs": [
    {
     "data": {
      "text/plain": [
       "98     1405\n",
       "99     1570\n",
       "100    1286\n",
       "dtype: int32"
      ]
     },
     "execution_count": 21,
     "metadata": {},
     "output_type": "execute_result"
    }
   ],
   "source": [
    "ele[-3:]"
   ]
  },
  {
   "cell_type": "code",
   "execution_count": 28,
   "id": "8c4e8833-5534-4b1d-a0a0-9dc9acaf7f56",
   "metadata": {},
   "outputs": [
    {
     "data": {
      "text/plain": [
       "A3    62\n",
       "A4    42\n",
       "A5    55\n",
       "dtype: int32"
      ]
     },
     "execution_count": 28,
     "metadata": {},
     "output_type": "execute_result"
    }
   ],
   "source": [
    "s2=[\"A1\",\"A2\",\"A3\",\"A4\",\"A5\"]\n",
    "cus1=pd.Series(np.random.randint(1,100,size=5),index=s2)\n",
    "cus1[2:6]\n"
   ]
  },
  {
   "cell_type": "code",
   "execution_count": 48,
   "id": "c7eaca21-5a9e-41f4-a47f-7a107e855ce4",
   "metadata": {},
   "outputs": [
    {
     "data": {
      "text/plain": [
       "False"
      ]
     },
     "execution_count": 48,
     "metadata": {},
     "output_type": "execute_result"
    }
   ],
   "source": [
    "emp=[\"A1\",\"A2\",\"A3\",\"A4\",\"A5\",\"A6\",\"A7\",\"A8\",\"A9\",\"A10\"]\n",
    "sal=pd.Series(np.random.randint(1000,50000,size=10),index=emp)\n",
    "avg=sal.mean()<10000\n",
    "avg"
   ]
  },
  {
   "cell_type": "code",
   "execution_count": 49,
   "id": "eb182f52-24ce-4712-b8dd-9e937865a4ee",
   "metadata": {},
   "outputs": [
    {
     "data": {
      "text/plain": [
       "A2    28398\n",
       "A4    26701\n",
       "A5    24434\n",
       "A6    24287\n",
       "A8    14244\n",
       "A9    15057\n",
       "dtype: int32"
      ]
     },
     "execution_count": 49,
     "metadata": {},
     "output_type": "execute_result"
    }
   ],
   "source": [
    "sal[(sal<(sal.mean()))]"
   ]
  },
  {
   "cell_type": "code",
   "execution_count": 50,
   "id": "4307637a-2625-4d54-95fb-333a3f73601c",
   "metadata": {},
   "outputs": [
    {
     "data": {
      "text/plain": [
       "28862.9"
      ]
     },
     "execution_count": 50,
     "metadata": {},
     "output_type": "execute_result"
    }
   ],
   "source": [
    "sal.mean()"
   ]
  },
  {
   "cell_type": "code",
   "execution_count": 56,
   "id": "6a735d5c-4384-4851-b2c9-fad68ff0ae11",
   "metadata": {},
   "outputs": [
    {
     "data": {
      "text/html": [
       "<div>\n",
       "<style scoped>\n",
       "    .dataframe tbody tr th:only-of-type {\n",
       "        vertical-align: middle;\n",
       "    }\n",
       "\n",
       "    .dataframe tbody tr th {\n",
       "        vertical-align: top;\n",
       "    }\n",
       "\n",
       "    .dataframe thead th {\n",
       "        text-align: right;\n",
       "    }\n",
       "</style>\n",
       "<table border=\"1\" class=\"dataframe\">\n",
       "  <thead>\n",
       "    <tr style=\"text-align: right;\">\n",
       "      <th></th>\n",
       "      <th>Roll_no</th>\n",
       "      <th>Stud_name</th>\n",
       "      <th>percentage</th>\n",
       "    </tr>\n",
       "  </thead>\n",
       "  <tbody>\n",
       "    <tr>\n",
       "      <th>0</th>\n",
       "      <td>1</td>\n",
       "      <td>boomi</td>\n",
       "      <td>91</td>\n",
       "    </tr>\n",
       "    <tr>\n",
       "      <th>1</th>\n",
       "      <td>2</td>\n",
       "      <td>nagaraj</td>\n",
       "      <td>93</td>\n",
       "    </tr>\n",
       "    <tr>\n",
       "      <th>2</th>\n",
       "      <td>3</td>\n",
       "      <td>rajesh</td>\n",
       "      <td>78</td>\n",
       "    </tr>\n",
       "    <tr>\n",
       "      <th>3</th>\n",
       "      <td>4</td>\n",
       "      <td>ram</td>\n",
       "      <td>69</td>\n",
       "    </tr>\n",
       "    <tr>\n",
       "      <th>4</th>\n",
       "      <td>5</td>\n",
       "      <td>boobalan</td>\n",
       "      <td>91</td>\n",
       "    </tr>\n",
       "    <tr>\n",
       "      <th>5</th>\n",
       "      <td>6</td>\n",
       "      <td>kani</td>\n",
       "      <td>88</td>\n",
       "    </tr>\n",
       "    <tr>\n",
       "      <th>6</th>\n",
       "      <td>7</td>\n",
       "      <td>kavis</td>\n",
       "      <td>74</td>\n",
       "    </tr>\n",
       "    <tr>\n",
       "      <th>7</th>\n",
       "      <td>8</td>\n",
       "      <td>praba</td>\n",
       "      <td>56</td>\n",
       "    </tr>\n",
       "    <tr>\n",
       "      <th>8</th>\n",
       "      <td>9</td>\n",
       "      <td>sai</td>\n",
       "      <td>89</td>\n",
       "    </tr>\n",
       "    <tr>\n",
       "      <th>9</th>\n",
       "      <td>10</td>\n",
       "      <td>yogesh</td>\n",
       "      <td>99</td>\n",
       "    </tr>\n",
       "  </tbody>\n",
       "</table>\n",
       "</div>"
      ],
      "text/plain": [
       "   Roll_no Stud_name  percentage\n",
       "0        1     boomi          91\n",
       "1        2   nagaraj          93\n",
       "2        3    rajesh          78\n",
       "3        4       ram          69\n",
       "4        5  boobalan          91\n",
       "5        6      kani          88\n",
       "6        7     kavis          74\n",
       "7        8     praba          56\n",
       "8        9       sai          89\n",
       "9       10    yogesh          99"
      ]
     },
     "execution_count": 56,
     "metadata": {},
     "output_type": "execute_result"
    }
   ],
   "source": [
    "reg={\"Roll_no\":[1,2,3,4,5,6,7,8,9,10],\n",
    "     \"Stud_name\":[\"boomi\",\"nagaraj\",\"rajesh\",\"ram\",\"boobalan\",\"kani\",\"kavis\",\"praba\",\"sai\",\n",
    "                  \"yogesh\"],\n",
    "     \"percentage\":[91,93,78,69,91,88,74,56,89,99]}\n",
    "df=pd.DataFrame(reg)\n",
    "df"
   ]
  },
  {
   "cell_type": "code",
   "execution_count": 57,
   "id": "f9a92b5e-7cb7-43d4-9920-b9e966748a7a",
   "metadata": {},
   "outputs": [
    {
     "data": {
      "text/plain": [
       "0       boomi\n",
       "1     nagaraj\n",
       "2      rajesh\n",
       "3         ram\n",
       "4    boobalan\n",
       "5        kani\n",
       "6       kavis\n",
       "7       praba\n",
       "8         sai\n",
       "9      yogesh\n",
       "Name: Stud_name, dtype: object"
      ]
     },
     "execution_count": 57,
     "metadata": {},
     "output_type": "execute_result"
    }
   ],
   "source": [
    "df[\"Stud_name\"]"
   ]
  },
  {
   "cell_type": "code",
   "execution_count": null,
   "id": "18b840e2-e36b-4204-8152-71a4ffc4063f",
   "metadata": {},
   "outputs": [],
   "source": []
  }
 ],
 "metadata": {
  "kernelspec": {
   "display_name": "Python 3 (ipykernel)",
   "language": "python",
   "name": "python3"
  },
  "language_info": {
   "codemirror_mode": {
    "name": "ipython",
    "version": 3
   },
   "file_extension": ".py",
   "mimetype": "text/x-python",
   "name": "python",
   "nbconvert_exporter": "python",
   "pygments_lexer": "ipython3",
   "version": "3.11.7"
  }
 },
 "nbformat": 4,
 "nbformat_minor": 5
}
