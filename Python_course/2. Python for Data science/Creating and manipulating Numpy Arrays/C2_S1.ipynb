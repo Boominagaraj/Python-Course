{
 "cells": [
  {
   "cell_type": "markdown",
   "metadata": {
    "id": "EH-jcr06ADjI"
   },
   "source": [
    "Course 2: Python for Data Science\n",
    "\n",
    "1) Numpy Arrays\n",
    "2) Series\n",
    "3) Data Frame"
   ]
  },
  {
   "cell_type": "markdown",
   "metadata": {
    "id": "z4OTrTB8AYDW"
   },
   "source": [
    "Sprint 1: Creating, Manipulating NumPy Arrays"
   ]
  },
  {
   "cell_type": "markdown",
   "metadata": {
    "id": "bDA4DSfQAhSR"
   },
   "source": [
    "What is NumPy Array?\n",
    "\n",
    "Numpy array is NDimensional array holds same kind of data...it is homogeneous kind of data."
   ]
  },
  {
   "cell_type": "code",
   "execution_count": 14,
   "metadata": {
    "id": "HFk5UyzbAv0K"
   },
   "outputs": [],
   "source": [
    "import numpy as np"
   ]
  },
  {
   "cell_type": "code",
   "execution_count": 13,
   "metadata": {
    "colab": {
     "base_uri": "https://localhost:8080/"
    },
    "id": "-cRPsCL9A56x",
    "outputId": "09039a0c-a07b-4221-cb5c-fc13aa41cb2b"
   },
   "outputs": [
    {
     "name": "stdout",
     "output_type": "stream",
     "text": [
      "1.26.4\n"
     ]
    }
   ],
   "source": [
    "print(np.__version__)"
   ]
  },
  {
   "cell_type": "code",
   "execution_count": null,
   "metadata": {},
   "outputs": [],
   "source": [
    "numpy.array()"
   ]
  },
  {
   "cell_type": "code",
   "execution_count": 16,
   "metadata": {},
   "outputs": [],
   "source": [
    "t=np.array((1,2,3))"
   ]
  },
  {
   "cell_type": "code",
   "execution_count": 18,
   "metadata": {},
   "outputs": [
    {
     "data": {
      "text/plain": [
       "array([1, 2, 3])"
      ]
     },
     "execution_count": 18,
     "metadata": {},
     "output_type": "execute_result"
    }
   ],
   "source": [
    "t"
   ]
  },
  {
   "cell_type": "code",
   "execution_count": 20,
   "metadata": {},
   "outputs": [],
   "source": [
    "t=np.array([1,2,3])"
   ]
  },
  {
   "cell_type": "code",
   "execution_count": 22,
   "metadata": {},
   "outputs": [
    {
     "data": {
      "text/plain": [
       "array([1, 2, 3])"
      ]
     },
     "execution_count": 22,
     "metadata": {},
     "output_type": "execute_result"
    }
   ],
   "source": [
    "t"
   ]
  },
  {
   "cell_type": "code",
   "execution_count": 14,
   "metadata": {
    "id": "IMpnhUXgBBuW"
   },
   "outputs": [],
   "source": [
    "l1 = [1,2,3]"
   ]
  },
  {
   "cell_type": "code",
   "execution_count": 15,
   "metadata": {
    "id": "RJe1vpGJBO1x"
   },
   "outputs": [],
   "source": [
    "arr = np.array(l1)"
   ]
  },
  {
   "cell_type": "code",
   "execution_count": 16,
   "metadata": {
    "colab": {
     "base_uri": "https://localhost:8080/"
    },
    "id": "VTkZkSXOBUQM",
    "outputId": "5e1e3d2e-4619-436c-c6c4-6dadce3057ed"
   },
   "outputs": [
    {
     "data": {
      "text/plain": [
       "array([1, 2, 3])"
      ]
     },
     "execution_count": 16,
     "metadata": {},
     "output_type": "execute_result"
    }
   ],
   "source": [
    "arr"
   ]
  },
  {
   "cell_type": "code",
   "execution_count": 17,
   "metadata": {
    "colab": {
     "base_uri": "https://localhost:8080/"
    },
    "id": "aMNr19MOBVV9",
    "outputId": "d52af22c-66d5-4cc3-c9ca-e01e31d77395"
   },
   "outputs": [
    {
     "data": {
      "text/plain": [
       "array([4, 5, 6])"
      ]
     },
     "execution_count": 17,
     "metadata": {},
     "output_type": "execute_result"
    }
   ],
   "source": [
    "arr+3"
   ]
  },
  {
   "cell_type": "markdown",
   "metadata": {
    "id": "soU0CCp6Bt5O"
   },
   "source": [
    "There are four Basic Methods to understand about numpy array\n",
    "\n",
    "1) Size\n",
    "\n",
    "2) ndim\n",
    "\n",
    "3) shape\n",
    "\n",
    "4) dtype"
   ]
  },
  {
   "cell_type": "code",
   "execution_count": 19,
   "metadata": {
    "colab": {
     "base_uri": "https://localhost:8080/"
    },
    "id": "pz12yu5gEd4w",
    "outputId": "eb730aa4-3225-4a6c-e81c-e03d1cc6ad9a"
   },
   "outputs": [
    {
     "data": {
      "text/plain": [
       "3"
      ]
     },
     "execution_count": 19,
     "metadata": {},
     "output_type": "execute_result"
    }
   ],
   "source": [
    "arr.size"
   ]
  },
  {
   "cell_type": "code",
   "execution_count": 20,
   "metadata": {
    "colab": {
     "base_uri": "https://localhost:8080/"
    },
    "id": "Pk7UmybrEo25",
    "outputId": "9349a630-3b50-4a61-9868-6b4cf4961b01"
   },
   "outputs": [
    {
     "data": {
      "text/plain": [
       "1"
      ]
     },
     "execution_count": 20,
     "metadata": {},
     "output_type": "execute_result"
    }
   ],
   "source": [
    "arr.ndim"
   ]
  },
  {
   "cell_type": "code",
   "execution_count": 21,
   "metadata": {
    "colab": {
     "base_uri": "https://localhost:8080/"
    },
    "id": "8yC7au20EwOi",
    "outputId": "48231555-8a63-48e7-ceff-992d98091bf9"
   },
   "outputs": [
    {
     "data": {
      "text/plain": [
       "(3,)"
      ]
     },
     "execution_count": 21,
     "metadata": {},
     "output_type": "execute_result"
    }
   ],
   "source": [
    "arr.shape"
   ]
  },
  {
   "cell_type": "code",
   "execution_count": 22,
   "metadata": {
    "colab": {
     "base_uri": "https://localhost:8080/"
    },
    "id": "_TJtcSDWE0-B",
    "outputId": "9306af64-1d6a-4b9b-9d70-000f4e0d0ce2"
   },
   "outputs": [
    {
     "data": {
      "text/plain": [
       "dtype('int32')"
      ]
     },
     "execution_count": 22,
     "metadata": {},
     "output_type": "execute_result"
    }
   ],
   "source": [
    "arr.dtype"
   ]
  },
  {
   "cell_type": "code",
   "execution_count": 2,
   "metadata": {
    "colab": {
     "base_uri": "https://localhost:8080/"
    },
    "id": "6h6qP7D9FPzu",
    "outputId": "cb74c710-fb34-4242-b3d4-a9f085faa955"
   },
   "outputs": [
    {
     "ename": "NameError",
     "evalue": "name 'np' is not defined",
     "output_type": "error",
     "traceback": [
      "\u001b[1;31m---------------------------------------------------------------------------\u001b[0m",
      "\u001b[1;31mNameError\u001b[0m                                 Traceback (most recent call last)",
      "Cell \u001b[1;32mIn[2], line 1\u001b[0m\n\u001b[1;32m----> 1\u001b[0m np\u001b[38;5;241m.\u001b[39mzeros((\u001b[38;5;241m3\u001b[39m,\u001b[38;5;241m2\u001b[39m))\n",
      "\u001b[1;31mNameError\u001b[0m: name 'np' is not defined"
     ]
    }
   ],
   "source": [
    "np.zeros((3,2))   # To have only zeros in the array"
   ]
  },
  {
   "cell_type": "code",
   "execution_count": 24,
   "metadata": {
    "colab": {
     "base_uri": "https://localhost:8080/"
    },
    "id": "XxZxfx8HFXPI",
    "outputId": "29dc2c7c-72f8-42ce-d6e1-d7ac23664452"
   },
   "outputs": [
    {
     "data": {
      "text/plain": [
       "array([1., 1., 1., 1., 1., 1., 1., 1., 1., 1.])"
      ]
     },
     "execution_count": 24,
     "metadata": {},
     "output_type": "execute_result"
    }
   ],
   "source": [
    "np.ones(10)"
   ]
  },
  {
   "cell_type": "code",
   "execution_count": 30,
   "metadata": {
    "id": "HJE7nWn2FfKd"
   },
   "outputs": [],
   "source": [
    "a = np.identity(5)"
   ]
  },
  {
   "cell_type": "code",
   "execution_count": 32,
   "metadata": {
    "colab": {
     "base_uri": "https://localhost:8080/"
    },
    "id": "kkfuDUSfFqQj",
    "outputId": "f09deb92-88a8-4643-ccef-d50fdcc4a80a"
   },
   "outputs": [
    {
     "data": {
      "text/plain": [
       "array([[1., 0., 0., 0., 0.],\n",
       "       [0., 1., 0., 0., 0.],\n",
       "       [0., 0., 1., 0., 0.],\n",
       "       [0., 0., 0., 1., 0.],\n",
       "       [0., 0., 0., 0., 1.]])"
      ]
     },
     "execution_count": 32,
     "metadata": {},
     "output_type": "execute_result"
    }
   ],
   "source": [
    "a"
   ]
  },
  {
   "cell_type": "code",
   "execution_count": 27,
   "metadata": {
    "colab": {
     "base_uri": "https://localhost:8080/"
    },
    "id": "p3uYSrDbFsIf",
    "outputId": "56b1920b-0dc9-4e72-f74f-7f1287ada872"
   },
   "outputs": [
    {
     "data": {
      "text/plain": [
       "2"
      ]
     },
     "execution_count": 27,
     "metadata": {},
     "output_type": "execute_result"
    }
   ],
   "source": [
    "a.ndim"
   ]
  },
  {
   "cell_type": "code",
   "execution_count": 28,
   "metadata": {
    "colab": {
     "base_uri": "https://localhost:8080/"
    },
    "id": "oaojRE6qFtoW",
    "outputId": "b4339ab2-759c-45f0-c078-dc22698b8901"
   },
   "outputs": [
    {
     "data": {
      "text/plain": [
       "(3, 3)"
      ]
     },
     "execution_count": 28,
     "metadata": {},
     "output_type": "execute_result"
    }
   ],
   "source": [
    "a.shape"
   ]
  },
  {
   "cell_type": "markdown",
   "metadata": {
    "id": "bAhPeqVgFyhj"
   },
   "source": [
    "np.arange(start, stop, step, dtype)"
   ]
  },
  {
   "cell_type": "code",
   "execution_count": 30,
   "metadata": {
    "colab": {
     "base_uri": "https://localhost:8080/"
    },
    "id": "eAZx0Ya2GBdm",
    "outputId": "0a58620f-98ef-412e-85e2-4c10b189d669"
   },
   "outputs": [
    {
     "data": {
      "text/plain": [
       "array([ 0,  1,  2,  3,  4,  5,  6,  7,  8,  9, 10])"
      ]
     },
     "execution_count": 30,
     "metadata": {},
     "output_type": "execute_result"
    }
   ],
   "source": [
    "np.arange(0,11)"
   ]
  },
  {
   "cell_type": "code",
   "execution_count": 31,
   "metadata": {
    "colab": {
     "base_uri": "https://localhost:8080/"
    },
    "id": "fSqmVo26GDsE",
    "outputId": "f50d1a62-f8f7-4165-f2b3-582eafc89d48"
   },
   "outputs": [
    {
     "data": {
      "text/plain": [
       "array([ 0,  2,  4,  6,  8, 10])"
      ]
     },
     "execution_count": 31,
     "metadata": {},
     "output_type": "execute_result"
    }
   ],
   "source": [
    "np.arange(0,12,2)"
   ]
  },
  {
   "cell_type": "code",
   "execution_count": 32,
   "metadata": {
    "colab": {
     "base_uri": "https://localhost:8080/"
    },
    "id": "49ShrxQ2GJSG",
    "outputId": "43a64e7e-fb3c-4f79-8729-bc463d884360"
   },
   "outputs": [
    {
     "data": {
      "text/plain": [
       "array([0.68635272, 0.50573177, 0.5040064 , 0.18490686, 0.06325953,\n",
       "       0.45412853, 0.61323947, 0.59950828, 0.92839818, 0.50307692])"
      ]
     },
     "execution_count": 32,
     "metadata": {},
     "output_type": "execute_result"
    }
   ],
   "source": [
    "np.random.random(size = 10)"
   ]
  },
  {
   "cell_type": "code",
   "execution_count": 33,
   "metadata": {
    "colab": {
     "base_uri": "https://localhost:8080/"
    },
    "id": "02w8MHpRGcXI",
    "outputId": "8ffc3319-4e4f-4f77-ab30-6c2d750f8e9b"
   },
   "outputs": [
    {
     "data": {
      "text/plain": [
       "0.9193798989143646"
      ]
     },
     "execution_count": 33,
     "metadata": {},
     "output_type": "execute_result"
    }
   ],
   "source": [
    "np.random.random()"
   ]
  },
  {
   "cell_type": "code",
   "execution_count": 34,
   "metadata": {
    "id": "bU2uQCKfGmoq"
   },
   "outputs": [],
   "source": [
    "from numpy import random"
   ]
  },
  {
   "cell_type": "code",
   "execution_count": 35,
   "metadata": {
    "colab": {
     "base_uri": "https://localhost:8080/"
    },
    "id": "BekvU9ZvGzKz",
    "outputId": "a5df79cc-e616-4792-de8c-1b8f82a7635e"
   },
   "outputs": [
    {
     "data": {
      "text/plain": [
       "0.12276714590425586"
      ]
     },
     "execution_count": 35,
     "metadata": {},
     "output_type": "execute_result"
    }
   ],
   "source": [
    "random.random()"
   ]
  },
  {
   "cell_type": "markdown",
   "metadata": {
    "id": "V-zEiODRG1ej"
   },
   "source": [
    "np.random.randint(max value, size)"
   ]
  },
  {
   "cell_type": "code",
   "execution_count": 37,
   "metadata": {
    "colab": {
     "base_uri": "https://localhost:8080/"
    },
    "id": "EpH83vygHQB9",
    "outputId": "e6ae1c52-5c48-41e8-b760-ae80e7ee8cb3"
   },
   "outputs": [
    {
     "data": {
      "text/plain": [
       "6"
      ]
     },
     "execution_count": 37,
     "metadata": {},
     "output_type": "execute_result"
    }
   ],
   "source": [
    "np.random.randint(10)"
   ]
  },
  {
   "cell_type": "code",
   "execution_count": 38,
   "metadata": {
    "colab": {
     "base_uri": "https://localhost:8080/"
    },
    "id": "A8Ur3FQKHUCd",
    "outputId": "49608eb2-eab4-417c-c7be-ff4b2f8d04c6"
   },
   "outputs": [
    {
     "data": {
      "text/plain": [
       "array([2, 5, 5, 9, 3, 9])"
      ]
     },
     "execution_count": 38,
     "metadata": {},
     "output_type": "execute_result"
    }
   ],
   "source": [
    "np.random.randint(10, size = 6)"
   ]
  },
  {
   "cell_type": "code",
   "execution_count": 39,
   "metadata": {
    "id": "Wz04OnxwHaRr"
   },
   "outputs": [],
   "source": [
    "np.random.seed(42)"
   ]
  },
  {
   "cell_type": "code",
   "execution_count": 40,
   "metadata": {
    "id": "AMrkAiNZIHVQ"
   },
   "outputs": [],
   "source": [
    "a = np.random.randint(10, size = 6)"
   ]
  },
  {
   "cell_type": "code",
   "execution_count": 41,
   "metadata": {
    "colab": {
     "base_uri": "https://localhost:8080/"
    },
    "id": "jSdUvEWdIKCZ",
    "outputId": "c4933f97-09bc-4e18-b252-af5c67b63cc3"
   },
   "outputs": [
    {
     "data": {
      "text/plain": [
       "array([6, 3, 7, 4, 6, 9])"
      ]
     },
     "execution_count": 41,
     "metadata": {},
     "output_type": "execute_result"
    }
   ],
   "source": [
    "a"
   ]
  },
  {
   "cell_type": "code",
   "execution_count": 40,
   "metadata": {
    "id": "Qih3JyaiIV3X"
   },
   "outputs": [],
   "source": [
    "s = np.random.randint(10000,21000,2000)"
   ]
  },
  {
   "cell_type": "code",
   "execution_count": 42,
   "metadata": {
    "colab": {
     "base_uri": "https://localhost:8080/"
    },
    "id": "tzxhbumwKTO-",
    "outputId": "405fe0ab-6967-4621-abaf-7628ae5e5ec5"
   },
   "outputs": [
    {
     "data": {
      "text/plain": [
       "array([10443, 15595, 10281, ..., 19768, 11973, 19761])"
      ]
     },
     "execution_count": 42,
     "metadata": {},
     "output_type": "execute_result"
    }
   ],
   "source": [
    "s"
   ]
  },
  {
   "cell_type": "code",
   "execution_count": 44,
   "metadata": {
    "id": "PMBVhFhzKUAn"
   },
   "outputs": [],
   "source": [
    "avg = np.mean(s)"
   ]
  },
  {
   "cell_type": "code",
   "execution_count": 45,
   "metadata": {
    "colab": {
     "base_uri": "https://localhost:8080/"
    },
    "id": "snjIRobRKaFg",
    "outputId": "118cbf17-da61-4152-fcf6-abe561e3ae33"
   },
   "outputs": [
    {
     "data": {
      "text/plain": [
       "15503.3015"
      ]
     },
     "execution_count": 45,
     "metadata": {},
     "output_type": "execute_result"
    }
   ],
   "source": [
    "avg"
   ]
  },
  {
   "cell_type": "code",
   "execution_count": 46,
   "metadata": {
    "id": "4VY0ITY7Ka4B"
   },
   "outputs": [],
   "source": [
    "max = np.max(s)"
   ]
  },
  {
   "cell_type": "code",
   "execution_count": 47,
   "metadata": {
    "colab": {
     "base_uri": "https://localhost:8080/"
    },
    "id": "O17MdO6RKnqN",
    "outputId": "4de2bed6-51d2-49d2-bfe5-14ee998f8441"
   },
   "outputs": [
    {
     "data": {
      "text/plain": [
       "20998"
      ]
     },
     "execution_count": 47,
     "metadata": {},
     "output_type": "execute_result"
    }
   ],
   "source": [
    "max"
   ]
  },
  {
   "cell_type": "code",
   "execution_count": null,
   "metadata": {},
   "outputs": [],
   "source": []
  },
  {
   "cell_type": "code",
   "execution_count": 48,
   "metadata": {},
   "outputs": [
    {
     "data": {
      "text/plain": [
       "array([ 6, 10,  9,  8,  7])"
      ]
     },
     "execution_count": 48,
     "metadata": {},
     "output_type": "execute_result"
    }
   ],
   "source": [
    "n=np.array([[1,2,3,4,5]\n",
    "            [6,10,9,8,7]])\n",
    "np.max(n,axis=0)"
   ]
  },
  {
   "cell_type": "code",
   "execution_count": 49,
   "metadata": {},
   "outputs": [
    {
     "data": {
      "text/plain": [
       "array([ 5, 10])"
      ]
     },
     "execution_count": 49,
     "metadata": {},
     "output_type": "execute_result"
    }
   ],
   "source": [
    "n=np.array([[1,2,3,4,5],\n",
    "            [6,10,9,8,7]])\n",
    "np.max(n,axis=1)"
   ]
  },
  {
   "cell_type": "code",
   "execution_count": 50,
   "metadata": {
    "colab": {
     "base_uri": "https://localhost:8080/"
    },
    "id": "Y1a4n7ZQKoow",
    "outputId": "d7be0c16-d280-48ab-a728-504ed5ad1ed3"
   },
   "outputs": [
    {
     "data": {
      "text/plain": [
       "10001"
      ]
     },
     "execution_count": 50,
     "metadata": {},
     "output_type": "execute_result"
    }
   ],
   "source": [
    "min = np.min(s)\n",
    "min"
   ]
  },
  {
   "cell_type": "code",
   "execution_count": 51,
   "metadata": {},
   "outputs": [
    {
     "data": {
      "text/plain": [
       "array([1, 2, 3, 4, 5])"
      ]
     },
     "execution_count": 51,
     "metadata": {},
     "output_type": "execute_result"
    }
   ],
   "source": [
    "n=np.array([[1,2,3,4,5],[6,10,9,8,7]])\n",
    "np.min(n,axis=0)"
   ]
  },
  {
   "cell_type": "code",
   "execution_count": 52,
   "metadata": {},
   "outputs": [
    {
     "data": {
      "text/plain": [
       "array([1, 6])"
      ]
     },
     "execution_count": 52,
     "metadata": {},
     "output_type": "execute_result"
    }
   ],
   "source": [
    "n=np.array([[1,2,3,4,5],[6,10,9,8,7]])\n",
    "np.min(n,axis=1)"
   ]
  },
  {
   "cell_type": "code",
   "execution_count": 53,
   "metadata": {
    "colab": {
     "base_uri": "https://localhost:8080/"
    },
    "id": "fNKvYCa7Ksw-",
    "outputId": "304a3d7e-7172-4bee-8ac3-bf86036c665e"
   },
   "outputs": [
    {
     "data": {
      "text/plain": [
       "3150.4637281831624"
      ]
     },
     "execution_count": 53,
     "metadata": {},
     "output_type": "execute_result"
    }
   ],
   "source": [
    "std = np.std(s)\n",
    "std"
   ]
  },
  {
   "cell_type": "code",
   "execution_count": 44,
   "metadata": {},
   "outputs": [
    {
     "data": {
      "text/plain": [
       "array([10443, 15595, 10281, ..., 19768, 11973, 19761])"
      ]
     },
     "execution_count": 44,
     "metadata": {},
     "output_type": "execute_result"
    }
   ],
   "source": [
    "s"
   ]
  },
  {
   "cell_type": "code",
   "execution_count": 54,
   "metadata": {
    "colab": {
     "base_uri": "https://localhost:8080/"
    },
    "id": "ClJ0fIN9KwZV",
    "outputId": "115958a9-707d-44b7-b34b-d77f1b3add8e"
   },
   "outputs": [
    {
     "data": {
      "text/plain": [
       "10466"
      ]
     },
     "execution_count": 54,
     "metadata": {},
     "output_type": "execute_result"
    }
   ],
   "source": [
    "s[0]"
   ]
  },
  {
   "cell_type": "code",
   "execution_count": 55,
   "metadata": {
    "colab": {
     "base_uri": "https://localhost:8080/"
    },
    "id": "x8DdZuw1K5kE",
    "outputId": "2724db15-a3bb-446d-8a18-45e5429d928a"
   },
   "outputs": [
    {
     "data": {
      "text/plain": [
       "14426"
      ]
     },
     "execution_count": 55,
     "metadata": {},
     "output_type": "execute_result"
    }
   ],
   "source": [
    "s[1]"
   ]
  },
  {
   "cell_type": "code",
   "execution_count": 56,
   "metadata": {
    "colab": {
     "base_uri": "https://localhost:8080/"
    },
    "id": "8iFKHtovK7N6",
    "outputId": "c99a56f5-d1f6-4bcd-a8d4-85f95eb558b7"
   },
   "outputs": [
    {
     "data": {
      "text/plain": [
       "19539"
      ]
     },
     "execution_count": 56,
     "metadata": {},
     "output_type": "execute_result"
    }
   ],
   "source": [
    "s[-1]"
   ]
  },
  {
   "cell_type": "code",
   "execution_count": 57,
   "metadata": {
    "colab": {
     "base_uri": "https://localhost:8080/"
    },
    "id": "Qpg5DTGYK9ww",
    "outputId": "772c99db-74d1-4851-fbe6-17a14ffa1002"
   },
   "outputs": [
    {
     "data": {
      "text/plain": [
       "array([14426, 15578, 18322, 11685, 10769, 20583, 16949, 12433, 15311,\n",
       "       15051, 16420, 11184, 14555, 13385, 16396, 18666, 19274, 12558,\n",
       "       17849, 12047, 12747, 19167, 19998, 10189, 12734, 13005, 14658,\n",
       "       11899, 17734, 11267, 11528, 13556, 13890, 18838, 15393, 20627,\n",
       "       18792, 20555, 20253, 18433, 20233, 17513, 12612, 17041, 19555,\n",
       "       16235, 15486, 17099, 19670, 20748, 10775, 18226, 13152, 20147,\n",
       "       11585, 13943, 17555, 13073, 11021, 20805, 13843, 17989, 19692,\n",
       "       16873, 15675, 10161, 14297, 20173, 10995, 17629, 19467, 11016,\n",
       "       17869, 16439, 17892, 16863, 17916, 18529, 10878, 19268, 14887,\n",
       "       14859, 16331, 18571, 18684, 17208, 15276, 12062, 10064, 18006,\n",
       "       12568, 15463, 12027, 12695, 19687, 15258, 15618, 16736, 10391])"
      ]
     },
     "execution_count": 57,
     "metadata": {},
     "output_type": "execute_result"
    }
   ],
   "source": [
    "s[1:100]"
   ]
  },
  {
   "cell_type": "code",
   "execution_count": 58,
   "metadata": {
    "id": "BhHHUfS3LA8m"
   },
   "outputs": [],
   "source": [
    "s[0] = 20000"
   ]
  },
  {
   "cell_type": "code",
   "execution_count": 59,
   "metadata": {
    "colab": {
     "base_uri": "https://localhost:8080/"
    },
    "id": "IyVXEDuFLJqd",
    "outputId": "3b17cde7-b90e-4a4c-c84e-888ee9374045"
   },
   "outputs": [
    {
     "data": {
      "text/plain": [
       "20000"
      ]
     },
     "execution_count": 59,
     "metadata": {},
     "output_type": "execute_result"
    }
   ],
   "source": [
    "s[0]"
   ]
  },
  {
   "cell_type": "code",
   "execution_count": 60,
   "metadata": {
    "colab": {
     "base_uri": "https://localhost:8080/"
    },
    "id": "E_8UWkQKLKwS",
    "outputId": "4764ee71-dbf4-4741-991e-f68fa450d648"
   },
   "outputs": [
    {
     "name": "stdout",
     "output_type": "stream",
     "text": [
      "[False False False ... False False False]\n"
     ]
    }
   ],
   "source": [
    "print(s>20000)"
   ]
  },
  {
   "cell_type": "code",
   "execution_count": 61,
   "metadata": {
    "colab": {
     "base_uri": "https://localhost:8080/"
    },
    "id": "oW2fQXwRLTLu",
    "outputId": "b277c2fc-4a7b-4490-a22b-5cf73fab7299"
   },
   "outputs": [
    {
     "data": {
      "text/plain": [
       "array([20583, 20627, 20555, 20253, 20233, 20748, 20147, 20805, 20173,\n",
       "       20470, 20965, 20882, 20817, 20921, 20173, 20230, 20429, 20867,\n",
       "       20352, 20969, 20248, 20927, 20677, 20716, 20757, 20492, 20257,\n",
       "       20729, 20647, 20893, 20966, 20174, 20852, 20486, 20457, 20262,\n",
       "       20123, 20636, 20738, 20966, 20518, 20011, 20808, 20578, 20048,\n",
       "       20019, 20406, 20150, 20188, 20975, 20971, 20700, 20136, 20016,\n",
       "       20344, 20948, 20916, 20015, 20273, 20357, 20176, 20040, 20314,\n",
       "       20342, 20674, 20209, 20320, 20785, 20161, 20160, 20488, 20453,\n",
       "       20478, 20247, 20958, 20267, 20348, 20350, 20852, 20167, 20554,\n",
       "       20901, 20516, 20755, 20589, 20787, 20954, 20002, 20231, 20568,\n",
       "       20230, 20161, 20813, 20641, 20535, 20055, 20343, 20818, 20227,\n",
       "       20789, 20049, 20147, 20026, 20789, 20541, 20457, 20380, 20922,\n",
       "       20314, 20395, 20454, 20524, 20353, 20093, 20015, 20998, 20682,\n",
       "       20112, 20953, 20268, 20849, 20367, 20281, 20273, 20250, 20961,\n",
       "       20653, 20616, 20816, 20426, 20233, 20300, 20992, 20745, 20106,\n",
       "       20929, 20301, 20222, 20568, 20874, 20188, 20321, 20204, 20177,\n",
       "       20706, 20276, 20699, 20698, 20396, 20047, 20001, 20445, 20960,\n",
       "       20205, 20640, 20433, 20361, 20462, 20246, 20326, 20361, 20527,\n",
       "       20181, 20169, 20971, 20817, 20574, 20339, 20532, 20232, 20238,\n",
       "       20831, 20185, 20552, 20404, 20544, 20573, 20724, 20985, 20225,\n",
       "       20666, 20055, 20600, 20824])"
      ]
     },
     "execution_count": 61,
     "metadata": {},
     "output_type": "execute_result"
    }
   ],
   "source": [
    "s[s>20000]"
   ]
  },
  {
   "cell_type": "code",
   "execution_count": 62,
   "metadata": {
    "colab": {
     "base_uri": "https://localhost:8080/"
    },
    "id": "lyZWrIu4Lhhr",
    "outputId": "eb50c7f2-e999-43ec-c303-699a183929ca"
   },
   "outputs": [
    {
     "data": {
      "text/plain": [
       "array([20000, 14426, 15578, ..., 13230, 10488, 17114])"
      ]
     },
     "execution_count": 62,
     "metadata": {},
     "output_type": "execute_result"
    }
   ],
   "source": [
    "s[s%2 ==0]"
   ]
  },
  {
   "cell_type": "code",
   "execution_count": 63,
   "metadata": {
    "colab": {
     "base_uri": "https://localhost:8080/"
    },
    "id": "0liIpHodLrAE",
    "outputId": "2a1ec2fb-0a82-4e1c-e459-f0414aada99d"
   },
   "outputs": [
    {
     "data": {
      "text/plain": [
       "array([11685, 10769, 20583, 16949, 12433, 15311, 15051, 14555, 13385,\n",
       "       17849, 12047, 12747, 19167, 10189, 13005, 11899, 11267, 15393,\n",
       "       20627, 20555, 20253, 18433, 20233, 17513, 17041, 19555, 16235,\n",
       "       17099, 10775, 20147, 11585, 13943, 17555, 13073, 11021, 20805,\n",
       "       13843, 17989, 16873, 15675, 10161, 14297, 20173, 10995, 17629,\n",
       "       19467, 17869, 16439, 16863, 18529, 14887, 14859, 16331, 18571,\n",
       "       15463, 12027, 12695, 19687, 10391, 13561, 13099, 17215, 12731,\n",
       "       20965, 17385, 15977, 17721, 17035, 10863, 18755, 16019, 11757,\n",
       "       11059, 13157, 15915, 20817, 20921, 19789, 12693, 13627, 19555,\n",
       "       20173, 11663, 19721, 20429, 20867, 18901, 15575, 14413, 10663,\n",
       "       11495, 13763, 11853, 16585, 11291, 13581, 14737, 15855, 15249,\n",
       "       11707, 20969, 15791, 19925, 15535, 14931, 14389, 12327, 12931,\n",
       "       17777, 10197, 17125, 16287, 19339, 12511, 10659, 12811, 19561,\n",
       "       12911, 11843, 11959, 15759, 12385, 18155, 14061, 16287, 18815,\n",
       "       12049, 15423, 12255, 14499, 16295, 16197, 15539, 19637, 14199,\n",
       "       18445, 12557, 12961, 14973, 14433, 12869, 15699, 14493, 14911,\n",
       "       13987, 19719, 16015, 14735, 20927, 14555, 11045, 16893, 11693,\n",
       "       20677, 15895, 10225, 14893, 19151, 19007, 17683, 17679, 17339,\n",
       "       19435, 12205, 11069, 20757, 12327, 10301, 10699, 19331, 12975,\n",
       "       13327, 18319, 20257, 16709, 10569, 11895, 12733, 13863, 17455,\n",
       "       13009, 20729, 11409, 17343, 15801, 10537, 11841, 20647, 16971,\n",
       "       15625, 16655, 18173, 14495, 20893, 19163, 15919, 10853, 13769,\n",
       "       16293, 16457, 17509, 19907, 14777, 12491, 15691, 13051, 15315,\n",
       "       14869, 19183, 17027, 17079, 17987, 16799, 14465, 10635, 11693,\n",
       "       18311, 15177, 19561, 15949, 11931, 11081, 17805, 15237, 10559,\n",
       "       13343, 13147, 14249, 11679, 17253, 19435, 12141, 20457, 16617,\n",
       "       12479, 19827, 17421, 19949, 15881, 16665, 12849, 16905, 12489,\n",
       "       19823, 19207, 14611, 12839, 18527, 19087, 16303, 10851, 11687,\n",
       "       20123, 16833, 12427, 15387, 13913, 17723, 14107, 13373, 18945,\n",
       "       18967, 19817, 10417, 13267, 10825, 15745, 17543, 17587, 18867,\n",
       "       12967, 14079, 11571, 15073, 12143, 19879, 17357, 15917, 18787,\n",
       "       11365, 10395, 14171, 20011, 10717, 18335, 14491, 17651, 11167,\n",
       "       15161, 15305, 16541, 14729, 16801, 16731, 17241, 10953, 12539,\n",
       "       15293, 11191, 16313, 12681, 19409, 15541, 11365, 18691, 19347,\n",
       "       20019, 13141, 17419, 12923, 15301, 18905, 15977, 14849, 19435,\n",
       "       13709, 19273, 16619, 18647, 11531, 10823, 15029, 10133, 12105,\n",
       "       13627, 14175, 15645, 18053, 12703, 11353, 20975, 15063, 18549,\n",
       "       17575, 10667, 19337, 16819, 13719, 12745, 17483, 10539, 20971,\n",
       "       14835, 13775, 17891, 12779, 11581, 15713, 10255, 10009, 12871,\n",
       "       18989, 17409, 11015, 12193, 18415, 17449, 13925, 11633, 18175,\n",
       "       15989, 14809, 17245, 15997, 17939, 15565, 20015, 20273, 13419,\n",
       "       17239, 10249, 18865, 20357, 14363, 11077, 18427, 17901, 14719,\n",
       "       14673, 16881, 16949, 19521, 16241, 18017, 16941, 20209, 11331,\n",
       "       14261, 15115, 14637, 13177, 17043, 10137, 16327, 15449, 13579,\n",
       "       15971, 20785, 17941, 15569, 16269, 16031, 17687, 19091, 19911,\n",
       "       11887, 10671, 20161, 16777, 15585, 14777, 16677, 16981, 10523,\n",
       "       12393, 12593, 19945, 16937, 20453, 16493, 14143, 20247, 15811,\n",
       "       10055, 18717, 12125, 16809, 14621, 12797, 11531, 13345, 17673,\n",
       "       16949, 20267, 18905, 16229, 17641, 10125, 19795, 17561, 19361,\n",
       "       16371, 19685, 17943, 16891, 12739, 15401, 11761, 20167, 20901,\n",
       "       11733, 11605, 16767, 20755, 13517, 20589, 13735, 11063, 20787,\n",
       "       19111, 10005, 17489, 18659, 18195, 18837, 10117, 12551, 14289,\n",
       "       16469, 19333, 18915, 16283, 16233, 19765, 11917, 19093, 20231,\n",
       "       10009, 19865, 12219, 17041, 15287, 11619, 10235, 20161, 18567,\n",
       "       12635, 15415, 13391, 15951, 18007, 16413, 16941, 10077, 17577,\n",
       "       20813, 14227, 11065, 20641, 20535, 20055, 16943, 16565, 14033,\n",
       "       11997, 13687, 20343, 18389, 15765, 18135, 15567, 17667, 20227,\n",
       "       18669, 10419, 20789, 15373, 12243, 12645, 20049, 11865, 16371,\n",
       "       16359, 17863, 13719, 12371, 12891, 14225, 20147, 10793, 15779,\n",
       "       20789, 10345, 20541, 12443, 20457, 17783, 19831, 10827, 13531,\n",
       "       17147, 14451, 15959, 13177, 18795, 15109, 13797, 13417, 11645,\n",
       "       19397, 14021, 15031, 18393, 13507, 11625, 17973, 18577, 18609,\n",
       "       16783, 14971, 11205, 15299, 15975, 14757, 12713, 20395, 14243,\n",
       "       13701, 18533, 11759, 19181, 10951, 12079, 12717, 18477, 17311,\n",
       "       12065, 16645, 15083, 20353, 15797, 13335, 14873, 11481, 20093,\n",
       "       16305, 13451, 17643, 20015, 18519, 17221, 13675, 12143, 15207,\n",
       "       19503, 14547, 15619, 15005, 10943, 14425, 13695, 14177, 18705,\n",
       "       16035, 14841, 11409, 14491, 11555, 11279, 17083, 15619, 11387,\n",
       "       20953, 12679, 18173, 14223, 14831, 12573, 12599, 14033, 15877,\n",
       "       11301, 12541, 12051, 16809, 18633, 20849, 16981, 20367, 20281,\n",
       "       15475, 20273, 17141, 18041, 10341, 10645, 14263, 18801, 12969,\n",
       "       17643, 12681, 13629, 14225, 13067, 15941, 15415, 17679, 16819,\n",
       "       11333, 12711, 14853, 17479, 19977, 17715, 17101, 10481, 10153,\n",
       "       17617, 12343, 11639, 16185, 14203, 18363, 13549, 14197, 17009,\n",
       "       16667, 10329, 14107, 11341, 18407, 15895, 12421, 17119, 18901,\n",
       "       15319, 16609, 15387, 13993, 14873, 15913, 13157, 18007, 11521,\n",
       "       16737, 15085, 12419, 14497, 13561, 17693, 13223, 12667, 12983,\n",
       "       20961, 19323, 13241, 10545, 20653, 19005, 10271, 13511, 11771,\n",
       "       14361, 17069, 14435, 11165, 18567, 12033, 16467, 10145, 18623,\n",
       "       18173, 17511, 19155, 20233, 14805, 19655, 17827, 15429, 11389,\n",
       "       12265, 20745, 13845, 18245, 11913, 17657, 20929, 19041, 20301,\n",
       "       17287, 14675, 11933, 19179, 16881, 19547, 19175, 17291, 14133,\n",
       "       15295, 19105, 19903, 18987, 15233, 10317, 12745, 11591, 16183,\n",
       "       19477, 14311, 12383, 13239, 12139, 12469, 14795, 19017, 17561,\n",
       "       12719, 13741, 20321, 12403, 19739, 20177, 15343, 17009, 14543,\n",
       "       11007, 15445, 19439, 11435, 10571, 19437, 10277, 17059, 11887,\n",
       "       11265, 17491, 19109, 18073, 19077, 18213, 14569, 16353, 12353,\n",
       "       17437, 14799, 14811, 15043, 20699, 17813, 19645, 18707, 17027,\n",
       "       11823, 13155, 13093, 14179, 10933, 20047, 10791, 20001, 16635,\n",
       "       12255, 11607, 15179, 16573, 18711, 13633, 10959, 16059, 15655,\n",
       "       14473, 17725, 20445, 11875, 11763, 15797, 17099, 15109, 12433,\n",
       "       15463, 10583, 14167, 18465, 20205, 11389, 18357, 19759, 12043,\n",
       "       14197, 10213, 16731, 13117, 15791, 18783, 18905, 19127, 16047,\n",
       "       10001, 11949, 17833, 10917, 20433, 10089, 11709, 20361, 13041,\n",
       "       10105, 18619, 11895, 11925, 16917, 19631, 18907, 15383, 13911,\n",
       "       19905, 13389, 19299, 10207, 10899, 10021, 18601, 17867, 14109,\n",
       "       17179, 20361, 18941, 13427, 11927, 20527, 17979, 13665, 20181,\n",
       "       17057, 10661, 18503, 17005, 20169, 12071, 18595, 20971, 19579,\n",
       "       13453, 16675, 10955, 16295, 14703, 16563, 19465, 15631, 20817,\n",
       "       19633, 19989, 19461, 10529, 13591, 20339, 16895, 19131, 10525,\n",
       "       16477, 10001, 12365, 11525, 10013, 14599, 13155, 18321, 18219,\n",
       "       12113, 15543, 14555, 13081, 10629, 10269, 20831, 20185, 15897,\n",
       "       15895, 17115, 10575, 17029, 16099, 19499, 19847, 19771, 12203,\n",
       "       11925, 10619, 11939, 13953, 20573, 19235, 10281, 14293, 11229,\n",
       "       19227, 14585, 18467, 12289, 11239, 10125, 17473, 17351, 13249,\n",
       "       17595, 16527, 15757, 11969, 20985, 10891, 17175, 20225, 19991,\n",
       "       17519, 16089, 16257, 17705, 13719, 20055, 14909, 19519, 18125,\n",
       "       13291, 14033, 15105, 10703, 18133, 19539])"
      ]
     },
     "execution_count": 63,
     "metadata": {},
     "output_type": "execute_result"
    }
   ],
   "source": [
    "s[s%2 != 0]"
   ]
  },
  {
   "cell_type": "code",
   "execution_count": 64,
   "metadata": {
    "id": "we1XXy5ILvLW"
   },
   "outputs": [],
   "source": [
    "arr = np.arange(0,21)"
   ]
  },
  {
   "cell_type": "code",
   "execution_count": 65,
   "metadata": {
    "colab": {
     "base_uri": "https://localhost:8080/"
    },
    "id": "obEPKekWL_z6",
    "outputId": "a2d74c1f-cacb-465f-9eb6-d4838dc08ca3"
   },
   "outputs": [
    {
     "data": {
      "text/plain": [
       "array([ 0,  1,  2,  3,  4,  5,  6,  7,  8,  9, 10, 11, 12, 13, 14, 15, 16,\n",
       "       17, 18, 19, 20])"
      ]
     },
     "execution_count": 65,
     "metadata": {},
     "output_type": "execute_result"
    }
   ],
   "source": [
    "arr"
   ]
  },
  {
   "cell_type": "code",
   "execution_count": 66,
   "metadata": {},
   "outputs": [
    {
     "data": {
      "text/plain": [
       "array([ True,  True,  True,  True,  True,  True,  True,  True,  True,\n",
       "        True,  True,  True, False, False, False, False, False, False,\n",
       "       False, False, False])"
      ]
     },
     "execution_count": 66,
     "metadata": {},
     "output_type": "execute_result"
    }
   ],
   "source": [
    "arr<12"
   ]
  },
  {
   "cell_type": "code",
   "execution_count": 67,
   "metadata": {
    "colab": {
     "base_uri": "https://localhost:8080/"
    },
    "id": "OQ6vlFUOMAXZ",
    "outputId": "8bf8572f-8bf4-47dd-fa9c-39eab410955e"
   },
   "outputs": [
    {
     "data": {
      "text/plain": [
       "(array([ 0,  1,  2,  3,  4,  5,  6,  7,  8,  9, 10, 11], dtype=int64),)"
      ]
     },
     "execution_count": 67,
     "metadata": {},
     "output_type": "execute_result"
    }
   ],
   "source": [
    "np.where(arr<12)"
   ]
  },
  {
   "cell_type": "code",
   "execution_count": 68,
   "metadata": {
    "id": "nwij72rlMDd3"
   },
   "outputs": [
    {
     "data": {
      "text/plain": [
       "(array([16, 17, 18, 19, 20], dtype=int64),)"
      ]
     },
     "execution_count": 68,
     "metadata": {},
     "output_type": "execute_result"
    }
   ],
   "source": [
    "a = np.where(arr<12)\n",
    "b = np.where(arr>15)\n",
    "a and b"
   ]
  },
  {
   "cell_type": "code",
   "execution_count": 69,
   "metadata": {},
   "outputs": [
    {
     "data": {
      "text/plain": [
       "(array([ 0,  1,  2,  3,  4,  5,  6,  7,  8,  9, 10, 11], dtype=int64),)"
      ]
     },
     "execution_count": 69,
     "metadata": {},
     "output_type": "execute_result"
    }
   ],
   "source": [
    "a"
   ]
  },
  {
   "cell_type": "code",
   "execution_count": 70,
   "metadata": {
    "colab": {
     "base_uri": "https://localhost:8080/"
    },
    "id": "0f-w1BPtMgHp",
    "outputId": "91f82ac8-989d-4041-e7b8-71e151a19ab6"
   },
   "outputs": [
    {
     "data": {
      "text/plain": [
       "(array([16, 17, 18, 19, 20], dtype=int64),)"
      ]
     },
     "execution_count": 70,
     "metadata": {},
     "output_type": "execute_result"
    }
   ],
   "source": [
    "b"
   ]
  },
  {
   "cell_type": "code",
   "execution_count": 71,
   "metadata": {
    "colab": {
     "base_uri": "https://localhost:8080/"
    },
    "id": "H-eUByuaMRqf",
    "outputId": "e32a790e-cc11-4114-9e80-bf1c2d503c37"
   },
   "outputs": [
    {
     "data": {
      "text/plain": [
       "(array([16, 17, 18, 19, 20], dtype=int64),)"
      ]
     },
     "execution_count": 71,
     "metadata": {},
     "output_type": "execute_result"
    }
   ],
   "source": [
    "a and b"
   ]
  },
  {
   "cell_type": "code",
   "execution_count": 72,
   "metadata": {
    "colab": {
     "base_uri": "https://localhost:8080/"
    },
    "id": "WJUhR6noMTPu",
    "outputId": "5208cbd5-7c36-4e0c-fb07-5b1adced354e"
   },
   "outputs": [
    {
     "data": {
      "text/plain": [
       "(array([ 0,  1,  2,  3,  4,  5,  6,  7,  8,  9, 10, 11], dtype=int64),)"
      ]
     },
     "execution_count": 72,
     "metadata": {},
     "output_type": "execute_result"
    }
   ],
   "source": [
    "a or b"
   ]
  },
  {
   "cell_type": "code",
   "execution_count": 73,
   "metadata": {
    "colab": {
     "base_uri": "https://localhost:8080/"
    },
    "id": "Y9ey6lkZMbND",
    "outputId": "377792d7-28ba-492d-e1d6-c3ec3846175b"
   },
   "outputs": [
    {
     "data": {
      "text/plain": [
       "array([ 0,  1,  2,  3,  4, 13, 14, 15, 16, 17, 18, 19, 20])"
      ]
     },
     "execution_count": 73,
     "metadata": {},
     "output_type": "execute_result"
    }
   ],
   "source": [
    "arr[np.where((arr<5) | (arr>12))]"
   ]
  },
  {
   "cell_type": "code",
   "execution_count": 74,
   "metadata": {
    "colab": {
     "base_uri": "https://localhost:8080/"
    },
    "id": "D3FDskEBM0jk",
    "outputId": "371b17ad-0183-405f-c47f-96e1f5d4195c"
   },
   "outputs": [
    {
     "data": {
      "text/plain": [
       "array([ 0,  2,  4,  6,  8, 10, 12, 14, 16, 18, 10, 11, 12, 13, 14, 15, 16,\n",
       "       17, 18, 19, 20])"
      ]
     },
     "execution_count": 74,
     "metadata": {},
     "output_type": "execute_result"
    }
   ],
   "source": [
    "np.where(arr<10, arr*2, arr)   #update"
   ]
  },
  {
   "cell_type": "code",
   "execution_count": 75,
   "metadata": {
    "colab": {
     "base_uri": "https://localhost:8080/"
    },
    "id": "Y72LIsi4NWU2",
    "outputId": "1f9cf299-0d17-4347-9dd9-17bea5a8dd89"
   },
   "outputs": [
    {
     "data": {
      "text/plain": [
       "array([ 0,  1,  2,  3,  4,  5,  6,  7,  8,  9, 20, 22, 24, 26, 28, 30, 32,\n",
       "       34, 36, 38, 40])"
      ]
     },
     "execution_count": 75,
     "metadata": {},
     "output_type": "execute_result"
    }
   ],
   "source": [
    "np.where(arr<10, arr, arr*2)"
   ]
  },
  {
   "cell_type": "code",
   "execution_count": 76,
   "metadata": {
    "id": "h-fq6NrGNu5K"
   },
   "outputs": [],
   "source": [
    "c = np.copy(arr)"
   ]
  },
  {
   "cell_type": "code",
   "execution_count": 77,
   "metadata": {
    "colab": {
     "base_uri": "https://localhost:8080/"
    },
    "id": "cFgKGgZ3OOU0",
    "outputId": "62d05593-5a13-4d2c-b916-0771020af5f8"
   },
   "outputs": [
    {
     "data": {
      "text/plain": [
       "array([ 0,  1,  2,  3,  4,  5,  6,  7,  8,  9, 10, 11, 12, 13, 14, 15, 16,\n",
       "       17, 18, 19, 20])"
      ]
     },
     "execution_count": 77,
     "metadata": {},
     "output_type": "execute_result"
    }
   ],
   "source": [
    "c"
   ]
  },
  {
   "cell_type": "markdown",
   "metadata": {
    "id": "QDxhi6qaOO6K"
   },
   "source": [
    "Delete"
   ]
  },
  {
   "cell_type": "markdown",
   "metadata": {
    "id": "bbdHTHJpOZHq"
   },
   "source": [
    "syntax = np.delete(array, object, axis=None)"
   ]
  },
  {
   "cell_type": "code",
   "execution_count": 80,
   "metadata": {
    "colab": {
     "base_uri": "https://localhost:8080/"
    },
    "id": "1ytJB2NNOh15",
    "outputId": "34dcd214-d6c8-4132-8f77-b664c2d7b4cb"
   },
   "outputs": [
    {
     "data": {
      "text/plain": [
       "array([ 1,  4,  5,  6,  7,  8,  9, 11, 12, 13, 14, 15, 16, 17, 18, 19, 20])"
      ]
     },
     "execution_count": 80,
     "metadata": {},
     "output_type": "execute_result"
    }
   ],
   "source": [
    "np.delete(c, [0,3,2,10])"
   ]
  },
  {
   "cell_type": "markdown",
   "metadata": {
    "id": "VhpnlB5xOtSf"
   },
   "source": [
    "Append\n",
    "\n",
    "syntax = np.append(array, values, axis = None)\n",
    "\n",
    "array = the input array\n",
    "values = [int, array of int]"
   ]
  },
  {
   "cell_type": "code",
   "execution_count": 82,
   "metadata": {
    "colab": {
     "base_uri": "https://localhost:8080/"
    },
    "id": "dljEnUtgPYQ1",
    "outputId": "dd610571-ad75-4cb3-8651-552b40f75533"
   },
   "outputs": [
    {
     "data": {
      "text/plain": [
       "array([ 0,  1,  2,  3,  4,  5,  6,  7,  8,  9, 10, 11, 12, 13, 14, 15, 16,\n",
       "       17, 18, 19, 20,  0,  3,  2, 10])"
      ]
     },
     "execution_count": 82,
     "metadata": {},
     "output_type": "execute_result"
    }
   ],
   "source": [
    "np.append(c, [0,3,2,10])"
   ]
  },
  {
   "cell_type": "markdown",
   "metadata": {
    "id": "7JBZsTjEPcx6"
   },
   "source": [
    "Insert"
   ]
  },
  {
   "cell_type": "code",
   "execution_count": 171,
   "metadata": {
    "colab": {
     "base_uri": "https://localhost:8080/"
    },
    "id": "CW-w14NhPhw0",
    "outputId": "7c8e0da4-1127-4510-cff7-bd0f9b30c2c6"
   },
   "outputs": [],
   "source": [
    "n=np.insert(c,5,[20,60])"
   ]
  },
  {
   "cell_type": "code",
   "execution_count": 173,
   "metadata": {
    "colab": {
     "base_uri": "https://localhost:8080/"
    },
    "id": "95np8GCjPmEq",
    "outputId": "458f4317-e1e0-468d-c5d0-311888b2a62a"
   },
   "outputs": [
    {
     "data": {
      "text/plain": [
       "array([ 0,  1,  2,  3,  4,  5,  6,  7,  8,  9, 10, 11, 12, 13, 14, 15, 16,\n",
       "       17, 18, 19, 20, 20, 60])"
      ]
     },
     "execution_count": 173,
     "metadata": {},
     "output_type": "execute_result"
    }
   ],
   "source": [
    "np.sort(n)"
   ]
  },
  {
   "cell_type": "code",
   "execution_count": 175,
   "metadata": {},
   "outputs": [
    {
     "data": {
      "text/plain": [
       "array([60, 20, 20, 19, 18, 17, 16, 15, 14, 13, 12, 11, 10,  9,  8,  7,  6,\n",
       "        5,  4,  3,  2,  1,  0])"
      ]
     },
     "execution_count": 175,
     "metadata": {},
     "output_type": "execute_result"
    }
   ],
   "source": [
    "np.sort(n)[::-1]"
   ]
  },
  {
   "cell_type": "code",
   "execution_count": 179,
   "metadata": {},
   "outputs": [
    {
     "data": {
      "text/plain": [
       "array([ 0,  1,  2,  3,  4, 20, 60,  5,  6,  7,  8,  9, 10, 11, 12, 13, 14,\n",
       "       15, 16, 17, 18, 19, 20])"
      ]
     },
     "execution_count": 179,
     "metadata": {},
     "output_type": "execute_result"
    }
   ],
   "source": [
    "n"
   ]
  },
  {
   "cell_type": "code",
   "execution_count": 185,
   "metadata": {
    "colab": {
     "base_uri": "https://localhost:8080/"
    },
    "id": "b3nYAvYNP5Pz",
    "outputId": "3a9ffb26-d402-4c86-ba18-bbb9f9ff1d97"
   },
   "outputs": [
    {
     "data": {
      "text/plain": [
       "array([20, 19, 18, 17, 16, 15, 14, 13, 12, 11, 10,  9,  8,  7,  6,  5, 60,\n",
       "       20,  4,  3,  2,  1,  0])"
      ]
     },
     "execution_count": 185,
     "metadata": {},
     "output_type": "execute_result"
    }
   ],
   "source": [
    "np.flip(n)"
   ]
  },
  {
   "cell_type": "code",
   "execution_count": 2,
   "metadata": {},
   "outputs": [],
   "source": [
    "a=[1,2,3,4]\n",
    "b=a\n",
    "c=a[:]"
   ]
  },
  {
   "cell_type": "code",
   "execution_count": 10,
   "metadata": {},
   "outputs": [
    {
     "data": {
      "text/plain": [
       "True"
      ]
     },
     "execution_count": 10,
     "metadata": {},
     "output_type": "execute_result"
    }
   ],
   "source": [
    "b is a"
   ]
  },
  {
   "cell_type": "code",
   "execution_count": null,
   "metadata": {},
   "outputs": [],
   "source": []
  }
 ],
 "metadata": {
  "colab": {
   "provenance": []
  },
  "kernelspec": {
   "display_name": "Python 3 (ipykernel)",
   "language": "python",
   "name": "python3"
  },
  "language_info": {
   "codemirror_mode": {
    "name": "ipython",
    "version": 3
   },
   "file_extension": ".py",
   "mimetype": "text/x-python",
   "name": "python",
   "nbconvert_exporter": "python",
   "pygments_lexer": "ipython3",
   "version": "3.11.7"
  }
 },
 "nbformat": 4,
 "nbformat_minor": 4
}
