{
 "cells": [
  {
   "cell_type": "code",
   "execution_count": 4,
   "id": "05db51f7-963d-48f6-acba-fdcb01338f3d",
   "metadata": {},
   "outputs": [],
   "source": [
    "import numpy as np"
   ]
  },
  {
   "cell_type": "markdown",
   "id": "d40091a4-27a1-424e-a7fe-a1a306c63478",
   "metadata": {},
   "source": [
    "## Create a numpy array by passing tuple"
   ]
  },
  {
   "cell_type": "code",
   "execution_count": 6,
   "id": "0b9a45aa-ea8b-4b8f-9d3b-1e5643a31a54",
   "metadata": {},
   "outputs": [
    {
     "name": "stdout",
     "output_type": "stream",
     "text": [
      "[1 2 3]\n"
     ]
    }
   ],
   "source": [
    "n=np.array((1,2,3))\n",
    "print(n)"
   ]
  },
  {
   "cell_type": "code",
   "execution_count": 7,
   "id": "a0af14c9-e8e5-4a69-b8c6-75fbef6d1f3b",
   "metadata": {},
   "outputs": [
    {
     "name": "stdout",
     "output_type": "stream",
     "text": [
      "<class 'numpy.ndarray'>\n"
     ]
    }
   ],
   "source": [
    "print(type(n))"
   ]
  },
  {
   "cell_type": "markdown",
   "id": "66d6ac27-0e53-4748-8533-76105f4d348e",
   "metadata": {},
   "source": [
    "## Create a numpy array by passing List"
   ]
  },
  {
   "cell_type": "code",
   "execution_count": 9,
   "id": "457b27c4-adfa-441b-9420-753b6d5b736c",
   "metadata": {},
   "outputs": [
    {
     "name": "stdout",
     "output_type": "stream",
     "text": [
      "[1 2 3]\n"
     ]
    }
   ],
   "source": [
    "n=np.array([1,2,3])\n",
    "print(n)"
   ]
  },
  {
   "cell_type": "code",
   "execution_count": 10,
   "id": "2ca0b782-682b-41fa-9312-2450572256e8",
   "metadata": {},
   "outputs": [
    {
     "name": "stdout",
     "output_type": "stream",
     "text": [
      "<class 'numpy.ndarray'>\n"
     ]
    }
   ],
   "source": [
    "print(type(n))"
   ]
  },
  {
   "cell_type": "markdown",
   "id": "bc5213bd-0d37-41f3-aacd-941ed1e76c42",
   "metadata": {},
   "source": [
    "## 0-Dimensional Array"
   ]
  },
  {
   "cell_type": "code",
   "execution_count": 12,
   "id": "c4816de1-8ff6-4606-8630-cc1938c4c49e",
   "metadata": {},
   "outputs": [
    {
     "name": "stdout",
     "output_type": "stream",
     "text": [
      "2\n",
      "Dimensions = 0\n"
     ]
    }
   ],
   "source": [
    "n=np.array(2)\n",
    "print(n)\n",
    "print(\"Dimensions =\",n.ndim)"
   ]
  },
  {
   "cell_type": "markdown",
   "id": "c618f7f9-3d03-4e05-ba4e-33cf05573ed6",
   "metadata": {},
   "source": [
    "## 1- Dimensional Array"
   ]
  },
  {
   "cell_type": "code",
   "execution_count": 14,
   "id": "3d7699ee-7595-4e18-a8c7-85b4cf96d08b",
   "metadata": {},
   "outputs": [
    {
     "name": "stdout",
     "output_type": "stream",
     "text": [
      "[1 2 3]\n",
      "Dimensions = 1\n"
     ]
    }
   ],
   "source": [
    "n=np.array([1,2,3])\n",
    "print(n)\n",
    "print(\"Dimensions =\",n.ndim)"
   ]
  },
  {
   "cell_type": "markdown",
   "id": "6d1eb10d-7c79-4c08-b327-bff944958c52",
   "metadata": {},
   "source": [
    "## 2- Dimensional Array"
   ]
  },
  {
   "cell_type": "code",
   "execution_count": 16,
   "id": "872e0d0f-370e-4136-8ff2-b0db4b6074d3",
   "metadata": {},
   "outputs": [
    {
     "name": "stdout",
     "output_type": "stream",
     "text": [
      "[[1 2 3]\n",
      " [4 5 6]]\n",
      "Dimensions = 2\n"
     ]
    }
   ],
   "source": [
    "n=np.array([[1,2,3],[4,5,6]])\n",
    "print(n)\n",
    "print(\"Dimensions =\",n.ndim)"
   ]
  },
  {
   "cell_type": "markdown",
   "id": "a1e6f8dd-b0a6-4280-af0e-72dc47035350",
   "metadata": {},
   "source": [
    "## numpy.zeros()"
   ]
  },
  {
   "cell_type": "code",
   "execution_count": 18,
   "id": "9aa16119-4783-4f4c-b4ab-3e86acf2e396",
   "metadata": {},
   "outputs": [
    {
     "name": "stdout",
     "output_type": "stream",
     "text": [
      "[[0. 0. 0.]\n",
      " [0. 0. 0.]]\n",
      "<class 'numpy.ndarray'>\n"
     ]
    }
   ],
   "source": [
    "n=np.zeros([2,3])\n",
    "print(n)\n",
    "print(type(n))"
   ]
  },
  {
   "cell_type": "code",
   "execution_count": 19,
   "id": "abf30fc6-64f3-4e46-b889-d26077bf8d63",
   "metadata": {
    "scrolled": true
   },
   "outputs": [
    {
     "name": "stdout",
     "output_type": "stream",
     "text": [
      "[[0. 0. 0. 0.]\n",
      " [0. 0. 0. 0.]\n",
      " [0. 0. 0. 0.]\n",
      " [0. 0. 0. 0.]]\n",
      "<class 'numpy.ndarray'>\n"
     ]
    }
   ],
   "source": [
    "n=np.zeros([4,4])\n",
    "print(n)\n",
    "print(type(n))"
   ]
  },
  {
   "cell_type": "markdown",
   "id": "143cdd1b-220c-4731-8241-af0a2c6747cf",
   "metadata": {},
   "source": [
    "## numpy.ones()"
   ]
  },
  {
   "cell_type": "code",
   "execution_count": 21,
   "id": "8349c31b-3e51-47c4-90e4-973707d2e892",
   "metadata": {},
   "outputs": [
    {
     "name": "stdout",
     "output_type": "stream",
     "text": [
      "[['1' '1' '1' '1']\n",
      " ['1' '1' '1' '1']\n",
      " ['1' '1' '1' '1']\n",
      " ['1' '1' '1' '1']]\n",
      "<class 'numpy.ndarray'>\n"
     ]
    }
   ],
   "source": [
    "n=np.ones([4,4],dtype=str)\n",
    "print(n)\n",
    "print(type(n))"
   ]
  },
  {
   "cell_type": "markdown",
   "id": "a84c42e1-d0da-4e1e-98c4-4b64a50fe693",
   "metadata": {},
   "source": [
    "### numpy.full()"
   ]
  },
  {
   "cell_type": "code",
   "execution_count": 23,
   "id": "0064f29f-c534-441a-a061-26b3c162f6e3",
   "metadata": {},
   "outputs": [
    {
     "data": {
      "text/plain": [
       "array([['8', '8', '8'],\n",
       "       ['8', '8', '8'],\n",
       "       ['8', '8', '8']], dtype='<U1')"
      ]
     },
     "execution_count": 23,
     "metadata": {},
     "output_type": "execute_result"
    }
   ],
   "source": [
    "b=np.full([3,3],8,dtype=str)\n",
    "b"
   ]
  },
  {
   "cell_type": "markdown",
   "id": "800664ff-c367-441e-9a46-908ed38d4e1b",
   "metadata": {},
   "source": [
    "## Numpy DataTypes"
   ]
  },
  {
   "cell_type": "code",
   "execution_count": 25,
   "id": "ade288ed-0677-4c33-aa7a-b77900166dcf",
   "metadata": {},
   "outputs": [
    {
     "name": "stdout",
     "output_type": "stream",
     "text": [
      "int32\n"
     ]
    }
   ],
   "source": [
    "# Integer\n",
    "n=np.array([1,2,3])\n",
    "print(n.dtype)"
   ]
  },
  {
   "cell_type": "code",
   "execution_count": 26,
   "id": "e38d28c0-cffa-4d52-8098-421c214e5d39",
   "metadata": {},
   "outputs": [
    {
     "name": "stdout",
     "output_type": "stream",
     "text": [
      "<U5\n"
     ]
    }
   ],
   "source": [
    "# String\n",
    "n=np.array([\"boomi\",\"mazi\",\"kani\"])\n",
    "print(n.dtype)\n",
    "# u-Unicode\n",
    "# 5- maximum Characters input"
   ]
  },
  {
   "cell_type": "code",
   "execution_count": 27,
   "id": "1201879f-f00f-44b7-a476-0382647b86db",
   "metadata": {},
   "outputs": [
    {
     "name": "stdout",
     "output_type": "stream",
     "text": [
      "|S6\n"
     ]
    }
   ],
   "source": [
    "n=np.array([\"boomi\",\"mazi\",\"kani\"],dtype=\"S6\")\n",
    "print(n.dtype)\n",
    "# S-String\n",
    "# 6- Maximum Characters"
   ]
  },
  {
   "cell_type": "code",
   "execution_count": 28,
   "id": "d1f3e295-9148-42d6-8251-04bd1736fdca",
   "metadata": {},
   "outputs": [
    {
     "name": "stdout",
     "output_type": "stream",
     "text": [
      "['10' '20' '30']\n",
      "<U2\n"
     ]
    }
   ],
   "source": [
    "n=np.array([\"10\",\"20\",\"30\"])\n",
    "print(n)\n",
    "print(n.dtype)"
   ]
  },
  {
   "cell_type": "code",
   "execution_count": 29,
   "id": "b82920e7-2c52-47e9-8af4-f865744991e2",
   "metadata": {},
   "outputs": [
    {
     "name": "stdout",
     "output_type": "stream",
     "text": [
      "[10 20 30]\n",
      "int32\n"
     ]
    }
   ],
   "source": [
    "# Converting U to I - String to Integer\n",
    "# U- Unicode String\n",
    "# i=integer\n",
    "n2=n.astype('i')\n",
    "print(n2)\n",
    "print(n2.dtype)\n"
   ]
  },
  {
   "cell_type": "code",
   "execution_count": 30,
   "id": "6d85e99c-3f96-450d-b789-b906e7dbb4fb",
   "metadata": {},
   "outputs": [
    {
     "name": "stdout",
     "output_type": "stream",
     "text": [
      "[10. 20. 30.]\n"
     ]
    }
   ],
   "source": [
    "n=np.array([\"10\",\"20\",\"30\"],dtype=float)\n",
    "print(n)"
   ]
  },
  {
   "cell_type": "code",
   "execution_count": 31,
   "id": "71258c9f-3ba5-462c-ae1c-db181ca2a252",
   "metadata": {},
   "outputs": [
    {
     "name": "stdout",
     "output_type": "stream",
     "text": [
      "['10' '20' '30']\n"
     ]
    }
   ],
   "source": [
    "n=np.array([10,20,30],dtype=str)\n",
    "print(n)"
   ]
  },
  {
   "cell_type": "markdown",
   "id": "27f227fc-9d35-4849-a5b3-ae75577239e9",
   "metadata": {},
   "source": [
    "## Len()"
   ]
  },
  {
   "cell_type": "markdown",
   "id": "315f25d3-06db-42aa-a094-5ee5eb2dc4c2",
   "metadata": {},
   "source": [
    "### one dimensional"
   ]
  },
  {
   "cell_type": "code",
   "execution_count": 34,
   "id": "3c681e6f-8068-4aa4-9492-f939680a8aaa",
   "metadata": {},
   "outputs": [
    {
     "data": {
      "text/plain": [
       "3"
      ]
     },
     "execution_count": 34,
     "metadata": {},
     "output_type": "execute_result"
    }
   ],
   "source": [
    "n=np.array([10,20,30])\n",
    "len(n)"
   ]
  },
  {
   "cell_type": "markdown",
   "id": "10ecff60-4a16-4931-baeb-aa73b9d100b5",
   "metadata": {},
   "source": [
    "### two dimensional"
   ]
  },
  {
   "cell_type": "code",
   "execution_count": 36,
   "id": "92344375-29df-48d4-a923-a7a8b8a09d57",
   "metadata": {},
   "outputs": [
    {
     "data": {
      "text/plain": [
       "2"
      ]
     },
     "execution_count": 36,
     "metadata": {},
     "output_type": "execute_result"
    }
   ],
   "source": [
    "n=np.array([[10,20,30],[40,50,60]])\n",
    "len(n)"
   ]
  },
  {
   "cell_type": "code",
   "execution_count": 37,
   "id": "ec5350c9-ab62-4302-b22e-7b02e65ea08f",
   "metadata": {},
   "outputs": [
    {
     "data": {
      "text/plain": [
       "4"
      ]
     },
     "execution_count": 37,
     "metadata": {},
     "output_type": "execute_result"
    }
   ],
   "source": [
    "n=np.array([[10,20,30],[40,50,60],[70,80,90],[100,110,120]])\n",
    "len(n)"
   ]
  },
  {
   "cell_type": "markdown",
   "id": "86a904ef-2d49-4d78-9cd0-4c0b8efda3ff",
   "metadata": {},
   "source": [
    "## To Access the One Dimensional array "
   ]
  },
  {
   "cell_type": "code",
   "execution_count": 39,
   "id": "467cb262-72f7-4628-8b45-8c624784cfd6",
   "metadata": {},
   "outputs": [
    {
     "name": "stdout",
     "output_type": "stream",
     "text": [
      "['10' '20' '30']\n",
      "10\n"
     ]
    }
   ],
   "source": [
    "n=np.array([\"10\",\"20\",\"30\"])\n",
    "print(n)\n",
    "print(n[0])"
   ]
  },
  {
   "cell_type": "code",
   "execution_count": 40,
   "id": "d9d0a9be-e1a7-4875-8f00-d9bf6b9bed28",
   "metadata": {},
   "outputs": [
    {
     "name": "stdout",
     "output_type": "stream",
     "text": [
      "['10' '20' '30']\n",
      "30\n"
     ]
    }
   ],
   "source": [
    "n=np.array([\"10\",\"20\",\"30\"])\n",
    "print(n)\n",
    "#print(n[2])\n",
    "print(n[-1])"
   ]
  },
  {
   "cell_type": "markdown",
   "id": "9c12247e-f7cc-4ad8-8ad5-330a4cd90798",
   "metadata": {},
   "source": [
    "## To Access the Two Dimensional array "
   ]
  },
  {
   "cell_type": "code",
   "execution_count": 42,
   "id": "d317573c-a90d-42db-a68b-799a8de597bb",
   "metadata": {},
   "outputs": [
    {
     "name": "stdout",
     "output_type": "stream",
     "text": [
      "[[1 2 3]\n",
      " [4 5 6]]\n",
      "------------------------\n",
      "1\n",
      "2\n",
      "3\n"
     ]
    }
   ],
   "source": [
    "n=np.array([[1,2,3],[4,5,6]])\n",
    "print(n)\n",
    "print(\"------------------------\")\n",
    "print(n[0,0])\n",
    "print(n[0,1])\n",
    "print(n[0,2])"
   ]
  },
  {
   "cell_type": "code",
   "execution_count": 43,
   "id": "0c386b8f-cf10-4074-93d0-8d87de155aac",
   "metadata": {},
   "outputs": [
    {
     "name": "stdout",
     "output_type": "stream",
     "text": [
      "[[1 2 3]\n",
      " [4 5 6]]\n",
      "------------------------\n",
      "4\n",
      "5\n",
      "6\n"
     ]
    }
   ],
   "source": [
    "n=np.array([[1,2,3],[4,5,6]])\n",
    "print(n)\n",
    "print(\"------------------------\")\n",
    "print(n[1,0])\n",
    "print(n[1,1])\n",
    "print(n[1,2])"
   ]
  },
  {
   "cell_type": "markdown",
   "id": "1bf629ed-1e23-4408-9c3c-862fc71d68a3",
   "metadata": {},
   "source": [
    "## To Access the Three Dimensional array "
   ]
  },
  {
   "cell_type": "code",
   "execution_count": 45,
   "id": "78215b25-4e2b-4114-9ae1-fc02bc4108d0",
   "metadata": {},
   "outputs": [
    {
     "name": "stdout",
     "output_type": "stream",
     "text": [
      "[[[ 1  2  3]\n",
      "  [ 4  5  6]]\n",
      "\n",
      " [[ 7  8  9]\n",
      "  [10 11 12]]]\n",
      "------------------------\n",
      "1\n",
      "2\n",
      "3\n"
     ]
    }
   ],
   "source": [
    "n=np.array([[[1,2,3],[4,5,6]],[[7,8,9],[10,11,12]]])\n",
    "print(n)\n",
    "print(\"------------------------\")\n",
    "print(n[0,0,0])\n",
    "print(n[0,0,1])\n",
    "print(n[0,0,2])"
   ]
  },
  {
   "cell_type": "code",
   "execution_count": 46,
   "id": "7bfb5d94-2edc-4f80-bbf9-9f688fdbbd4c",
   "metadata": {},
   "outputs": [
    {
     "name": "stdout",
     "output_type": "stream",
     "text": [
      "[[[ 1  2  3]\n",
      "  [ 4  5  6]]\n",
      "\n",
      " [[ 7  8  9]\n",
      "  [10 11 12]]]\n",
      "------------------------\n",
      "4\n",
      "5\n",
      "6\n"
     ]
    }
   ],
   "source": [
    "n=np.array([[[1,2,3],[4,5,6]],[[7,8,9],[10,11,12]]])\n",
    "print(n)\n",
    "print(\"------------------------\")\n",
    "print(n[0,1,0])\n",
    "print(n[0,1,1])\n",
    "print(n[0,1,2])"
   ]
  },
  {
   "cell_type": "code",
   "execution_count": 47,
   "id": "b3cce6ff-8d7a-44cc-8b2b-b1599ce8f665",
   "metadata": {},
   "outputs": [
    {
     "name": "stdout",
     "output_type": "stream",
     "text": [
      "[[[ 1  2  3]\n",
      "  [ 4  5  6]]\n",
      "\n",
      " [[ 7  8  9]\n",
      "  [10 11 12]]]\n",
      "------------------------\n",
      "7\n",
      "8\n",
      "9\n"
     ]
    }
   ],
   "source": [
    "n=np.array([[[1,2,3],[4,5,6]],[[7,8,9],[10,11,12]]])\n",
    "print(n)\n",
    "print(\"------------------------\")\n",
    "print(n[1,0,0])\n",
    "print(n[1,0,1])\n",
    "print(n[1,0,2])"
   ]
  },
  {
   "cell_type": "code",
   "execution_count": 48,
   "id": "17bd4676-2b4e-471c-a0c5-c077202741e1",
   "metadata": {},
   "outputs": [
    {
     "name": "stdout",
     "output_type": "stream",
     "text": [
      "[[[ 1  2  3]\n",
      "  [ 4  5  6]]\n",
      "\n",
      " [[ 7  8  9]\n",
      "  [10 11 12]]]\n",
      "------------------------\n",
      "10\n",
      "11\n",
      "12\n"
     ]
    }
   ],
   "source": [
    "n=np.array([[[1,2,3],[4,5,6]],[[7,8,9],[10,11,12]]])\n",
    "print(n)\n",
    "print(\"------------------------\")\n",
    "print(n[1,1,0])\n",
    "print(n[1,1,1])\n",
    "print(n[1,1,2])"
   ]
  },
  {
   "cell_type": "markdown",
   "id": "d62a0587-ce1a-4a7b-b158-34f8a5f2df21",
   "metadata": {},
   "source": [
    "## Negative indexing"
   ]
  },
  {
   "cell_type": "markdown",
   "id": "e037e8f5-e3cf-48ab-bde9-12200ad35bc2",
   "metadata": {},
   "source": [
    "### One Dimensional Array"
   ]
  },
  {
   "cell_type": "code",
   "execution_count": 51,
   "id": "c16e5a5d-812b-4f09-b325-cf51b7ba4e17",
   "metadata": {},
   "outputs": [
    {
     "name": "stdout",
     "output_type": "stream",
     "text": [
      "[10 20 30]\n",
      "Last Element = 30\n"
     ]
    }
   ],
   "source": [
    "n=np.array([10,20,30])\n",
    "print(n)\n",
    "#print(n[2])\n",
    "print(\"Last Element =\",n[-1])"
   ]
  },
  {
   "cell_type": "markdown",
   "id": "d66652ee-2fb6-4ef5-b3bc-99910f7d0e24",
   "metadata": {},
   "source": [
    "### Two Dimensional Array\n"
   ]
  },
  {
   "cell_type": "code",
   "execution_count": 53,
   "id": "8920b88d-73e0-46ea-a302-e80f45628054",
   "metadata": {},
   "outputs": [
    {
     "name": "stdout",
     "output_type": "stream",
     "text": [
      "[[1 2 3]\n",
      " [4 5 6]]\n",
      "------------------------\n",
      "Last Element (1st row) = 3\n",
      "------------------------\n",
      "Last Element (2nd row) = 6\n"
     ]
    }
   ],
   "source": [
    "n=np.array([[1,2,3],[4,5,6]])\n",
    "print(n)\n",
    "print(\"------------------------\")\n",
    "print(\"Last Element (1st row) =\",n[0,-1])\n",
    "print(\"------------------------\")\n",
    "print(\"Last Element (2nd row) =\",n[1,-1])"
   ]
  },
  {
   "cell_type": "markdown",
   "id": "302fe9e4-05b5-41d7-a5c9-89e573395c5b",
   "metadata": {},
   "source": [
    "## Numpy Array Slicing "
   ]
  },
  {
   "cell_type": "markdown",
   "id": "57d95f5d-8127-484e-9270-d29df3df6b44",
   "metadata": {},
   "source": [
    "### One Dimensional Array"
   ]
  },
  {
   "cell_type": "code",
   "execution_count": 56,
   "id": "57050552-78e1-46f0-9b7f-cab902841873",
   "metadata": {},
   "outputs": [
    {
     "name": "stdout",
     "output_type": "stream",
     "text": [
      "[10 20 30 40]\n",
      "[50 40 30 20 10]\n"
     ]
    }
   ],
   "source": [
    "n=np.array([10,20,30,40,50])\n",
    "# print(n[1:3])\n",
    "# print(n[0:4])\n",
    "# print(n[3:])\n",
    "print(n[:4])\n",
    "print(n[::-1])"
   ]
  },
  {
   "cell_type": "code",
   "execution_count": 57,
   "id": "fd867e90-ab57-487d-934d-9a1d524952d8",
   "metadata": {},
   "outputs": [
    {
     "name": "stdout",
     "output_type": "stream",
     "text": [
      "[10 20 30 40 50 60]\n"
     ]
    }
   ],
   "source": [
    "n=np.array([10,20,30,40,50,60,70,80,90,100])\n",
    "print(n[0:6:1])"
   ]
  },
  {
   "cell_type": "markdown",
   "id": "faf0b440-1bd9-47d5-b006-459854a604b3",
   "metadata": {},
   "source": [
    "### Two Dimensional Array"
   ]
  },
  {
   "cell_type": "code",
   "execution_count": 59,
   "id": "d913c877-ba91-408b-bba4-10c3573bdd24",
   "metadata": {},
   "outputs": [
    {
     "name": "stdout",
     "output_type": "stream",
     "text": [
      "[ 3 10]\n"
     ]
    }
   ],
   "source": [
    "n=np.array([[1,2,3,10,11,12],[4,5,6,7,8,9]])\n",
    "print(n[0,2:4])"
   ]
  },
  {
   "cell_type": "code",
   "execution_count": 60,
   "id": "b7809c47-19f0-409a-bf0a-08a906d692ce",
   "metadata": {},
   "outputs": [
    {
     "name": "stdout",
     "output_type": "stream",
     "text": [
      "[4 5 6 7 8]\n"
     ]
    }
   ],
   "source": [
    "n=np.array([[1,2,3,10,11,12],[4,5,6,7,8,9]])\n",
    "print(n[1,0:5])"
   ]
  },
  {
   "cell_type": "code",
   "execution_count": 61,
   "id": "18f13c84-29e0-4028-99e4-9553a80a48f9",
   "metadata": {},
   "outputs": [
    {
     "name": "stdout",
     "output_type": "stream",
     "text": [
      "[[ 2  3 10 11]\n",
      " [ 5  6  7  8]]\n"
     ]
    }
   ],
   "source": [
    "n=np.array([[1,2,3,10,11,12],[4,5,6,7,8,9]])\n",
    "print(n[0:4 ,1:5])"
   ]
  },
  {
   "cell_type": "code",
   "execution_count": 62,
   "id": "6afe5fbe-ad13-4dc1-95cd-db32c224eaa6",
   "metadata": {},
   "outputs": [
    {
     "name": "stdout",
     "output_type": "stream",
     "text": [
      "[ 3 10]\n"
     ]
    }
   ],
   "source": [
    "print(n[0,2:4])"
   ]
  },
  {
   "cell_type": "code",
   "execution_count": 63,
   "id": "7ef1b0de-6ee4-44c7-a80f-d4f8d6f9ab40",
   "metadata": {},
   "outputs": [
    {
     "name": "stdout",
     "output_type": "stream",
     "text": [
      "[1 4]\n"
     ]
    }
   ],
   "source": [
    "print(n[:,0])"
   ]
  },
  {
   "cell_type": "markdown",
   "id": "cfbcb3b4-49e8-4483-87ac-2d225bb7037b",
   "metadata": {},
   "source": [
    "## Numpy.Shape"
   ]
  },
  {
   "cell_type": "code",
   "execution_count": 65,
   "id": "3620244a-d526-4b64-ae6c-a6798eb254c9",
   "metadata": {},
   "outputs": [
    {
     "name": "stdout",
     "output_type": "stream",
     "text": [
      "10\n",
      "0\n",
      "()\n"
     ]
    }
   ],
   "source": [
    "n=np.array(10)\n",
    "print(n)\n",
    "print(n.ndim)\n",
    "print(n.shape)"
   ]
  },
  {
   "cell_type": "markdown",
   "id": "c6010fcc-75fb-40c3-bb3a-94f2990a3687",
   "metadata": {},
   "source": [
    "### One Dimensional Array"
   ]
  },
  {
   "cell_type": "code",
   "execution_count": 67,
   "id": "29b86ad2-e6b0-4ac7-aa40-ce17037459ac",
   "metadata": {},
   "outputs": [
    {
     "name": "stdout",
     "output_type": "stream",
     "text": [
      "[10 20 30 40 50]\n",
      "1\n",
      "(5,)\n"
     ]
    }
   ],
   "source": [
    "n=np.array([10,20,30,40,50])\n",
    "print(n)\n",
    "print(n.ndim)\n",
    "print(n.shape)"
   ]
  },
  {
   "cell_type": "markdown",
   "id": "c3991280-7d33-4002-b53b-7a083f1cd84e",
   "metadata": {},
   "source": [
    "### Two Dimensional Array"
   ]
  },
  {
   "cell_type": "code",
   "execution_count": 69,
   "id": "479fd9ce-fcef-4543-9c7d-00207c5d7850",
   "metadata": {},
   "outputs": [
    {
     "name": "stdout",
     "output_type": "stream",
     "text": [
      "[[ 1  2  3 10 11 12]\n",
      " [ 4  5  6  7  8  9]]\n",
      "2\n",
      "(2, 6)\n"
     ]
    }
   ],
   "source": [
    "n=np.array([[1,2,3,10,11,12],[4,5,6,7,8,9]])\n",
    "print(n)\n",
    "print(n.ndim)\n",
    "print(n.shape)"
   ]
  },
  {
   "cell_type": "markdown",
   "id": "70b4294a-9149-4c79-ac46-300a1cce06fa",
   "metadata": {},
   "source": [
    "### Three Dimensional Array"
   ]
  },
  {
   "cell_type": "code",
   "execution_count": 71,
   "id": "a4bababf-fdac-4bbf-884e-8481fa8f3653",
   "metadata": {},
   "outputs": [
    {
     "name": "stdout",
     "output_type": "stream",
     "text": [
      "[[[ 1  2  3  4]\n",
      "  [ 4  5  6  7]]\n",
      "\n",
      " [[ 7  8  9 10]\n",
      "  [10 11 12 13]]]\n",
      "3\n",
      "(2, 2, 4)\n"
     ]
    }
   ],
   "source": [
    "n=np.array([[[1,2,3,4],[4,5,6,7]],[[7,8,9,10],[10,11,12,13]]])\n",
    "print(n)\n",
    "print(n.ndim)\n",
    "print(n.shape)"
   ]
  },
  {
   "cell_type": "code",
   "execution_count": 72,
   "id": "05c24f2d-9822-4fca-a562-071af04e2b02",
   "metadata": {},
   "outputs": [
    {
     "name": "stdout",
     "output_type": "stream",
     "text": [
      "[[ 1  2]\n",
      " [ 3 10]\n",
      " [11 12]\n",
      " [ 4  5]\n",
      " [ 6  7]\n",
      " [ 8  9]]\n"
     ]
    }
   ],
   "source": [
    "n=np.array([[1,2,3,10,11,12],[4,5,6,7,8,9]])\n",
    "n.shape=(6,2)\n",
    "print(n)"
   ]
  },
  {
   "cell_type": "markdown",
   "id": "51fe56d2-db7b-44a5-ae31-e00e9d919dc8",
   "metadata": {},
   "source": [
    "## ReShape method"
   ]
  },
  {
   "cell_type": "markdown",
   "id": "56ccb4ce-26ed-4b02-8a02-08b62b463ac0",
   "metadata": {},
   "source": [
    "### One Dimensional Array to Two Dimensional array"
   ]
  },
  {
   "cell_type": "code",
   "execution_count": 75,
   "id": "ac488029-addc-47d2-afea-a63b1e848d71",
   "metadata": {},
   "outputs": [
    {
     "name": "stdout",
     "output_type": "stream",
     "text": [
      "One Dimensional Array = [10 20 30 40 50 60]\n",
      "Reshape Array = \n",
      " [[10 20 30]\n",
      " [40 50 60]]\n"
     ]
    }
   ],
   "source": [
    "n=np.array([10,20,30,40,50,60])\n",
    "print(\"One Dimensional Array =\",n)\n",
    "#Reshape\n",
    "rn=n.reshape(2,3)\n",
    "print(\"Reshape Array = \\n\",rn)"
   ]
  },
  {
   "cell_type": "markdown",
   "id": "0f378915-6042-4fc0-a2d0-0a9f06414343",
   "metadata": {},
   "source": [
    "### Three Dimensional Array to one Dimensional array"
   ]
  },
  {
   "cell_type": "code",
   "execution_count": 77,
   "id": "2e0475eb-76b7-4702-8144-32379d63c602",
   "metadata": {},
   "outputs": [
    {
     "name": "stdout",
     "output_type": "stream",
     "text": [
      "3D-Array\n",
      " [[[ 1  2  3  4]\n",
      "  [ 4  5  6  7]]\n",
      "\n",
      " [[ 7  8  9 10]\n",
      "  [10 11 12 13]]]\n",
      "Reshape Array =  [ 1  2  3  4  4  5  6  7  7  8  9 10 10 11 12 13]\n"
     ]
    }
   ],
   "source": [
    "n=np.array([[[1,2,3,4],[4,5,6,7]],[[7,8,9,10],[10,11,12,13]]])\n",
    "print(\"3D-Array\\n\",n)\n",
    "#Reshape\n",
    "rn=n.reshape(-1)\n",
    "print(\"Reshape Array = \",rn)"
   ]
  },
  {
   "cell_type": "markdown",
   "id": "dadcd182-8b94-40b5-84c6-d821bde3ddfa",
   "metadata": {},
   "source": [
    "## Iterate Numpy Array"
   ]
  },
  {
   "cell_type": "markdown",
   "id": "8080662a-200d-4ff5-83e3-715f83f775eb",
   "metadata": {},
   "source": [
    "### 1-D Array"
   ]
  },
  {
   "cell_type": "code",
   "execution_count": 80,
   "id": "0d75d1c5-8589-4a3e-8c6f-fa324113f445",
   "metadata": {},
   "outputs": [
    {
     "name": "stdout",
     "output_type": "stream",
     "text": [
      "Iterating\n",
      "10\n",
      "20\n",
      "30\n",
      "40\n",
      "50\n",
      "60\n",
      "Type = <class 'numpy.ndarray'>\n",
      "DataType = <class 'numpy.dtypes.Int32DType'>\n",
      "Dimensional = 1\n"
     ]
    }
   ],
   "source": [
    "n=np.array([10,20,30,40,50,60])\n",
    "\n",
    "print(\"Iterating\")\n",
    "for a in n:\n",
    "    print(a)\n",
    "\n",
    "print(\"Type =\",type(n))\n",
    "print(\"DataType =\",type(n.dtype))\n",
    "print(\"Dimensional =\",n.ndim)"
   ]
  },
  {
   "cell_type": "markdown",
   "id": "d49d4f6f-bddf-4c91-8d6e-489f37c1e6ae",
   "metadata": {},
   "source": [
    "### 2-D Array"
   ]
  },
  {
   "cell_type": "code",
   "execution_count": 82,
   "id": "de4d04d6-1b16-4363-bbe2-97bb02708d9c",
   "metadata": {},
   "outputs": [
    {
     "name": "stdout",
     "output_type": "stream",
     "text": [
      "Iterating\n",
      "[ 1  2  3 10 11 12]\n",
      "[4 5 6 7 8 9]\n",
      "Type = <class 'numpy.ndarray'>\n",
      "DataType = <class 'numpy.dtypes.Int32DType'>\n",
      "Dimensional = 2\n"
     ]
    }
   ],
   "source": [
    "n=np.array([[1,2,3,10,11,12],[4,5,6,7,8,9]])\n",
    "print(\"Iterating\")\n",
    "for a in n:\n",
    "    print(a)\n",
    "\n",
    "print(\"Type =\",type(n))\n",
    "print(\"DataType =\",type(n.dtype))\n",
    "print(\"Dimensional =\",n.ndim)"
   ]
  },
  {
   "cell_type": "markdown",
   "id": "43df0d5e-86e5-42d3-998c-8c22b9001a98",
   "metadata": {},
   "source": [
    "### 3-D Array"
   ]
  },
  {
   "cell_type": "code",
   "execution_count": 84,
   "id": "0980aaed-67b8-4e6b-b5e9-81cc62fa3086",
   "metadata": {},
   "outputs": [
    {
     "name": "stdout",
     "output_type": "stream",
     "text": [
      "Iterating\n",
      "Each Martix(2D)\n",
      "[[1 2 3 4]\n",
      " [4 5 6 7]]\n",
      "Each Martix(2D)\n",
      "[[ 7  8  9 10]\n",
      " [10 11 12 13]]\n",
      "Type = <class 'numpy.ndarray'>\n",
      "DataType = <class 'numpy.dtypes.Int32DType'>\n",
      "Dimensional = 3\n"
     ]
    }
   ],
   "source": [
    "n=np.array([[[1,2,3,4],[4,5,6,7]],[[7,8,9,10],[10,11,12,13]]])\n",
    "print(\"Iterating\")\n",
    "for a in n:\n",
    "    print(\"Each Martix(2D)\")\n",
    "    print(a)\n",
    "\n",
    "print(\"Type =\",type(n))\n",
    "print(\"DataType =\",type(n.dtype))\n",
    "print(\"Dimensional =\",n.ndim)"
   ]
  },
  {
   "cell_type": "markdown",
   "id": "30d7aa98-3431-47c8-8aca-4251ef3d165a",
   "metadata": {},
   "source": [
    "## Concatenate () Method"
   ]
  },
  {
   "cell_type": "code",
   "execution_count": 86,
   "id": "d2fa9ea7-cbd2-4ac6-8895-0ca8e6948d37",
   "metadata": {},
   "outputs": [],
   "source": [
    "# a=np.arange(6).reshape(2,3)\n",
    "# b=np.arange(6,12).reshape(2,3)\n",
    "# np.concatenate((a,b))\n",
    "# np.concatenate((a,b),axis=0) # axis=0 is column\n",
    "# np.concatenate((a,b),axis=1) # axis=1 is row"
   ]
  },
  {
   "cell_type": "code",
   "execution_count": 87,
   "id": "00857e41-bb16-4243-8c28-1cc228ed35a9",
   "metadata": {},
   "outputs": [
    {
     "name": "stdout",
     "output_type": "stream",
     "text": [
      "Iterating array1\n",
      "1\n",
      "2\n",
      "3\n",
      "4\n",
      "Iterating array2\n",
      "5\n",
      "6\n",
      "7\n",
      "8\n",
      "\n",
      " After joining = [1 2 3 4 5 6 7 8]\n"
     ]
    }
   ],
   "source": [
    "n1=np.array([1,2,3,4])\n",
    "n2=np.array([5,6,7,8])\n",
    "\n",
    "print(\"Iterating array1\")\n",
    "\n",
    "for a in n1:\n",
    "    print(a)\n",
    "\n",
    "print(\"Iterating array2\")\n",
    "\n",
    "for a in n2:\n",
    "    print(a)\n",
    "\n",
    "newarray=np.concatenate((n1,n2))\n",
    "print(\"\\n After joining =\",newarray)"
   ]
  },
  {
   "cell_type": "markdown",
   "id": "e10d0cd4-c37e-47fb-8642-81719094cb54",
   "metadata": {},
   "source": [
    "## Stack Methods"
   ]
  },
  {
   "cell_type": "markdown",
   "id": "c98c30de-014f-4b67-a602-9619eb17c3ff",
   "metadata": {},
   "source": [
    "### Stack ()"
   ]
  },
  {
   "cell_type": "code",
   "execution_count": 90,
   "id": "4c2a0886-e2d1-4599-98c2-740c6b21898f",
   "metadata": {},
   "outputs": [
    {
     "name": "stdout",
     "output_type": "stream",
     "text": [
      "Iterating array1\n",
      "1\n",
      "2\n",
      "3\n",
      "4\n",
      "Iterating array2\n",
      "5\n",
      "6\n",
      "7\n",
      "8\n",
      " After joining =\n",
      " [[1 5]\n",
      " [2 6]\n",
      " [3 7]\n",
      " [4 8]]\n"
     ]
    }
   ],
   "source": [
    "n1=np.array([1,2,3,4])\n",
    "n2=np.array([5,6,7,8])\n",
    "\n",
    "print(\"Iterating array1\")\n",
    "\n",
    "for a in n1:\n",
    "    print(a)\n",
    "\n",
    "print(\"Iterating array2\")\n",
    "\n",
    "for a in n2:\n",
    "    print(a)\n",
    "\n",
    "newarray=np.stack((n1,n2),axis=1) # axis=0 is column\n",
    "print(\" After joining =\\n\",newarray)# axis=1 is row"
   ]
  },
  {
   "cell_type": "markdown",
   "id": "e123ac39-cbe6-4f04-9624-0198fb6f2860",
   "metadata": {},
   "source": [
    "## hstack()"
   ]
  },
  {
   "cell_type": "code",
   "execution_count": 92,
   "id": "9a74f235-d67c-451c-a150-18db63c13185",
   "metadata": {},
   "outputs": [
    {
     "name": "stdout",
     "output_type": "stream",
     "text": [
      "Iterating array1\n",
      "1\n",
      "2\n",
      "3\n",
      "4\n",
      "Iterating array2\n",
      "5\n",
      "6\n",
      "7\n",
      "8\n",
      "\n",
      " After joining = [1 2 3 4 5 6 7 8]\n"
     ]
    }
   ],
   "source": [
    "n1=np.array([1,2,3,4])\n",
    "n2=np.array([5,6,7,8])\n",
    "\n",
    "print(\"Iterating array1\")\n",
    "\n",
    "for a in n1:\n",
    "    print(a)\n",
    "\n",
    "print(\"Iterating array2\")\n",
    "\n",
    "for a in n2:\n",
    "    print(a)\n",
    "\n",
    "newarray=np.hstack((n1,n2))\n",
    "print(\"\\n After joining =\",newarray)"
   ]
  },
  {
   "cell_type": "markdown",
   "id": "0e946223-578e-4b08-b20a-ed7a0a48a94c",
   "metadata": {},
   "source": [
    "## vstack()"
   ]
  },
  {
   "cell_type": "code",
   "execution_count": 94,
   "id": "5734e440-6b97-44d4-bdcc-776759f51011",
   "metadata": {},
   "outputs": [
    {
     "name": "stdout",
     "output_type": "stream",
     "text": [
      "Iterating array1\n",
      "1\n",
      "2\n",
      "3\n",
      "4\n",
      "Iterating array2\n",
      "5\n",
      "6\n",
      "7\n",
      "8\n",
      " After joining =\n",
      " [[1 2 3 4]\n",
      " [5 6 7 8]]\n"
     ]
    }
   ],
   "source": [
    "n1=np.array([1,2,3,4])\n",
    "n2=np.array([5,6,7,8])\n",
    "\n",
    "print(\"Iterating array1\")\n",
    "\n",
    "for a in n1:\n",
    "    print(a)\n",
    "\n",
    "print(\"Iterating array2\")\n",
    "\n",
    "for a in n2:\n",
    "    print(a)\n",
    "\n",
    "newarray=np.vstack((n1,n2))\n",
    "print(\" After joining =\\n\",newarray)"
   ]
  },
  {
   "cell_type": "markdown",
   "id": "e6053a29-e7f9-4a28-89d4-94e4c412b029",
   "metadata": {},
   "source": [
    "## dstack - it will show sequence depth wise array in 3D"
   ]
  },
  {
   "cell_type": "code",
   "execution_count": 96,
   "id": "fe1bcbbe-6283-43e6-a070-a7a9367b3580",
   "metadata": {},
   "outputs": [
    {
     "name": "stdout",
     "output_type": "stream",
     "text": [
      "Iterating array1\n",
      "1\n",
      "2\n",
      "3\n",
      "4\n",
      "Iterating array2\n",
      "5\n",
      "6\n",
      "7\n",
      "8\n",
      " After joining =\n",
      " [[[1 5]\n",
      "  [2 6]\n",
      "  [3 7]\n",
      "  [4 8]]]\n"
     ]
    }
   ],
   "source": [
    "n1=np.array([1,2,3,4])\n",
    "n2=np.array([5,6,7,8])\n",
    "\n",
    "print(\"Iterating array1\")\n",
    "\n",
    "for a in n1:\n",
    "    print(a)\n",
    "\n",
    "print(\"Iterating array2\")\n",
    "\n",
    "for a in n2:\n",
    "    print(a)\n",
    "\n",
    "newarray=np.dstack((n1,n2))\n",
    "print(\" After joining =\\n\",newarray)"
   ]
  },
  {
   "cell_type": "markdown",
   "id": "2c8406a0-1ae5-4525-a2e6-a7b8fcde5845",
   "metadata": {},
   "source": [
    "## column_stack()- 1D into 2D-array"
   ]
  },
  {
   "cell_type": "code",
   "execution_count": 98,
   "id": "6d4398e0-5862-49ac-b78c-845099dd0840",
   "metadata": {},
   "outputs": [
    {
     "name": "stdout",
     "output_type": "stream",
     "text": [
      "Iterating array1\n",
      "1\n",
      "2\n",
      "3\n",
      "4\n",
      "Iterating array2\n",
      "5\n",
      "6\n",
      "7\n",
      "8\n",
      " After joining =\n",
      " [[1 5]\n",
      " [2 6]\n",
      " [3 7]\n",
      " [4 8]]\n"
     ]
    }
   ],
   "source": [
    "n1=np.array([1,2,3,4])\n",
    "n2=np.array([5,6,7,8])\n",
    "\n",
    "print(\"Iterating array1\")\n",
    "\n",
    "for a in n1:\n",
    "    print(a)\n",
    "\n",
    "print(\"Iterating array2\")\n",
    "\n",
    "for a in n2:\n",
    "    print(a)\n",
    "\n",
    "newarray=np.column_stack((n1,n2))\n",
    "print(\" After joining =\\n\",newarray)"
   ]
  },
  {
   "cell_type": "markdown",
   "id": "163122b4-a5de-4319-a32f-7ebd6ddb9769",
   "metadata": {},
   "source": [
    "## Split Numpy Array"
   ]
  },
  {
   "cell_type": "markdown",
   "id": "5a69cc4d-046f-4431-a4d2-c33030ad176c",
   "metadata": {},
   "source": [
    "### array_Split ()"
   ]
  },
  {
   "cell_type": "markdown",
   "id": "c06bf799-97c5-4da5-a8e4-07f74ccd245f",
   "metadata": {},
   "source": [
    "#### 1-D Array"
   ]
  },
  {
   "cell_type": "code",
   "execution_count": 102,
   "id": "5545ec67-516a-462e-9dba-8b4ef523c80b",
   "metadata": {},
   "outputs": [
    {
     "name": "stdout",
     "output_type": "stream",
     "text": [
      "Iterating array..\n",
      "1\n",
      "2\n",
      "3\n",
      "4\n",
      "5\n",
      "6\n",
      "[1 2 3]\n",
      "[4 5 6]\n",
      "After splitting =\n",
      " [array([1, 2, 3]), array([4, 5, 6])]\n"
     ]
    }
   ],
   "source": [
    "n=np.array([1,2,3,4,5,6])\n",
    "print(\"Iterating array..\")\n",
    "\n",
    "for a in n:\n",
    "    print(a)\n",
    "# Split the array\n",
    "newarray=np.array_split(n,2)\n",
    "for a in newarray:\n",
    "    print(a)\n",
    "print(\"After splitting =\\n\",newarray)"
   ]
  },
  {
   "cell_type": "markdown",
   "id": "0905984a-9d1f-4e85-8951-b6595901302c",
   "metadata": {},
   "source": [
    "### To access the 1-D Array"
   ]
  },
  {
   "cell_type": "code",
   "execution_count": 104,
   "id": "83f3e678-b74d-466c-b877-195e52522f87",
   "metadata": {},
   "outputs": [
    {
     "name": "stdout",
     "output_type": "stream",
     "text": [
      "Iterating array..\n",
      "1\n",
      "2\n",
      "3\n",
      "4\n",
      "5\n",
      "6\n",
      "\n",
      "Array after splitting = [array([1, 2, 3]), array([4, 5, 6])]\n",
      "Access splitted array individually...\n",
      "Array1 = [1 2 3]\n",
      "Array2 = [4 5 6]\n"
     ]
    }
   ],
   "source": [
    "n=np.array([1,2,3,4,5,6])\n",
    "print(\"Iterating array..\")\n",
    "\n",
    "for a in n:\n",
    "    print(a)\n",
    "# Split the array\n",
    "newarray=np.array_split(n,2)\n",
    "print(\"\\nArray after splitting =\",newarray)\n",
    "\n",
    "print(\"Access splitted array individually...\")\n",
    "\n",
    "print(\"Array1 =\",newarray[0])\n",
    "print(\"Array2 =\",newarray[1])"
   ]
  },
  {
   "cell_type": "markdown",
   "id": "49079195-fd6f-4d46-93e5-cf356a5efd93",
   "metadata": {},
   "source": [
    "### 2-D Array split & Access"
   ]
  },
  {
   "cell_type": "code",
   "execution_count": 106,
   "id": "d7d566c3-7026-4d62-ad5a-d8752a60d496",
   "metadata": {},
   "outputs": [
    {
     "name": "stdout",
     "output_type": "stream",
     "text": [
      "Iterating array..\n",
      "[1 2 3 4]\n",
      "[5 6 7 8]\n",
      "\n",
      "Array after splitting = [array([[1, 2, 3, 4]]), array([[5, 6, 7, 8]])]\n",
      "Access splitted array individually...\n",
      "Array1 = [[1 2 3 4]]\n",
      "Array2 = [[5 6 7 8]]\n"
     ]
    }
   ],
   "source": [
    "n=np.array([[1,2,3,4],[5,6,7,8]])\n",
    "print(\"Iterating array..\")\n",
    "\n",
    "for a in n:\n",
    "    print(a)\n",
    "# Split the array into 2\n",
    "newarray=np.array_split(n,2)\n",
    "print(\"\\nArray after splitting =\",newarray)\n",
    "\n",
    "print(\"Access splitted array individually...\")\n",
    "\n",
    "print(\"Array1 =\",newarray[0])\n",
    "print(\"Array2 =\",newarray[1])"
   ]
  },
  {
   "cell_type": "markdown",
   "id": "e784daab-c940-4702-b753-c97e1afc63b9",
   "metadata": {},
   "source": [
    "## Searching a numpy array for a value"
   ]
  },
  {
   "cell_type": "markdown",
   "id": "0190862c-0d61-4eac-91d1-a068338848d1",
   "metadata": {},
   "source": [
    "### where ()"
   ]
  },
  {
   "cell_type": "code",
   "execution_count": 109,
   "id": "f136338d-be2d-4e73-82a6-683298f54c4e",
   "metadata": {},
   "outputs": [
    {
     "name": "stdout",
     "output_type": "stream",
     "text": [
      "Iterating array..\n",
      "1\n",
      "2\n",
      "3\n",
      "4\n",
      "5\n",
      "6\n",
      "Element fount at the following indexes\n",
      "(array([], dtype=int64),)\n"
     ]
    }
   ],
   "source": [
    "n=np.array([1,2,3,4,5,6])\n",
    "print(\"Iterating array..\")\n",
    "\n",
    "for a in n:\n",
    "    print(a)\n",
    "\n",
    "# Searching the value\n",
    "found=np.where(n==0)\n",
    "\n",
    "print(\"Element fount at the following indexes\")\n",
    "print(found)"
   ]
  },
  {
   "cell_type": "markdown",
   "id": "b418fbf1-3d7e-4b6d-9713-cf18fe34fd22",
   "metadata": {},
   "source": [
    "## Sorting Numpy Array"
   ]
  },
  {
   "cell_type": "markdown",
   "id": "55751c4b-b8b3-4558-a9d2-f2f62981ff7c",
   "metadata": {},
   "source": [
    "### sort() Method"
   ]
  },
  {
   "cell_type": "markdown",
   "id": "6d5dcd52-e300-430c-b06e-c85343547d06",
   "metadata": {},
   "source": [
    "#### 1-D Array"
   ]
  },
  {
   "cell_type": "code",
   "execution_count": 113,
   "id": "21fcaefe-07cd-4c0f-8090-9e4de3ca8bcb",
   "metadata": {},
   "outputs": [
    {
     "name": "stdout",
     "output_type": "stream",
     "text": [
      "Iterating array..\n",
      "1\n",
      "2\n",
      "3\n",
      "4\n",
      "5\n",
      "6\n",
      "10\n",
      "9\n",
      "8\n",
      "7\n",
      "Sorted Array = [ 1  2  3  4  5  6  7  8  9 10]\n"
     ]
    }
   ],
   "source": [
    "n=np.array([1,2,3,4,5,6,10,9,8,7])\n",
    "print(\"Iterating array..\")\n",
    "\n",
    "for a in n:\n",
    "    print(a)\n",
    "\n",
    "# Sort\n",
    "print(\"Sorted Array =\",np.sort(n))"
   ]
  },
  {
   "cell_type": "markdown",
   "id": "80784bd2-0bd5-4040-b098-9284527df190",
   "metadata": {},
   "source": [
    "### 1-D array using string"
   ]
  },
  {
   "cell_type": "code",
   "execution_count": 115,
   "id": "14f7f95e-28ac-4bbf-90a4-6d7551a38f6e",
   "metadata": {},
   "outputs": [
    {
     "name": "stdout",
     "output_type": "stream",
     "text": [
      "Iterating array..\n",
      "Boomi\n",
      "Nagaraj\n",
      "Praba\n",
      "Bharathi\n",
      "kavis\n",
      "mazi\n",
      "Sorted Array = ['Bharathi' 'Boomi' 'Nagaraj' 'Praba' 'kavis' 'mazi']\n"
     ]
    }
   ],
   "source": [
    "n=np.array([\"Boomi\",\"Nagaraj\",\"Praba\",\"Bharathi\",\"kavis\",\"mazi\"])\n",
    "print(\"Iterating array..\")\n",
    "\n",
    "for a in n:\n",
    "    print(a)\n",
    "\n",
    "# Sort\n",
    "print(\"Sorted Array =\",np.sort(n))"
   ]
  },
  {
   "cell_type": "markdown",
   "id": "52365148-3d1a-4fac-a716-48cefd48f64a",
   "metadata": {},
   "source": [
    "## 2-D Array in numpy"
   ]
  },
  {
   "cell_type": "code",
   "execution_count": 117,
   "id": "dca7a186-4652-4c05-b0b2-81e11023d5ed",
   "metadata": {},
   "outputs": [],
   "source": [
    "n=np.array([[1,2,3,4,5],[6,10,9,8,7]])"
   ]
  },
  {
   "cell_type": "code",
   "execution_count": 118,
   "id": "2c450918-e59e-44de-8448-10acc4275d92",
   "metadata": {},
   "outputs": [
    {
     "name": "stdout",
     "output_type": "stream",
     "text": [
      "Iterating array..\n",
      "[1 2 3 4 5]\n",
      "[ 6 10  9  8  7]\n",
      "Sorted Array = [[ 1  2  3  4  5]\n",
      " [ 6  7  8  9 10]]\n"
     ]
    }
   ],
   "source": [
    "print(\"Iterating array..\")\n",
    "\n",
    "for a in n:\n",
    "    print(a)\n",
    "\n",
    "# Sort\n",
    "print(\"Sorted Array =\",np.sort(n))"
   ]
  },
  {
   "cell_type": "markdown",
   "id": "8af44cba-e0ee-49ce-9881-4bbd5905c972",
   "metadata": {},
   "source": [
    "## Axes in numpy arrays"
   ]
  },
  {
   "cell_type": "code",
   "execution_count": 120,
   "id": "865e555a-44e4-4dda-85d9-f99dbbf26f10",
   "metadata": {},
   "outputs": [
    {
     "name": "stdout",
     "output_type": "stream",
     "text": [
      "Iterating array..\n",
      "[1 2 3 4 5]\n",
      "[ 6  7  8  9 10]\n",
      "[11 12 13 14 15]\n",
      "\n",
      " Minimum value = 1\n",
      "Minimum value with axis 0 (Vertical axis)= [1 2 3 4 5]\n",
      "Minimum value with axis 1 (horizontal axis)= [ 1  6 11]\n"
     ]
    }
   ],
   "source": [
    "n=np.array([[1,2,3,4,5],[6,7,8,9,10],[11,12,13,14,15]])\n",
    "print(\"Iterating array..\")\n",
    "\n",
    "for a in n:\n",
    "    print(a)\n",
    "\n",
    "print(\"\\n Minimum value =\",n.min())\n",
    "print(\"Minimum value with axis 0 (Vertical axis)=\",n.min(axis=0))\n",
    "print(\"Minimum value with axis 1 (horizontal axis)=\",n.min(axis=1))"
   ]
  },
  {
   "cell_type": "markdown",
   "id": "56037196-1e98-40d1-bab0-4bff8cf53cfb",
   "metadata": {},
   "source": [
    "## intersectioin of numpy arrays"
   ]
  },
  {
   "cell_type": "markdown",
   "id": "77b24a87-91b2-467f-8c6b-3bd60d62982a",
   "metadata": {},
   "source": [
    "### Intersection between numpy array"
   ]
  },
  {
   "cell_type": "code",
   "execution_count": 123,
   "id": "7068504f-2ea5-4bf1-b197-0728f79934a0",
   "metadata": {},
   "outputs": [
    {
     "name": "stdout",
     "output_type": "stream",
     "text": [
      "Iterating array1\n",
      "1\n",
      "2\n",
      "6\n",
      "4\n",
      "Iterating array2\n",
      "5\n",
      "6\n",
      "7\n",
      "8\n",
      "Intersecion =\n",
      " [6]\n"
     ]
    }
   ],
   "source": [
    "n1=np.array([1,2,6,4])\n",
    "n2=np.array([5,6,7,8])\n",
    "\n",
    "print(\"Iterating array1\")\n",
    "\n",
    "for a in n1:\n",
    "    print(a)\n",
    "\n",
    "print(\"Iterating array2\")\n",
    "\n",
    "for a in n2:\n",
    "    print(a)\n",
    "\n",
    "newarray=np.intersect1d(n1,n2)\n",
    "print(\"Intersecion =\\n\",newarray)"
   ]
  },
  {
   "cell_type": "markdown",
   "id": "f768ab15-6ea0-41c7-8791-cfa167bbd60e",
   "metadata": {},
   "source": [
    "### intersection between two unsorted array"
   ]
  },
  {
   "cell_type": "code",
   "execution_count": 125,
   "id": "0d375d05-4580-4224-ad3f-c5d39a25ec58",
   "metadata": {},
   "outputs": [
    {
     "name": "stdout",
     "output_type": "stream",
     "text": [
      "Iterating array1\n",
      "8\n",
      "2\n",
      "6\n",
      "5\n",
      "Iterating array2\n",
      "5\n",
      "6\n",
      "7\n",
      "8\n",
      "Intersecion (Sorted Array)=\n",
      " [5 6 8]\n"
     ]
    }
   ],
   "source": [
    "n1=np.array([8,2,6,5])\n",
    "n2=np.array([5,6,7,8])\n",
    "\n",
    "print(\"Iterating array1\")\n",
    "\n",
    "for a in n1:\n",
    "    print(a)\n",
    "\n",
    "print(\"Iterating array2\")\n",
    "\n",
    "for a in n2:\n",
    "    print(a)\n",
    "\n",
    "newarray=np.intersect1d(n1,n2)\n",
    "print(\"Intersecion (Sorted Array)=\\n\",newarray)"
   ]
  },
  {
   "cell_type": "markdown",
   "id": "fa692a0f-5545-436d-9926-7f25637e8f11",
   "metadata": {},
   "source": [
    "### setdiff1d()"
   ]
  },
  {
   "cell_type": "code",
   "execution_count": 127,
   "id": "a84f5928-5356-475c-a466-7a50473978b2",
   "metadata": {},
   "outputs": [
    {
     "name": "stdout",
     "output_type": "stream",
     "text": [
      "Iterating array1\n",
      "8\n",
      "2\n",
      "3\n",
      "5\n",
      "Iterating array2\n",
      "5\n",
      "6\n",
      "7\n",
      "8\n",
      "Difference=\n",
      " [2 3]\n"
     ]
    }
   ],
   "source": [
    "n1=np.array([8,2,3,5])\n",
    "n2=np.array([5,6,7,8])\n",
    "\n",
    "print(\"Iterating array1\")\n",
    "\n",
    "for a in n1:\n",
    "    print(a)\n",
    "\n",
    "print(\"Iterating array2\")\n",
    "\n",
    "for a in n2:\n",
    "    print(a)\n",
    "\n",
    "newarray=np.setdiff1d(n1,n2)\n",
    "print(\"Difference=\\n\",newarray)"
   ]
  },
  {
   "cell_type": "code",
   "execution_count": 128,
   "id": "4470b878-25ed-4619-89ba-c319fc308e50",
   "metadata": {},
   "outputs": [
    {
     "name": "stdout",
     "output_type": "stream",
     "text": [
      "Iterating array1\n",
      "8\n",
      "2\n",
      "3\n",
      "5\n",
      "Iterating array2\n",
      "5\n",
      "6\n",
      "7\n",
      "8\n",
      "Difference=\n",
      " [6 7]\n"
     ]
    }
   ],
   "source": [
    "n1=np.array([8,2,3,5])\n",
    "n2=np.array([5,6,7,8])\n",
    "\n",
    "print(\"Iterating array1\")\n",
    "\n",
    "for a in n1:\n",
    "    print(a)\n",
    "\n",
    "print(\"Iterating array2\")\n",
    "\n",
    "for a in n2:\n",
    "    print(a)\n",
    "\n",
    "newarray=np.setdiff1d(n2,n1)\n",
    "print(\"Difference=\\n\",newarray)"
   ]
  },
  {
   "cell_type": "markdown",
   "id": "077a2e8c-46ac-45a1-9d23-17d5dc920abe",
   "metadata": {},
   "source": [
    "## Arithmetic operation in numpy"
   ]
  },
  {
   "cell_type": "markdown",
   "id": "6ace8fcf-1f70-4a3b-ac79-4fadca77995a",
   "metadata": {},
   "source": [
    "### sum()"
   ]
  },
  {
   "cell_type": "code",
   "execution_count": 131,
   "id": "56e3d710-c6a4-4cc9-b910-3b90e5748018",
   "metadata": {},
   "outputs": [
    {
     "name": "stdout",
     "output_type": "stream",
     "text": [
      "Array1 = [8 2 3 5]\n",
      "Array2 = [5 6 7 8]\n",
      "sum = 44\n"
     ]
    }
   ],
   "source": [
    "n1=np.array([8,2,3,5])\n",
    "n2=np.array([5,6,7,8])\n",
    "\n",
    "\n",
    "print(\"Array1 =\",n1)\n",
    "print(\"Array2 =\",n2)\n",
    "\n",
    "newarray=np.sum([n1,n2])\n",
    "print(\"sum =\",newarray)"
   ]
  },
  {
   "cell_type": "markdown",
   "id": "9e2de223-1081-4581-ab6c-a9f53e5f85e6",
   "metadata": {},
   "source": [
    "### sum() using axis=0 parameter"
   ]
  },
  {
   "cell_type": "code",
   "execution_count": 133,
   "id": "bf7f001d-3492-4c94-b212-ef399973e231",
   "metadata": {},
   "outputs": [
    {
     "name": "stdout",
     "output_type": "stream",
     "text": [
      "Array1 = [8 2 3 5]\n",
      "Array2 = [5 6 7 8]\n",
      "sum = [13  8 10 13]\n"
     ]
    }
   ],
   "source": [
    " n1=np.array([8,2,3,5])\n",
    "n2=np.array([5,6,7,8])\n",
    "\n",
    "\n",
    "print(\"Array1 =\",n1)\n",
    "print(\"Array2 =\",n2)\n",
    "\n",
    "newarray=np.sum([n1,n2],axis=0)\n",
    "print(\"sum =\",newarray)"
   ]
  },
  {
   "cell_type": "markdown",
   "id": "cadac0d6-7862-426d-88b9-66361d49177e",
   "metadata": {},
   "source": [
    "### sum() using axis=1 parameter"
   ]
  },
  {
   "cell_type": "code",
   "execution_count": 135,
   "id": "602725ac-bcb1-4a68-b8af-8bb34ffe05ce",
   "metadata": {},
   "outputs": [
    {
     "name": "stdout",
     "output_type": "stream",
     "text": [
      "Array1 = [8 2 3 5]\n",
      "Array2 = [5 6 7 8]\n",
      "sum = [18 26]\n"
     ]
    }
   ],
   "source": [
    "n1=np.array([8,2,3,5])\n",
    "n2=np.array([5,6,7,8])\n",
    "\n",
    "\n",
    "print(\"Array1 =\",n1)\n",
    "print(\"Array2 =\",n2)\n",
    "\n",
    "newarray=np.sum([n1,n2],axis=1)\n",
    "print(\"sum =\",newarray)"
   ]
  },
  {
   "cell_type": "markdown",
   "id": "c48f8391-e5d2-4d58-b43c-3d74c03e3b68",
   "metadata": {},
   "source": [
    "### Subtract()"
   ]
  },
  {
   "cell_type": "code",
   "execution_count": 137,
   "id": "5b9ba4b6-5bde-44d0-bcb3-6ce7b222831d",
   "metadata": {},
   "outputs": [
    {
     "name": "stdout",
     "output_type": "stream",
     "text": [
      "Array1 = [8 2 3 5]\n",
      "Array2 = [5 6 7 8]\n",
      "subtraction = [ 3 -4 -4 -3]\n"
     ]
    }
   ],
   "source": [
    "n1=np.array([8,2,3,5])\n",
    "n2=np.array([5,6,7,8])\n",
    "\n",
    "\n",
    "print(\"Array1 =\",n1)\n",
    "print(\"Array2 =\",n2)\n",
    "\n",
    "newarray=np.subtract(n1,n2)\n",
    "print(\"subtraction =\",newarray)"
   ]
  },
  {
   "cell_type": "markdown",
   "id": "7b75be0e-fd44-4fb7-b5e8-6237706faf5c",
   "metadata": {},
   "source": [
    "### Multiply()"
   ]
  },
  {
   "cell_type": "code",
   "execution_count": 139,
   "id": "3c092a06-bc90-4beb-8cfe-23f8e5a09871",
   "metadata": {},
   "outputs": [
    {
     "name": "stdout",
     "output_type": "stream",
     "text": [
      "Array1 = [8 2 3 5]\n",
      "Array2 = [5 6 7 8]\n",
      "multiplication = [40 12 21 40]\n"
     ]
    }
   ],
   "source": [
    "n1=np.array([8,2,3,5])\n",
    "n2=np.array([5,6,7,8])\n",
    "\n",
    "\n",
    "print(\"Array1 =\",n1)\n",
    "print(\"Array2 =\",n2)\n",
    "\n",
    "newarray=np.multiply(n1,n2)\n",
    "print(\"multiplication =\",newarray)"
   ]
  },
  {
   "cell_type": "markdown",
   "id": "92288fb5-d9ff-446f-8591-147341bdc21d",
   "metadata": {},
   "source": [
    "### divide()"
   ]
  },
  {
   "cell_type": "code",
   "execution_count": 141,
   "id": "9823b75f-d3c1-40c5-84a0-9b8e76631bfd",
   "metadata": {},
   "outputs": [
    {
     "name": "stdout",
     "output_type": "stream",
     "text": [
      "Array1 = [8 2 3 5]\n",
      "Array2 = [5 6 7 8]\n",
      "division = [1.6        0.33333333 0.42857143 0.625     ]\n"
     ]
    }
   ],
   "source": [
    "n1=np.array([8,2,3,5])\n",
    "n2=np.array([5,6,7,8])\n",
    "\n",
    "\n",
    "print(\"Array1 =\",n1)\n",
    "print(\"Array2 =\",n2)\n",
    "\n",
    "newarray=np.divide(n1,n2)\n",
    "print(\"division =\",newarray)"
   ]
  },
  {
   "cell_type": "markdown",
   "id": "35c41719-bfc7-4f9b-81d2-f4c41b6e3bde",
   "metadata": {},
   "source": [
    "## Scalar operation "
   ]
  },
  {
   "cell_type": "markdown",
   "id": "fe01f93e-d298-465e-bf7b-401463d40c49",
   "metadata": {},
   "source": [
    "### Addition operation (+)"
   ]
  },
  {
   "cell_type": "code",
   "execution_count": 144,
   "id": "7ff71ed9-4c0c-4662-bff2-ff34b498880e",
   "metadata": {},
   "outputs": [
    {
     "name": "stdout",
     "output_type": "stream",
     "text": [
      "Array1 = [8 2 3 5]\n",
      "Array2 = [5 6 7 8]\n",
      "Array 1(Updated)= [18 12 13 15]\n",
      "Array 2(Updated)= [25 26 27 28]\n"
     ]
    }
   ],
   "source": [
    "n1=np.array([8,2,3,5])\n",
    "n2=np.array([5,6,7,8])\n",
    "\n",
    "\n",
    "print(\"Array1 =\",n1)\n",
    "print(\"Array2 =\",n2)\n",
    "\n",
    "n1=n1+10\n",
    "n2=n2+20\n",
    "\n",
    "print(\"Array 1(Updated)=\",n1)\n",
    "print(\"Array 2(Updated)=\",n2)"
   ]
  },
  {
   "cell_type": "markdown",
   "id": "2644ef36-3244-4c16-974b-653b3a404ffe",
   "metadata": {},
   "source": [
    "### Subtraction (-)"
   ]
  },
  {
   "cell_type": "code",
   "execution_count": 146,
   "id": "8119d2df-fdf9-4e3a-8c87-178af021bac4",
   "metadata": {},
   "outputs": [
    {
     "name": "stdout",
     "output_type": "stream",
     "text": [
      "Array1 = [8 2 3 5]\n",
      "Array2 = [5 6 7 8]\n",
      "Array 1(Updated)= [ 4 -2 -1  1]\n",
      "Array 2(Updated)= [3 4 5 6]\n"
     ]
    }
   ],
   "source": [
    "n1=np.array([8,2,3,5])\n",
    "n2=np.array([5,6,7,8])\n",
    "\n",
    "\n",
    "print(\"Array1 =\",n1)\n",
    "print(\"Array2 =\",n2)\n",
    "\n",
    "n1=n1-4\n",
    "n2=n2-2\n",
    "\n",
    "print(\"Array 1(Updated)=\",n1)\n",
    "print(\"Array 2(Updated)=\",n2)"
   ]
  },
  {
   "cell_type": "markdown",
   "id": "ba424114-07a4-43c5-b5d0-bc2c854f47b2",
   "metadata": {},
   "source": [
    "### Multiplication (*)"
   ]
  },
  {
   "cell_type": "code",
   "execution_count": 148,
   "id": "7c8bab58-4237-4898-94dc-d751fb50d82c",
   "metadata": {},
   "outputs": [
    {
     "name": "stdout",
     "output_type": "stream",
     "text": [
      "Array1 = [8 2 3 5]\n",
      "Array2 = [5 6 7 8]\n",
      "Array 1(Updated)= [80 20 30 50]\n",
      "Array 2(Updated)= [100 120 140 160]\n"
     ]
    }
   ],
   "source": [
    "n1=np.array([8,2,3,5])\n",
    "n2=np.array([5,6,7,8])\n",
    "\n",
    "\n",
    "print(\"Array1 =\",n1)\n",
    "print(\"Array2 =\",n2)\n",
    "\n",
    "n1=n1*10\n",
    "n2=n2*20\n",
    "\n",
    "print(\"Array 1(Updated)=\",n1)\n",
    "print(\"Array 2(Updated)=\",n2)"
   ]
  },
  {
   "cell_type": "markdown",
   "id": "db9055da-8b96-4217-8ae1-e8ff5b7168c6",
   "metadata": {},
   "source": [
    "### Division (/)"
   ]
  },
  {
   "cell_type": "code",
   "execution_count": 150,
   "id": "ae82eb23-07a5-4938-90bb-1554020bb7f6",
   "metadata": {},
   "outputs": [
    {
     "name": "stdout",
     "output_type": "stream",
     "text": [
      "Array1 = [8 2 3 5]\n",
      "Array2 = [5 6 7 8]\n",
      "Array 1(Updated)= [8. 2. 3. 5.]\n",
      "Array 2(Updated)= [2.5 3.  3.5 4. ]\n"
     ]
    }
   ],
   "source": [
    "n1=np.array([8,2,3,5])\n",
    "n2=np.array([5,6,7,8])\n",
    "\n",
    "\n",
    "print(\"Array1 =\",n1)\n",
    "print(\"Array2 =\",n2)\n",
    "\n",
    "n1=n1/1\n",
    "n2=n2/2\n",
    "\n",
    "print(\"Array 1(Updated)=\",n1)\n",
    "print(\"Array 2(Updated)=\",n2)"
   ]
  },
  {
   "cell_type": "markdown",
   "id": "d7d3ea73-bf3a-4593-bc0b-91dc5cbbaa79",
   "metadata": {},
   "source": [
    "## Statistical operation"
   ]
  },
  {
   "cell_type": "markdown",
   "id": "f1c808fd-ad1d-4e77-bc02-ef6e485456f7",
   "metadata": {},
   "source": [
    "### Mean()"
   ]
  },
  {
   "cell_type": "code",
   "execution_count": 153,
   "id": "ec8f55bd-2184-48cc-92c0-b47943ca9d1c",
   "metadata": {},
   "outputs": [
    {
     "name": "stdout",
     "output_type": "stream",
     "text": [
      "Array1 = [8 2 3 5]\n",
      "Array2 = [5 6 7 8]\n",
      "Array 1 mean = 4.5\n",
      "Array 2 mean = 6.5\n"
     ]
    }
   ],
   "source": [
    "n1=np.array([8,2,3,5])\n",
    "n2=np.array([5,6,7,8])\n",
    "\n",
    "\n",
    "print(\"Array1 =\",n1)\n",
    "print(\"Array2 =\",n2)\n",
    "\n",
    "mean1=np.mean(n1)\n",
    "mean2=np.mean(n2)\n",
    "\n",
    "print(\"Array 1 mean =\",mean1)\n",
    "print(\"Array 2 mean =\",mean2)"
   ]
  },
  {
   "cell_type": "markdown",
   "id": "fe884f01-63be-4cc1-8013-c8f52843537a",
   "metadata": {},
   "source": [
    "### Median"
   ]
  },
  {
   "cell_type": "code",
   "execution_count": 155,
   "id": "386dc53c-4976-4b6e-9125-6dcf926e1398",
   "metadata": {},
   "outputs": [
    {
     "name": "stdout",
     "output_type": "stream",
     "text": [
      "Array1 = [8 2 3 5]\n",
      "Array2 = [5 6 7 8]\n",
      "Array 1 median = 4.0\n",
      "Array 2 median = 6.5\n"
     ]
    }
   ],
   "source": [
    "n1=np.array([8,2,3,5])\n",
    "n2=np.array([5,6,7,8])\n",
    "\n",
    "\n",
    "print(\"Array1 =\",n1)\n",
    "print(\"Array2 =\",n2)\n",
    "\n",
    "median1=np.median(n1)\n",
    "median2=np.median(n2)\n",
    "\n",
    "print(\"Array 1 median =\",median1)\n",
    "print(\"Array 2 median =\",median2)"
   ]
  },
  {
   "cell_type": "markdown",
   "id": "d9cd004f-2812-4f54-bbb7-00212db48200",
   "metadata": {},
   "source": [
    "### Standard deviation"
   ]
  },
  {
   "cell_type": "code",
   "execution_count": 157,
   "id": "e7389f42-c9ca-464f-9fef-d8e16f6a8bdc",
   "metadata": {},
   "outputs": [
    {
     "name": "stdout",
     "output_type": "stream",
     "text": [
      "Array1 = [8 2 3 5]\n",
      "Array2 = [5 6 7 8]\n",
      "Array 1 Standard deviation = 2.29128784747792\n",
      "Array 2 Standard deviation = 1.118033988749895\n"
     ]
    }
   ],
   "source": [
    "n1=np.array([8,2,3,5])\n",
    "n2=np.array([5,6,7,8])\n",
    "\n",
    "\n",
    "print(\"Array1 =\",n1)\n",
    "print(\"Array2 =\",n2)\n",
    "\n",
    "std1=np.std(n1)\n",
    "std2=np.std(n2)\n",
    "\n",
    "print(\"Array 1 Standard deviation =\",std1)\n",
    "print(\"Array 2 Standard deviation =\",std2)"
   ]
  },
  {
   "cell_type": "markdown",
   "id": "196f2ace-33fb-4449-bdfc-c6227f9795ac",
   "metadata": {},
   "source": [
    "## Random Module Numpy"
   ]
  },
  {
   "cell_type": "code",
   "execution_count": 159,
   "id": "3ed16251-e0ad-4ffa-8c17-325186308cc2",
   "metadata": {},
   "outputs": [],
   "source": [
    "from numpy import random"
   ]
  },
  {
   "cell_type": "code",
   "execution_count": 278,
   "id": "98c0d172-53b3-452c-98bf-839b4af931b9",
   "metadata": {},
   "outputs": [
    {
     "data": {
      "text/plain": [
       "array([ 0,  1,  2,  3,  4,  5,  6,  7,  8,  9, 10, 11, 12, 13, 14, 15, 16,\n",
       "       17, 18, 19, 20])"
      ]
     },
     "execution_count": 278,
     "metadata": {},
     "output_type": "execute_result"
    }
   ],
   "source": [
    "arr = np.arange(0,21)\n",
    "arr"
   ]
  },
  {
   "cell_type": "markdown",
   "id": "0972dddb-4bb6-4e7f-82f7-97d86ecc69a3",
   "metadata": {},
   "source": [
    "### rand()"
   ]
  },
  {
   "cell_type": "code",
   "execution_count": 161,
   "id": "1823f9ce-7441-4b74-96f7-782a3c5f7af0",
   "metadata": {},
   "outputs": [
    {
     "data": {
      "text/plain": [
       "array([[0.23613387, 0.72751868, 0.77055963, 0.69078394, 0.5145082 ],\n",
       "       [0.17919415, 0.47451314, 0.77930295, 0.38502599, 0.4530629 ],\n",
       "       [0.44788095, 0.32527395, 0.08197322, 0.50073861, 0.34876383],\n",
       "       [0.18396622, 0.9882661 , 0.17184243, 0.94261474, 0.33585771],\n",
       "       [0.71053259, 0.4120489 , 0.02052365, 0.55674561, 0.82523447]])"
      ]
     },
     "execution_count": 161,
     "metadata": {},
     "output_type": "execute_result"
    }
   ],
   "source": [
    "n=random.rand(5,5)\n",
    "n"
   ]
  },
  {
   "cell_type": "markdown",
   "id": "96c95c9d-1f38-413c-954f-6086a6ae6bab",
   "metadata": {},
   "source": [
    "### Randint()"
   ]
  },
  {
   "cell_type": "code",
   "execution_count": 163,
   "id": "efea93ac-74d1-4a01-9cae-4693f1eb3f85",
   "metadata": {},
   "outputs": [
    {
     "name": "stdout",
     "output_type": "stream",
     "text": [
      "Random number = 1\n"
     ]
    }
   ],
   "source": [
    "\n",
    "\n",
    "# get random  number from 0 to 5\n",
    "n=random.randint(5)\n",
    "\n",
    "print(\"Random number =\",n)"
   ]
  },
  {
   "cell_type": "code",
   "execution_count": 164,
   "id": "92c0e16d-d565-48a0-bced-845e1981294a",
   "metadata": {},
   "outputs": [
    {
     "data": {
      "text/plain": [
       "array([[3, 4, 9],\n",
       "       [2, 4, 6],\n",
       "       [6, 5, 2]])"
      ]
     },
     "execution_count": 164,
     "metadata": {},
     "output_type": "execute_result"
    }
   ],
   "source": [
    "n=random.randint(1,10,size=(3,3))\n",
    "n"
   ]
  },
  {
   "cell_type": "markdown",
   "id": "128fed8c-fc91-4ebe-808b-3b1cb54aa792",
   "metadata": {},
   "source": [
    "#### Random number  with fix size using size attribute"
   ]
  },
  {
   "cell_type": "code",
   "execution_count": 166,
   "id": "fb28c30f-70e5-43ad-8dff-a4c419056e92",
   "metadata": {},
   "outputs": [
    {
     "name": "stdout",
     "output_type": "stream",
     "text": [
      "Random number = [1 4 6]\n"
     ]
    }
   ],
   "source": [
    "# Get 3 random numbers as array elements from 0 to 10\n",
    "n=random.randint(10,size=(3))\n",
    "\n",
    "print(\"Random number =\",n)"
   ]
  },
  {
   "cell_type": "markdown",
   "id": "f930a2a4-5065-4396-b791-0802e087b268",
   "metadata": {},
   "source": [
    "#### Choice()"
   ]
  },
  {
   "cell_type": "code",
   "execution_count": 168,
   "id": "81b70f1a-07a6-4841-a85d-691b33ced4d9",
   "metadata": {},
   "outputs": [
    {
     "name": "stdout",
     "output_type": "stream",
     "text": [
      "Random number = 9\n"
     ]
    }
   ],
   "source": [
    "n=random.choice([1,2,3,4,5,6,7,8,9,10])\n",
    "\n",
    "print(\"Random number =\",n)"
   ]
  },
  {
   "cell_type": "markdown",
   "id": "4f638415-6f8a-4cb7-936e-4056548a3768",
   "metadata": {},
   "source": [
    "## identity()"
   ]
  },
  {
   "cell_type": "code",
   "execution_count": 170,
   "id": "7890e10b-d6f8-42a4-93ca-73fa1291b67b",
   "metadata": {},
   "outputs": [
    {
     "data": {
      "text/plain": [
       "array([[1., 0., 0., 0.],\n",
       "       [0., 1., 0., 0.],\n",
       "       [0., 0., 1., 0.],\n",
       "       [0., 0., 0., 1.]])"
      ]
     },
     "execution_count": 170,
     "metadata": {},
     "output_type": "execute_result"
    }
   ],
   "source": [
    "i=np.identity(4)\n",
    "i"
   ]
  },
  {
   "cell_type": "markdown",
   "id": "8e985d2e-a7e9-45ce-826b-f2387e6420b3",
   "metadata": {},
   "source": [
    "## Numpy using logs "
   ]
  },
  {
   "cell_type": "markdown",
   "id": "3e03111e-23a7-4152-8932-833c5c8818bd",
   "metadata": {},
   "source": [
    "### log2()"
   ]
  },
  {
   "cell_type": "code",
   "execution_count": 173,
   "id": "09c9dd3a-616f-4c4a-982b-79b4c2a2023a",
   "metadata": {},
   "outputs": [
    {
     "name": "stdout",
     "output_type": "stream",
     "text": [
      "Array = [1 2 3 4 5]\n",
      "\n",
      " result \n",
      " [0.         1.         1.5849625  2.         2.32192809]\n"
     ]
    }
   ],
   "source": [
    "n=np.array([1,2,3,4,5])\n",
    "print(\"Array =\",n)\n",
    "print(\"\\n result \\n\",np.log2(n))"
   ]
  },
  {
   "cell_type": "markdown",
   "id": "312921c2-d8d4-4b44-a21f-838b40e90d66",
   "metadata": {},
   "source": [
    "### log10"
   ]
  },
  {
   "cell_type": "code",
   "execution_count": 175,
   "id": "3d0e82eb-95f6-4dc2-8f03-6c57675c8420",
   "metadata": {},
   "outputs": [
    {
     "name": "stdout",
     "output_type": "stream",
     "text": [
      "Array = [1 2 3 4 5]\n",
      "\n",
      " result \n",
      " [0.         0.30103    0.47712125 0.60205999 0.69897   ]\n"
     ]
    }
   ],
   "source": [
    "n=np.array([1,2,3,4,5])\n",
    "print(\"Array =\",n)\n",
    "print(\"\\n result \\n\",np.log10(n))"
   ]
  },
  {
   "cell_type": "code",
   "execution_count": null,
   "id": "51c25a24-e32c-4ceb-abd9-7ce5ce0af671",
   "metadata": {},
   "outputs": [],
   "source": []
  },
  {
   "cell_type": "markdown",
   "id": "76eb9d34-4e59-45a5-8251-1287ca6b761c",
   "metadata": {},
   "source": [
    "### LCM in numpy"
   ]
  },
  {
   "cell_type": "code",
   "execution_count": 177,
   "id": "0ef10436-b074-40cc-a817-a7d842ba51c7",
   "metadata": {},
   "outputs": [
    {
     "name": "stdout",
     "output_type": "stream",
     "text": [
      "LCM of two numbers = 12\n"
     ]
    }
   ],
   "source": [
    "a=3\n",
    "b=12\n",
    "\n",
    "res=np.lcm(a,b)\n",
    "print(\"LCM of two numbers =\",res)"
   ]
  },
  {
   "cell_type": "markdown",
   "id": "64a288a3-4c4f-43c1-b02c-e5d3ca841e85",
   "metadata": {},
   "source": [
    "### GCD in Numpy"
   ]
  },
  {
   "cell_type": "code",
   "execution_count": 179,
   "id": "620c652a-72cf-49cc-951d-9d74c5cc0121",
   "metadata": {},
   "outputs": [
    {
     "name": "stdout",
     "output_type": "stream",
     "text": [
      "LCM of two numbers = 1\n"
     ]
    }
   ],
   "source": [
    "a=3\n",
    "b=2\n",
    "\n",
    "res=np.gcd(a,b)\n",
    "print(\"LCM of two numbers =\",res)"
   ]
  },
  {
   "cell_type": "code",
   "execution_count": null,
   "id": "00c67399-51ea-4d2e-a84b-c8f75dc62813",
   "metadata": {},
   "outputs": [],
   "source": [
    "## Copy"
   ]
  },
  {
   "cell_type": "code",
   "execution_count": 281,
   "id": "e663659e-8e38-4bca-9f1e-199c8a59cfff",
   "metadata": {},
   "outputs": [
    {
     "data": {
      "text/plain": [
       "array([ 0,  1,  2,  3,  4,  5,  6,  7,  8,  9, 10, 11, 12, 13, 14, 15, 16,\n",
       "       17, 18, 19, 20])"
      ]
     },
     "execution_count": 281,
     "metadata": {},
     "output_type": "execute_result"
    }
   ],
   "source": [
    "c = np.copy(arr)\n",
    "c"
   ]
  },
  {
   "cell_type": "code",
   "execution_count": null,
   "id": "908cd0b7-37a2-4bc7-976b-2c6dd1339cb9",
   "metadata": {},
   "outputs": [],
   "source": [
    "## Delete"
   ]
  },
  {
   "cell_type": "code",
   "execution_count": 284,
   "id": "6b3f41e0-3d2c-4df9-85d3-9b5126525e58",
   "metadata": {},
   "outputs": [
    {
     "data": {
      "text/plain": [
       "array([ 1,  4,  5,  6,  7,  8,  9, 11, 12, 13, 14, 15, 16, 17, 18, 19, 20])"
      ]
     },
     "execution_count": 284,
     "metadata": {},
     "output_type": "execute_result"
    }
   ],
   "source": [
    "np.delete(c, [0,3,2,10])"
   ]
  },
  {
   "cell_type": "code",
   "execution_count": null,
   "id": "24530556-05b1-4edc-b0cb-86733267f6dc",
   "metadata": {},
   "outputs": [],
   "source": [
    "## Append"
   ]
  },
  {
   "cell_type": "code",
   "execution_count": 287,
   "id": "2f909054-5e31-4a2e-888a-b287fabdcf1f",
   "metadata": {},
   "outputs": [
    {
     "data": {
      "text/plain": [
       "array([ 0,  1,  2,  3,  4,  5,  6,  7,  8,  9, 10, 11, 12, 13, 14, 15, 16,\n",
       "       17, 18, 19, 20,  0,  3,  2, 10])"
      ]
     },
     "execution_count": 287,
     "metadata": {},
     "output_type": "execute_result"
    }
   ],
   "source": [
    "np.append(c, [0,3,2,10])"
   ]
  },
  {
   "cell_type": "markdown",
   "id": "569f7982-9e9c-443a-a4f8-9118d0cc314c",
   "metadata": {},
   "source": []
  }
 ],
 "metadata": {
  "kernelspec": {
   "display_name": "Python 3 (ipykernel)",
   "language": "python",
   "name": "python3"
  },
  "language_info": {
   "codemirror_mode": {
    "name": "ipython",
    "version": 3
   },
   "file_extension": ".py",
   "mimetype": "text/x-python",
   "name": "python",
   "nbconvert_exporter": "python",
   "pygments_lexer": "ipython3",
   "version": "3.11.7"
  }
 },
 "nbformat": 4,
 "nbformat_minor": 5
}
