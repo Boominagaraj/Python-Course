{
 "cells": [
  {
   "cell_type": "code",
   "execution_count": 2,
   "id": "6202c7fa-dcca-4188-b7a0-205b2ad99d9b",
   "metadata": {},
   "outputs": [],
   "source": [
    "import numpy as np"
   ]
  },
  {
   "cell_type": "code",
   "execution_count": 3,
   "id": "a6928ca4-ea8e-4a16-9aaf-5154617d3b48",
   "metadata": {},
   "outputs": [
    {
     "data": {
      "text/plain": [
       "array([[1, 2, 3, 4],\n",
       "       [5, 6, 7, 8],\n",
       "       [9, 1, 2, 3]])"
      ]
     },
     "execution_count": 3,
     "metadata": {},
     "output_type": "execute_result"
    }
   ],
   "source": [
    "#Creating Numby \n",
    "arr=np.array([[1,2,3,4],[5,6,7,8],[9,1,2,3]])\n",
    "arr"
   ]
  },
  {
   "cell_type": "code",
   "execution_count": 4,
   "id": "7746319d-499f-4532-91c0-190dd58fb0bf",
   "metadata": {},
   "outputs": [
    {
     "name": "stdout",
     "output_type": "stream",
     "text": [
      "<class 'numpy.ndarray'>\n"
     ]
    }
   ],
   "source": [
    "#type present in numby\n",
    "\n",
    "print(type(arr))"
   ]
  },
  {
   "cell_type": "code",
   "execution_count": 5,
   "id": "d9fee731-2d7f-4e5d-a91b-87f7bbdc6824",
   "metadata": {},
   "outputs": [
    {
     "name": "stdout",
     "output_type": "stream",
     "text": [
      "[10 20]\n",
      "[10 20]\n",
      "[30 40]\n"
     ]
    }
   ],
   "source": [
    "#Slicing Numby\n",
    "arr=np.array([10,20,30,40])\n",
    "print(arr[0:2])#Startig Value\n",
    "print(arr[:2])#Another format\n",
    "print(arr[2:])#Endind value"
   ]
  },
  {
   "cell_type": "code",
   "execution_count": 6,
   "id": "976d1468-5289-4e81-9dff-c43475e8c747",
   "metadata": {},
   "outputs": [
    {
     "name": "stdout",
     "output_type": "stream",
     "text": [
      "[10 40]\n"
     ]
    }
   ],
   "source": [
    "print(arr[::3])"
   ]
  },
  {
   "cell_type": "code",
   "execution_count": 7,
   "id": "54c72275-d402-45f5-b02d-7bfe971e7a0e",
   "metadata": {},
   "outputs": [
    {
     "name": "stdout",
     "output_type": "stream",
     "text": [
      "[40 30 20 10]\n"
     ]
    }
   ],
   "source": [
    "#Resversing Array\n",
    "print(arr[::-1])"
   ]
  },
  {
   "cell_type": "code",
   "execution_count": 8,
   "id": "84779654-ff3b-44e2-b7fa-33673cf398b0",
   "metadata": {},
   "outputs": [
    {
     "name": "stdout",
     "output_type": "stream",
     "text": [
      "[[60 70]]\n"
     ]
    }
   ],
   "source": [
    "#To find list inside list\n",
    "arr=np.array([[10,20,30,40],[50,60,70,80]])\n",
    "print(arr[1:3,1:3])"
   ]
  },
  {
   "cell_type": "code",
   "execution_count": 9,
   "id": "1f49681e-ea59-4038-9de3-3046acf631a0",
   "metadata": {},
   "outputs": [
    {
     "data": {
      "text/plain": [
       "array([10, 20])"
      ]
     },
     "execution_count": 9,
     "metadata": {},
     "output_type": "execute_result"
    }
   ],
   "source": [
    "arr[0,0:2]"
   ]
  },
  {
   "cell_type": "code",
   "execution_count": 10,
   "id": "346bf6a0-f76c-4875-b814-1e6999fd1d77",
   "metadata": {},
   "outputs": [
    {
     "data": {
      "text/plain": [
       "array([50, 60])"
      ]
     },
     "execution_count": 10,
     "metadata": {},
     "output_type": "execute_result"
    }
   ],
   "source": [
    "arr[1,0:2]"
   ]
  },
  {
   "cell_type": "code",
   "execution_count": 11,
   "id": "36c5ef1f-ca31-49e5-9dfd-5f1d7774f156",
   "metadata": {},
   "outputs": [
    {
     "data": {
      "text/plain": [
       "(2, 4)"
      ]
     },
     "execution_count": 11,
     "metadata": {},
     "output_type": "execute_result"
    }
   ],
   "source": [
    "#Shape of array\n",
    "np.shape(arr)"
   ]
  },
  {
   "cell_type": "code",
   "execution_count": 12,
   "id": "cec844cf-0f16-47fb-a32c-0b6f156fc852",
   "metadata": {},
   "outputs": [
    {
     "data": {
      "text/plain": [
       "8"
      ]
     },
     "execution_count": 12,
     "metadata": {},
     "output_type": "execute_result"
    }
   ],
   "source": [
    "np.size(arr)"
   ]
  },
  {
   "cell_type": "code",
   "execution_count": 13,
   "id": "80fe3173-c410-4f94-be01-a5ed4b52a605",
   "metadata": {},
   "outputs": [
    {
     "data": {
      "text/plain": [
       "2"
      ]
     },
     "execution_count": 13,
     "metadata": {},
     "output_type": "execute_result"
    }
   ],
   "source": [
    "#Dimension of Array\n",
    "np.ndim(arr)"
   ]
  },
  {
   "cell_type": "code",
   "execution_count": 14,
   "id": "fd5f2cfc-94cf-4ea1-bdb3-189a41231aa2",
   "metadata": {},
   "outputs": [
    {
     "data": {
      "text/plain": [
       "dtype('int32')"
      ]
     },
     "execution_count": 14,
     "metadata": {},
     "output_type": "execute_result"
    }
   ],
   "source": [
    "#Datatype of array\n",
    "arr.dtype"
   ]
  },
  {
   "cell_type": "code",
   "execution_count": 15,
   "id": "3b3b24bc-9804-4193-9244-2ffeddeedb85",
   "metadata": {},
   "outputs": [
    {
     "data": {
      "text/plain": [
       "array([1, 3, 5])"
      ]
     },
     "execution_count": 15,
     "metadata": {},
     "output_type": "execute_result"
    }
   ],
   "source": [
    "#Numby Function\n",
    "#arange() method -Syntax:-arange([start],[stop],[step],[dtype])\n",
    "arr=np.arange(1,6,2,dtype=int)\n",
    "arr"
   ]
  },
  {
   "cell_type": "code",
   "execution_count": 16,
   "id": "4a8915e2-bd85-4436-8671-d0727cefa389",
   "metadata": {},
   "outputs": [
    {
     "name": "stdout",
     "output_type": "stream",
     "text": [
      "[[0 0 0]\n",
      " [0 0 0]\n",
      " [0 0 0]]\n"
     ]
    }
   ],
   "source": [
    "#zeros() method -returns a new array of given shape and type,with zeros\n",
    "print(np.zeros((3,3),dtype=int))"
   ]
  },
  {
   "cell_type": "code",
   "execution_count": 17,
   "id": "941dfcd9-3915-405c-bbb3-f533ad3d01b6",
   "metadata": {},
   "outputs": [
    {
     "name": "stdout",
     "output_type": "stream",
     "text": [
      "[[1 1 1]\n",
      " [1 1 1]\n",
      " [1 1 1]]\n"
     ]
    }
   ],
   "source": [
    "#ones() method -reeturns a new array of given shape and type,with ones\n",
    "print(np.ones((3,3),dtype=int))"
   ]
  },
  {
   "cell_type": "code",
   "execution_count": 18,
   "id": "2d285716-886e-42af-8167-f43ca6cb1049",
   "metadata": {},
   "outputs": [
    {
     "name": "stdout",
     "output_type": "stream",
     "text": [
      "[[8 8 8]\n",
      " [8 8 8]]\n"
     ]
    }
   ],
   "source": [
    "#full() method - Syntax numpy.full(shape,fill_value,dtype)\n",
    "print(np.full((2,3),8,dtype=int))"
   ]
  },
  {
   "cell_type": "code",
   "execution_count": 19,
   "id": "b8140dea-8d91-4d2f-894a-e36b7a4a223d",
   "metadata": {},
   "outputs": [
    {
     "name": "stdout",
     "output_type": "stream",
     "text": [
      "[[0 1 2]\n",
      " [3 4 5]\n",
      " [6 7 8]]\n"
     ]
    }
   ],
   "source": [
    "print(np.arange(9).reshape(3,-1))"
   ]
  },
  {
   "cell_type": "code",
   "execution_count": 20,
   "id": "cad37091-489a-4563-9c28-8f084d860987",
   "metadata": {},
   "outputs": [
    {
     "data": {
      "text/plain": [
       "array([[3, 2],\n",
       "       [3, 2],\n",
       "       [3, 2],\n",
       "       [3, 2],\n",
       "       [3, 2]])"
      ]
     },
     "execution_count": 20,
     "metadata": {},
     "output_type": "execute_result"
    }
   ],
   "source": [
    "#Repeat ()-Repeat the elements of the arrary\n",
    "#arr=np.repeat(3,5,axis=0)\n",
    "arr=np.repeat([[3,2]],5,axis=0)#Vertical axis=0\n",
    "arr"
   ]
  },
  {
   "cell_type": "code",
   "execution_count": 21,
   "id": "a24a88d0-6e98-4728-806f-99254870528b",
   "metadata": {},
   "outputs": [
    {
     "data": {
      "text/plain": [
       "array([[3, 3, 3, 3, 3, 2, 2, 2, 2, 2]])"
      ]
     },
     "execution_count": 21,
     "metadata": {},
     "output_type": "execute_result"
    }
   ],
   "source": [
    "arr=np.repeat([[3,2]],5,axis=1)#horizontal axis=1\n",
    "arr"
   ]
  },
  {
   "cell_type": "code",
   "execution_count": 22,
   "id": "6e8079a9-f603-4c40-97d1-a3d992e07433",
   "metadata": {},
   "outputs": [
    {
     "data": {
      "text/plain": [
       "array([1, 2, 3, 4, 5, 6, 7, 8])"
      ]
     },
     "execution_count": 22,
     "metadata": {},
     "output_type": "execute_result"
    }
   ],
   "source": [
    "#Concatenate() method-single dimension\n",
    "arr=np.array([1,2,3,4])\n",
    "arr1=np.array([5,6,7,8])\n",
    "c=np.concatenate([arr,arr1])\n",
    "c"
   ]
  },
  {
   "cell_type": "code",
   "execution_count": 28,
   "id": "39316071-1e19-4329-8ab8-291c948b37a3",
   "metadata": {},
   "outputs": [
    {
     "data": {
      "text/plain": [
       "array([[1, 2, 3, 4],\n",
       "       [1, 2, 3, 4],\n",
       "       [5, 6, 7, 8],\n",
       "       [5, 6, 7, 8]])"
      ]
     },
     "execution_count": 28,
     "metadata": {},
     "output_type": "execute_result"
    }
   ],
   "source": [
    "#Concatenate() method-Multi dimension\n",
    "arr=np.array([[1,2,3,4],[1,2,3,4]])\n",
    "arr1=np.array([[5,6,7,8],[5,6,7,8]])\n",
    "c=np.concatenate([arr,arr1],axis=0)#-vertical axis\n",
    "#c=np.concatenate([arr,arr1],axis=1)#-horizontal axis\n",
    "c"
   ]
  },
  {
   "cell_type": "code",
   "execution_count": 26,
   "id": "59a41dd4-17ac-4095-8e5a-3a215ae25d27",
   "metadata": {},
   "outputs": [
    {
     "data": {
      "text/plain": [
       "array([[1, 2, 3, 4],\n",
       "       [1, 2, 3, 4],\n",
       "       [5, 6, 7, 8],\n",
       "       [5, 6, 7, 8]])"
      ]
     },
     "execution_count": 26,
     "metadata": {},
     "output_type": "execute_result"
    }
   ],
   "source": [
    "#VStack method is used to stack the sequence of vertical axis \n",
    "v=np.vstack([arr,arr1])\n",
    "v"
   ]
  },
  {
   "cell_type": "code",
   "execution_count": 29,
   "id": "9c91383a-2a0f-40de-ad05-b890d7d515c9",
   "metadata": {},
   "outputs": [
    {
     "data": {
      "text/plain": [
       "array([[1, 2, 3, 4],\n",
       "       [1, 2, 3, 4],\n",
       "       [5, 6, 7, 8],\n",
       "       [5, 6, 7, 8]])"
      ]
     },
     "execution_count": 29,
     "metadata": {},
     "output_type": "execute_result"
    }
   ],
   "source": [
    "#r_Statement is  translates slice objects to concatenation along the first axis\n",
    "r=np.r_[arr,arr1]\n",
    "r"
   ]
  },
  {
   "cell_type": "code",
   "execution_count": 30,
   "id": "385e550b-34de-4dff-b15d-e7a20d4065b7",
   "metadata": {},
   "outputs": [
    {
     "data": {
      "text/plain": [
       "array([[1, 2, 3, 4, 5, 6, 7, 8],\n",
       "       [1, 2, 3, 4, 5, 6, 7, 8]])"
      ]
     },
     "execution_count": 30,
     "metadata": {},
     "output_type": "execute_result"
    }
   ],
   "source": [
    "#hstack is used to stack the sequence of input arrays horizontally to make a single array\n",
    "h=np.hstack([arr,arr1])\n",
    "h"
   ]
  },
  {
   "cell_type": "code",
   "execution_count": 35,
   "id": "7a335d06-fdbf-4175-a956-a9567299e3a3",
   "metadata": {},
   "outputs": [
    {
     "data": {
      "text/plain": [
       "array([[ 1,  4, 27, 16],\n",
       "       [ 1,  4, 27, 16]])"
      ]
     },
     "execution_count": 35,
     "metadata": {},
     "output_type": "execute_result"
    }
   ],
   "source": [
    "#power() method it is used to  get one array containing elements of the first array \n",
    "#raised to the power element of the second array\n",
    "arr=np.array([[1,2,3,4],[1,2,3,4]])\n",
    "p=np.power(arr,[2,2,3,2])\n",
    "p"
   ]
  },
  {
   "cell_type": "code",
   "execution_count": 42,
   "id": "7c2beb2b-7a5e-4b95-b8e7-762c984d363d",
   "metadata": {},
   "outputs": [
    {
     "data": {
      "text/plain": [
       "array([[4, 4, 4, 4]])"
      ]
     },
     "execution_count": 42,
     "metadata": {},
     "output_type": "execute_result"
    }
   ],
   "source": [
    "#diff() methosd is used when we calculate the nth order discrete \n",
    "#difference along the given axis\n",
    "arr=np.array([1,2,3,4])\n",
    "arr1=np.array([5,6,7,8])\n",
    "#d=np.diff(arr)\n",
    "d=np.diff((arr,arr1),axis=0)\n",
    "d"
   ]
  },
  {
   "cell_type": "code",
   "execution_count": 41,
   "id": "75c6994c-d6b1-46c1-baf1-6e30ab0e3fd7",
   "metadata": {},
   "outputs": [
    {
     "data": {
      "text/plain": [
       "array([-4,  8, -4])"
      ]
     },
     "execution_count": 41,
     "metadata": {},
     "output_type": "execute_result"
    }
   ],
   "source": [
    "#Cross it returns the cross product of two vectors\n",
    "arr=np.array([1,2,3])\n",
    "arr1=np.array([5,6,7])\n",
    "c=np.cross(arr,arr1)\n",
    "c"
   ]
  },
  {
   "cell_type": "code",
   "execution_count": 50,
   "id": "6344cb3d-6ff8-4621-aa5f-319edf2b747f",
   "metadata": {},
   "outputs": [
    {
     "data": {
      "text/plain": [
       "array([[1, 3, 8, 9],\n",
       "       [2, 4, 5, 6]])"
      ]
     },
     "execution_count": 50,
     "metadata": {},
     "output_type": "execute_result"
    }
   ],
   "source": [
    "#sort this method returns the sorted copy of an array\n",
    "arr=np.array([1,3,8,9])\n",
    "arr1=np.array([5,2,4,6])\n",
    "#s=np.sort((arr,arr1),axis=0)\n",
    "s=np.sort((arr,arr1),axis=1)\n",
    "s"
   ]
  },
  {
   "cell_type": "code",
   "execution_count": null,
   "id": "5e56cb88-1d53-49f6-95bd-87001c7de2d4",
   "metadata": {},
   "outputs": [],
   "source": [
    "#Flatten is used to flatten a matrix to one dimension in python\n"
   ]
  },
  {
   "cell_type": "code",
   "execution_count": null,
   "id": "c234b294-507b-4d27-9254-cb2c8f6df392",
   "metadata": {},
   "outputs": [],
   "source": []
  },
  {
   "cell_type": "code",
   "execution_count": null,
   "id": "9d98c204-92a9-4c13-b2b7-8da43291d73e",
   "metadata": {},
   "outputs": [],
   "source": []
  }
 ],
 "metadata": {
  "kernelspec": {
   "display_name": "Python 3 (ipykernel)",
   "language": "python",
   "name": "python3"
  },
  "language_info": {
   "codemirror_mode": {
    "name": "ipython",
    "version": 3
   },
   "file_extension": ".py",
   "mimetype": "text/x-python",
   "name": "python",
   "nbconvert_exporter": "python",
   "pygments_lexer": "ipython3",
   "version": "3.11.7"
  }
 },
 "nbformat": 4,
 "nbformat_minor": 5
}
