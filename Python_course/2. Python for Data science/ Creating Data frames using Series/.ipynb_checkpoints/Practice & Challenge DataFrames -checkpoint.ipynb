{
 "cells": [
  {
   "cell_type": "markdown",
   "id": "b4549338-8ae0-480c-ae8e-4d4745b7d3e5",
   "metadata": {},
   "source": [
    "# Perform Data Manipulation"
   ]
  },
  {
   "cell_type": "code",
   "execution_count": 3,
   "id": "a1f030fc-0731-4881-96ff-59c724d34517",
   "metadata": {},
   "outputs": [
    {
     "data": {
      "text/plain": [
       "1     1001\n",
       "2     1002\n",
       "3     1003\n",
       "4     1004\n",
       "5     1005\n",
       "6     1006\n",
       "7     1007\n",
       "8     1008\n",
       "9     1009\n",
       "10    1010\n",
       "11    1011\n",
       "12    1012\n",
       "13    1013\n",
       "14    1014\n",
       "15    1015\n",
       "16    1016\n",
       "17    1017\n",
       "18    1018\n",
       "19    1019\n",
       "20    1020\n",
       "21    1021\n",
       "22    1022\n",
       "23    1023\n",
       "24    1024\n",
       "25    1025\n",
       "26    1026\n",
       "27    1027\n",
       "28    1028\n",
       "29    1029\n",
       "30    1030\n",
       "31    1031\n",
       "32    1032\n",
       "33    1033\n",
       "34    1034\n",
       "35    1035\n",
       "36    1036\n",
       "37    1037\n",
       "38    1038\n",
       "39    1039\n",
       "40    1040\n",
       "dtype: int32"
      ]
     },
     "execution_count": 3,
     "metadata": {},
     "output_type": "execute_result"
    }
   ],
   "source": [
    "# Task-1\n",
    "import pandas as pd\n",
    "import numpy as np\n",
    "Student_ID=np.arange(1001,1041)\n",
    "reg=pd.Series(Student_ID,index=np.arange(1,41))\n",
    "reg"
   ]
  },
  {
   "cell_type": "code",
   "execution_count": 4,
   "id": "1300579d-bf28-4b8d-95be-0e0ddd459641",
   "metadata": {},
   "outputs": [
    {
     "data": {
      "text/plain": [
       "1001    79\n",
       "1002    50\n",
       "1003    86\n",
       "1004    63\n",
       "1005    68\n",
       "1006    68\n",
       "1007    64\n",
       "1008    57\n",
       "1009    55\n",
       "1010    89\n",
       "1011    87\n",
       "1012    83\n",
       "1013    83\n",
       "1014    86\n",
       "1015    89\n",
       "1016    65\n",
       "1017    55\n",
       "1018    63\n",
       "1019    71\n",
       "1020    70\n",
       "1021    64\n",
       "1022    74\n",
       "1023    57\n",
       "1024    84\n",
       "1025    51\n",
       "1026    78\n",
       "1027    59\n",
       "1028    84\n",
       "1029    50\n",
       "1030    84\n",
       "1031    63\n",
       "1032    74\n",
       "1033    64\n",
       "1034    87\n",
       "1035    91\n",
       "1036    85\n",
       "1037    72\n",
       "1038    54\n",
       "1039    65\n",
       "1040    69\n",
       "Name: Mathematics marks, dtype: int32"
      ]
     },
     "execution_count": 4,
     "metadata": {},
     "output_type": "execute_result"
    }
   ],
   "source": [
    "#Task-2\n",
    "Math_marks=np.random.randint(50,95,size=40)\n",
    "math_level1=pd.Series(Math_marks,index=Student_ID,name=\"Mathematics marks\")\n",
    "math_level1"
   ]
  },
  {
   "cell_type": "code",
   "execution_count": 5,
   "id": "aa742ff5-fa4b-4cfa-aae6-91b374184bbb",
   "metadata": {},
   "outputs": [
    {
     "data": {
      "text/plain": [
       "1001    75\n",
       "1002    50\n",
       "1003    75\n",
       "1004    48\n",
       "1005    78\n",
       "1006    66\n",
       "1007    66\n",
       "1008    90\n",
       "1009    78\n",
       "1010    50\n",
       "1011    54\n",
       "1012    82\n",
       "1013    84\n",
       "1014    84\n",
       "1015    47\n",
       "1016    68\n",
       "1017    57\n",
       "1018    84\n",
       "1019    59\n",
       "1020    54\n",
       "1021    69\n",
       "1022    67\n",
       "1023    79\n",
       "1024    86\n",
       "1025    84\n",
       "1026    45\n",
       "1027    51\n",
       "1028    94\n",
       "1029    80\n",
       "1030    75\n",
       "1031    81\n",
       "1032    82\n",
       "1033    53\n",
       "1034    49\n",
       "1035    57\n",
       "1036    70\n",
       "1037    57\n",
       "1038    52\n",
       "1039    87\n",
       "1040    94\n",
       "Name: Physics marks, dtype: int32"
      ]
     },
     "execution_count": 5,
     "metadata": {},
     "output_type": "execute_result"
    }
   ],
   "source": [
    "Physics_marks=np.random.randint(40,95,size=40)\n",
    "phi_level1=pd.Series(Physics_marks,index=Student_ID,name=\"Physics marks\")\n",
    "phi_level1"
   ]
  },
  {
   "cell_type": "code",
   "execution_count": 6,
   "id": "48322108-52b6-48c9-b6b6-fe3072d146c9",
   "metadata": {},
   "outputs": [
    {
     "data": {
      "text/plain": [
       "1001    154\n",
       "1003    161\n",
       "1012    165\n",
       "1013    167\n",
       "1014    170\n",
       "1024    170\n",
       "1028    178\n",
       "1030    159\n",
       "1032    156\n",
       "1036    155\n",
       "1039    152\n",
       "1040    163\n",
       "dtype: int32"
      ]
     },
     "execution_count": 6,
     "metadata": {},
     "output_type": "execute_result"
    }
   ],
   "source": [
    "#task-4\n",
    "total = pd.Series(math_level1+phi_level1)\n",
    "eligibility=total[total>=150]\n",
    "eligibility"
   ]
  },
  {
   "cell_type": "code",
   "execution_count": 7,
   "id": "4ed934fa-5167-41da-923f-c07df721e863",
   "metadata": {},
   "outputs": [
    {
     "data": {
      "text/plain": [
       "1001    244\n",
       "1003    270\n",
       "1012    270\n",
       "1013    301\n",
       "1014    292\n",
       "1024    277\n",
       "1028    284\n",
       "1030    334\n",
       "1032    291\n",
       "1036    303\n",
       "1039    276\n",
       "1040    304\n",
       "Name: Level-2 Total Marks, dtype: int32"
      ]
     },
     "execution_count": 7,
     "metadata": {},
     "output_type": "execute_result"
    }
   ],
   "source": [
    "maths_sec=np.random.randint(50,100,size=len(eligibility))\n",
    "phi_sec=np.random.randint(30,100,size=len(eligibility))\n",
    "math1=pd.Series(maths_sec,index=eligibility.index,name=\"Maths second test\")\n",
    "phisics1=pd.Series(phi_sec,index=eligibility.index,name=\"Phisics Second test\")\n",
    "level2=pd.Series(eligibility+math1+phisics1,index=eligibility.index,name=\"Level-2 Total Marks\")\n",
    "level2"
   ]
  },
  {
   "cell_type": "code",
   "execution_count": 8,
   "id": "09fc7f08-4be4-406c-9cae-5b5f3300b50b",
   "metadata": {},
   "outputs": [
    {
     "data": {
      "text/plain": [
       "1013    301\n",
       "1030    334\n",
       "1036    303\n",
       "1040    304\n",
       "Name: Level-2 Total Marks, dtype: int32"
      ]
     },
     "execution_count": 8,
     "metadata": {},
     "output_type": "execute_result"
    }
   ],
   "source": [
    "# Task -6\n",
    "eligibility1=pd.Series((level2[level2>=300]),name=\"Level-2 Total Marks\")\n",
    "eligibility1"
   ]
  },
  {
   "cell_type": "code",
   "execution_count": 9,
   "id": "d6c40bd4-7538-4946-8ffe-cc504e70a6b4",
   "metadata": {},
   "outputs": [
    {
     "data": {
      "text/plain": [
       "1013    188.8\n",
       "1030    230.8\n",
       "1036    206.4\n",
       "1040    214.0\n",
       "dtype: float64"
      ]
     },
     "execution_count": 9,
     "metadata": {},
     "output_type": "execute_result"
    }
   ],
   "source": [
    "#Task-7\n",
    "m_sc=np.random.randint(50,100,size=len(eligibility1))\n",
    "p_sc=np.random.randint(40,100,size=len(eligibility1))\n",
    "math_Screen=pd.Series(m_sc,index=eligibility1.index,name=\"Maths screening test\")\n",
    "phisics_Screen=pd.Series(p_sc,index=eligibility1.index,name=\"Phisics Screening test\")\n",
    "total_scr=math_Screen+phisics_Screen\n",
    "final=0.4*level2.loc[eligibility1.index]+0.6*(total_scr)\n",
    "final"
   ]
  },
  {
   "cell_type": "code",
   "execution_count": 10,
   "id": "badbc131-b206-4506-a010-ac07b54ed0ae",
   "metadata": {},
   "outputs": [
    {
     "data": {
      "text/plain": [
       "1013    656.8\n",
       "1030    723.8\n",
       "1036    664.4\n",
       "1040    681.0\n",
       "dtype: float64"
      ]
     },
     "execution_count": 10,
     "metadata": {},
     "output_type": "execute_result"
    }
   ],
   "source": [
    "#Task-8\n",
    "total_Score=total+level2+final\n",
    "cutoff=0.75*total_Score\n",
    "Olympiad_event=total_Score[total_Score>=cutoff]\n",
    "Olympiad_event"
   ]
  },
  {
   "cell_type": "code",
   "execution_count": 11,
   "id": "a74083f7-c21d-4bee-9cf7-1bd91e80abb9",
   "metadata": {},
   "outputs": [
    {
     "name": "stdout",
     "output_type": "stream",
     "text": [
      "   Student ID  Total Score\n",
      "0        1013        656.8\n",
      "1        1030        723.8\n",
      "2        1036        664.4\n",
      "3        1040        681.0\n",
      "Student ID     1030.0\n",
      "Total Score     723.8\n",
      "Name: 1, dtype: float64\n",
      "Student ID     1013.0\n",
      "Total Score     656.8\n",
      "Name: 0, dtype: float64\n"
     ]
    }
   ],
   "source": [
    "#Task-9\n",
    "eligi_data=pd.DataFrame({\"Student ID\":Olympiad_event.index,\"Total Score\":Olympiad_event.values})\n",
    "higest_Score=eligi_data.loc[eligi_data[\"Total Score\"].idxmax()]\n",
    "lowest_Score=eligi_data.loc[eligi_data[\"Total Score\"].idxmin()]\n",
    "print(eligi_data)\n",
    "print(higest_Score)\n",
    "print(lowest_Score)"
   ]
  },
  {
   "cell_type": "markdown",
   "id": "807647c5-4682-46c1-b7d2-c3bc2b76e351",
   "metadata": {},
   "source": [
    "# challenge"
   ]
  },
  {
   "cell_type": "code",
   "execution_count": 12,
   "id": "d7a73de0-d76a-43d8-8574-2377a60a4c3b",
   "metadata": {},
   "outputs": [
    {
     "data": {
      "text/plain": [
       "101    48099\n",
       "102    35797\n",
       "103    45016\n",
       "104    33493\n",
       "105    35206\n",
       "106    36828\n",
       "107    44833\n",
       "108    49988\n",
       "109    32084\n",
       "110    39725\n",
       "111    41957\n",
       "112    42169\n",
       "113    38615\n",
       "114    49498\n",
       "115    35421\n",
       "116    41400\n",
       "117    33513\n",
       "118    39011\n",
       "119    40597\n",
       "120    46341\n",
       "dtype: int32"
      ]
     },
     "execution_count": 12,
     "metadata": {},
     "output_type": "execute_result"
    }
   ],
   "source": [
    "#Task-1\n",
    "import pandas as pd\n",
    "import numpy as np\n",
    "cars=np.arange(101,121)\n",
    "price=np.random.randint(30000,50000,size=20)\n",
    "Showroom=pd.Series(price,index=cars)\n",
    "Showroom"
   ]
  },
  {
   "cell_type": "code",
   "execution_count": 13,
   "id": "80d32713-cc76-431a-99bc-78c507629dcb",
   "metadata": {},
   "outputs": [
    {
     "data": {
      "text/plain": [
       "101    48099\n",
       "103    45016\n",
       "107    44833\n",
       "108    49988\n",
       "111    41957\n",
       "112    42169\n",
       "114    49498\n",
       "116    41400\n",
       "119    40597\n",
       "120    46341\n",
       "dtype: int32"
      ]
     },
     "execution_count": 13,
     "metadata": {},
     "output_type": "execute_result"
    }
   ],
   "source": [
    "#Task-2\n",
    "Car_Dealer=Showroom[Showroom>40000]\n",
    "Car_Dealer"
   ]
  },
  {
   "cell_type": "code",
   "execution_count": 14,
   "id": "4301d006-05b1-482c-9420-5e029f95153b",
   "metadata": {},
   "outputs": [
    {
     "data": {
      "text/plain": [
       "111    41957\n",
       "112    42169\n",
       "113    38615\n",
       "114    49498\n",
       "115    35421\n",
       "116    41400\n",
       "dtype: int32"
      ]
     },
     "execution_count": 14,
     "metadata": {},
     "output_type": "execute_result"
    }
   ],
   "source": [
    "#Task-3\n",
    "Highest_model=np.arange(111,117)\n",
    "Display=pd.Series(Showroom,index=Highest_model)\n",
    "Display"
   ]
  },
  {
   "cell_type": "code",
   "execution_count": 15,
   "id": "012cd18b-2b7a-4105-a3a1-92888e67c8de",
   "metadata": {},
   "outputs": [
    {
     "data": {
      "text/plain": [
       "102    35797\n",
       "104    33493\n",
       "105    35206\n",
       "106    36828\n",
       "109    32084\n",
       "110    39725\n",
       "113    38615\n",
       "115    35421\n",
       "117    33513\n",
       "118    39011\n",
       "dtype: int32"
      ]
     },
     "execution_count": 15,
     "metadata": {},
     "output_type": "execute_result"
    }
   ],
   "source": [
    "#Task-4\n",
    "Count_cars=Showroom[Showroom.between(30000, 40000)]\n",
    "Count_cars"
   ]
  },
  {
   "cell_type": "code",
   "execution_count": 16,
   "id": "2834490d-fcc0-4c95-bc8f-a1f85ed6c24f",
   "metadata": {
    "scrolled": true
   },
   "outputs": [
    {
     "data": {
      "text/plain": [
       "101    48099\n",
       "103    45016\n",
       "107    44833\n",
       "108    49988\n",
       "111    41957\n",
       "112    42169\n",
       "114    49498\n",
       "116    41400\n",
       "119    40597\n",
       "120    46341\n",
       "dtype: int32"
      ]
     },
     "execution_count": 16,
     "metadata": {},
     "output_type": "execute_result"
    }
   ],
   "source": [
    "#Task-5\n",
    "car_avg=Showroom[Showroom>Showroom.mean()]\n",
    "car_avg"
   ]
  },
  {
   "cell_type": "code",
   "execution_count": 17,
   "id": "ae497400-21d7-4132-83c3-5c9cc12df8d6",
   "metadata": {},
   "outputs": [
    {
     "name": "stdout",
     "output_type": "stream",
     "text": [
      "101    48099\n",
      "102    35797\n",
      "103    45016\n",
      "104    33493\n",
      "105    35206\n",
      "106    36828\n",
      "107    44833\n",
      "108    49988\n",
      "109    32084\n",
      "110    39725\n",
      "111    41957\n",
      "112    42169\n",
      "113    38615\n",
      "114    49498\n",
      "115    35421\n",
      "116    41400\n",
      "117    33513\n",
      "118    39011\n",
      "119    40597\n",
      "120    46341\n",
      "201    34000\n",
      "202    45000\n",
      "203    54000\n",
      "dtype: int64\n"
     ]
    }
   ],
   "source": [
    "#Task-6\n",
    "New_car = pd.Series([34000,45000,54000], index = [201,202,203])\n",
    "New_Showroom=pd.concat([Showroom,New_car])\n",
    "print(New_Showroom)"
   ]
  },
  {
   "cell_type": "code",
   "execution_count": 22,
   "id": "9a89dc39-53e0-4858-a378-16830588919e",
   "metadata": {},
   "outputs": [
    {
     "name": "stderr",
     "output_type": "stream",
     "text": [
      "C:\\Users\\boomi\\AppData\\Local\\Temp\\ipykernel_3396\\2831064584.py:3: FutureWarning: Setting an item of incompatible dtype is deprecated and will raise in a future error of pandas. Value '[43289.1 40514.4 40349.7 44989.2 37761.3 37952.1 44548.2 37260.  36537.3\n",
      " 41706.9 40500.  48600. ]' has dtype incompatible with int64, please explicitly cast to a compatible dtype first.\n",
      "  Dis_price[Dis_price>40000]*=0.9\n"
     ]
    },
    {
     "data": {
      "text/html": [
       "<div>\n",
       "<style scoped>\n",
       "    .dataframe tbody tr th:only-of-type {\n",
       "        vertical-align: middle;\n",
       "    }\n",
       "\n",
       "    .dataframe tbody tr th {\n",
       "        vertical-align: top;\n",
       "    }\n",
       "\n",
       "    .dataframe thead th {\n",
       "        text-align: right;\n",
       "    }\n",
       "</style>\n",
       "<table border=\"1\" class=\"dataframe\">\n",
       "  <thead>\n",
       "    <tr style=\"text-align: right;\">\n",
       "      <th></th>\n",
       "      <th>Car ID</th>\n",
       "      <th>Price</th>\n",
       "      <th>Discount</th>\n",
       "    </tr>\n",
       "  </thead>\n",
       "  <tbody>\n",
       "    <tr>\n",
       "      <th>0</th>\n",
       "      <td>101</td>\n",
       "      <td>48099</td>\n",
       "      <td>43289.1</td>\n",
       "    </tr>\n",
       "    <tr>\n",
       "      <th>1</th>\n",
       "      <td>102</td>\n",
       "      <td>35797</td>\n",
       "      <td>35797.0</td>\n",
       "    </tr>\n",
       "    <tr>\n",
       "      <th>2</th>\n",
       "      <td>103</td>\n",
       "      <td>45016</td>\n",
       "      <td>40514.4</td>\n",
       "    </tr>\n",
       "    <tr>\n",
       "      <th>3</th>\n",
       "      <td>104</td>\n",
       "      <td>33493</td>\n",
       "      <td>33493.0</td>\n",
       "    </tr>\n",
       "    <tr>\n",
       "      <th>4</th>\n",
       "      <td>105</td>\n",
       "      <td>35206</td>\n",
       "      <td>35206.0</td>\n",
       "    </tr>\n",
       "    <tr>\n",
       "      <th>5</th>\n",
       "      <td>106</td>\n",
       "      <td>36828</td>\n",
       "      <td>36828.0</td>\n",
       "    </tr>\n",
       "    <tr>\n",
       "      <th>6</th>\n",
       "      <td>107</td>\n",
       "      <td>44833</td>\n",
       "      <td>40349.7</td>\n",
       "    </tr>\n",
       "    <tr>\n",
       "      <th>7</th>\n",
       "      <td>108</td>\n",
       "      <td>49988</td>\n",
       "      <td>44989.2</td>\n",
       "    </tr>\n",
       "    <tr>\n",
       "      <th>8</th>\n",
       "      <td>109</td>\n",
       "      <td>32084</td>\n",
       "      <td>32084.0</td>\n",
       "    </tr>\n",
       "    <tr>\n",
       "      <th>9</th>\n",
       "      <td>110</td>\n",
       "      <td>39725</td>\n",
       "      <td>39725.0</td>\n",
       "    </tr>\n",
       "    <tr>\n",
       "      <th>10</th>\n",
       "      <td>111</td>\n",
       "      <td>41957</td>\n",
       "      <td>37761.3</td>\n",
       "    </tr>\n",
       "    <tr>\n",
       "      <th>11</th>\n",
       "      <td>112</td>\n",
       "      <td>42169</td>\n",
       "      <td>37952.1</td>\n",
       "    </tr>\n",
       "    <tr>\n",
       "      <th>12</th>\n",
       "      <td>113</td>\n",
       "      <td>38615</td>\n",
       "      <td>38615.0</td>\n",
       "    </tr>\n",
       "    <tr>\n",
       "      <th>13</th>\n",
       "      <td>114</td>\n",
       "      <td>49498</td>\n",
       "      <td>44548.2</td>\n",
       "    </tr>\n",
       "    <tr>\n",
       "      <th>14</th>\n",
       "      <td>115</td>\n",
       "      <td>35421</td>\n",
       "      <td>35421.0</td>\n",
       "    </tr>\n",
       "    <tr>\n",
       "      <th>15</th>\n",
       "      <td>116</td>\n",
       "      <td>41400</td>\n",
       "      <td>37260.0</td>\n",
       "    </tr>\n",
       "    <tr>\n",
       "      <th>16</th>\n",
       "      <td>117</td>\n",
       "      <td>33513</td>\n",
       "      <td>33513.0</td>\n",
       "    </tr>\n",
       "    <tr>\n",
       "      <th>17</th>\n",
       "      <td>118</td>\n",
       "      <td>39011</td>\n",
       "      <td>39011.0</td>\n",
       "    </tr>\n",
       "    <tr>\n",
       "      <th>18</th>\n",
       "      <td>119</td>\n",
       "      <td>40597</td>\n",
       "      <td>36537.3</td>\n",
       "    </tr>\n",
       "    <tr>\n",
       "      <th>19</th>\n",
       "      <td>120</td>\n",
       "      <td>46341</td>\n",
       "      <td>41706.9</td>\n",
       "    </tr>\n",
       "    <tr>\n",
       "      <th>20</th>\n",
       "      <td>201</td>\n",
       "      <td>34000</td>\n",
       "      <td>34000.0</td>\n",
       "    </tr>\n",
       "    <tr>\n",
       "      <th>21</th>\n",
       "      <td>202</td>\n",
       "      <td>45000</td>\n",
       "      <td>40500.0</td>\n",
       "    </tr>\n",
       "    <tr>\n",
       "      <th>22</th>\n",
       "      <td>203</td>\n",
       "      <td>54000</td>\n",
       "      <td>48600.0</td>\n",
       "    </tr>\n",
       "  </tbody>\n",
       "</table>\n",
       "</div>"
      ],
      "text/plain": [
       "    Car ID  Price  Discount\n",
       "0      101  48099   43289.1\n",
       "1      102  35797   35797.0\n",
       "2      103  45016   40514.4\n",
       "3      104  33493   33493.0\n",
       "4      105  35206   35206.0\n",
       "5      106  36828   36828.0\n",
       "6      107  44833   40349.7\n",
       "7      108  49988   44989.2\n",
       "8      109  32084   32084.0\n",
       "9      110  39725   39725.0\n",
       "10     111  41957   37761.3\n",
       "11     112  42169   37952.1\n",
       "12     113  38615   38615.0\n",
       "13     114  49498   44548.2\n",
       "14     115  35421   35421.0\n",
       "15     116  41400   37260.0\n",
       "16     117  33513   33513.0\n",
       "17     118  39011   39011.0\n",
       "18     119  40597   36537.3\n",
       "19     120  46341   41706.9\n",
       "20     201  34000   34000.0\n",
       "21     202  45000   40500.0\n",
       "22     203  54000   48600.0"
      ]
     },
     "execution_count": 22,
     "metadata": {},
     "output_type": "execute_result"
    }
   ],
   "source": [
    "#Task-7\n",
    "Dis_price=New_Showroom.copy()\n",
    "Dis_price[Dis_price>40000]*=0.9\n",
    "Company=pd.DataFrame({\"Car ID\":New_Showroom.index,\"Price\":New_Showroom.values,\"Discount\":Dis_price.values})\n",
    "Company"
   ]
  },
  {
   "cell_type": "code",
   "execution_count": 24,
   "id": "846dfb4d-b054-49d3-9d75-39e0e09b00f8",
   "metadata": {},
   "outputs": [
    {
     "name": "stdout",
     "output_type": "stream",
     "text": [
      "no of cars 30000 to 40000  11\n",
      "no of cars 30000 to 40000  15\n"
     ]
    }
   ],
   "source": [
    "#Task-8\n",
    "before_dis=len(New_Showroom[New_Showroom.between(30000,40000)])\n",
    "after_dis=len(Dis_price[Dis_price.between(30000,40000)])\n",
    "print(\"no of cars 30000 to 40000 before\",before_dis)\n",
    "print(\"no of cars 30000 to 40000 After\",after_dis)"
   ]
  },
  {
   "cell_type": "code",
   "execution_count": 28,
   "id": "73396342-e760-4a2a-bdf0-18f45047ecc1",
   "metadata": {},
   "outputs": [
    {
     "data": {
      "text/plain": [
       "109    32084.0\n",
       "104    33493.0\n",
       "117    33513.0\n",
       "201    34000.0\n",
       "105    35206.0\n",
       "dtype: float64"
      ]
     },
     "execution_count": 28,
     "metadata": {},
     "output_type": "execute_result"
    }
   ],
   "source": [
    "sort_cars=Dis_price.sort_values()\n",
    "least_cars=sort_cars[:5]\n",
    "least_cars"
   ]
  },
  {
   "cell_type": "code",
   "execution_count": null,
   "id": "d30afbbf-e6a6-4e7e-b7a0-2a3542a5e3b4",
   "metadata": {},
   "outputs": [],
   "source": []
  }
 ],
 "metadata": {
  "kernelspec": {
   "display_name": "Python 3 (ipykernel)",
   "language": "python",
   "name": "python3"
  },
  "language_info": {
   "codemirror_mode": {
    "name": "ipython",
    "version": 3
   },
   "file_extension": ".py",
   "mimetype": "text/x-python",
   "name": "python",
   "nbconvert_exporter": "python",
   "pygments_lexer": "ipython3",
   "version": "3.11.7"
  }
 },
 "nbformat": 4,
 "nbformat_minor": 5
}
