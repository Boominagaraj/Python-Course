{
 "cells": [
  {
   "cell_type": "markdown",
   "metadata": {
    "id": "dLe_BpvGfdJB"
   },
   "source": [
    "Creating Data Frames Using Series:"
   ]
  },
  {
   "cell_type": "markdown",
   "metadata": {
    "id": "EL2L2uvSfkJg"
   },
   "source": [
    "A Pandas Series is like a column in a table. It is a one-dimensional array holding data of any type."
   ]
  },
  {
   "cell_type": "code",
   "execution_count": 2,
   "metadata": {
    "id": "HaD4uLyegXE_"
   },
   "outputs": [],
   "source": [
    "import pandas as pd"
   ]
  },
  {
   "cell_type": "code",
   "execution_count": null,
   "metadata": {},
   "outputs": [],
   "source": [
    "# class pandas.Series(data=none,index=none,dtype=none)"
   ]
  },
  {
   "cell_type": "code",
   "execution_count": 203,
   "metadata": {
    "colab": {
     "base_uri": "https://localhost:8080/"
    },
    "id": "eWxRbg7orkb7",
    "outputId": "aad9d43b-2c35-4e11-eee5-cbce7a486e13"
   },
   "outputs": [
    {
     "data": {
      "text/plain": [
       "Series([], dtype: object)"
      ]
     },
     "execution_count": 203,
     "metadata": {},
     "output_type": "execute_result"
    }
   ],
   "source": [
    "pd.Series()"
   ]
  },
  {
   "cell_type": "markdown",
   "metadata": {
    "id": "m_3QTfT-rz-9"
   },
   "source": [
    "Create series from list:"
   ]
  },
  {
   "cell_type": "code",
   "execution_count": 205,
   "metadata": {
    "id": "oFqsSArGsGGo"
   },
   "outputs": [],
   "source": [
    "s = pd.Series([1,2,\"AI\", \"ML\"], index = [\"A\",\"B\",\"C\",\"D\"])"
   ]
  },
  {
   "cell_type": "code",
   "execution_count": 206,
   "metadata": {
    "colab": {
     "base_uri": "https://localhost:8080/"
    },
    "id": "sqV8byY4sJ-I",
    "outputId": "7f731668-333c-4f3e-8655-75092255f727"
   },
   "outputs": [
    {
     "data": {
      "text/plain": [
       "A     1\n",
       "B     2\n",
       "C    AI\n",
       "D    ML\n",
       "dtype: object"
      ]
     },
     "execution_count": 206,
     "metadata": {},
     "output_type": "execute_result"
    }
   ],
   "source": [
    "s"
   ]
  },
  {
   "cell_type": "code",
   "execution_count": 207,
   "metadata": {
    "colab": {
     "base_uri": "https://localhost:8080/"
    },
    "id": "Lmg9gWWlsKhh",
    "outputId": "e12c5afc-3f49-4d94-e6db-395869b9f58c"
   },
   "outputs": [
    {
     "data": {
      "text/plain": [
       "(4, (4,), 1)"
      ]
     },
     "execution_count": 207,
     "metadata": {},
     "output_type": "execute_result"
    }
   ],
   "source": [
    "s.size, s.shape, s.ndim"
   ]
  },
  {
   "cell_type": "code",
   "execution_count": 6,
   "metadata": {
    "id": "SNfSmTX-si9b"
   },
   "outputs": [],
   "source": [
    "import numpy as np\n",
    "\n",
    "s = pd.Series([1,2,\"AI\", \"ML\"], index = np.arange(1,8,2))"
   ]
  },
  {
   "cell_type": "code",
   "execution_count": 209,
   "metadata": {
    "colab": {
     "base_uri": "https://localhost:8080/"
    },
    "id": "gqWTJmO2s1ab",
    "outputId": "1bc211a5-262a-4548-a353-fa77c460793c"
   },
   "outputs": [
    {
     "data": {
      "text/plain": [
       "1     1\n",
       "3     2\n",
       "5    AI\n",
       "7    ML\n",
       "dtype: object"
      ]
     },
     "execution_count": 209,
     "metadata": {},
     "output_type": "execute_result"
    }
   ],
   "source": [
    "s"
   ]
  },
  {
   "cell_type": "markdown",
   "metadata": {
    "id": "qLqVQD9cs2AC"
   },
   "source": [
    "Q) A teacher wishes to store the names of the students along with their roll numbers or serial numbers in the proper format. How can you help the teacher to accomplish this task? How will Series help you solve it?"
   ]
  },
  {
   "cell_type": "code",
   "execution_count": 211,
   "metadata": {
    "id": "P8_8YizCtELn"
   },
   "outputs": [],
   "source": [
    "s = pd.Series([\"AI\", \"ML\"], index = np.arange(1,3))"
   ]
  },
  {
   "cell_type": "code",
   "execution_count": 212,
   "metadata": {
    "colab": {
     "base_uri": "https://localhost:8080/"
    },
    "id": "7_Gp6jZOvZr_",
    "outputId": "af059d3a-1e26-4ad6-a9c7-8d3acf686b01"
   },
   "outputs": [
    {
     "data": {
      "text/plain": [
       "1    AI\n",
       "2    ML\n",
       "dtype: object"
      ]
     },
     "execution_count": 212,
     "metadata": {},
     "output_type": "execute_result"
    }
   ],
   "source": [
    "s"
   ]
  },
  {
   "cell_type": "markdown",
   "metadata": {
    "id": "jDPGgliYvabt"
   },
   "source": [
    "Create series using random and arange function, 10 students Mark list in Series:"
   ]
  },
  {
   "cell_type": "markdown",
   "metadata": {
    "id": "4AOxNmwZvlZr"
   },
   "source": [
    "Modify the index of series:"
   ]
  },
  {
   "cell_type": "code",
   "execution_count": 10,
   "metadata": {
    "colab": {
     "base_uri": "https://localhost:8080/"
    },
    "id": "4GRejqJXx51x",
    "outputId": "910dd091-1107-4688-8a77-1977c5248bb4"
   },
   "outputs": [
    {
     "data": {
      "text/plain": [
       "AI    82\n",
       "ML    76\n",
       "dtype: int32"
      ]
     },
     "execution_count": 10,
     "metadata": {},
     "output_type": "execute_result"
    }
   ],
   "source": [
    "name = [\"AI\", \"ML\"]\n",
    "\n",
    "stu = pd.Series(np.random.randint(70,86,2),index=name)\n",
    "\n",
    "stu"
   ]
  },
  {
   "cell_type": "code",
   "execution_count": 216,
   "metadata": {
    "colab": {
     "base_uri": "https://localhost:8080/"
    },
    "id": "gw7ifG9ryG8z",
    "outputId": "56a48b17-a3dd-4ecd-fe62-cfa243e199b6"
   },
   "outputs": [
    {
     "data": {
      "text/plain": [
       "0    84\n",
       "1    83\n",
       "dtype: int32"
      ]
     },
     "execution_count": 216,
     "metadata": {},
     "output_type": "execute_result"
    }
   ],
   "source": [
    "stu = pd.Series(np.random.randint(70,86,2))\n",
    "stu"
   ]
  },
  {
   "cell_type": "code",
   "execution_count": 217,
   "metadata": {
    "id": "fX9WnS5JyOIw"
   },
   "outputs": [],
   "source": [
    "stu.index = name"
   ]
  },
  {
   "cell_type": "code",
   "execution_count": 218,
   "metadata": {
    "colab": {
     "base_uri": "https://localhost:8080/"
    },
    "id": "X7wbX9SFyRwv",
    "outputId": "7248d784-80ac-49c8-9327-328bd57044f2"
   },
   "outputs": [
    {
     "data": {
      "text/plain": [
       "AI    84\n",
       "ML    83\n",
       "dtype: int32"
      ]
     },
     "execution_count": 218,
     "metadata": {},
     "output_type": "execute_result"
    }
   ],
   "source": [
    "stu"
   ]
  },
  {
   "cell_type": "markdown",
   "metadata": {
    "id": "QGYA-PS1ySfh"
   },
   "source": [
    "An e-commerce company wants to represent the customer IDs which consist of alphanumeric characters, with their spending scores (1-100). How can you accomplish this task?"
   ]
  },
  {
   "cell_type": "markdown",
   "metadata": {
    "id": "6Gi9ajeozp-9"
   },
   "source": [
    "Converting a dictionary object into Series type"
   ]
  },
  {
   "cell_type": "code",
   "execution_count": 221,
   "metadata": {
    "id": "bM3VyH7hzwsy"
   },
   "outputs": [],
   "source": [
    "dic = {'rollno': 512, 'name':\"AI\", \"marks\":75}"
   ]
  },
  {
   "cell_type": "code",
   "execution_count": 222,
   "metadata": {
    "colab": {
     "base_uri": "https://localhost:8080/"
    },
    "id": "SisNuITwz9DG",
    "outputId": "1ffbb1f3-ab44-4c86-9f59-2562022d1dc2"
   },
   "outputs": [
    {
     "data": {
      "text/plain": [
       "rollno    512\n",
       "name       AI\n",
       "marks      75\n",
       "dtype: object"
      ]
     },
     "execution_count": 222,
     "metadata": {},
     "output_type": "execute_result"
    }
   ],
   "source": [
    "pd.Series(dic)"
   ]
  },
  {
   "cell_type": "markdown",
   "metadata": {
    "id": "SoVldK2Mz_tO"
   },
   "source": [
    "Slicing:"
   ]
  },
  {
   "cell_type": "code",
   "execution_count": 224,
   "metadata": {
    "colab": {
     "base_uri": "https://localhost:8080/"
    },
    "id": "Y8irsE0X0N9K",
    "outputId": "c2d62587-ef47-4d62-fe15-9f9255f2afd7"
   },
   "outputs": [
    {
     "data": {
      "text/plain": [
       "AI    84\n",
       "ML    83\n",
       "dtype: int32"
      ]
     },
     "execution_count": 224,
     "metadata": {},
     "output_type": "execute_result"
    }
   ],
   "source": [
    "stu"
   ]
  },
  {
   "cell_type": "code",
   "execution_count": 225,
   "metadata": {
    "id": "0hxIi6Ts0YpT"
   },
   "outputs": [],
   "source": [
    "s = pd.Series(np.random.randint(100,10000,100), index = np.arange(1,101))"
   ]
  },
  {
   "cell_type": "code",
   "execution_count": 226,
   "metadata": {
    "colab": {
     "base_uri": "https://localhost:8080/"
    },
    "id": "rrT2x76m0aXD",
    "outputId": "bdf0b329-ac73-4147-8d1c-382d4a304591"
   },
   "outputs": [
    {
     "data": {
      "text/plain": [
       "1      3198\n",
       "2      1642\n",
       "3      1414\n",
       "4      9640\n",
       "5      9424\n",
       "       ... \n",
       "96      968\n",
       "97     2376\n",
       "98     8532\n",
       "99     8985\n",
       "100    4111\n",
       "Length: 100, dtype: int32"
      ]
     },
     "execution_count": 226,
     "metadata": {},
     "output_type": "execute_result"
    }
   ],
   "source": [
    "s"
   ]
  },
  {
   "cell_type": "code",
   "execution_count": 227,
   "metadata": {
    "colab": {
     "base_uri": "https://localhost:8080/"
    },
    "id": "ClSyp2Rd0pX_",
    "outputId": "ba25a194-227c-43f3-a2cc-9ca1511d6124"
   },
   "outputs": [
    {
     "data": {
      "text/plain": [
       "1      3198\n",
       "2      1642\n",
       "3      1414\n",
       "4      9640\n",
       "5      9424\n",
       "       ... \n",
       "96      968\n",
       "97     2376\n",
       "98     8532\n",
       "99     8985\n",
       "100    4111\n",
       "Length: 100, dtype: int32"
      ]
     },
     "execution_count": 227,
     "metadata": {},
     "output_type": "execute_result"
    }
   ],
   "source": [
    "s[:]  #To print all the values"
   ]
  },
  {
   "cell_type": "code",
   "execution_count": 228,
   "metadata": {
    "colab": {
     "base_uri": "https://localhost:8080/"
    },
    "id": "bLm0R1GP0rQ7",
    "outputId": "b7337a30-cf8f-4697-880b-cf80ae16ed08"
   },
   "outputs": [
    {
     "data": {
      "text/plain": [
       "1    3198\n",
       "2    1642\n",
       "3    1414\n",
       "dtype: int32"
      ]
     },
     "execution_count": 228,
     "metadata": {},
     "output_type": "execute_result"
    }
   ],
   "source": [
    "s[0:3]  #First 3 rows"
   ]
  },
  {
   "cell_type": "code",
   "execution_count": 229,
   "metadata": {
    "colab": {
     "base_uri": "https://localhost:8080/"
    },
    "id": "lS6x2CDH00Fu",
    "outputId": "8ff1262b-ac9d-4640-ad40-6cc27be7d31d"
   },
   "outputs": [
    {
     "data": {
      "text/plain": [
       "1     3198\n",
       "3     1414\n",
       "5     9424\n",
       "7     9632\n",
       "9     7165\n",
       "11     992\n",
       "13    6658\n",
       "15    1123\n",
       "17    1476\n",
       "19    3009\n",
       "21    2947\n",
       "23    6904\n",
       "25    3271\n",
       "27    4335\n",
       "29    7002\n",
       "dtype: int32"
      ]
     },
     "execution_count": 229,
     "metadata": {},
     "output_type": "execute_result"
    }
   ],
   "source": [
    "s[0:30:2]"
   ]
  },
  {
   "cell_type": "markdown",
   "metadata": {
    "id": "zQxEbSmX077m"
   },
   "source": [
    "How can you retrieve the first five elements and the last three elements from the above data?"
   ]
  },
  {
   "cell_type": "markdown",
   "metadata": {
    "id": "F2wanCwM1D-t"
   },
   "source": [
    "Consider the series \"S2\" that represents the Customer ID and Spending score (1-100) of the customers of an e-commerce company. The company wants to know the records of the customers with customer IDs from A3 to A5. How can you accomplish this task?"
   ]
  },
  {
   "cell_type": "markdown",
   "metadata": {
    "id": "AJS_lumC2rNG"
   },
   "source": [
    "Consider the series \"Ser\", that represents the names and annual salaries of the employees of the company. A company wants to find out the names of the employees whose salary is more than 26,000 USD and less than 29,000 USD. How can you accomplish this task?"
   ]
  },
  {
   "cell_type": "code",
   "execution_count": 18,
   "metadata": {
    "id": "eD6RYED634WW"
   },
   "outputs": [],
   "source": [
    "s = pd.Series(np.random.randint(10000,45000,50), index = np.arange(1,51))"
   ]
  },
  {
   "cell_type": "code",
   "execution_count": 20,
   "metadata": {
    "colab": {
     "base_uri": "https://localhost:8080/"
    },
    "id": "-CrJ-hob4HKi",
    "outputId": "1222546c-7877-4750-9133-26879c785065"
   },
   "outputs": [
    {
     "data": {
      "text/plain": [
       "1     22723\n",
       "2     18106\n",
       "3     13684\n",
       "4     21711\n",
       "5     40407\n",
       "6     11998\n",
       "7     16250\n",
       "8     25713\n",
       "9     20626\n",
       "10    28988\n",
       "11    31124\n",
       "12    25716\n",
       "13    35226\n",
       "14    21436\n",
       "15    18028\n",
       "16    36368\n",
       "17    31349\n",
       "18    28482\n",
       "19    18751\n",
       "20    17367\n",
       "21    43387\n",
       "22    38973\n",
       "23    19529\n",
       "24    35022\n",
       "25    14205\n",
       "26    38947\n",
       "27    23286\n",
       "28    21722\n",
       "29    41771\n",
       "30    13723\n",
       "31    35850\n",
       "32    26743\n",
       "33    15806\n",
       "34    33228\n",
       "35    12796\n",
       "36    29649\n",
       "37    23313\n",
       "38    14824\n",
       "39    26989\n",
       "40    30969\n",
       "41    40745\n",
       "42    22322\n",
       "43    29458\n",
       "44    26126\n",
       "45    44372\n",
       "46    19799\n",
       "47    15214\n",
       "48    15916\n",
       "49    39830\n",
       "50    12069\n",
       "dtype: int32"
      ]
     },
     "execution_count": 20,
     "metadata": {},
     "output_type": "execute_result"
    }
   ],
   "source": [
    "s"
   ]
  },
  {
   "cell_type": "code",
   "execution_count": 22,
   "metadata": {
    "id": "fGJH2AuH4H-O"
   },
   "outputs": [],
   "source": [
    "s = s[(s>26000)&(s<29000)]"
   ]
  },
  {
   "cell_type": "code",
   "execution_count": 24,
   "metadata": {},
   "outputs": [
    {
     "data": {
      "text/plain": [
       "10    28988\n",
       "18    28482\n",
       "32    26743\n",
       "39    26989\n",
       "44    26126\n",
       "dtype: int32"
      ]
     },
     "execution_count": 24,
     "metadata": {},
     "output_type": "execute_result"
    }
   ],
   "source": [
    "s"
   ]
  },
  {
   "cell_type": "code",
   "execution_count": 26,
   "metadata": {
    "colab": {
     "base_uri": "https://localhost:8080/"
    },
    "id": "5ooPZfLR4UlD",
    "outputId": "afdb95c5-c872-423e-ba38-71b9c9e7978d"
   },
   "outputs": [
    {
     "data": {
      "text/plain": [
       "Index([10, 18, 32, 39, 44], dtype='int32')"
      ]
     },
     "execution_count": 26,
     "metadata": {},
     "output_type": "execute_result"
    }
   ],
   "source": [
    "s.index"
   ]
  },
  {
   "cell_type": "code",
   "execution_count": null,
   "metadata": {},
   "outputs": [],
   "source": []
  },
  {
   "cell_type": "code",
   "execution_count": 237,
   "metadata": {
    "id": "XowJE2VR4VSU"
   },
   "outputs": [],
   "source": [
    "s = s*1.2"
   ]
  },
  {
   "cell_type": "code",
   "execution_count": 238,
   "metadata": {
    "colab": {
     "base_uri": "https://localhost:8080/"
    },
    "id": "dAn45OOp4kS1",
    "outputId": "66e4e33c-d76d-4e27-fefd-8f658e8434ab"
   },
   "outputs": [
    {
     "data": {
      "text/plain": [
       "1     31755.6\n",
       "3     31508.4\n",
       "26    31700.4\n",
       "47    31953.6\n",
       "dtype: float64"
      ]
     },
     "execution_count": 238,
     "metadata": {},
     "output_type": "execute_result"
    }
   ],
   "source": [
    "s"
   ]
  },
  {
   "cell_type": "code",
   "execution_count": 239,
   "metadata": {
    "colab": {
     "base_uri": "https://localhost:8080/"
    },
    "id": "PPo8j2e44k0f",
    "outputId": "7084cb2a-d31b-49cf-c25b-4d5c87e65b95"
   },
   "outputs": [
    {
     "data": {
      "text/plain": [
       "3     31508.4\n",
       "26    31700.4\n",
       "1     31755.6\n",
       "47    31953.6\n",
       "dtype: float64"
      ]
     },
     "execution_count": 239,
     "metadata": {},
     "output_type": "execute_result"
    }
   ],
   "source": [
    "s.sort_values()"
   ]
  },
  {
   "cell_type": "code",
   "execution_count": 240,
   "metadata": {
    "colab": {
     "base_uri": "https://localhost:8080/"
    },
    "id": "k2pXrpxh4tWN",
    "outputId": "a73ddfe2-2040-4dcf-884e-847f0fbf8c92"
   },
   "outputs": [
    {
     "data": {
      "text/plain": [
       "47    31953.6\n",
       "1     31755.6\n",
       "26    31700.4\n",
       "3     31508.4\n",
       "dtype: float64"
      ]
     },
     "execution_count": 240,
     "metadata": {},
     "output_type": "execute_result"
    }
   ],
   "source": [
    "s.sort_values(ascending=False)"
   ]
  },
  {
   "cell_type": "code",
   "execution_count": 241,
   "metadata": {
    "colab": {
     "base_uri": "https://localhost:8080/"
    },
    "id": "7F2icrK_40NN",
    "outputId": "49ca916b-e79c-425d-ce85-f31d8cddb0a3"
   },
   "outputs": [
    {
     "data": {
      "text/plain": [
       "0    31953.6\n",
       "1    31755.6\n",
       "2    31700.4\n",
       "3    31508.4\n",
       "dtype: float64"
      ]
     },
     "execution_count": 241,
     "metadata": {},
     "output_type": "execute_result"
    }
   ],
   "source": [
    "s.sort_values(ascending=False, ignore_index = True)"
   ]
  },
  {
   "cell_type": "markdown",
   "metadata": {
    "id": "wol2kmGn5Fc8"
   },
   "source": [
    "To add new data into an existing series\n",
    "\n",
    "1) Append\n",
    "\n",
    "2) Concat"
   ]
  },
  {
   "cell_type": "code",
   "execution_count": 243,
   "metadata": {
    "colab": {
     "base_uri": "https://localhost:8080/"
    },
    "id": "SUmU8tgq5Xed",
    "outputId": "68a4e5fd-20c7-454e-9f4a-73e3a023db7a"
   },
   "outputs": [
    {
     "data": {
      "text/plain": [
       "1     31755.6\n",
       "3     31508.4\n",
       "26    31700.4\n",
       "47    31953.6\n",
       "dtype: float64"
      ]
     },
     "execution_count": 243,
     "metadata": {},
     "output_type": "execute_result"
    }
   ],
   "source": [
    "s"
   ]
  },
  {
   "cell_type": "code",
   "execution_count": 244,
   "metadata": {
    "id": "GQOmCtXF5Z6S"
   },
   "outputs": [],
   "source": [
    "s1 = pd.Series(np.random.randint(30000,45000,5), index = np.arange(1,6))"
   ]
  },
  {
   "cell_type": "code",
   "execution_count": 245,
   "metadata": {
    "colab": {
     "base_uri": "https://localhost:8080/"
    },
    "id": "yscDM91x5qkP",
    "outputId": "1332a4c6-1066-4160-a9c2-98cb5a36105a"
   },
   "outputs": [
    {
     "data": {
      "text/plain": [
       "1    33870\n",
       "2    39702\n",
       "3    31799\n",
       "4    35377\n",
       "5    37723\n",
       "dtype: int32"
      ]
     },
     "execution_count": 245,
     "metadata": {},
     "output_type": "execute_result"
    }
   ],
   "source": [
    "s1"
   ]
  },
  {
   "cell_type": "code",
   "execution_count": 246,
   "metadata": {
    "colab": {
     "base_uri": "https://localhost:8080/"
    },
    "id": "Zose-DTf5rhv",
    "outputId": "2ce899a5-bf67-4b2d-e0dd-4ea025fb40f3"
   },
   "outputs": [],
   "source": [
    "#s.append(s1)"
   ]
  },
  {
   "cell_type": "code",
   "execution_count": 247,
   "metadata": {
    "id": "I76dYLI15u_R"
   },
   "outputs": [],
   "source": [
    "s = pd.concat([s,s1])"
   ]
  },
  {
   "cell_type": "code",
   "execution_count": 248,
   "metadata": {
    "id": "zh08VKxn56AE"
   },
   "outputs": [],
   "source": [
    "dup = s.copy()   #TO copy the series"
   ]
  },
  {
   "cell_type": "code",
   "execution_count": 249,
   "metadata": {
    "colab": {
     "base_uri": "https://localhost:8080/"
    },
    "id": "yKE2IbSU6Fe2",
    "outputId": "e00d8bb9-0cda-4079-a394-17b76f14a21c"
   },
   "outputs": [
    {
     "data": {
      "text/plain": [
       "1     31755.6\n",
       "3     31508.4\n",
       "26    31700.4\n",
       "47    31953.6\n",
       "1     33870.0\n",
       "2     39702.0\n",
       "3     31799.0\n",
       "4     35377.0\n",
       "5     37723.0\n",
       "dtype: float64"
      ]
     },
     "execution_count": 249,
     "metadata": {},
     "output_type": "execute_result"
    }
   ],
   "source": [
    "dup"
   ]
  },
  {
   "cell_type": "markdown",
   "metadata": {
    "id": "RHJtpXp66GSa"
   },
   "source": [
    "Calculate Mean, Sum, Min , Max:"
   ]
  },
  {
   "cell_type": "code",
   "execution_count": 251,
   "metadata": {
    "colab": {
     "base_uri": "https://localhost:8080/"
    },
    "id": "eLG0EGSH6SGy",
    "outputId": "025dc4e2-344a-413a-f960-079d33f1e639"
   },
   "outputs": [
    {
     "data": {
      "text/plain": [
       "33932.11111111111"
      ]
     },
     "execution_count": 251,
     "metadata": {},
     "output_type": "execute_result"
    }
   ],
   "source": [
    "s.mean()     #Average"
   ]
  },
  {
   "cell_type": "code",
   "execution_count": 252,
   "metadata": {
    "colab": {
     "base_uri": "https://localhost:8080/"
    },
    "id": "GC4MF12j6UNZ",
    "outputId": "289c8f86-acb8-4d7b-b6c2-552facd86d72"
   },
   "outputs": [
    {
     "data": {
      "text/plain": [
       "305389.0"
      ]
     },
     "execution_count": 252,
     "metadata": {},
     "output_type": "execute_result"
    }
   ],
   "source": [
    "s.sum()"
   ]
  },
  {
   "cell_type": "code",
   "execution_count": 253,
   "metadata": {
    "colab": {
     "base_uri": "https://localhost:8080/"
    },
    "id": "MVbFgzcY6Wm5",
    "outputId": "238a59b6-cccd-49b5-e451-daea79f3b896"
   },
   "outputs": [
    {
     "data": {
      "text/plain": [
       "31508.399999999998"
      ]
     },
     "execution_count": 253,
     "metadata": {},
     "output_type": "execute_result"
    }
   ],
   "source": [
    "s.min()"
   ]
  },
  {
   "cell_type": "code",
   "execution_count": 254,
   "metadata": {
    "colab": {
     "base_uri": "https://localhost:8080/"
    },
    "id": "6BI2-hd_6bEN",
    "outputId": "46005c2b-06cf-46ef-d762-f0037ad54a39"
   },
   "outputs": [
    {
     "data": {
      "text/plain": [
       "39702.0"
      ]
     },
     "execution_count": 254,
     "metadata": {},
     "output_type": "execute_result"
    }
   ],
   "source": [
    "s.max()"
   ]
  },
  {
   "cell_type": "markdown",
   "metadata": {
    "id": "gQmH8R7U6cVF"
   },
   "source": [
    "Identify the employees who are paid below the average salary of all the employees."
   ]
  },
  {
   "cell_type": "code",
   "execution_count": 256,
   "metadata": {
    "colab": {
     "base_uri": "https://localhost:8080/"
    },
    "id": "ExBoniJz6vL5",
    "outputId": "1f57b4f9-6a81-4361-9bc9-8d2b94c9dcf4"
   },
   "outputs": [
    {
     "data": {
      "text/plain": [
       "1     31755.6\n",
       "3     31508.4\n",
       "26    31700.4\n",
       "47    31953.6\n",
       "3     31799.0\n",
       "dtype: float64"
      ]
     },
     "execution_count": 256,
     "metadata": {},
     "output_type": "execute_result"
    }
   ],
   "source": [
    "s[s.between(31000, 33000)]"
   ]
  },
  {
   "cell_type": "code",
   "execution_count": 257,
   "metadata": {
    "colab": {
     "base_uri": "https://localhost:8080/"
    },
    "id": "c9cVPnYyfcIg",
    "outputId": "299b38ec-f550-4ae4-f9c3-1952afdabb29"
   },
   "outputs": [
    {
     "data": {
      "text/plain": [
       "1     31755.6\n",
       "1     33870.0\n",
       "2     39702.0\n",
       "3     31508.4\n",
       "3     31799.0\n",
       "4     35377.0\n",
       "5     37723.0\n",
       "26    31700.4\n",
       "47    31953.6\n",
       "dtype: float64"
      ]
     },
     "execution_count": 257,
     "metadata": {},
     "output_type": "execute_result"
    }
   ],
   "source": [
    "s.sort_index()"
   ]
  },
  {
   "cell_type": "code",
   "execution_count": 258,
   "metadata": {
    "id": "iw5QEL9RfoYb"
   },
   "outputs": [],
   "source": [
    "s.update(pd.Series([27854, 29547], index = [23,24]))"
   ]
  },
  {
   "cell_type": "code",
   "execution_count": 259,
   "metadata": {
    "colab": {
     "base_uri": "https://localhost:8080/"
    },
    "id": "EvroMqmlf8eh",
    "outputId": "29955404-b781-4dd3-d157-faa205c2d987"
   },
   "outputs": [
    {
     "data": {
      "text/plain": [
       "1     31755.6\n",
       "3     31508.4\n",
       "26    31700.4\n",
       "47    31953.6\n",
       "1     33870.0\n",
       "2     39702.0\n",
       "3     31799.0\n",
       "4     35377.0\n",
       "5     37723.0\n",
       "dtype: float64"
      ]
     },
     "execution_count": 259,
     "metadata": {},
     "output_type": "execute_result"
    }
   ],
   "source": [
    "s"
   ]
  },
  {
   "cell_type": "code",
   "execution_count": 260,
   "metadata": {
    "id": "8PrYXjXHf9Hh"
   },
   "outputs": [],
   "source": [
    "s.sort_index(inplace = True)"
   ]
  },
  {
   "cell_type": "code",
   "execution_count": 261,
   "metadata": {
    "colab": {
     "base_uri": "https://localhost:8080/"
    },
    "id": "xH3IoozmgHpK",
    "outputId": "aba7ee68-f3f1-4cbc-95c5-9b47bcfb73c9"
   },
   "outputs": [
    {
     "data": {
      "text/plain": [
       "1     31755.6\n",
       "1     33870.0\n",
       "2     39702.0\n",
       "3     31508.4\n",
       "3     31799.0\n",
       "4     35377.0\n",
       "5     37723.0\n",
       "26    31700.4\n",
       "47    31953.6\n",
       "dtype: float64"
      ]
     },
     "execution_count": 261,
     "metadata": {},
     "output_type": "execute_result"
    }
   ],
   "source": [
    "s"
   ]
  },
  {
   "cell_type": "code",
   "execution_count": 262,
   "metadata": {
    "id": "x0PYli50gIRs"
   },
   "outputs": [],
   "source": [
    "#s.drop(24, inplace = True)"
   ]
  },
  {
   "cell_type": "code",
   "execution_count": 263,
   "metadata": {
    "colab": {
     "base_uri": "https://localhost:8080/"
    },
    "id": "rBxFowp-gZzT",
    "outputId": "eb623f3c-ae54-49d9-ba71-ee1ebc362195"
   },
   "outputs": [
    {
     "data": {
      "text/plain": [
       "1     31755.6\n",
       "1     33870.0\n",
       "2     39702.0\n",
       "3     31508.4\n",
       "3     31799.0\n",
       "4     35377.0\n",
       "5     37723.0\n",
       "26    31700.4\n",
       "47    31953.6\n",
       "dtype: float64"
      ]
     },
     "execution_count": 263,
     "metadata": {},
     "output_type": "execute_result"
    }
   ],
   "source": [
    "s"
   ]
  },
  {
   "cell_type": "code",
   "execution_count": 264,
   "metadata": {
    "id": "FeIqYLs3gabQ"
   },
   "outputs": [],
   "source": [
    "s1 = pd.Series([1,2,3])\n",
    "s2 = pd.Series([4,5,6])"
   ]
  },
  {
   "cell_type": "code",
   "execution_count": 265,
   "metadata": {
    "colab": {
     "base_uri": "https://localhost:8080/"
    },
    "id": "RgsgbeOCgqLX",
    "outputId": "964c39c7-a3a2-46ad-8049-44d9e942b9dd"
   },
   "outputs": [
    {
     "data": {
      "text/plain": [
       "0    5\n",
       "1    7\n",
       "2    9\n",
       "dtype: int64"
      ]
     },
     "execution_count": 265,
     "metadata": {},
     "output_type": "execute_result"
    }
   ],
   "source": [
    "s1+s2"
   ]
  },
  {
   "cell_type": "code",
   "execution_count": 266,
   "metadata": {
    "colab": {
     "base_uri": "https://localhost:8080/"
    },
    "id": "-HiOokHkgs3i",
    "outputId": "645270e7-5f82-4379-c136-1fd7f54eafc6"
   },
   "outputs": [
    {
     "data": {
      "text/plain": [
       "0    5\n",
       "1    7\n",
       "2    9\n",
       "dtype: int64"
      ]
     },
     "execution_count": 266,
     "metadata": {},
     "output_type": "execute_result"
    }
   ],
   "source": [
    "s1.add(s2)"
   ]
  },
  {
   "cell_type": "code",
   "execution_count": 267,
   "metadata": {
    "colab": {
     "base_uri": "https://localhost:8080/"
    },
    "id": "tSlTD36ygv-I",
    "outputId": "7bd507ef-930a-4447-bd5f-e8edc0924937"
   },
   "outputs": [
    {
     "data": {
      "text/plain": [
       "0    3\n",
       "1    3\n",
       "2    3\n",
       "dtype: int64"
      ]
     },
     "execution_count": 267,
     "metadata": {},
     "output_type": "execute_result"
    }
   ],
   "source": [
    "s2-s1"
   ]
  },
  {
   "cell_type": "code",
   "execution_count": 268,
   "metadata": {
    "colab": {
     "base_uri": "https://localhost:8080/"
    },
    "id": "YFgiVEd2g0oZ",
    "outputId": "3b683452-c9f8-4c9b-8076-01ddf508d457"
   },
   "outputs": [
    {
     "data": {
      "text/plain": [
       "1    1\n",
       "2    1\n",
       "3    1\n",
       "Name: count, dtype: int64"
      ]
     },
     "execution_count": 268,
     "metadata": {},
     "output_type": "execute_result"
    }
   ],
   "source": [
    "s1.value_counts()"
   ]
  },
  {
   "cell_type": "markdown",
   "metadata": {
    "id": "5KcEaSLng58g"
   },
   "source": [
    "DataFrame"
   ]
  },
  {
   "cell_type": "code",
   "execution_count": 270,
   "metadata": {
    "id": "2o_y2ilohA7c"
   },
   "outputs": [],
   "source": [
    "#pd.DataFrame(data, index, columns, dtype)"
   ]
  },
  {
   "cell_type": "code",
   "execution_count": 271,
   "metadata": {
    "id": "Wh4tbCFihWkH"
   },
   "outputs": [],
   "source": [
    "df = pd.DataFrame([1,2,3], columns=['Number'])"
   ]
  },
  {
   "cell_type": "code",
   "execution_count": 272,
   "metadata": {
    "colab": {
     "base_uri": "https://localhost:8080/",
     "height": 143
    },
    "id": "8tigWiZLhc7z",
    "outputId": "69e2097e-8f33-4573-9f3b-5c2462f79e03"
   },
   "outputs": [
    {
     "data": {
      "text/html": [
       "<div>\n",
       "<style scoped>\n",
       "    .dataframe tbody tr th:only-of-type {\n",
       "        vertical-align: middle;\n",
       "    }\n",
       "\n",
       "    .dataframe tbody tr th {\n",
       "        vertical-align: top;\n",
       "    }\n",
       "\n",
       "    .dataframe thead th {\n",
       "        text-align: right;\n",
       "    }\n",
       "</style>\n",
       "<table border=\"1\" class=\"dataframe\">\n",
       "  <thead>\n",
       "    <tr style=\"text-align: right;\">\n",
       "      <th></th>\n",
       "      <th>Number</th>\n",
       "    </tr>\n",
       "  </thead>\n",
       "  <tbody>\n",
       "    <tr>\n",
       "      <th>0</th>\n",
       "      <td>1</td>\n",
       "    </tr>\n",
       "    <tr>\n",
       "      <th>1</th>\n",
       "      <td>2</td>\n",
       "    </tr>\n",
       "    <tr>\n",
       "      <th>2</th>\n",
       "      <td>3</td>\n",
       "    </tr>\n",
       "  </tbody>\n",
       "</table>\n",
       "</div>"
      ],
      "text/plain": [
       "   Number\n",
       "0       1\n",
       "1       2\n",
       "2       3"
      ]
     },
     "execution_count": 272,
     "metadata": {},
     "output_type": "execute_result"
    }
   ],
   "source": [
    "df"
   ]
  },
  {
   "cell_type": "code",
   "execution_count": 273,
   "metadata": {
    "id": "ZTaJKmqfhdiq"
   },
   "outputs": [],
   "source": [
    "df = pd.DataFrame(s)"
   ]
  },
  {
   "cell_type": "code",
   "execution_count": 274,
   "metadata": {
    "id": "Ass1DMiahueJ"
   },
   "outputs": [],
   "source": [
    "df.columns = ['salary']"
   ]
  },
  {
   "cell_type": "code",
   "execution_count": 275,
   "metadata": {
    "colab": {
     "base_uri": "https://localhost:8080/",
     "height": 331
    },
    "id": "HaFo-4GBhvLn",
    "outputId": "9d9ff4c9-a015-4a9a-b902-235d4f8c4f1b"
   },
   "outputs": [
    {
     "data": {
      "text/html": [
       "<div>\n",
       "<style scoped>\n",
       "    .dataframe tbody tr th:only-of-type {\n",
       "        vertical-align: middle;\n",
       "    }\n",
       "\n",
       "    .dataframe tbody tr th {\n",
       "        vertical-align: top;\n",
       "    }\n",
       "\n",
       "    .dataframe thead th {\n",
       "        text-align: right;\n",
       "    }\n",
       "</style>\n",
       "<table border=\"1\" class=\"dataframe\">\n",
       "  <thead>\n",
       "    <tr style=\"text-align: right;\">\n",
       "      <th></th>\n",
       "      <th>salary</th>\n",
       "    </tr>\n",
       "  </thead>\n",
       "  <tbody>\n",
       "    <tr>\n",
       "      <th>1</th>\n",
       "      <td>31755.6</td>\n",
       "    </tr>\n",
       "    <tr>\n",
       "      <th>1</th>\n",
       "      <td>33870.0</td>\n",
       "    </tr>\n",
       "    <tr>\n",
       "      <th>2</th>\n",
       "      <td>39702.0</td>\n",
       "    </tr>\n",
       "    <tr>\n",
       "      <th>3</th>\n",
       "      <td>31508.4</td>\n",
       "    </tr>\n",
       "    <tr>\n",
       "      <th>3</th>\n",
       "      <td>31799.0</td>\n",
       "    </tr>\n",
       "    <tr>\n",
       "      <th>4</th>\n",
       "      <td>35377.0</td>\n",
       "    </tr>\n",
       "    <tr>\n",
       "      <th>5</th>\n",
       "      <td>37723.0</td>\n",
       "    </tr>\n",
       "    <tr>\n",
       "      <th>26</th>\n",
       "      <td>31700.4</td>\n",
       "    </tr>\n",
       "    <tr>\n",
       "      <th>47</th>\n",
       "      <td>31953.6</td>\n",
       "    </tr>\n",
       "  </tbody>\n",
       "</table>\n",
       "</div>"
      ],
      "text/plain": [
       "     salary\n",
       "1   31755.6\n",
       "1   33870.0\n",
       "2   39702.0\n",
       "3   31508.4\n",
       "3   31799.0\n",
       "4   35377.0\n",
       "5   37723.0\n",
       "26  31700.4\n",
       "47  31953.6"
      ]
     },
     "execution_count": 275,
     "metadata": {},
     "output_type": "execute_result"
    }
   ],
   "source": [
    "df"
   ]
  },
  {
   "cell_type": "code",
   "execution_count": 36,
   "metadata": {
    "id": "QKAZy3gyh3yF"
   },
   "outputs": [],
   "source": [
    "dic = {'Mobile_Brands': ['Redmi', 'Apple', 'Samsumg', 'Vivo'],\n",
    "       'Price': [15000, 60000, 40000, 30000]}"
   ]
  },
  {
   "cell_type": "code",
   "execution_count": 38,
   "metadata": {
    "id": "ELRYAWRqjKgM"
   },
   "outputs": [],
   "source": [
    "df = pd.DataFrame(dic)"
   ]
  },
  {
   "cell_type": "code",
   "execution_count": 40,
   "metadata": {
    "colab": {
     "base_uri": "https://localhost:8080/",
     "height": 175
    },
    "id": "kFJB6S6ejNxt",
    "outputId": "2c121977-d3ef-4dd2-83f2-7d7c69d56c59"
   },
   "outputs": [
    {
     "data": {
      "text/html": [
       "<div>\n",
       "<style scoped>\n",
       "    .dataframe tbody tr th:only-of-type {\n",
       "        vertical-align: middle;\n",
       "    }\n",
       "\n",
       "    .dataframe tbody tr th {\n",
       "        vertical-align: top;\n",
       "    }\n",
       "\n",
       "    .dataframe thead th {\n",
       "        text-align: right;\n",
       "    }\n",
       "</style>\n",
       "<table border=\"1\" class=\"dataframe\">\n",
       "  <thead>\n",
       "    <tr style=\"text-align: right;\">\n",
       "      <th></th>\n",
       "      <th>Mobile_Brands</th>\n",
       "      <th>Price</th>\n",
       "    </tr>\n",
       "  </thead>\n",
       "  <tbody>\n",
       "    <tr>\n",
       "      <th>0</th>\n",
       "      <td>Redmi</td>\n",
       "      <td>15000</td>\n",
       "    </tr>\n",
       "    <tr>\n",
       "      <th>1</th>\n",
       "      <td>Apple</td>\n",
       "      <td>60000</td>\n",
       "    </tr>\n",
       "    <tr>\n",
       "      <th>2</th>\n",
       "      <td>Samsumg</td>\n",
       "      <td>40000</td>\n",
       "    </tr>\n",
       "    <tr>\n",
       "      <th>3</th>\n",
       "      <td>Vivo</td>\n",
       "      <td>30000</td>\n",
       "    </tr>\n",
       "  </tbody>\n",
       "</table>\n",
       "</div>"
      ],
      "text/plain": [
       "  Mobile_Brands  Price\n",
       "0         Redmi  15000\n",
       "1         Apple  60000\n",
       "2       Samsumg  40000\n",
       "3          Vivo  30000"
      ]
     },
     "execution_count": 40,
     "metadata": {},
     "output_type": "execute_result"
    }
   ],
   "source": [
    "df"
   ]
  },
  {
   "cell_type": "code",
   "execution_count": 42,
   "metadata": {
    "id": "xbMH2_mPjOcy"
   },
   "outputs": [],
   "source": [
    "df = pd.DataFrame()\n",
    "\n",
    "df['Mobile_Brands'] = ['Redmi', 'Apple', 'Samsumg', 'Vivo']\n",
    "df['Price'] = [15000, 60000, 40000, 30000]"
   ]
  },
  {
   "cell_type": "code",
   "execution_count": 44,
   "metadata": {
    "colab": {
     "base_uri": "https://localhost:8080/",
     "height": 175
    },
    "id": "ZRUnIKgVjlvJ",
    "outputId": "ce9b45fc-065e-4e7f-bc2d-e6eb76ac741f"
   },
   "outputs": [
    {
     "data": {
      "text/html": [
       "<div>\n",
       "<style scoped>\n",
       "    .dataframe tbody tr th:only-of-type {\n",
       "        vertical-align: middle;\n",
       "    }\n",
       "\n",
       "    .dataframe tbody tr th {\n",
       "        vertical-align: top;\n",
       "    }\n",
       "\n",
       "    .dataframe thead th {\n",
       "        text-align: right;\n",
       "    }\n",
       "</style>\n",
       "<table border=\"1\" class=\"dataframe\">\n",
       "  <thead>\n",
       "    <tr style=\"text-align: right;\">\n",
       "      <th></th>\n",
       "      <th>Mobile_Brands</th>\n",
       "      <th>Price</th>\n",
       "    </tr>\n",
       "  </thead>\n",
       "  <tbody>\n",
       "    <tr>\n",
       "      <th>0</th>\n",
       "      <td>Redmi</td>\n",
       "      <td>15000</td>\n",
       "    </tr>\n",
       "    <tr>\n",
       "      <th>1</th>\n",
       "      <td>Apple</td>\n",
       "      <td>60000</td>\n",
       "    </tr>\n",
       "    <tr>\n",
       "      <th>2</th>\n",
       "      <td>Samsumg</td>\n",
       "      <td>40000</td>\n",
       "    </tr>\n",
       "    <tr>\n",
       "      <th>3</th>\n",
       "      <td>Vivo</td>\n",
       "      <td>30000</td>\n",
       "    </tr>\n",
       "  </tbody>\n",
       "</table>\n",
       "</div>"
      ],
      "text/plain": [
       "  Mobile_Brands  Price\n",
       "0         Redmi  15000\n",
       "1         Apple  60000\n",
       "2       Samsumg  40000\n",
       "3          Vivo  30000"
      ]
     },
     "execution_count": 44,
     "metadata": {},
     "output_type": "execute_result"
    }
   ],
   "source": [
    "df"
   ]
  },
  {
   "cell_type": "markdown",
   "metadata": {
    "id": "GLR6ELNRjmro"
   },
   "source": [
    "A teacher wants to create a table that contains information about students' roll_no from 1 to 10, student_name, and percentage. How can you accomplish this task using pandas dataframe?"
   ]
  },
  {
   "cell_type": "markdown",
   "metadata": {
    "id": "fPHfRajdjvVO"
   },
   "source": [
    "Slicing in Data Frame:"
   ]
  },
  {
   "cell_type": "markdown",
   "metadata": {
    "id": "yj8jPu3YmVbb"
   },
   "source": [
    "2 Types of Slicing:\n",
    "\n",
    "1) One slicing with respect to row: iloc\n",
    "\n",
    "2) another is with respect to column: loc"
   ]
  },
  {
   "cell_type": "code",
   "execution_count": 293,
   "metadata": {
    "colab": {
     "base_uri": "https://localhost:8080/",
     "height": 81
    },
    "id": "suDA3NhSmgaS",
    "outputId": "47617f29-e562-49a5-9a1c-10254fb1ceba"
   },
   "outputs": [
    {
     "data": {
      "text/html": [
       "<div>\n",
       "<style scoped>\n",
       "    .dataframe tbody tr th:only-of-type {\n",
       "        vertical-align: middle;\n",
       "    }\n",
       "\n",
       "    .dataframe tbody tr th {\n",
       "        vertical-align: top;\n",
       "    }\n",
       "\n",
       "    .dataframe thead th {\n",
       "        text-align: right;\n",
       "    }\n",
       "</style>\n",
       "<table border=\"1\" class=\"dataframe\">\n",
       "  <thead>\n",
       "    <tr style=\"text-align: right;\">\n",
       "      <th></th>\n",
       "      <th>Mobile_Brands</th>\n",
       "      <th>Price</th>\n",
       "    </tr>\n",
       "  </thead>\n",
       "  <tbody>\n",
       "    <tr>\n",
       "      <th>1</th>\n",
       "      <td>Apple</td>\n",
       "      <td>60000</td>\n",
       "    </tr>\n",
       "  </tbody>\n",
       "</table>\n",
       "</div>"
      ],
      "text/plain": [
       "  Mobile_Brands  Price\n",
       "1         Apple  60000"
      ]
     },
     "execution_count": 293,
     "metadata": {},
     "output_type": "execute_result"
    }
   ],
   "source": [
    "df.iloc[[1]]"
   ]
  },
  {
   "cell_type": "code",
   "execution_count": 318,
   "metadata": {
    "colab": {
     "base_uri": "https://localhost:8080/"
    },
    "id": "wvFDbzvqmlCg",
    "outputId": "d89ed07e-34c5-41a4-8155-5a0ac095a8f5"
   },
   "outputs": [
    {
     "data": {
      "text/plain": [
       "1    60000\n",
       "Name: Price, dtype: int64"
      ]
     },
     "execution_count": 318,
     "metadata": {},
     "output_type": "execute_result"
    }
   ],
   "source": [
    "df.loc[[1],\"Price\"]"
   ]
  },
  {
   "cell_type": "code",
   "execution_count": 46,
   "metadata": {
    "colab": {
     "base_uri": "https://localhost:8080/",
     "height": 112
    },
    "id": "fviYU8xsmwRL",
    "outputId": "68e64255-04de-42af-f5c7-60008adec0fd"
   },
   "outputs": [
    {
     "data": {
      "text/html": [
       "<div>\n",
       "<style scoped>\n",
       "    .dataframe tbody tr th:only-of-type {\n",
       "        vertical-align: middle;\n",
       "    }\n",
       "\n",
       "    .dataframe tbody tr th {\n",
       "        vertical-align: top;\n",
       "    }\n",
       "\n",
       "    .dataframe thead th {\n",
       "        text-align: right;\n",
       "    }\n",
       "</style>\n",
       "<table border=\"1\" class=\"dataframe\">\n",
       "  <thead>\n",
       "    <tr style=\"text-align: right;\">\n",
       "      <th></th>\n",
       "      <th>Mobile_Brands</th>\n",
       "      <th>Price</th>\n",
       "    </tr>\n",
       "  </thead>\n",
       "  <tbody>\n",
       "    <tr>\n",
       "      <th>1</th>\n",
       "      <td>Apple</td>\n",
       "      <td>60000</td>\n",
       "    </tr>\n",
       "    <tr>\n",
       "      <th>2</th>\n",
       "      <td>Samsumg</td>\n",
       "      <td>40000</td>\n",
       "    </tr>\n",
       "  </tbody>\n",
       "</table>\n",
       "</div>"
      ],
      "text/plain": [
       "  Mobile_Brands  Price\n",
       "1         Apple  60000\n",
       "2       Samsumg  40000"
      ]
     },
     "execution_count": 46,
     "metadata": {},
     "output_type": "execute_result"
    }
   ],
   "source": [
    "df.iloc[1:3] #It will not include the upper limit"
   ]
  },
  {
   "cell_type": "code",
   "execution_count": 287,
   "metadata": {
    "colab": {
     "base_uri": "https://localhost:8080/",
     "height": 143
    },
    "id": "Djg2RhvWm7tG",
    "outputId": "e869a806-4a57-41e6-cdd9-5fc4813e9b1b"
   },
   "outputs": [
    {
     "data": {
      "text/html": [
       "<div>\n",
       "<style scoped>\n",
       "    .dataframe tbody tr th:only-of-type {\n",
       "        vertical-align: middle;\n",
       "    }\n",
       "\n",
       "    .dataframe tbody tr th {\n",
       "        vertical-align: top;\n",
       "    }\n",
       "\n",
       "    .dataframe thead th {\n",
       "        text-align: right;\n",
       "    }\n",
       "</style>\n",
       "<table border=\"1\" class=\"dataframe\">\n",
       "  <thead>\n",
       "    <tr style=\"text-align: right;\">\n",
       "      <th></th>\n",
       "      <th>Mobile_Brands</th>\n",
       "      <th>Price</th>\n",
       "    </tr>\n",
       "  </thead>\n",
       "  <tbody>\n",
       "    <tr>\n",
       "      <th>1</th>\n",
       "      <td>Apple</td>\n",
       "      <td>60000</td>\n",
       "    </tr>\n",
       "    <tr>\n",
       "      <th>2</th>\n",
       "      <td>Samsumg</td>\n",
       "      <td>40000</td>\n",
       "    </tr>\n",
       "    <tr>\n",
       "      <th>3</th>\n",
       "      <td>Vivo</td>\n",
       "      <td>30000</td>\n",
       "    </tr>\n",
       "  </tbody>\n",
       "</table>\n",
       "</div>"
      ],
      "text/plain": [
       "  Mobile_Brands  Price\n",
       "1         Apple  60000\n",
       "2       Samsumg  40000\n",
       "3          Vivo  30000"
      ]
     },
     "execution_count": 287,
     "metadata": {},
     "output_type": "execute_result"
    }
   ],
   "source": [
    "df.loc[1:3]"
   ]
  },
  {
   "cell_type": "code",
   "execution_count": 288,
   "metadata": {
    "colab": {
     "base_uri": "https://localhost:8080/"
    },
    "id": "ig_wzoNSnD3F",
    "outputId": "23ff88ec-f996-4241-ffd2-1c75bd723466"
   },
   "outputs": [
    {
     "data": {
      "text/plain": [
       "2    Samsumg\n",
       "Name: Mobile_Brands, dtype: object"
      ]
     },
     "execution_count": 288,
     "metadata": {},
     "output_type": "execute_result"
    }
   ],
   "source": [
    "df.loc[[2], 'Mobile_Brands']"
   ]
  },
  {
   "cell_type": "code",
   "execution_count": null,
   "metadata": {
    "colab": {
     "base_uri": "https://localhost:8080/",
     "height": 423
    },
    "id": "qHHIuVM6oLFp",
    "outputId": "b25297ce-8d54-42a6-ab93-6922a4d20497"
   },
   "outputs": [],
   "source": [
    "df"
   ]
  },
  {
   "cell_type": "code",
   "execution_count": null,
   "metadata": {
    "id": "swBkQZrFoM-0"
   },
   "outputs": [],
   "source": [
    "import pandas\n"
   ]
  }
 ],
 "metadata": {
  "colab": {
   "provenance": []
  },
  "kernelspec": {
   "display_name": "Python 3 (ipykernel)",
   "language": "python",
   "name": "python3"
  },
  "language_info": {
   "codemirror_mode": {
    "name": "ipython",
    "version": 3
   },
   "file_extension": ".py",
   "mimetype": "text/x-python",
   "name": "python",
   "nbconvert_exporter": "python",
   "pygments_lexer": "ipython3",
   "version": "3.11.7"
  }
 },
 "nbformat": 4,
 "nbformat_minor": 4
}
