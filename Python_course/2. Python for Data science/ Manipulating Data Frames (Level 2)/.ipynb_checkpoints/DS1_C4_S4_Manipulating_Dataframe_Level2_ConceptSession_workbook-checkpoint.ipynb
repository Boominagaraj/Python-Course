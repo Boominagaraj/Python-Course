{
  "cells": [
    {
      "cell_type": "markdown",
      "id": "482f377a",
      "metadata": {
        "id": "482f377a"
      },
      "source": [
        "# Manipulating DataFrame (Level 2)"
      ]
    },
    {
      "cell_type": "markdown",
      "id": "226b750b",
      "metadata": {
        "id": "226b750b"
      },
      "source": [
        "## Inner Join:\n",
        "- return rows based on common characteristics"
      ]
    },
    {
      "cell_type": "markdown",
      "id": "f445280f",
      "metadata": {
        "id": "f445280f"
      },
      "source": [
        "## LEFT OUTER JOIN:\n",
        "\n",
        "\n",
        "![Screenshot16151%20%281%29.png](attachment:Screenshot16151%20%281%29.png)"
      ]
    },
    {
      "cell_type": "markdown",
      "id": "2960f83d",
      "metadata": {
        "id": "2960f83d"
      },
      "source": [
        "## RIGHT OUTER JOIN\n",
        "\n",
        "![Screenshot16151%20%282%29.png](attachment:Screenshot16151%20%282%29.png)"
      ]
    },
    {
      "cell_type": "markdown",
      "id": "27382529",
      "metadata": {
        "id": "27382529"
      },
      "source": [
        "## FULL OUTER JOIN\n",
        "\n",
        "![Screenshot16151%20%283%29.png](attachment:Screenshot16151%20%283%29.png)"
      ]
    },
    {
      "cell_type": "markdown",
      "id": "be9c8f67",
      "metadata": {
        "id": "be9c8f67"
      },
      "source": [
        "## INDEX JOIN"
      ]
    },
    {
      "cell_type": "markdown",
      "id": "eaf051ee",
      "metadata": {
        "id": "eaf051ee"
      },
      "source": [
        "# Concept Session\n",
        "## You might have noticed that data is present in multiple files in the dataset provided to you. What is the first thing that comes to your mind?\n",
        "## 'Merge them'"
      ]
    },
    {
      "cell_type": "markdown",
      "id": "db23071e",
      "metadata": {
        "id": "db23071e"
      },
      "source": [
        "## You may need to bring all the data at one place by some sort of join logic and then start your analysis."
      ]
    },
    {
      "cell_type": "markdown",
      "id": "de69360f",
      "metadata": {
        "id": "de69360f"
      },
      "source": [
        "# Task-1)"
      ]
    },
    {
      "cell_type": "markdown",
      "id": "1235ce03",
      "metadata": {
        "id": "1235ce03"
      },
      "source": [
        "## Assume that you have some data of customers with Cust_ID in one sheet of an excel file and some more data with Cust_ID in a second sheet of the same excel file. How can you join these data?\n",
        "### Read data from first sheet of excel file 'customer.xlsx'"
      ]
    },
    {
      "cell_type": "code",
      "execution_count": null,
      "id": "94b3e0f9",
      "metadata": {
        "id": "94b3e0f9"
      },
      "outputs": [],
      "source": []
    },
    {
      "cell_type": "markdown",
      "id": "cbe0c48d",
      "metadata": {
        "id": "cbe0c48d"
      },
      "source": [
        "### Read the data from second sheet of excel file."
      ]
    },
    {
      "cell_type": "markdown",
      "id": "19e97154",
      "metadata": {
        "id": "19e97154"
      },
      "source": [
        "## 1. Inner Join"
      ]
    },
    {
      "cell_type": "code",
      "source": [],
      "metadata": {
        "id": "xTnaVpSbpRRj"
      },
      "id": "xTnaVpSbpRRj",
      "execution_count": null,
      "outputs": []
    },
    {
      "cell_type": "code",
      "source": [],
      "metadata": {
        "id": "Qt87IySfpRrP"
      },
      "id": "Qt87IySfpRrP",
      "execution_count": null,
      "outputs": []
    },
    {
      "cell_type": "markdown",
      "id": "38487c80",
      "metadata": {
        "id": "38487c80"
      },
      "source": [
        "## 2. Outer Join"
      ]
    },
    {
      "cell_type": "code",
      "source": [],
      "metadata": {
        "id": "rDI0iT12pVGs"
      },
      "id": "rDI0iT12pVGs",
      "execution_count": null,
      "outputs": []
    },
    {
      "cell_type": "markdown",
      "id": "4e103c73",
      "metadata": {
        "id": "4e103c73"
      },
      "source": [
        "## 3. Right Join"
      ]
    },
    {
      "cell_type": "code",
      "source": [],
      "metadata": {
        "id": "d5XwZcGeqEwx"
      },
      "id": "d5XwZcGeqEwx",
      "execution_count": null,
      "outputs": []
    },
    {
      "cell_type": "markdown",
      "id": "cfb33ffd",
      "metadata": {
        "id": "cfb33ffd"
      },
      "source": [
        "## 4. Left Join"
      ]
    },
    {
      "cell_type": "code",
      "source": [],
      "metadata": {
        "id": "eakBPlH5qG2M"
      },
      "id": "eakBPlH5qG2M",
      "execution_count": null,
      "outputs": []
    },
    {
      "cell_type": "markdown",
      "id": "174ab63f",
      "metadata": {
        "id": "174ab63f"
      },
      "source": [
        "# Task-2)"
      ]
    },
    {
      "cell_type": "markdown",
      "id": "a8920a87",
      "metadata": {
        "id": "a8920a87"
      },
      "source": [
        "## Assume that you have some data of customers with Cust_ID in one sheet of an excel file and some more data with Cust_ID in a second sheet of same excel file. How can you join these data?\n",
        "### Read data from first sheet of excel file 'Ecommerce_data.xlsx'"
      ]
    },
    {
      "cell_type": "code",
      "execution_count": null,
      "id": "d3736970",
      "metadata": {
        "id": "d3736970"
      },
      "outputs": [],
      "source": []
    },
    {
      "cell_type": "markdown",
      "id": "0e44a8ea",
      "metadata": {
        "id": "0e44a8ea"
      },
      "source": [
        "### Read data from second sheet of excel file"
      ]
    },
    {
      "cell_type": "code",
      "execution_count": null,
      "id": "4a67f2bb",
      "metadata": {
        "id": "4a67f2bb"
      },
      "outputs": [],
      "source": []
    },
    {
      "cell_type": "markdown",
      "id": "cdbe291e",
      "metadata": {
        "id": "cdbe291e"
      },
      "source": [
        "## 1. Inner Merge"
      ]
    },
    {
      "cell_type": "code",
      "execution_count": null,
      "id": "7cc99507",
      "metadata": {
        "id": "7cc99507"
      },
      "outputs": [],
      "source": []
    },
    {
      "cell_type": "markdown",
      "id": "d0743004",
      "metadata": {
        "id": "d0743004"
      },
      "source": [
        "## 2. Outer Merge"
      ]
    },
    {
      "cell_type": "code",
      "execution_count": null,
      "id": "d227292e",
      "metadata": {
        "id": "d227292e"
      },
      "outputs": [],
      "source": []
    },
    {
      "cell_type": "markdown",
      "id": "fb9d2d70",
      "metadata": {
        "id": "fb9d2d70"
      },
      "source": [
        "## 3. Right Merge"
      ]
    },
    {
      "cell_type": "code",
      "execution_count": null,
      "id": "d6c8fceb",
      "metadata": {
        "id": "d6c8fceb"
      },
      "outputs": [],
      "source": []
    },
    {
      "cell_type": "markdown",
      "id": "3e675aec",
      "metadata": {
        "id": "3e675aec"
      },
      "source": [
        "## 4. left Merge"
      ]
    },
    {
      "cell_type": "code",
      "execution_count": null,
      "id": "7eb25fee",
      "metadata": {
        "id": "7eb25fee"
      },
      "outputs": [],
      "source": []
    },
    {
      "cell_type": "markdown",
      "id": "44b67f9d",
      "metadata": {
        "id": "44b67f9d"
      },
      "source": [
        "# Task-3)"
      ]
    },
    {
      "cell_type": "markdown",
      "id": "6ebb920e",
      "metadata": {
        "id": "6ebb920e"
      },
      "source": [
        "## Represent the name of some persons with their date of births in a tabular format."
      ]
    },
    {
      "cell_type": "code",
      "source": [],
      "metadata": {
        "id": "TJSWDBZNqJVV"
      },
      "id": "TJSWDBZNqJVV",
      "execution_count": null,
      "outputs": []
    },
    {
      "cell_type": "markdown",
      "id": "59277783",
      "metadata": {
        "id": "59277783"
      },
      "source": [
        "# Dataset: Insurance Claim\n",
        "# File name: 'insurance_data_with_day.csv'\n",
        "## Read the data from this file and perform the following computations."
      ]
    },
    {
      "cell_type": "code",
      "source": [],
      "metadata": {
        "id": "XdF3zXH9qMEX"
      },
      "id": "XdF3zXH9qMEX",
      "execution_count": null,
      "outputs": []
    },
    {
      "cell_type": "markdown",
      "id": "854295e7",
      "metadata": {
        "id": "854295e7"
      },
      "source": [
        "# Task-4)"
      ]
    },
    {
      "cell_type": "markdown",
      "id": "50b0a452",
      "metadata": {
        "id": "50b0a452"
      },
      "source": [
        "## Find the duplicate rows except their first occurence in the dataset."
      ]
    },
    {
      "cell_type": "code",
      "source": [],
      "metadata": {
        "id": "BtKNYYQfqPhN"
      },
      "id": "BtKNYYQfqPhN",
      "execution_count": null,
      "outputs": []
    },
    {
      "cell_type": "markdown",
      "id": "3122cd0c",
      "metadata": {
        "id": "3122cd0c"
      },
      "source": [
        "# Task-5)"
      ]
    },
    {
      "cell_type": "markdown",
      "id": "342edb82",
      "metadata": {
        "id": "342edb82"
      },
      "source": [
        "## Find the duplicate rows based on the columns of age, gender and blood pressure."
      ]
    },
    {
      "cell_type": "code",
      "source": [],
      "metadata": {
        "id": "E08dJVihqSWj"
      },
      "id": "E08dJVihqSWj",
      "execution_count": null,
      "outputs": []
    },
    {
      "cell_type": "code",
      "execution_count": null,
      "id": "6660d8d1",
      "metadata": {
        "id": "6660d8d1"
      },
      "outputs": [],
      "source": []
    },
    {
      "cell_type": "markdown",
      "id": "4a06ccea",
      "metadata": {
        "id": "4a06ccea"
      },
      "source": [
        "# Task-6)"
      ]
    },
    {
      "cell_type": "markdown",
      "id": "fea45159",
      "metadata": {
        "id": "fea45159"
      },
      "source": [
        "## Drop the duplicate rows where column matches."
      ]
    },
    {
      "cell_type": "code",
      "source": [],
      "metadata": {
        "id": "7H8_c57QqT_z"
      },
      "id": "7H8_c57QqT_z",
      "execution_count": null,
      "outputs": []
    },
    {
      "cell_type": "markdown",
      "id": "32a3bbff",
      "metadata": {
        "id": "32a3bbff"
      },
      "source": [
        "# Task-7)"
      ]
    },
    {
      "cell_type": "markdown",
      "id": "82691089",
      "metadata": {
        "id": "82691089"
      },
      "source": [
        "## Drop the duplicate rows except their first occurence based on the columns of age, gender, bmi and children."
      ]
    },
    {
      "cell_type": "code",
      "source": [],
      "metadata": {
        "id": "LowFnTkOqVhK"
      },
      "id": "LowFnTkOqVhK",
      "execution_count": null,
      "outputs": []
    },
    {
      "cell_type": "markdown",
      "id": "7ce613fc",
      "metadata": {
        "id": "7ce613fc"
      },
      "source": [
        "# Task-9)"
      ]
    },
    {
      "cell_type": "markdown",
      "id": "c0de8692",
      "metadata": {
        "id": "c0de8692"
      },
      "source": [
        "## Replace the values southeast, southwest, northeast and northwest by South_East, South_West, North_East and North_West respectively."
      ]
    },
    {
      "cell_type": "code",
      "source": [],
      "metadata": {
        "id": "lEcxw9g8qXJZ"
      },
      "id": "lEcxw9g8qXJZ",
      "execution_count": null,
      "outputs": []
    },
    {
      "cell_type": "markdown",
      "id": "58aeb3fc",
      "metadata": {
        "id": "58aeb3fc"
      },
      "source": [
        "# Task-10)"
      ]
    },
    {
      "cell_type": "markdown",
      "id": "794248e7",
      "metadata": {
        "id": "794248e7"
      },
      "source": [
        "## Add a new column 'High_bmi' after the column 'bmi' and follow the conditions below.\n",
        "### (1) In 'bmi', if the value is less than or equal to 32, then assign value 'No' to 'High_bmi'.  \n",
        "### (2) In 'bmi', if the value is more than 32, then assign value 'Yes' to 'High_bmi'."
      ]
    },
    {
      "cell_type": "code",
      "execution_count": null,
      "id": "81b689e4",
      "metadata": {
        "id": "81b689e4"
      },
      "outputs": [],
      "source": []
    },
    {
      "cell_type": "markdown",
      "id": "8a430a4f",
      "metadata": {
        "id": "8a430a4f"
      },
      "source": [
        "# Task-11)"
      ]
    },
    {
      "cell_type": "markdown",
      "id": "db5c2bb6",
      "metadata": {
        "id": "db5c2bb6"
      },
      "source": [
        "## Group the data based on gender."
      ]
    },
    {
      "cell_type": "code",
      "source": [],
      "metadata": {
        "id": "lY4MgJfvqbbt"
      },
      "id": "lY4MgJfvqbbt",
      "execution_count": null,
      "outputs": []
    },
    {
      "cell_type": "markdown",
      "id": "e6569083",
      "metadata": {
        "id": "e6569083"
      },
      "source": [
        "# Task-11)"
      ]
    },
    {
      "cell_type": "markdown",
      "id": "cc9351ee",
      "metadata": {
        "id": "cc9351ee"
      },
      "source": [
        "## Find the total claim of insurance based on regions."
      ]
    },
    {
      "cell_type": "code",
      "source": [],
      "metadata": {
        "id": "NM7HiuuxqfRA"
      },
      "id": "NM7HiuuxqfRA",
      "execution_count": null,
      "outputs": []
    },
    {
      "cell_type": "markdown",
      "id": "ddd2cfc7",
      "metadata": {
        "id": "ddd2cfc7"
      },
      "source": [
        "# Task-12)"
      ]
    },
    {
      "cell_type": "markdown",
      "id": "ef56d341",
      "metadata": {
        "id": "ef56d341"
      },
      "source": [
        "## Find the total number of males and females in each region."
      ]
    },
    {
      "cell_type": "code",
      "source": [],
      "metadata": {
        "id": "TLwBqAmMqkTX"
      },
      "id": "TLwBqAmMqkTX",
      "execution_count": null,
      "outputs": []
    },
    {
      "cell_type": "markdown",
      "id": "c2dac136",
      "metadata": {
        "id": "c2dac136"
      },
      "source": [
        "# Task-13)"
      ]
    },
    {
      "cell_type": "markdown",
      "id": "9bdbc943",
      "metadata": {
        "id": "9bdbc943"
      },
      "source": [
        "## Find the average claim of insurance for males and females in each region."
      ]
    },
    {
      "cell_type": "code",
      "source": [],
      "metadata": {
        "id": "-Gyt9sJfqmHE"
      },
      "id": "-Gyt9sJfqmHE",
      "execution_count": null,
      "outputs": []
    },
    {
      "cell_type": "code",
      "execution_count": null,
      "id": "8433cc92",
      "metadata": {
        "id": "8433cc92"
      },
      "outputs": [],
      "source": []
    },
    {
      "cell_type": "markdown",
      "id": "e0d82ccd",
      "metadata": {
        "id": "e0d82ccd"
      },
      "source": [
        "# Task-14)"
      ]
    },
    {
      "cell_type": "markdown",
      "id": "0179734b",
      "metadata": {
        "id": "0179734b"
      },
      "source": [
        "## Create a pivot table that shows the average claims for each region."
      ]
    },
    {
      "cell_type": "markdown",
      "id": "c8039832",
      "metadata": {
        "id": "c8039832"
      },
      "source": [
        "### Pivot table : to summarize one or more numeric variable based on some categories"
      ]
    },
    {
      "cell_type": "code",
      "source": [],
      "metadata": {
        "id": "bcxGvvrLqna2"
      },
      "id": "bcxGvvrLqna2",
      "execution_count": null,
      "outputs": []
    },
    {
      "cell_type": "markdown",
      "id": "8b8250c8",
      "metadata": {
        "id": "8b8250c8"
      },
      "source": [
        "# Task-15)"
      ]
    },
    {
      "cell_type": "markdown",
      "id": "019982c5",
      "metadata": {
        "id": "019982c5"
      },
      "source": [
        "## Create a pivot table that shows the minimum and maximum claim for each region."
      ]
    },
    {
      "cell_type": "code",
      "source": [],
      "metadata": {
        "id": "5idk_RQjqpSj"
      },
      "id": "5idk_RQjqpSj",
      "execution_count": null,
      "outputs": []
    },
    {
      "cell_type": "markdown",
      "id": "185f8c41",
      "metadata": {
        "id": "185f8c41"
      },
      "source": [
        "# Task-16)"
      ]
    },
    {
      "cell_type": "markdown",
      "id": "9369b80c",
      "metadata": {
        "id": "9369b80c"
      },
      "source": [
        "## Create a cross table to find out the region-wise gender count."
      ]
    },
    {
      "cell_type": "markdown",
      "id": "71b7b380",
      "metadata": {
        "id": "71b7b380"
      },
      "source": [
        "### cross-table - computation, by default it'll give you frequency table"
      ]
    },
    {
      "cell_type": "code",
      "source": [],
      "metadata": {
        "id": "V6Hvbuz8qrF8"
      },
      "id": "V6Hvbuz8qrF8",
      "execution_count": null,
      "outputs": []
    },
    {
      "cell_type": "markdown",
      "id": "7a17b160",
      "metadata": {
        "id": "7a17b160"
      },
      "source": [
        "# Task-17)"
      ]
    },
    {
      "cell_type": "markdown",
      "id": "214bd855",
      "metadata": {
        "id": "214bd855"
      },
      "source": [
        "## Find out the total missing values in each column of the dataset. Then replace the missing values by appropriate values.\n",
        "### Total missing values in each column"
      ]
    },
    {
      "cell_type": "code",
      "source": [],
      "metadata": {
        "id": "qvYvmKXVqtHa"
      },
      "id": "qvYvmKXVqtHa",
      "execution_count": null,
      "outputs": []
    },
    {
      "cell_type": "code",
      "execution_count": null,
      "id": "7bc39d30",
      "metadata": {
        "id": "7bc39d30"
      },
      "outputs": [],
      "source": []
    },
    {
      "cell_type": "markdown",
      "id": "0a86b5d8",
      "metadata": {
        "id": "0a86b5d8"
      },
      "source": [
        "### Count the different values of diabetic column"
      ]
    },
    {
      "cell_type": "code",
      "source": [],
      "metadata": {
        "id": "6RER9LATquVi"
      },
      "id": "6RER9LATquVi",
      "execution_count": null,
      "outputs": []
    },
    {
      "cell_type": "markdown",
      "id": "61d010af",
      "metadata": {
        "id": "61d010af"
      },
      "source": [
        "### Replace the missing value by the most frequent value"
      ]
    },
    {
      "cell_type": "code",
      "source": [],
      "metadata": {
        "id": "IIytd3ryqv5Z"
      },
      "id": "IIytd3ryqv5Z",
      "execution_count": null,
      "outputs": []
    },
    {
      "cell_type": "code",
      "execution_count": null,
      "id": "0e70534e",
      "metadata": {
        "id": "0e70534e"
      },
      "outputs": [],
      "source": []
    },
    {
      "cell_type": "markdown",
      "id": "cb742629",
      "metadata": {
        "id": "cb742629"
      },
      "source": [
        "### Replace the missing value by mean value in 'claim'"
      ]
    },
    {
      "cell_type": "code",
      "source": [],
      "metadata": {
        "id": "FTWcs4Giqxn-"
      },
      "id": "FTWcs4Giqxn-",
      "execution_count": null,
      "outputs": []
    },
    {
      "cell_type": "markdown",
      "id": "75bcc060",
      "metadata": {
        "id": "75bcc060"
      },
      "source": [
        "### Find the total missing values in each column again"
      ]
    },
    {
      "cell_type": "markdown",
      "id": "b7c97f1c",
      "metadata": {
        "id": "b7c97f1c"
      },
      "source": [
        "### There are no missing values left."
      ]
    },
    {
      "cell_type": "code",
      "execution_count": null,
      "id": "6642a9bb",
      "metadata": {
        "id": "6642a9bb"
      },
      "outputs": [],
      "source": []
    }
  ],
  "metadata": {
    "kernelspec": {
      "display_name": "Python 3 (ipykernel)",
      "language": "python",
      "name": "python3"
    },
    "language_info": {
      "codemirror_mode": {
        "name": "ipython",
        "version": 3
      },
      "file_extension": ".py",
      "mimetype": "text/x-python",
      "name": "python",
      "nbconvert_exporter": "python",
      "pygments_lexer": "ipython3",
      "version": "3.9.12"
    },
    "colab": {
      "provenance": []
    }
  },
  "nbformat": 4,
  "nbformat_minor": 5
}