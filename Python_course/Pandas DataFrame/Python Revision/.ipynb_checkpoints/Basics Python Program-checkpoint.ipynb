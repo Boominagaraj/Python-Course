{
 "cells": [
  {
   "cell_type": "markdown",
   "id": "24dffad8-ea99-47f2-9d23-f0e650154fb6",
   "metadata": {},
   "source": [
    "# Palindrome OR Not Palindrome"
   ]
  },
  {
   "cell_type": "code",
   "execution_count": 1,
   "id": "739ce9f5-01b3-4da2-93d7-554cc7ce5f15",
   "metadata": {},
   "outputs": [
    {
     "name": "stdin",
     "output_type": "stream",
     "text": [
      "enter the String malayalam\n"
     ]
    },
    {
     "name": "stdout",
     "output_type": "stream",
     "text": [
      "MALAYALAM it is palindrome\n"
     ]
    }
   ],
   "source": [
    "#1\n",
    "S=input(\"enter the String\").upper()\n",
    "S1=S[::-1]\n",
    "if S1==S:\n",
    "    print(S,\"it is palindrome\")\n",
    "else:\n",
    "    print(S,\"it is not Palidrome\")"
   ]
  },
  {
   "cell_type": "code",
   "execution_count": 2,
   "id": "b9cfb1b3-80ad-4f3d-be49-4d115672364c",
   "metadata": {},
   "outputs": [
    {
     "data": {
      "text/plain": [
       "[1, 2, 3, 4, 5]"
      ]
     },
     "execution_count": 2,
     "metadata": {},
     "output_type": "execute_result"
    }
   ],
   "source": [
    "#7\n",
    "li=[1,2,3,4,5,2,3,1]\n",
    "li1=[]\n",
    "for i in li:\n",
    "    if i not in li1:\n",
    "        li1.append(i)\n",
    "li1"
   ]
  },
  {
   "cell_type": "code",
   "execution_count": 19,
   "id": "a1250be2-32e5-4f73-b9d2-7dc7b7c88e61",
   "metadata": {},
   "outputs": [
    {
     "data": {
      "text/plain": [
       "[1, 2, 3, 4, 5]"
      ]
     },
     "execution_count": 19,
     "metadata": {},
     "output_type": "execute_result"
    }
   ],
   "source": [
    "#12\n",
    "li=[1,2,3,4,5,2,3,1]\n",
    "li1=[1,2,3,4,5,6,7,8]\n",
    "comman=[]\n",
    "for i in li:\n",
    "    for j in li1:\n",
    "        if i==j and i not in comman:\n",
    "            comman.append(i)\n",
    "comman"
   ]
  },
  {
   "cell_type": "code",
   "execution_count": 1,
   "id": "20d05b6b-037d-4552-aead-8d0e47e6beef",
   "metadata": {},
   "outputs": [
    {
     "name": "stdout",
     "output_type": "stream",
     "text": [
      "Maximum product of three numbers is 1200\n"
     ]
    }
   ],
   "source": [
    "#3\n",
    "l=[-10,-3,5,6,-20]\n",
    "l.sort()\n",
    "n=len(l)\n",
    "r=max(l[0]*l[1]*l[n-1],l[n-1]*l[n-2]*l[n-3])\n",
    "print(\"Maximum product of three numbers is\",r)"
   ]
  },
  {
   "cell_type": "code",
   "execution_count": 2,
   "id": "8f1404b5-2108-427a-9112-a7c746dbf019",
   "metadata": {},
   "outputs": [
    {
     "name": "stdin",
     "output_type": "stream",
     "text": [
      "Enter a number : 5\n"
     ]
    },
    {
     "name": "stdout",
     "output_type": "stream",
     "text": [
      "The Factorial of 5 is 120\n"
     ]
    }
   ],
   "source": [
    "# 5\n",
    "def fact(n):\n",
    "    if n==0:\n",
    "        return 1\n",
    "    else:\n",
    "        return n*fact(n-1)\n",
    "n=int(input('Enter a number :'))\n",
    "f=fact(n)\n",
    "print('The Factorial of',n,'is',f)"
   ]
  },
  {
   "cell_type": "code",
   "execution_count": 9,
   "id": "8457834a-41b0-4406-ab02-620013ab7116",
   "metadata": {},
   "outputs": [
    {
     "name": "stdin",
     "output_type": "stream",
     "text": [
      "Enter a String : silent\n",
      "Enter a String : listen\n"
     ]
    },
    {
     "name": "stdout",
     "output_type": "stream",
     "text": [
      "Strings are Anagram\n"
     ]
    }
   ],
   "source": [
    "#8\n",
    "s=input('Enter a String :').lower()\n",
    "s1=input('Enter a String :').lower()\n",
    "if len(s)==len(s1) and sorted(s)==sorted(s1):\n",
    "    print('Strings are Anagram')\n",
    "else:\n",
    "    print('Strings are not Anagram')"
   ]
  },
  {
   "cell_type": "code",
   "execution_count": 10,
   "id": "c21c5bd4-ca8a-42aa-8c04-3026c16a9a8d",
   "metadata": {},
   "outputs": [
    {
     "name": "stdout",
     "output_type": "stream",
     "text": [
      "Fibonacci Series : [0, 1, 1, 2, 3, 5, 8, 13, 21, 34]\n"
     ]
    }
   ],
   "source": [
    "#10\n",
    "def fibo(n):\n",
    "    if n<=0:\n",
    "        return []\n",
    "    elif n==1:\n",
    "        return [0]\n",
    "    elif n==2:\n",
    "        return [0,1]\n",
    "    else:\n",
    "        fib=fibo(n-1)\n",
    "        fib.append(fib[-1]+fib[-2])\n",
    "        return fib\n",
    "n=10\n",
    "print(\"Fibonacci Series :\",fibo(n))"
   ]
  },
  {
   "cell_type": "code",
   "execution_count": 3,
   "id": "9ded214e-f5aa-4d0e-a178-3736a2574e91",
   "metadata": {},
   "outputs": [
    {
     "name": "stdin",
     "output_type": "stream",
     "text": [
      "Enter a Number : 5\n"
     ]
    },
    {
     "name": "stdout",
     "output_type": "stream",
     "text": [
      "Largest Prime Factor is 5\n"
     ]
    }
   ],
   "source": [
    "#13\n",
    "n=int(input('Enter a Number :'))\n",
    "i=2\n",
    "while i*i<=n:\n",
    "    if n%i:\n",
    "        i+=1\n",
    "    else:\n",
    "        n//=i\n",
    "print(\"Largest Prime Factor is\",n)"
   ]
  },
  {
   "cell_type": "code",
   "execution_count": 4,
   "id": "6d1aab84-1362-45bf-9bd6-f5b7cd82e3dd",
   "metadata": {},
   "outputs": [
    {
     "name": "stdin",
     "output_type": "stream",
     "text": [
      "Enter a String : boomi\n"
     ]
    },
    {
     "name": "stdout",
     "output_type": "stream",
     "text": [
      "{'b': 1, 'o': 2, 'm': 1, 'i': 1}\n"
     ]
    }
   ],
   "source": [
    "#15\n",
    "s=input('Enter a String :')\n",
    "c={}\n",
    "for char in s:\n",
    "    if char in c:\n",
    "        c[char]+=1\n",
    "    else:\n",
    "        c[char]=1\n",
    "print(c)"
   ]
  },
  {
   "cell_type": "code",
   "execution_count": 5,
   "id": "9d7fd2d7-aa5e-45b6-a58e-15b23489ffc0",
   "metadata": {},
   "outputs": [
    {
     "name": "stdout",
     "output_type": "stream",
     "text": [
      "['ali', 'dhoni', 'jaddu', 'rachin', 'rahane', 'thakur', 'ruturaj', 'pathirana']\n"
     ]
    }
   ],
   "source": [
    "#16\n",
    "l=['dhoni','jaddu','ruturaj','ali','rachin','rahane','pathirana','thakur']\n",
    "csk=sorted(l,key=len)\n",
    "print(csk)"
   ]
  },
  {
   "cell_type": "code",
   "execution_count": 6,
   "id": "a0622217-901f-4b10-9f4f-a3bae68b0ac5",
   "metadata": {},
   "outputs": [
    {
     "name": "stdin",
     "output_type": "stream",
     "text": [
      "Enter Base value : 65\n",
      "Enter Exponent value : 2\n"
     ]
    },
    {
     "name": "stdout",
     "output_type": "stream",
     "text": [
      "65 power 2 is 4225\n"
     ]
    }
   ],
   "source": [
    "#17\n",
    "def pow(b,e):\n",
    "    if e==0:\n",
    "        return 1\n",
    "    else:\n",
    "        return b*pow(b,e-1)\n",
    "b=int(input('Enter Base value :'))\n",
    "e=int(input('Enter Exponent value :'))\n",
    "print(b,'power',e,'is',pow(b,e))"
   ]
  },
  {
   "cell_type": "code",
   "execution_count": 7,
   "id": "73831f24-93bc-41bb-8fa0-8e08ced72a28",
   "metadata": {},
   "outputs": [
    {
     "name": "stdout",
     "output_type": "stream",
     "text": [
      "Two numbers that sum upto target value is 7 , 11\n"
     ]
    }
   ],
   "source": [
    "#18\n",
    "l=[2,7,11,15]\n",
    "target=18\n",
    "for i in range(len(l)):\n",
    "    for j in range(i+1,len(l)):\n",
    "        if l[i]+l[j]==target:\n",
    "            print(\"Two numbers that sum upto target value is\",l[i],\",\",l[j])"
   ]
  },
  {
   "cell_type": "code",
   "execution_count": 8,
   "id": "64ee17cd-f265-4c31-b31f-737d6b74ac26",
   "metadata": {},
   "outputs": [
    {
     "name": "stdin",
     "output_type": "stream",
     "text": [
      "Enter element to remove in list : 8\n"
     ]
    },
    {
     "name": "stdout",
     "output_type": "stream",
     "text": [
      "[1, 4, 2, 5, 6, 7, 3, 4, 2, 5, 2, 1]\n"
     ]
    }
   ],
   "source": [
    "#19\n",
    "l=[1,4,2,5,6,7,3,8,4,2,5,2,1]\n",
    "el=int(input('Enter element to remove in list :'))\n",
    "for i in l:\n",
    "    if i==el:\n",
    "        l.remove(el)\n",
    "print(l)"
   ]
  },
  {
   "cell_type": "code",
   "execution_count": 11,
   "id": "ec26ba19-1b81-4773-9ef5-3e48384927bb",
   "metadata": {},
   "outputs": [
    {
     "name": "stdin",
     "output_type": "stream",
     "text": [
      "Enter a String boomi\n"
     ]
    },
    {
     "name": "stdout",
     "output_type": "stream",
     "text": [
      "IMOOB\n"
     ]
    }
   ],
   "source": [
    "#4\n",
    "l=input('Enter a String')\n",
    "s=''\n",
    "for i in range(len(l)-1,-1,-1):\n",
    "    s=s+l[i]\n",
    "print(s.upper())"
   ]
  },
  {
   "cell_type": "code",
   "execution_count": null,
   "id": "2400fb93-ca17-470a-97fa-ceabe424f720",
   "metadata": {},
   "outputs": [],
   "source": []
  }
 ],
 "metadata": {
  "kernelspec": {
   "display_name": "Python 3 (ipykernel)",
   "language": "python",
   "name": "python3"
  },
  "language_info": {
   "codemirror_mode": {
    "name": "ipython",
    "version": 3
   },
   "file_extension": ".py",
   "mimetype": "text/x-python",
   "name": "python",
   "nbconvert_exporter": "python",
   "pygments_lexer": "ipython3",
   "version": "3.11.7"
  }
 },
 "nbformat": 4,
 "nbformat_minor": 5
}
