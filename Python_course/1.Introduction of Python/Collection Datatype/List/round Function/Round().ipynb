{
 "cells": [
  {
   "cell_type": "code",
   "execution_count": 1,
   "id": "32bd571e-01b8-474c-8d38-923143af4830",
   "metadata": {},
   "outputs": [
    {
     "name": "stdout",
     "output_type": "stream",
     "text": [
      "7\n"
     ]
    }
   ],
   "source": [
    "print(round(7))"
   ]
  },
  {
   "cell_type": "code",
   "execution_count": 2,
   "id": "db350b2d-a295-46fa-a266-49ab9f4f2c35",
   "metadata": {},
   "outputs": [
    {
     "name": "stdout",
     "output_type": "stream",
     "text": [
      "7\n"
     ]
    }
   ],
   "source": [
    "print(round(7,2))"
   ]
  },
  {
   "cell_type": "code",
   "execution_count": 3,
   "id": "b4bb7263-c771-4521-8856-e23e9ad17643",
   "metadata": {},
   "outputs": [
    {
     "name": "stdout",
     "output_type": "stream",
     "text": [
      "7\n"
     ]
    }
   ],
   "source": [
    "print(round(7.41))"
   ]
  },
  {
   "cell_type": "code",
   "execution_count": 7,
   "id": "1da1318e-725d-48d3-b80a-27fc3aab01c3",
   "metadata": {},
   "outputs": [
    {
     "name": "stdout",
     "output_type": "stream",
     "text": [
      "2.67\n"
     ]
    }
   ],
   "source": [
    "print(round(2.6666,2))"
   ]
  },
  {
   "cell_type": "code",
   "execution_count": 5,
   "id": "ce07903f-a032-4f0f-976a-97121936ecff",
   "metadata": {},
   "outputs": [
    {
     "name": "stdout",
     "output_type": "stream",
     "text": [
      "3.0\n"
     ]
    }
   ],
   "source": [
    "print(round(2.6657,0))"
   ]
  },
  {
   "cell_type": "code",
   "execution_count": 8,
   "id": "2da9856d-76cf-4b7b-804b-70deb0bb78a1",
   "metadata": {},
   "outputs": [
    {
     "name": "stdout",
     "output_type": "stream",
     "text": [
      "8\n"
     ]
    }
   ],
   "source": [
    "print(round(7.5))"
   ]
  },
  {
   "cell_type": "code",
   "execution_count": 9,
   "id": "f60871e8-8379-424c-b05d-ff2e3970ec2f",
   "metadata": {},
   "outputs": [
    {
     "name": "stdout",
     "output_type": "stream",
     "text": [
      "6\n"
     ]
    }
   ],
   "source": [
    "print(round(6.5))"
   ]
  },
  {
   "cell_type": "code",
   "execution_count": 10,
   "id": "97b9c12a-bad8-4001-a32a-38328f778b52",
   "metadata": {},
   "outputs": [
    {
     "name": "stdout",
     "output_type": "stream",
     "text": [
      "12\n"
     ]
    }
   ],
   "source": [
    "print(round(11.5))"
   ]
  },
  {
   "cell_type": "code",
   "execution_count": 11,
   "id": "011fd536-1a95-4276-8177-cee8610c6d7e",
   "metadata": {},
   "outputs": [
    {
     "name": "stdout",
     "output_type": "stream",
     "text": [
      "12\n"
     ]
    }
   ],
   "source": [
    "print(round(12.5))"
   ]
  },
  {
   "cell_type": "code",
   "execution_count": 12,
   "id": "e1dd83ee-6ad2-450d-af55-14276441a7d6",
   "metadata": {},
   "outputs": [
    {
     "name": "stdout",
     "output_type": "stream",
     "text": [
      "674\n"
     ]
    }
   ],
   "source": [
    "print(round(674,2))"
   ]
  },
  {
   "cell_type": "code",
   "execution_count": 13,
   "id": "c9e138fc-6a3d-44aa-bb41-380f5ecf9f82",
   "metadata": {},
   "outputs": [
    {
     "name": "stdout",
     "output_type": "stream",
     "text": [
      "674\n"
     ]
    }
   ],
   "source": [
    "print(round(674,0))"
   ]
  },
  {
   "cell_type": "code",
   "execution_count": 14,
   "id": "b9b41aaf-11c5-4188-9b81-90104b996250",
   "metadata": {},
   "outputs": [
    {
     "name": "stdout",
     "output_type": "stream",
     "text": [
      "0\n"
     ]
    }
   ],
   "source": [
    "print(round(674,-4))"
   ]
  },
  {
   "cell_type": "code",
   "execution_count": 15,
   "id": "7a69485b-652d-4213-9682-49dd2bdab02b",
   "metadata": {},
   "outputs": [
    {
     "name": "stdout",
     "output_type": "stream",
     "text": [
      "660\n"
     ]
    }
   ],
   "source": [
    "print(round(665,-1))"
   ]
  },
  {
   "cell_type": "code",
   "execution_count": 16,
   "id": "fe6e8873-aa52-4e04-9958-b6080c2ab303",
   "metadata": {},
   "outputs": [
    {
     "name": "stdout",
     "output_type": "stream",
     "text": [
      "680\n"
     ]
    }
   ],
   "source": [
    "print(round(675,-1))"
   ]
  },
  {
   "cell_type": "code",
   "execution_count": 17,
   "id": "d7187f60-f1be-4c39-a6ad-f597dbb76cd8",
   "metadata": {},
   "outputs": [
    {
     "name": "stdout",
     "output_type": "stream",
     "text": [
      "675\n"
     ]
    }
   ],
   "source": [
    "print(round(675,1))"
   ]
  },
  {
   "cell_type": "code",
   "execution_count": 19,
   "id": "2eae1e73-e195-45b2-b281-b40b8023e1ab",
   "metadata": {},
   "outputs": [
    {
     "name": "stdout",
     "output_type": "stream",
     "text": [
      "685\n"
     ]
    }
   ],
   "source": [
    "print(round(685,1))"
   ]
  },
  {
   "cell_type": "code",
   "execution_count": 20,
   "id": "6a4eddb0-94bc-4925-bc52-6b5f0ac97bb5",
   "metadata": {},
   "outputs": [
    {
     "name": "stdout",
     "output_type": "stream",
     "text": [
      "670.0\n"
     ]
    }
   ],
   "source": [
    "print(round(674.1012,-1))"
   ]
  },
  {
   "cell_type": "code",
   "execution_count": 21,
   "id": "5b03c2da-04b7-49f5-b223-40023a5a6a41",
   "metadata": {},
   "outputs": [
    {
     "name": "stdout",
     "output_type": "stream",
     "text": [
      "1200\n"
     ]
    }
   ],
   "source": [
    "print(round(1212,-2))"
   ]
  },
  {
   "cell_type": "code",
   "execution_count": 22,
   "id": "ef687c16-3c19-4639-9a6e-a7e2725eb395",
   "metadata": {},
   "outputs": [
    {
     "name": "stdout",
     "output_type": "stream",
     "text": [
      "0\n"
     ]
    }
   ],
   "source": [
    "print(round(467,-3))"
   ]
  },
  {
   "cell_type": "code",
   "execution_count": null,
   "id": "f2c132e0-8eac-4b9d-9075-5dbec0e2c0e6",
   "metadata": {},
   "outputs": [],
   "source": []
  }
 ],
 "metadata": {
  "kernelspec": {
   "display_name": "Python 3 (ipykernel)",
   "language": "python",
   "name": "python3"
  },
  "language_info": {
   "codemirror_mode": {
    "name": "ipython",
    "version": 3
   },
   "file_extension": ".py",
   "mimetype": "text/x-python",
   "name": "python",
   "nbconvert_exporter": "python",
   "pygments_lexer": "ipython3",
   "version": "3.11.7"
  }
 },
 "nbformat": 4,
 "nbformat_minor": 5
}
