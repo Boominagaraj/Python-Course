{
 "cells": [
  {
   "cell_type": "code",
   "execution_count": 2,
   "id": "31cadb31-db17-41f1-bab2-12eb5ae97497",
   "metadata": {},
   "outputs": [
    {
     "name": "stdout",
     "output_type": "stream",
     "text": [
      "My name is Boomi.i am 23 years old . my height is 173 nmeters\n"
     ]
    }
   ],
   "source": [
    "name=\"Boomi\"\n",
    "age=23\n",
    "height=173\n",
    "\n",
    "print(f\"My name is {name}.i am {age} years old . my height is {height} nmeters\")"
   ]
  },
  {
   "cell_type": "code",
   "execution_count": 5,
   "id": "6466b7b3-a4cc-4527-b46d-c99da4794aa0",
   "metadata": {},
   "outputs": [
    {
     "name": "stdout",
     "output_type": "stream",
     "text": [
      " boomi's father is 46 years old\n"
     ]
    }
   ],
   "source": [
    "print(f\" boomi's father is {age*2} years old\")"
   ]
  },
  {
   "cell_type": "code",
   "execution_count": null,
   "id": "ea1885dd-69ca-45e5-a039-3815457725f6",
   "metadata": {},
   "outputs": [],
   "source": []
  }
 ],
 "metadata": {
  "kernelspec": {
   "display_name": "Python 3 (ipykernel)",
   "language": "python",
   "name": "python3"
  },
  "language_info": {
   "codemirror_mode": {
    "name": "ipython",
    "version": 3
   },
   "file_extension": ".py",
   "mimetype": "text/x-python",
   "name": "python",
   "nbconvert_exporter": "python",
   "pygments_lexer": "ipython3",
   "version": "3.11.7"
  }
 },
 "nbformat": 4,
 "nbformat_minor": 5
}
