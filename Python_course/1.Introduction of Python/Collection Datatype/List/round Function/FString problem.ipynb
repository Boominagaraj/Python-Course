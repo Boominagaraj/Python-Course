{
 "cells": [
  {
   "cell_type": "code",
   "execution_count": 1,
   "id": "af976445-4b79-4459-9834-d228c74aba58",
   "metadata": {},
   "outputs": [
    {
     "name": "stdin",
     "output_type": "stream",
     "text": [
      "Enter the age 23\n"
     ]
    },
    {
     "name": "stdout",
     "output_type": "stream",
     "text": [
      "you have 24455 days,3484 weeks and 804 months left\n"
     ]
    }
   ],
   "source": [
    "age=int(input(\"Enter the age\"))\n",
    "years_left=90-age\n",
    "days_left=years_left*365\n",
    "months_left=years_left*12\n",
    "weeks_left=years_left*52\n",
    "\n",
    "print(f\"you have {days_left} days,{weeks_left} weeks and {months_left} months left\")"
   ]
  },
  {
   "cell_type": "code",
   "execution_count": null,
   "id": "723a27ba-8477-48cc-ae6c-5307fa157c0f",
   "metadata": {},
   "outputs": [],
   "source": []
  }
 ],
 "metadata": {
  "kernelspec": {
   "display_name": "Python 3 (ipykernel)",
   "language": "python",
   "name": "python3"
  },
  "language_info": {
   "codemirror_mode": {
    "name": "ipython",
    "version": 3
   },
   "file_extension": ".py",
   "mimetype": "text/x-python",
   "name": "python",
   "nbconvert_exporter": "python",
   "pygments_lexer": "ipython3",
   "version": "3.11.7"
  }
 },
 "nbformat": 4,
 "nbformat_minor": 5
}
