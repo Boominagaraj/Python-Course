{
 "cells": [
  {
   "cell_type": "code",
   "execution_count": 7,
   "id": "17ef3fb2-ae4a-4386-a535-982f15f5ad5a",
   "metadata": {},
   "outputs": [
    {
     "name": "stdout",
     "output_type": "stream",
     "text": [
      "['😊', '😊', '😊']\n",
      "['😊', '😊', '😊']\n",
      "['😊', '😊', '😊']\n"
     ]
    },
    {
     "name": "stdin",
     "output_type": "stream",
     "text": [
      "Enter the position where you want to hide money : 32\n"
     ]
    },
    {
     "name": "stdout",
     "output_type": "stream",
     "text": [
      "['😊', '😊', '😊']\n",
      "['😊', '😊', '😊']\n",
      "['😊', 'X', '😊']\n"
     ]
    }
   ],
   "source": [
    "row1=['😊','😊','😊']\n",
    "row2=['😊','😊','😊']\n",
    "row3=['😊','😊','😊']\n",
    "matrix=[row1,row2,row3]\n",
    "print(f\"{row1}\\n{row2}\\n{row3}\")\n",
    "position=input(\"Enter the position where you want to hide money :\")\n",
    "\n",
    "row_number=int(position[0])\n",
    "column_nummber=int(position[1])\n",
    "row_selected=matrix[row_number-1]\n",
    "row_selected[column_number-1]='X'\n",
    "print(f\"{row1}\\n{row2}\\n{row3}\")"
   ]
  },
  {
   "cell_type": "code",
   "execution_count": null,
   "id": "662dc6ff-d969-41e8-8736-9dc7710bba93",
   "metadata": {},
   "outputs": [],
   "source": []
  }
 ],
 "metadata": {
  "kernelspec": {
   "display_name": "Python 3 (ipykernel)",
   "language": "python",
   "name": "python3"
  },
  "language_info": {
   "codemirror_mode": {
    "name": "ipython",
    "version": 3
   },
   "file_extension": ".py",
   "mimetype": "text/x-python",
   "name": "python",
   "nbconvert_exporter": "python",
   "pygments_lexer": "ipython3",
   "version": "3.11.7"
  }
 },
 "nbformat": 4,
 "nbformat_minor": 5
}
