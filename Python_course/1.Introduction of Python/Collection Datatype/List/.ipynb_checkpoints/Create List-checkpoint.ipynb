{
 "cells": [
  {
   "cell_type": "code",
   "execution_count": 1,
   "id": "72eb055a-63e3-4863-a3fd-0589f4edfadf",
   "metadata": {},
   "outputs": [
    {
     "data": {
      "text/plain": [
       "1"
      ]
     },
     "execution_count": 1,
     "metadata": {},
     "output_type": "execute_result"
    }
   ],
   "source": [
    "#Syntax of list\n",
    "li=[1,2,3,4,5]\n",
    "li[0]"
   ]
  },
  {
   "cell_type": "code",
   "execution_count": 8,
   "id": "8fe13891-f8c3-4542-9e68-1a6bce11062f",
   "metadata": {},
   "outputs": [
    {
     "data": {
      "text/plain": [
       "'o'"
      ]
     },
     "execution_count": 8,
     "metadata": {},
     "output_type": "execute_result"
    }
   ],
   "source": [
    "#list inside list\n",
    "li1=[[1,2,3],\"boomi\",4,5,6]\n",
    "#i want to fetch the \"o\" letter\n",
    "li1[1][1]"
   ]
  },
  {
   "cell_type": "code",
   "execution_count": 11,
   "id": "88f95be3-30ae-4dee-8fb2-71defa6efc25",
   "metadata": {},
   "outputs": [
    {
     "data": {
      "text/plain": [
       "[1, 2, 3, 4, 5, 'boomi']"
      ]
     },
     "execution_count": 11,
     "metadata": {},
     "output_type": "execute_result"
    }
   ],
   "source": [
    "#Append() Method\n",
    "# It is a build-in method used to add an item at the end of a list\n",
    "#Syntax-list.append(value)\n",
    "li=[1,2,3,4,5]\n",
    "li.append(\"boomi\")\n",
    "li"
   ]
  },
  {
   "cell_type": "code",
   "execution_count": 3,
   "id": "1fda4ae9-6a79-4cd3-bb3e-d5cef2c731e3",
   "metadata": {},
   "outputs": [
    {
     "ename": "NameError",
     "evalue": "name 'li' is not defined",
     "output_type": "error",
     "traceback": [
      "\u001b[1;31m---------------------------------------------------------------------------\u001b[0m",
      "\u001b[1;31mNameError\u001b[0m                                 Traceback (most recent call last)",
      "Cell \u001b[1;32mIn[3], line 2\u001b[0m\n\u001b[0;32m      1\u001b[0m \u001b[38;5;66;03m#append() method allows Single Arugment\u001b[39;00m\n\u001b[1;32m----> 2\u001b[0m li\u001b[38;5;241m.\u001b[39mappend(\u001b[38;5;241m6\u001b[39m,\u001b[38;5;241m7\u001b[39m,\u001b[38;5;241m8\u001b[39m,\u001b[38;5;241m9\u001b[39m,\u001b[38;5;241m10\u001b[39m)\n\u001b[0;32m      3\u001b[0m li\n",
      "\u001b[1;31mNameError\u001b[0m: name 'li' is not defined"
     ]
    }
   ],
   "source": [
    "#append() method allows Single Arugment\n",
    "li.append(6,7,8,9,10)\n",
    "li"
   ]
  },
  {
   "cell_type": "code",
   "execution_count": 2,
   "id": "55a4ea9c-7c70-4733-887e-661df72a7b4d",
   "metadata": {},
   "outputs": [
    {
     "ename": "NameError",
     "evalue": "name 'li' is not defined",
     "output_type": "error",
     "traceback": [
      "\u001b[1;31m---------------------------------------------------------------------------\u001b[0m",
      "\u001b[1;31mNameError\u001b[0m                                 Traceback (most recent call last)",
      "Cell \u001b[1;32mIn[2], line 2\u001b[0m\n\u001b[0;32m      1\u001b[0m \u001b[38;5;66;03m#but append method allows single list\u001b[39;00m\n\u001b[1;32m----> 2\u001b[0m li\u001b[38;5;241m.\u001b[39mappend([\u001b[38;5;124m\"\u001b[39m\u001b[38;5;124mnagaraj\u001b[39m\u001b[38;5;124m\"\u001b[39m,\u001b[38;5;241m6\u001b[39m,\u001b[38;5;241m7\u001b[39m,\u001b[38;5;241m8\u001b[39m,\u001b[38;5;241m9\u001b[39m,\u001b[38;5;241m10\u001b[39m])\n\u001b[0;32m      3\u001b[0m li\n",
      "\u001b[1;31mNameError\u001b[0m: name 'li' is not defined"
     ]
    }
   ],
   "source": [
    "#but append method allows single list\n",
    "li.append([\"nagaraj\",6,7,8,9,10])\n",
    "li"
   ]
  },
  {
   "cell_type": "code",
   "execution_count": 4,
   "id": "633ac308-0e1c-4fc4-a67a-e84c0e95f614",
   "metadata": {},
   "outputs": [
    {
     "name": "stdout",
     "output_type": "stream",
     "text": [
      "[1, 2, 3]\n",
      "boomi\n",
      "4\n",
      "5\n",
      "6\n"
     ]
    }
   ],
   "source": [
    "li=[[1,2,3],\"boomi\",4,5,6]\n",
    "for i in li:\n",
    "    print(i)\n",
    "    "
   ]
  },
  {
   "cell_type": "code",
   "execution_count": 5,
   "id": "666aa4d9-3b9f-48fe-bf5b-061e6fddd8fa",
   "metadata": {},
   "outputs": [
    {
     "data": {
      "text/plain": [
       "[[1, 2, 3], 'boomi', 'Nagaraj', 4, 5, 6]"
      ]
     },
     "execution_count": 5,
     "metadata": {},
     "output_type": "execute_result"
    }
   ],
   "source": [
    "# Insert method()\n",
    "#it is a build-in method used to add an item at a specific position \n",
    "#Syntax-list.insert(position, value)\n",
    "li=[[1,2,3],\"boomi\",4,5,6]\n",
    "li.insert(2,\"Nagaraj\")\n",
    "li"
   ]
  },
  {
   "cell_type": "code",
   "execution_count": 6,
   "id": "10db3e0f-741a-483a-87e2-e87bbebb2505",
   "metadata": {},
   "outputs": [
    {
     "data": {
      "text/plain": [
       "[[1, 2, 3], 'boomi', 4, 5, 6, 1, 2, 3, 4, 5]"
      ]
     },
     "execution_count": 6,
     "metadata": {},
     "output_type": "execute_result"
    }
   ],
   "source": [
    "#Extend () Method\n",
    "#it is a build-in method used to add all items of one list in another list\n",
    "#Syntax-list1.extend(list2)\n",
    "\n",
    "li=[[1,2,3],\"boomi\",4,5,6]\n",
    "li1=[1,2,3,4,5]\n",
    "li.extend(li1)\n",
    "li"
   ]
  },
  {
   "cell_type": "code",
   "execution_count": 1,
   "id": "27a8bb50-b211-4dbf-925a-99af66043375",
   "metadata": {},
   "outputs": [
    {
     "name": "stdin",
     "output_type": "stream",
     "text": [
      "enter the number 3\n",
      " 52\n",
      " 65\n",
      " 45\n"
     ]
    },
    {
     "data": {
      "text/plain": [
       "[52, 65, 45]"
      ]
     },
     "execution_count": 1,
     "metadata": {},
     "output_type": "execute_result"
    }
   ],
   "source": [
    "#list using for-loops\n",
    "num=int(input(\"enter the number\"))\n",
    "li=[]\n",
    "for i in range(num):\n",
    "    Store=int(input())\n",
    "    li.append(Store)\n",
    "li"
   ]
  },
  {
   "cell_type": "code",
   "execution_count": 5,
   "id": "4db482f2-9711-4593-9de4-a272e76357af",
   "metadata": {},
   "outputs": [
    {
     "data": {
      "text/plain": [
       "['boomi', 'nagaraj']"
      ]
     },
     "execution_count": 5,
     "metadata": {},
     "output_type": "execute_result"
    }
   ],
   "source": [
    "#Split () method\n",
    "#it is used to split a string into a list of Substring\n",
    "#Syntax- String,split(separator,maxsplit)\n",
    "name=\"boomi nagaraj\"\n",
    "name.split()\n"
   ]
  },
  {
   "cell_type": "code",
   "execution_count": 7,
   "id": "4b92a1fb-c77f-4372-9c37-55e0dfd10a07",
   "metadata": {},
   "outputs": [
    {
     "name": "stdin",
     "output_type": "stream",
     "text": [
      "enter the number 45 65 25 45\n"
     ]
    },
    {
     "data": {
      "text/plain": [
       "['45', '65', '25', '45']"
      ]
     },
     "execution_count": 7,
     "metadata": {},
     "output_type": "execute_result"
    }
   ],
   "source": [
    "#Another way of using split method\n",
    "number=input(\"enter the number\").split()\n",
    "number"
   ]
  },
  {
   "cell_type": "code",
   "execution_count": 9,
   "id": "b4f0137b-9653-403f-a0fa-54477fd4b2b6",
   "metadata": {},
   "outputs": [
    {
     "name": "stdin",
     "output_type": "stream",
     "text": [
      "enter the  number 4\n",
      "enter the number 45 65 85 75\n"
     ]
    },
    {
     "data": {
      "text/plain": [
       "[45, 65, 85, 75]"
      ]
     },
     "execution_count": 9,
     "metadata": {},
     "output_type": "execute_result"
    }
   ],
   "source": [
    "#Split() method using for-loops\n",
    "num=int(input(\"enter the  number\"))\n",
    "Str_num=input(\"enter the number\").split()\n",
    "for i in range(0,num):\n",
    "    Str_num[i]=int(Str_num[i])\n",
    "Str_num"
   ]
  },
  {
   "cell_type": "code",
   "execution_count": 1,
   "id": "de473a00-d431-4a03-9a66-bff1aa755e81",
   "metadata": {},
   "outputs": [
    {
     "data": {
      "text/plain": [
       "['boomi', 'nagaraj', 'kavis', 'rajesh', 'ram', 'kani']"
      ]
     },
     "execution_count": 1,
     "metadata": {},
     "output_type": "execute_result"
    }
   ],
   "source": [
    "#Changing Multiple items\n",
    "lis=[\"boomi\",\"nagaraj\",\"kavis\",1,2,\"kani\"]\n",
    "lis[3:5]=[\"rajesh\",\"ram\"]\n",
    "lis"
   ]
  },
  {
   "cell_type": "code",
   "execution_count": 1,
   "id": "7448224a-5586-414f-a1c0-197c8bd6ba08",
   "metadata": {},
   "outputs": [
    {
     "data": {
      "text/plain": [
       "['boomi', 'kavis', 1, 2, 'kani']"
      ]
     },
     "execution_count": 1,
     "metadata": {},
     "output_type": "execute_result"
    }
   ],
   "source": [
    "#Remove method()\n",
    "#Removes the specified item\n",
    "lis=[\"boomi\",\"nagaraj\",\"kavis\",1,2,\"kani\"]\n",
    "lis.remove(\"nagaraj\")\n",
    "lis"
   ]
  },
  {
   "cell_type": "code",
   "execution_count": 2,
   "id": "93b7c26a-c35e-4306-b313-7cbaae5a5c29",
   "metadata": {},
   "outputs": [
    {
     "data": {
      "text/plain": [
       "1"
      ]
     },
     "execution_count": 2,
     "metadata": {},
     "output_type": "execute_result"
    }
   ],
   "source": [
    "#Pop Method()\n",
    "#Removes an item at the specified index\n",
    "#If the index of the item is not specified then the last item will be deleted\n",
    "lis.pop(2)"
   ]
  },
  {
   "cell_type": "code",
   "execution_count": 3,
   "id": "5a0df552-0e5b-4a22-97ac-e8df294c2ee0",
   "metadata": {},
   "outputs": [
    {
     "data": {
      "text/plain": [
       "['boomi', 'kavis', 'kani']"
      ]
     },
     "execution_count": 3,
     "metadata": {},
     "output_type": "execute_result"
    }
   ],
   "source": [
    "#Del keyword\n",
    "#Remove an item ata the specified index\n",
    "# it used to remove entire list\n",
    "del lis[2]\n",
    "lis"
   ]
  },
  {
   "cell_type": "code",
   "execution_count": 5,
   "id": "98710bf4-e037-4bca-9239-5d6f4f2db66b",
   "metadata": {},
   "outputs": [
    {
     "ename": "NameError",
     "evalue": "name 'lis' is not defined",
     "output_type": "error",
     "traceback": [
      "\u001b[1;31m---------------------------------------------------------------------------\u001b[0m",
      "\u001b[1;31mNameError\u001b[0m                                 Traceback (most recent call last)",
      "Cell \u001b[1;32mIn[5], line 1\u001b[0m\n\u001b[1;32m----> 1\u001b[0m \u001b[38;5;28;01mdel\u001b[39;00m lis\n\u001b[0;32m      2\u001b[0m lis\n",
      "\u001b[1;31mNameError\u001b[0m: name 'lis' is not defined"
     ]
    }
   ],
   "source": [
    "del lis\n",
    "lis"
   ]
  },
  {
   "cell_type": "code",
   "execution_count": 1,
   "id": "1a825053-9b50-4e80-81de-ecde3d5900fc",
   "metadata": {},
   "outputs": [
    {
     "data": {
      "text/plain": [
       "[]"
      ]
     },
     "execution_count": 1,
     "metadata": {},
     "output_type": "execute_result"
    }
   ],
   "source": [
    "#Clear () Method \n",
    "#it is used remove the items in the list not the entire list\n",
    "lis=[\"boomi\",\"nagaraj\",\"kavis\",1,2,\"kani\"]\n",
    "lis.clear()\n",
    "lis"
   ]
  },
  {
   "cell_type": "code",
   "execution_count": null,
   "id": "5964d22f-ad8d-4522-b54f-95fa387ad588",
   "metadata": {},
   "outputs": [],
   "source": []
  }
 ],
 "metadata": {
  "kernelspec": {
   "display_name": "Python 3 (ipykernel)",
   "language": "python",
   "name": "python3"
  },
  "language_info": {
   "codemirror_mode": {
    "name": "ipython",
    "version": 3
   },
   "file_extension": ".py",
   "mimetype": "text/x-python",
   "name": "python",
   "nbconvert_exporter": "python",
   "pygments_lexer": "ipython3",
   "version": "3.11.7"
  }
 },
 "nbformat": 4,
 "nbformat_minor": 5
}
