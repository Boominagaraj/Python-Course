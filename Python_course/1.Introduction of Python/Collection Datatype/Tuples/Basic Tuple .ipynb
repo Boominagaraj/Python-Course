{
 "cells": [
  {
   "cell_type": "code",
   "execution_count": 5,
   "id": "2639ad8c-8ebc-44f3-8047-91b24000a6a0",
   "metadata": {},
   "outputs": [],
   "source": [
    "cars=(\"Audi\",\"benz\",\"BMW\",\"Toyota\",\"ford\",\"scoda\",\"volvo\")\n",
    "cars1,*cars2,cars3=cars\n"
   ]
  },
  {
   "cell_type": "code",
   "execution_count": 2,
   "id": "5f067e68-94a9-4a86-97f5-4f219c461962",
   "metadata": {},
   "outputs": [
    {
     "data": {
      "text/plain": [
       "'Audi'"
      ]
     },
     "execution_count": 2,
     "metadata": {},
     "output_type": "execute_result"
    }
   ],
   "source": [
    "cars1"
   ]
  },
  {
   "cell_type": "code",
   "execution_count": 6,
   "id": "4ea3e8d9-478f-42f6-b0c3-591c9e1a9c61",
   "metadata": {},
   "outputs": [
    {
     "data": {
      "text/plain": [
       "['benz', 'BMW', 'Toyota', 'ford', 'scoda']"
      ]
     },
     "execution_count": 6,
     "metadata": {},
     "output_type": "execute_result"
    }
   ],
   "source": [
    "cars2"
   ]
  },
  {
   "cell_type": "code",
   "execution_count": 7,
   "id": "bc7e7a97-76b5-4037-95a4-edea44206d1c",
   "metadata": {},
   "outputs": [
    {
     "data": {
      "text/plain": [
       "'volvo'"
      ]
     },
     "execution_count": 7,
     "metadata": {},
     "output_type": "execute_result"
    }
   ],
   "source": [
    "cars3\n"
   ]
  },
  {
   "cell_type": "code",
   "execution_count": null,
   "id": "73d5db70-486e-4aeb-b673-2450ce105b66",
   "metadata": {},
   "outputs": [],
   "source": []
  }
 ],
 "metadata": {
  "kernelspec": {
   "display_name": "Python 3 (ipykernel)",
   "language": "python",
   "name": "python3"
  },
  "language_info": {
   "codemirror_mode": {
    "name": "ipython",
    "version": 3
   },
   "file_extension": ".py",
   "mimetype": "text/x-python",
   "name": "python",
   "nbconvert_exporter": "python",
   "pygments_lexer": "ipython3",
   "version": "3.11.7"
  }
 },
 "nbformat": 4,
 "nbformat_minor": 5
}
