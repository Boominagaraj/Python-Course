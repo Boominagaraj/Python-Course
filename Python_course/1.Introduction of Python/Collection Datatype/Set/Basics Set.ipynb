{
 "cells": [
  {
   "cell_type": "code",
   "execution_count": 2,
   "id": "e40df5ac-a1ad-409c-9489-091812630c15",
   "metadata": {},
   "outputs": [],
   "source": [
    "set1={\"Boomi\",\"Nagarj\",\"MRS\"}\n",
    "set2={\"Boomi\",\"Praba\",\"Bharathi\"}\n",
    "set3={\"rajesh\",\"ram\",\"Boomi\"}"
   ]
  },
  {
   "cell_type": "markdown",
   "id": "21b73301-40bb-428f-b9a5-0dd7f59d2515",
   "metadata": {},
   "source": [
    "## Union() Method"
   ]
  },
  {
   "cell_type": "code",
   "execution_count": 3,
   "id": "cafc892f-9032-46fc-a071-f12a13d5e3b1",
   "metadata": {},
   "outputs": [
    {
     "name": "stdout",
     "output_type": "stream",
     "text": [
      "{'Bharathi', 'Praba', 'MRS', 'Boomi', 'Nagarj'}\n"
     ]
    }
   ],
   "source": [
    "# Syntax\n",
    "print(set1.union(set2))"
   ]
  },
  {
   "cell_type": "markdown",
   "id": "3b5ec1df-07c7-47c0-89d4-6ec2e5f453ac",
   "metadata": {},
   "source": [
    "#### Using operator for union"
   ]
  },
  {
   "cell_type": "code",
   "execution_count": 4,
   "id": "ebc9a842-3a66-4bde-97be-3e9794ad9d32",
   "metadata": {},
   "outputs": [
    {
     "name": "stdout",
     "output_type": "stream",
     "text": [
      "{'Bharathi', 'rajesh', 'Praba', 'ram', 'MRS', 'Boomi', 'Nagarj'}\n"
     ]
    }
   ],
   "source": [
    "print(set1|set2|set3)"
   ]
  },
  {
   "cell_type": "code",
   "execution_count": 5,
   "id": "a6f78b06-4eb4-4f7e-83a0-6e4dc3458b28",
   "metadata": {},
   "outputs": [
    {
     "name": "stdout",
     "output_type": "stream",
     "text": [
      "{'Bharathi', 'rajesh', 'Praba', 'ram', 'MRS', 'Boomi', 'Nagarj'}\n"
     ]
    }
   ],
   "source": [
    "print(set1.union(set2,set3))"
   ]
  },
  {
   "cell_type": "code",
   "execution_count": 6,
   "id": "3ece6018-948f-4548-af86-edfc34802020",
   "metadata": {},
   "outputs": [
    {
     "name": "stdout",
     "output_type": "stream",
     "text": [
      "{'Nagarj', 'kavis', 'kani', 'MRS', 'Boomi'}\n"
     ]
    }
   ],
   "source": [
    " print(set1.union((\"kavis\",\"kani\")))"
   ]
  },
  {
   "cell_type": "code",
   "execution_count": 7,
   "id": "9fe1095c-9c81-4331-baf7-27f972d72df0",
   "metadata": {},
   "outputs": [
    {
     "ename": "TypeError",
     "evalue": "unsupported operand type(s) for |: 'set' and 'tuple'",
     "output_type": "error",
     "traceback": [
      "\u001b[1;31m---------------------------------------------------------------------------\u001b[0m",
      "\u001b[1;31mTypeError\u001b[0m                                 Traceback (most recent call last)",
      "Cell \u001b[1;32mIn[7], line 1\u001b[0m\n\u001b[1;32m----> 1\u001b[0m \u001b[38;5;28mprint\u001b[39m(set1\u001b[38;5;241m|\u001b[39m((\u001b[38;5;124m\"\u001b[39m\u001b[38;5;124mkavis\u001b[39m\u001b[38;5;124m\"\u001b[39m,\u001b[38;5;124m\"\u001b[39m\u001b[38;5;124mkani\u001b[39m\u001b[38;5;124m\"\u001b[39m)))\n",
      "\u001b[1;31mTypeError\u001b[0m: unsupported operand type(s) for |: 'set' and 'tuple'"
     ]
    }
   ],
   "source": [
    " print(set1|((\"kavis\",\"kani\")))"
   ]
  },
  {
   "cell_type": "markdown",
   "id": "17002afc-7484-48ea-8d26-f51ae3c01315",
   "metadata": {},
   "source": [
    "## Update () method"
   ]
  },
  {
   "cell_type": "code",
   "execution_count": null,
   "id": "4b5841ae-80a4-462a-acf1-89986507037c",
   "metadata": {},
   "outputs": [],
   "source": [
    "# Syntax\n",
    "set1.update([\"mahi\"])\n",
    "print(set1)"
   ]
  },
  {
   "cell_type": "code",
   "execution_count": null,
   "id": "6d2e03f9-5711-4e81-a937-6e82905824b5",
   "metadata": {},
   "outputs": [],
   "source": [
    " set1 |=set2\n",
    "print(set1)"
   ]
  },
  {
   "cell_type": "markdown",
   "id": "bc6002c9-8cb1-4640-85ee-74a68d0c479e",
   "metadata": {},
   "source": [
    "## Intersection () method"
   ]
  },
  {
   "cell_type": "code",
   "execution_count": null,
   "id": "39dc29b4-f18c-4abe-bcc9-d7c1ad8d1b10",
   "metadata": {},
   "outputs": [],
   "source": [
    "print(set1.intersection(set2))"
   ]
  },
  {
   "cell_type": "code",
   "execution_count": null,
   "id": "3a22e10d-35f7-47b7-b214-7ebee8b29daf",
   "metadata": {},
   "outputs": [],
   "source": [
    "print(set1.intersection(set2,set3))"
   ]
  },
  {
   "cell_type": "code",
   "execution_count": null,
   "id": "a0e9caf3-35ad-458e-97bf-67846aee646e",
   "metadata": {},
   "outputs": [],
   "source": [
    "print(set1 & set2)"
   ]
  },
  {
   "cell_type": "code",
   "execution_count": null,
   "id": "9320893f-8c6a-4bda-a712-743dd592d7ea",
   "metadata": {},
   "outputs": [],
   "source": [
    "print(set1.intersection([\"Mahi\"]))"
   ]
  },
  {
   "cell_type": "code",
   "execution_count": null,
   "id": "f210e33d-449b-42ab-8551-2fbd73675221",
   "metadata": {},
   "outputs": [],
   "source": [
    " print(set1 & set2 & set3)"
   ]
  },
  {
   "cell_type": "markdown",
   "id": "f3f7c56f-25db-477d-9fae-e468e06ab4f6",
   "metadata": {},
   "source": [
    "## Intersection Update() method"
   ]
  },
  {
   "cell_type": "code",
   "execution_count": null,
   "id": "5f4850e4-db02-4c12-8a19-795d6d4a9687",
   "metadata": {},
   "outputs": [],
   "source": [
    "set2.intersection_update(set3)\n",
    "print(set2)"
   ]
  },
  {
   "cell_type": "code",
   "execution_count": null,
   "id": "e4d62c5f-c495-4fef-bf06-e4cfc856d5fb",
   "metadata": {},
   "outputs": [],
   "source": [
    "set2.intersection_update([\"Mahi\"])\n",
    "print(set2)"
   ]
  },
  {
   "cell_type": "code",
   "execution_count": 8,
   "id": "2479979a-8c0e-4f1b-a70b-148d0bbe4a11",
   "metadata": {},
   "outputs": [],
   "source": [
    "set1={\"Boomi\",\"Nagarj\",\"MRS\"}\n",
    "set2={\"Boomi\",\"Praba\",\"Bharathi\"}\n",
    "set3={\"rajesh\",\"ram\",\"Boomi\"}"
   ]
  },
  {
   "cell_type": "markdown",
   "id": "51a91f2c-14be-46e4-a421-f11137fcd47d",
   "metadata": {},
   "source": [
    "## Difference "
   ]
  },
  {
   "cell_type": "code",
   "execution_count": null,
   "id": "3e47bc59-2ba2-48ee-b261-6ef138e029d1",
   "metadata": {},
   "outputs": [],
   "source": [
    "print(set1.difference(set2))"
   ]
  },
  {
   "cell_type": "code",
   "execution_count": null,
   "id": "9931aeb0-901b-45a9-b445-7aa44a2c5d07",
   "metadata": {},
   "outputs": [],
   "source": [
    "print(set1 - set2)"
   ]
  },
  {
   "cell_type": "code",
   "execution_count": null,
   "id": "f3c05c32-1e74-4874-bc11-c55e3c306183",
   "metadata": {},
   "outputs": [],
   "source": [
    "print(set1.difference((\"Mahi\",\"Boomi\")))"
   ]
  },
  {
   "cell_type": "code",
   "execution_count": null,
   "id": "b894ada9-c6c5-401b-9e27-bc5afc8614ee",
   "metadata": {},
   "outputs": [],
   "source": [
    "print(set1.difference(set2,set3))"
   ]
  },
  {
   "cell_type": "markdown",
   "id": "353a4c8a-aa2d-453b-9d20-2af07b85da28",
   "metadata": {},
   "source": [
    "## Difference Update"
   ]
  },
  {
   "cell_type": "code",
   "execution_count": null,
   "id": "807cdecf-51ea-4c98-b53d-78538dbdc598",
   "metadata": {},
   "outputs": [],
   "source": [
    "set1.difference_update(set2)\n",
    "print(set1)"
   ]
  },
  {
   "cell_type": "code",
   "execution_count": 9,
   "id": "85b62f4e-fe51-415a-bee9-d9ff38015cff",
   "metadata": {},
   "outputs": [
    {
     "name": "stdout",
     "output_type": "stream",
     "text": [
      "{'MRS', 'Nagarj'}\n"
     ]
    }
   ],
   "source": [
    "set1 -=set2\n",
    "print(set1)"
   ]
  },
  {
   "cell_type": "markdown",
   "id": "52e6bd73-1704-4ea9-95e4-43ac13423019",
   "metadata": {},
   "source": [
    "## Symmetric difference"
   ]
  },
  {
   "cell_type": "code",
   "execution_count": 10,
   "id": "70473aa9-20a3-4694-94b1-3b96c3576af9",
   "metadata": {},
   "outputs": [
    {
     "name": "stdout",
     "output_type": "stream",
     "text": [
      "{'Bharathi', 'Nagarj', 'Praba', 'MRS', 'Boomi'}\n"
     ]
    }
   ],
   "source": [
    "print(set1.symmetric_difference(set2))"
   ]
  },
  {
   "cell_type": "code",
   "execution_count": 11,
   "id": "812d5d1e-968a-496a-a47a-a345d9adf18e",
   "metadata": {},
   "outputs": [
    {
     "ename": "TypeError",
     "evalue": "set.symmetric_difference() takes exactly one argument (2 given)",
     "output_type": "error",
     "traceback": [
      "\u001b[1;31m---------------------------------------------------------------------------\u001b[0m",
      "\u001b[1;31mTypeError\u001b[0m                                 Traceback (most recent call last)",
      "Cell \u001b[1;32mIn[11], line 1\u001b[0m\n\u001b[1;32m----> 1\u001b[0m \u001b[38;5;28mprint\u001b[39m(set1\u001b[38;5;241m.\u001b[39msymmetric_difference(set2,set3))\n",
      "\u001b[1;31mTypeError\u001b[0m: set.symmetric_difference() takes exactly one argument (2 given)"
     ]
    }
   ],
   "source": [
    "print(set1.symmetric_difference(set2,set3))\n"
   ]
  },
  {
   "cell_type": "code",
   "execution_count": 12,
   "id": "030998b4-23f5-4d67-ace8-f2024889d75e",
   "metadata": {},
   "outputs": [
    {
     "name": "stdout",
     "output_type": "stream",
     "text": [
      "{'rajesh', 'Bharathi', 'Nagarj', 'Praba', 'ram', 'MRS'}\n"
     ]
    }
   ],
   "source": [
    "print(set1^set2^set3)"
   ]
  },
  {
   "cell_type": "markdown",
   "id": "6a6bea27-bf39-4216-8d63-ef1b24604662",
   "metadata": {},
   "source": [
    "## Symmetric difference update"
   ]
  },
  {
   "cell_type": "code",
   "execution_count": 13,
   "id": "05fcdcc6-a078-443e-820a-919d4533d2f7",
   "metadata": {},
   "outputs": [
    {
     "name": "stdout",
     "output_type": "stream",
     "text": [
      "{'Bharathi', 'Nagarj', 'Praba', 'MRS', 'Boomi'}\n"
     ]
    }
   ],
   "source": [
    "set2.symmetric_difference_update(set1)\n",
    "print(set2)\n"
   ]
  },
  {
   "cell_type": "code",
   "execution_count": 14,
   "id": "67fe0cdf-1aee-4257-8b7c-d66d397b58b6",
   "metadata": {},
   "outputs": [
    {
     "name": "stdout",
     "output_type": "stream",
     "text": [
      "{'boomi', 'Nagarj', 'mazi', 'MRS'}\n"
     ]
    }
   ],
   "source": [
    "set1.symmetric_difference_update((\"mazi\",\"boomi\"))\n",
    "print(set1)"
   ]
  },
  {
   "cell_type": "code",
   "execution_count": 15,
   "id": "91c9de8b-03db-43a8-bd6e-bf441e1ad753",
   "metadata": {},
   "outputs": [
    {
     "name": "stdout",
     "output_type": "stream",
     "text": [
      "{'boomi', 'Bharathi', 'Praba', 'mazi', 'Boomi'}\n"
     ]
    }
   ],
   "source": [
    "set1 ^= set2\n",
    "print(set1)"
   ]
  },
  {
   "cell_type": "markdown",
   "id": "99dadc99-61b9-4fe4-b15c-8488cd949cf4",
   "metadata": {},
   "source": [
    "## Isdisjoint()"
   ]
  },
  {
   "cell_type": "code",
   "execution_count": 37,
   "id": "94884508-c14b-4e33-a8c2-c4b5f0f11af2",
   "metadata": {},
   "outputs": [],
   "source": [
    "set1={\"Boomi\",\"Nagaraj\",\"MRS\",\"Praba\",\"Bharathi\"}\n",
    "set2={\"Boomi\",\"Praba\",\"Bharathi\"}"
   ]
  },
  {
   "cell_type": "code",
   "execution_count": 20,
   "id": "e8292c22-847f-4440-8dab-7a1a8f0dd7b8",
   "metadata": {},
   "outputs": [
    {
     "name": "stdout",
     "output_type": "stream",
     "text": [
      "True\n"
     ]
    }
   ],
   "source": [
    "print(set1.isdisjoint(set2))"
   ]
  },
  {
   "cell_type": "code",
   "execution_count": 24,
   "id": "ef515b03-8740-402a-8d68-c1a6d8fc9604",
   "metadata": {},
   "outputs": [
    {
     "name": "stdout",
     "output_type": "stream",
     "text": [
      "False\n"
     ]
    }
   ],
   "source": [
    "print(set1.isdisjoint([\"mazi\",\"Boomi\"]))"
   ]
  },
  {
   "cell_type": "markdown",
   "id": "305b9458-d593-4479-b936-c8a5877d394f",
   "metadata": {},
   "source": [
    "## issubset()"
   ]
  },
  {
   "cell_type": "code",
   "execution_count": 25,
   "id": "1ff0e9ca-3106-4dd0-99eb-cbbb7dd5abef",
   "metadata": {},
   "outputs": [
    {
     "name": "stdout",
     "output_type": "stream",
     "text": [
      "False\n"
     ]
    }
   ],
   "source": [
    "print(set1.issubset(set2))"
   ]
  },
  {
   "cell_type": "code",
   "execution_count": 32,
   "id": "9455b014-f090-48b2-844a-9ca0d1a2bad4",
   "metadata": {},
   "outputs": [
    {
     "name": "stdout",
     "output_type": "stream",
     "text": [
      "True\n"
     ]
    }
   ],
   "source": [
    "print(set1.issubset([\"mazi\",\"Boomi\",\"Nagaraj\",\"MRS\"]))"
   ]
  },
  {
   "cell_type": "code",
   "execution_count": 35,
   "id": "c2fa41bd-95b2-45ae-841e-d83b4b9bbd59",
   "metadata": {},
   "outputs": [
    {
     "name": "stdout",
     "output_type": "stream",
     "text": [
      "False\n"
     ]
    }
   ],
   "source": [
    " print(set1 <=set2)"
   ]
  },
  {
   "cell_type": "markdown",
   "id": "a358b2d1-9d11-4723-bca9-c3afde237f43",
   "metadata": {},
   "source": [
    "## issuperset()"
   ]
  },
  {
   "cell_type": "code",
   "execution_count": 38,
   "id": "5498e49e-75ee-4ea1-a25d-c87f014df2db",
   "metadata": {},
   "outputs": [
    {
     "name": "stdout",
     "output_type": "stream",
     "text": [
      "True\n"
     ]
    }
   ],
   "source": [
    "print(set1.issuperset(set2))"
   ]
  },
  {
   "cell_type": "code",
   "execution_count": 39,
   "id": "1b93bf75-59dd-495d-9aec-71421dfc6f16",
   "metadata": {},
   "outputs": [
    {
     "name": "stdout",
     "output_type": "stream",
     "text": [
      "True\n"
     ]
    }
   ],
   "source": [
    " print(set1 >=set2)"
   ]
  },
  {
   "cell_type": "code",
   "execution_count": 40,
   "id": "64ef38d4-ac81-43ee-8867-45a8e3bde3d5",
   "metadata": {},
   "outputs": [],
   "source": [
    "del set2"
   ]
  },
  {
   "cell_type": "code",
   "execution_count": null,
   "id": "09747b7a-bb07-4b6d-8eed-496cc12bfcd0",
   "metadata": {},
   "outputs": [],
   "source": []
  }
 ],
 "metadata": {
  "kernelspec": {
   "display_name": "Python 3 (ipykernel)",
   "language": "python",
   "name": "python3"
  },
  "language_info": {
   "codemirror_mode": {
    "name": "ipython",
    "version": 3
   },
   "file_extension": ".py",
   "mimetype": "text/x-python",
   "name": "python",
   "nbconvert_exporter": "python",
   "pygments_lexer": "ipython3",
   "version": "3.11.7"
  }
 },
 "nbformat": 4,
 "nbformat_minor": 5
}
