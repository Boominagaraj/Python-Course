{
 "cells": [
  {
   "cell_type": "markdown",
   "id": "2a162d21-3718-4076-bb3a-546312a5ad5c",
   "metadata": {},
   "source": [
    " ## Length of the Dictionaries"
   ]
  },
  {
   "cell_type": "code",
   "execution_count": 1,
   "id": "bac1e9eb-b5f3-4ecb-aae2-023f66cdcf9e",
   "metadata": {},
   "outputs": [
    {
     "data": {
      "text/plain": [
       "2"
      ]
     },
     "execution_count": 1,
     "metadata": {},
     "output_type": "execute_result"
    }
   ],
   "source": [
    "car={\"Brand\":\"Audi\",\"Model\":\"Q7\"}\n",
    "len(car)"
   ]
  },
  {
   "cell_type": "code",
   "execution_count": 8,
   "id": "bd6dfb5d-239e-479e-9782-f2c0da036630",
   "metadata": {},
   "outputs": [],
   "source": [
    "car[\"color\"]={\"Black\",\"Red\",\"grey\"}"
   ]
  },
  {
   "cell_type": "code",
   "execution_count": 9,
   "id": "ca9e0c3f-52d9-4400-8f69-c4827168dd05",
   "metadata": {},
   "outputs": [
    {
     "name": "stdout",
     "output_type": "stream",
     "text": [
      "{'Brand': 'Audi', 'Model': 'Q7', 'color': {'grey', 'Black', 'Red'}}\n"
     ]
    }
   ],
   "source": [
    "print(car)"
   ]
  },
  {
   "cell_type": "code",
   "execution_count": 10,
   "id": "40b853ea-2ff5-422d-bc03-998bd43c293a",
   "metadata": {},
   "outputs": [],
   "source": [
    "car[\"Brand\"]={\"Audi\":1212,\"Benz\":2552}"
   ]
  },
  {
   "cell_type": "code",
   "execution_count": 14,
   "id": "a73d41ef-4cd0-4d62-920e-686fe87fa4ff",
   "metadata": {},
   "outputs": [
    {
     "name": "stdout",
     "output_type": "stream",
     "text": [
      "{'Brand': {'Audi': 1212, 'Benz': 2552}, 'Model': 'Q7', 'color': {'grey', 'Black', 'Red'}}\n",
      "{'Audi': 1212, 'Benz': 2552}\n",
      "1212\n"
     ]
    }
   ],
   "source": [
    "print(car)\n",
    "print(car[\"Brand\"])\n",
    "print(car[\"Brand\"][\"Audi\"])"
   ]
  },
  {
   "cell_type": "code",
   "execution_count": 18,
   "id": "452aea37-4adf-45fa-be22-ee9289ede2b3",
   "metadata": {},
   "outputs": [],
   "source": [
    "car={\"Brand\":\"Audi\",\"Model\":\"Q7\"}"
   ]
  },
  {
   "cell_type": "code",
   "execution_count": 21,
   "id": "48b29666-13f6-40fb-bb54-62fa1117e6c2",
   "metadata": {},
   "outputs": [
    {
     "name": "stdout",
     "output_type": "stream",
     "text": [
      "Audi\n",
      "Q7\n"
     ]
    }
   ],
   "source": [
    "for i in car:\n",
    "    print(car[i])\n"
   ]
  },
  {
   "cell_type": "code",
   "execution_count": null,
   "id": "1a075dfa-5076-400c-838e-4415b328acf5",
   "metadata": {},
   "outputs": [],
   "source": []
  },
  {
   "cell_type": "markdown",
   "id": "915df867-abe3-4d0a-a0a9-27709fba62e9",
   "metadata": {},
   "source": [
    "## Alternate way of creating the dictionaries"
   ]
  },
  {
   "cell_type": "code",
   "execution_count": 6,
   "id": "1ece546d-7086-4bc6-9228-b40cd5eab0e6",
   "metadata": {},
   "outputs": [
    {
     "name": "stdout",
     "output_type": "stream",
     "text": [
      "{'Brand': 'Audi', 'Model': 'Q7'}\n"
     ]
    }
   ],
   "source": [
    "car=dict([(\"Brand\",\"Audi\"),(\"Model\",\"Q7\")])\n",
    "print(car)"
   ]
  },
  {
   "cell_type": "markdown",
   "id": "c087b1e1-1608-4bf0-bb03-d93fa7f5e628",
   "metadata": {},
   "source": [
    "## Dict()-Constructor"
   ]
  },
  {
   "cell_type": "code",
   "execution_count": 4,
   "id": "c1f6ba0a-4cf6-45ae-aeeb-e63e334483fc",
   "metadata": {},
   "outputs": [
    {
     "data": {
      "text/plain": [
       "{'Brand': 'Audi', 'Model': 'Q7'}"
      ]
     },
     "execution_count": 4,
     "metadata": {},
     "output_type": "execute_result"
    }
   ],
   "source": [
    "car=dict(Brand=\"Audi\",Model=\"Q7\")\n",
    "car"
   ]
  },
  {
   "cell_type": "markdown",
   "id": "445eee2b-007b-4eda-968e-afb4e8b66a86",
   "metadata": {},
   "source": [
    "## Accessing values using Key Names"
   ]
  },
  {
   "cell_type": "code",
   "execution_count": 5,
   "id": "bca70665-f55b-4e0a-ae29-f0745e3796e0",
   "metadata": {},
   "outputs": [
    {
     "data": {
      "text/plain": [
       "'Audi'"
      ]
     },
     "execution_count": 5,
     "metadata": {},
     "output_type": "execute_result"
    }
   ],
   "source": [
    "car={\"Brand\":\"Audi\",\"Model\":\"Q7\"}\n",
    "car[\"Brand\"]"
   ]
  },
  {
   "cell_type": "markdown",
   "id": "b82a802d-2f0d-430d-b8b7-61bff46cf578",
   "metadata": {},
   "source": [
    "## Accessing Values using Get() method"
   ]
  },
  {
   "cell_type": "code",
   "execution_count": 6,
   "id": "275a69f0-8ed8-4485-9129-2d04f4c54c6a",
   "metadata": {},
   "outputs": [
    {
     "data": {
      "text/plain": [
       "'Audi'"
      ]
     },
     "execution_count": 6,
     "metadata": {},
     "output_type": "execute_result"
    }
   ],
   "source": [
    "car={\"Brand\":\"Audi\",\"Model\":\"Q7\"}\n",
    "car.get(\"Brand\")"
   ]
  },
  {
   "cell_type": "markdown",
   "id": "11c1bbbe-60c5-47bf-98d6-106a4a536951",
   "metadata": {},
   "source": [
    "## Accessing keys using Keys() Method"
   ]
  },
  {
   "cell_type": "code",
   "execution_count": 7,
   "id": "2ab1be53-2d19-4e9e-9690-f7c567147115",
   "metadata": {},
   "outputs": [
    {
     "data": {
      "text/plain": [
       "dict_keys(['Brand', 'Model'])"
      ]
     },
     "execution_count": 7,
     "metadata": {},
     "output_type": "execute_result"
    }
   ],
   "source": [
    "car_keys=car.keys()\n",
    "car_keys"
   ]
  },
  {
   "cell_type": "code",
   "execution_count": 8,
   "id": "096850aa-2ecf-4405-8351-0c35d43883ff",
   "metadata": {},
   "outputs": [
    {
     "data": {
      "text/plain": [
       "dict_keys(['Brand', 'Model', 'Fuel type'])"
      ]
     },
     "execution_count": 8,
     "metadata": {},
     "output_type": "execute_result"
    }
   ],
   "source": [
    "car[\"Fuel type\"]=\"Diesel\"\n",
    "car_keys"
   ]
  },
  {
   "cell_type": "markdown",
   "id": "f9e70380-4ccc-4675-bf98-a8e26ed6838d",
   "metadata": {},
   "source": [
    " ## Accessing Values using values() method"
   ]
  },
  {
   "cell_type": "code",
   "execution_count": 9,
   "id": "dac8008c-4628-434c-b3d4-8c4ee0b6efb5",
   "metadata": {},
   "outputs": [
    {
     "data": {
      "text/plain": [
       "dict_values(['Audi', 'Q7'])"
      ]
     },
     "execution_count": 9,
     "metadata": {},
     "output_type": "execute_result"
    }
   ],
   "source": [
    " car={\"Brand\":\"Audi\",\"Model\":\"Q7\"}\n",
    "car_Values=car.values()\n",
    "car_Values"
   ]
  },
  {
   "cell_type": "code",
   "execution_count": 10,
   "id": "cba4a0cc-8a83-49e8-9255-aeb6636d254f",
   "metadata": {},
   "outputs": [
    {
     "data": {
      "text/plain": [
       "dict_values(['Audi', 'Q7', 'Diesel'])"
      ]
     },
     "execution_count": 10,
     "metadata": {},
     "output_type": "execute_result"
    }
   ],
   "source": [
    "car[\"Fuel type\"]=\"Diesel\"\n",
    "car_Values"
   ]
  },
  {
   "cell_type": "markdown",
   "id": "e3a8b20e-963f-4545-8788-2d91212c00c3",
   "metadata": {},
   "source": [
    "## Accessing items using item() Method"
   ]
  },
  {
   "cell_type": "code",
   "execution_count": 11,
   "id": "70878c03-9be6-47c2-8371-ec96300d4254",
   "metadata": {},
   "outputs": [
    {
     "data": {
      "text/plain": [
       "dict_items([('Brand', 'Audi'), ('Model', 'Q7')])"
      ]
     },
     "execution_count": 11,
     "metadata": {},
     "output_type": "execute_result"
    }
   ],
   "source": [
    "car={\"Brand\":\"Audi\",\"Model\":\"Q7\"}\n",
    "car_items=car.items()\n",
    "car_items"
   ]
  },
  {
   "cell_type": "code",
   "execution_count": 12,
   "id": "00303101-dfdb-4c2f-adc2-f2b71a17c1f3",
   "metadata": {},
   "outputs": [
    {
     "data": {
      "text/plain": [
       "dict_items([('Brand', 'Audi'), ('Model', 'Q7'), ('Fuel type', 'Diesel')])"
      ]
     },
     "execution_count": 12,
     "metadata": {},
     "output_type": "execute_result"
    }
   ],
   "source": [
    "car[\"Fuel type\"]=\"Diesel\"\n",
    "car_items"
   ]
  },
  {
   "cell_type": "markdown",
   "id": "6c6c9502-a16e-461e-b461-38efbe1aed94",
   "metadata": {},
   "source": [
    "## Changing Values using key Names"
   ]
  },
  {
   "cell_type": "code",
   "execution_count": 13,
   "id": "4c58ec97-bff2-4764-96f3-aae8983e6af4",
   "metadata": {},
   "outputs": [
    {
     "data": {
      "text/plain": [
       "{'Brand': 'Audi', 'Model': 'S5'}"
      ]
     },
     "execution_count": 13,
     "metadata": {},
     "output_type": "execute_result"
    }
   ],
   "source": [
    "car={\"Brand\":\"Audi\",\"Model\":\"Q7\"}\n",
    "car[\"Model\"]=\"S5\"\n",
    "car"
   ]
  },
  {
   "cell_type": "markdown",
   "id": "d50bab1a-04fe-4615-82fc-2a8a269955fc",
   "metadata": {},
   "source": [
    "## Changing Values using Update() Method"
   ]
  },
  {
   "cell_type": "code",
   "execution_count": 16,
   "id": "06a750fd-7b80-464b-b370-7b261c26bad3",
   "metadata": {},
   "outputs": [
    {
     "data": {
      "text/plain": [
       "{'Brand': 'Audi', 'Model': 'S7'}"
      ]
     },
     "execution_count": 16,
     "metadata": {},
     "output_type": "execute_result"
    }
   ],
   "source": [
    "car={\"Brand\":\"Audi\",\"Model\":\"Q7\"}\n",
    "car.update({\"Model\":\"S7\"})\n",
    "car "
   ]
  },
  {
   "cell_type": "markdown",
   "id": "59a3a8d8-aeb9-4859-a210-969295f3d6d4",
   "metadata": {},
   "source": [
    "## Adding new items using key Names"
   ]
  },
  {
   "cell_type": "code",
   "execution_count": 18,
   "id": "6fc8a332-f6a6-4e8f-b5d9-5d946494f907",
   "metadata": {},
   "outputs": [
    {
     "data": {
      "text/plain": [
       "{'Brand': 'Audi', 'Model': 'Q7', 'color': 'black'}"
      ]
     },
     "execution_count": 18,
     "metadata": {},
     "output_type": "execute_result"
    }
   ],
   "source": [
    "car={\"Brand\":\"Audi\",\"Model\":\"Q7\"}\n",
    "car[\"color\"]=\"black\"\n",
    "car "
   ]
  },
  {
   "cell_type": "markdown",
   "id": "921b4fec-5c74-4710-82f3-8fb86e4ddb2c",
   "metadata": {},
   "source": [
    "## Adding New item using update() method"
   ]
  },
  {
   "cell_type": "code",
   "execution_count": 19,
   "id": "14ec5305-8440-4708-a54b-3e1c9d7e24e2",
   "metadata": {},
   "outputs": [
    {
     "data": {
      "text/plain": [
       "{'Brand': 'Audi', 'Model': 'Q7', 'color': 'black'}"
      ]
     },
     "execution_count": 19,
     "metadata": {},
     "output_type": "execute_result"
    }
   ],
   "source": [
    "car={\"Brand\":\"Audi\",\"Model\":\"Q7\"}\n",
    "car.update({\"color\":\"black\"})\n",
    "car "
   ]
  },
  {
   "cell_type": "markdown",
   "id": "bafab3b2-ef0b-4e9c-b7c9-33a1b0ed57d0",
   "metadata": {},
   "source": [
    "## Removing an item using pop() method"
   ]
  },
  {
   "cell_type": "code",
   "execution_count": 1,
   "id": "0498c14c-3a82-42f3-af06-179afe7e4239",
   "metadata": {},
   "outputs": [
    {
     "data": {
      "text/plain": [
       "'Q7'"
      ]
     },
     "execution_count": 1,
     "metadata": {},
     "output_type": "execute_result"
    }
   ],
   "source": [
    "car={\"Brand\":\"Audi\",\"Model\":\"Q7\"}\n",
    "car.pop(\"Model\")"
   ]
  },
  {
   "cell_type": "code",
   "execution_count": 2,
   "id": "16202fba-9fe4-4a2e-be7f-515c23bfe471",
   "metadata": {},
   "outputs": [
    {
     "data": {
      "text/plain": [
       "{'Brand': 'Audi'}"
      ]
     },
     "execution_count": 2,
     "metadata": {},
     "output_type": "execute_result"
    }
   ],
   "source": [
    "car"
   ]
  },
  {
   "cell_type": "markdown",
   "id": "d953e210-3d77-452e-9e4c-e89f04d463d6",
   "metadata": {},
   "source": [
    "## Removing an item using popitem() method"
   ]
  },
  {
   "cell_type": "code",
   "execution_count": 3,
   "id": "51362620-42ce-418a-a5a6-da04adb7cc95",
   "metadata": {},
   "outputs": [
    {
     "data": {
      "text/plain": [
       "('Model', 'Q7')"
      ]
     },
     "execution_count": 3,
     "metadata": {},
     "output_type": "execute_result"
    }
   ],
   "source": [
    "car={\"Brand\":\"Audi\",\"Model\":\"Q7\"}\n",
    "car.popitem()"
   ]
  },
  {
   "cell_type": "code",
   "execution_count": 4,
   "id": "850fa798-1d01-43c2-82e5-fdfbc95c3dda",
   "metadata": {},
   "outputs": [
    {
     "data": {
      "text/plain": [
       "{'Brand': 'Audi'}"
      ]
     },
     "execution_count": 4,
     "metadata": {},
     "output_type": "execute_result"
    }
   ],
   "source": [
    "car"
   ]
  },
  {
   "cell_type": "markdown",
   "id": "0bb0b649-75f2-44a4-8a54-9b9fdd643abf",
   "metadata": {},
   "source": [
    "## Removing an item using  del keyword"
   ]
  },
  {
   "cell_type": "code",
   "execution_count": 5,
   "id": "78b28cc8-4c6c-4689-bd96-97f97af52e87",
   "metadata": {},
   "outputs": [
    {
     "data": {
      "text/plain": [
       "{'Brand': 'Audi'}"
      ]
     },
     "execution_count": 5,
     "metadata": {},
     "output_type": "execute_result"
    }
   ],
   "source": [
    "car={\"Brand\":\"Audi\",\"Model\":\"Q7\"}\n",
    "del car['Model']\n",
    "car"
   ]
  },
  {
   "cell_type": "markdown",
   "id": "45336159-1af3-4bf1-a0ba-a8e431f6672a",
   "metadata": {},
   "source": [
    "## Removing a dictionary using  del keyword"
   ]
  },
  {
   "cell_type": "code",
   "execution_count": 6,
   "id": "d968704a-1f9b-4f74-9c74-98030135c30b",
   "metadata": {},
   "outputs": [],
   "source": [
    "car={\"Brand\":\"Audi\",\"Model\":\"Q7\"}\n",
    "del car"
   ]
  },
  {
   "cell_type": "code",
   "execution_count": 7,
   "id": "93bad8d6-eada-4990-9acb-bacd3b96e920",
   "metadata": {},
   "outputs": [
    {
     "ename": "NameError",
     "evalue": "name 'car' is not defined",
     "output_type": "error",
     "traceback": [
      "\u001b[1;31m---------------------------------------------------------------------------\u001b[0m",
      "\u001b[1;31mNameError\u001b[0m                                 Traceback (most recent call last)",
      "Cell \u001b[1;32mIn[7], line 1\u001b[0m\n\u001b[1;32m----> 1\u001b[0m car\n",
      "\u001b[1;31mNameError\u001b[0m: name 'car' is not defined"
     ]
    }
   ],
   "source": [
    "car"
   ]
  },
  {
   "cell_type": "code",
   "execution_count": 8,
   "id": "372f8f23-749e-43df-a792-ffe0b7db2b30",
   "metadata": {},
   "outputs": [],
   "source": [
    "car={\"Brand\":\"Audi\",\"Model\":\"Q7\"}\n",
    "car.clear()"
   ]
  },
  {
   "cell_type": "code",
   "execution_count": 9,
   "id": "abbf07ca-3484-44e2-afab-bcfbb0b0a6f2",
   "metadata": {},
   "outputs": [
    {
     "data": {
      "text/plain": [
       "{}"
      ]
     },
     "execution_count": 9,
     "metadata": {},
     "output_type": "execute_result"
    }
   ],
   "source": [
    "car"
   ]
  },
  {
   "cell_type": "code",
   "execution_count": 10,
   "id": "ddcacfcb-595c-4be1-9c04-065fd6c0d1b0",
   "metadata": {},
   "outputs": [],
   "source": [
    "car={\"Brand\":\"Audi\",\"Model\":\"Q7\"}\n",
    "car_copy=car"
   ]
  },
  {
   "cell_type": "code",
   "execution_count": 11,
   "id": "41493bd9-97ae-4110-8f63-0e88287c1b45",
   "metadata": {},
   "outputs": [
    {
     "data": {
      "text/plain": [
       "{'Brand': 'Audi', 'Model': 'Q7'}"
      ]
     },
     "execution_count": 11,
     "metadata": {},
     "output_type": "execute_result"
    }
   ],
   "source": [
    "car_copy"
   ]
  },
  {
   "cell_type": "code",
   "execution_count": 12,
   "id": "0208d373-cd16-497d-a35d-0e00325960ad",
   "metadata": {},
   "outputs": [
    {
     "data": {
      "text/plain": [
       "{'Brand': 'Audi', 'Model': 'Q8'}"
      ]
     },
     "execution_count": 12,
     "metadata": {},
     "output_type": "execute_result"
    }
   ],
   "source": [
    "car_copy[\"Model\"]='Q8'\n",
    "car_copy"
   ]
  },
  {
   "cell_type": "code",
   "execution_count": 13,
   "id": "68b0405b-0609-451b-9a0b-fc17ce18f89e",
   "metadata": {},
   "outputs": [
    {
     "data": {
      "text/plain": [
       "{'Brand': 'Audi', 'Model': 'Q8'}"
      ]
     },
     "execution_count": 13,
     "metadata": {},
     "output_type": "execute_result"
    }
   ],
   "source": [
    "car"
   ]
  },
  {
   "cell_type": "markdown",
   "id": "badd7dd3-e6aa-4f61-a6ae-4faf40906d78",
   "metadata": {},
   "source": [
    "## Copying a dictionary using copy() method"
   ]
  },
  {
   "cell_type": "code",
   "execution_count": 14,
   "id": "8432268c-0c20-4afb-aa62-2b1dee1bdc55",
   "metadata": {},
   "outputs": [],
   "source": [
    "car={\"Brand\":\"Audi\",\"Model\":\"Q7\"}\n",
    "car_copy=car.copy()"
   ]
  },
  {
   "cell_type": "code",
   "execution_count": 15,
   "id": "eba9ad55-7040-4dcc-ab93-dd215f97396c",
   "metadata": {},
   "outputs": [
    {
     "data": {
      "text/plain": [
       "{'Brand': 'Audi', 'Model': 'Q7'}"
      ]
     },
     "execution_count": 15,
     "metadata": {},
     "output_type": "execute_result"
    }
   ],
   "source": [
    "car_copy"
   ]
  },
  {
   "cell_type": "code",
   "execution_count": 16,
   "id": "3327f59f-ce27-4a25-9f8f-c02830d11d5b",
   "metadata": {},
   "outputs": [
    {
     "data": {
      "text/plain": [
       "{'Brand': 'Audi', 'Model': 'Q8'}"
      ]
     },
     "execution_count": 16,
     "metadata": {},
     "output_type": "execute_result"
    }
   ],
   "source": [
    "car_copy[\"Model\"]='Q8'\n",
    "car_copy"
   ]
  },
  {
   "cell_type": "code",
   "execution_count": 17,
   "id": "4d7e986d-56a6-4406-b551-325b2dd1df28",
   "metadata": {},
   "outputs": [
    {
     "data": {
      "text/plain": [
       "{'Brand': 'Audi', 'Model': 'Q7'}"
      ]
     },
     "execution_count": 17,
     "metadata": {},
     "output_type": "execute_result"
    }
   ],
   "source": [
    "car"
   ]
  },
  {
   "cell_type": "markdown",
   "id": "028713ad-69db-481b-a34f-3e60fe1cc166",
   "metadata": {},
   "source": [
    "## Copy a dictionary using dict() method"
   ]
  },
  {
   "cell_type": "code",
   "execution_count": 18,
   "id": "190cbbbc-5c72-4173-a44f-d8eda1f2b920",
   "metadata": {},
   "outputs": [
    {
     "data": {
      "text/plain": [
       "{'Brand': 'Audi', 'Model': 'Q7'}"
      ]
     },
     "execution_count": 18,
     "metadata": {},
     "output_type": "execute_result"
    }
   ],
   "source": [
    "car={\"Brand\":\"Audi\",\"Model\":\"Q7\"}\n",
    "car_copy=dict(car)\n",
    "car_copy"
   ]
  },
  {
   "cell_type": "code",
   "execution_count": 19,
   "id": "9629e3a3-949b-4435-8ecd-e2a28eef9e7d",
   "metadata": {},
   "outputs": [
    {
     "data": {
      "text/plain": [
       "{'Brand': 'Audi', 'Model': 'Q8'}"
      ]
     },
     "execution_count": 19,
     "metadata": {},
     "output_type": "execute_result"
    }
   ],
   "source": [
    "car_copy[\"Model\"]='Q8'\n",
    "car_copy"
   ]
  },
  {
   "cell_type": "code",
   "execution_count": 20,
   "id": "2f3d7606-ddb4-4626-9282-c77a162aa897",
   "metadata": {},
   "outputs": [
    {
     "data": {
      "text/plain": [
       "{'Brand': 'Audi', 'Model': 'Q7'}"
      ]
     },
     "execution_count": 20,
     "metadata": {},
     "output_type": "execute_result"
    }
   ],
   "source": [
    "car"
   ]
  },
  {
   "cell_type": "code",
   "execution_count": 23,
   "id": "a751d64c-ceeb-4986-ac4b-e8de86266719",
   "metadata": {},
   "outputs": [
    {
     "name": "stdout",
     "output_type": "stream",
     "text": [
      "{'Boomi': 'A+', 'praba': 'A+', 'Bharathi': 'A', 'Kani': 'A', 'Kavis': 'F', 'Mahi': 'C'}\n"
     ]
    }
   ],
   "source": [
    "Student_marks={\n",
    "    \"Boomi\":99,\n",
    "    \"praba\":90,\n",
    "    \"Bharathi\":84,\n",
    "    \"Kani\":80,\n",
    "    \"Kavis\":35,\n",
    "    \"Mahi\":52\n",
    "}\n",
    "Student_Grade={}\n",
    "\n",
    "for Student in Student_marks:\n",
    "    marks=Student_marks[Student]\n",
    "    if marks>=90:\n",
    "        Student_Grade[Student]=\"A+\"\n",
    "    elif marks>=+80:\n",
    "        Student_Grade[Student]=\"A\"\n",
    "    elif marks>=70:\n",
    "        Student_Grade[Student]=\"B+\"\n",
    "    elif marks>=60:\n",
    "        Student_Grade[Student]=\"B\"\n",
    "    elif marks>=50:\n",
    "        Student_Grade[Student]=\"C\"\n",
    "    elif marks>=40:\n",
    "        Student_Grade[Student]=\"D\"\n",
    "    else:\n",
    "        Student_Grade[Student]=\"F\"\n",
    "\n",
    "print(Student_Grade)\n",
    "        "
   ]
  },
  {
   "cell_type": "markdown",
   "id": "367b90c4-336a-4cff-9043-eb950d36ba58",
   "metadata": {},
   "source": [
    "## Nested dictionaries "
   ]
  },
  {
   "cell_type": "code",
   "execution_count": 26,
   "id": "f626ff6d-29c2-40c4-aaec-b5311ea28fd3",
   "metadata": {},
   "outputs": [
    {
     "name": "stdout",
     "output_type": "stream",
     "text": [
      "{'Ram': {'roll_no': 10, 'age': 20, 'course': 'Python'}, 'boomi': {'roll_no': 20, 'age': 22, 'course': 'java'}}\n",
      "{'roll_no': 20, 'age': 22, 'course': 'java'}\n",
      "20\n"
     ]
    }
   ],
   "source": [
    "student_data={\n",
    "    \"Ram\":{\"roll_no\":10,\"age\":20,\"course\":\"Python\"},\n",
    "    \"boomi\":{\"roll_no\":20,\"age\":22,\"course\":\"java\"}\n",
    "}\n",
    "print(student_data)\n",
    "print(student_data[\"boomi\"])\n",
    "print(student_data[\"boomi\"][\"roll_no\"])\n"
   ]
  },
  {
   "cell_type": "markdown",
   "id": "2f053f5a-b307-494f-8c18-113bffae36cb",
   "metadata": {},
   "source": [
    "## Adding item in nested dictionaries"
   ]
  },
  {
   "cell_type": "code",
   "execution_count": 27,
   "id": "39b680b5-3f44-4fff-90eb-e572074479f7",
   "metadata": {},
   "outputs": [
    {
     "name": "stdout",
     "output_type": "stream",
     "text": [
      "{'roll_no': 20, 'age': 22, 'course': 'java', 'Phone number': 1123654}\n"
     ]
    }
   ],
   "source": [
    "student_data[\"boomi\"][\"Phone number\"]=1123654\n",
    "print(student_data[\"boomi\"])"
   ]
  },
  {
   "cell_type": "code",
   "execution_count": 30,
   "id": "d1d8635d-ce6d-4886-8373-023947fc2e95",
   "metadata": {},
   "outputs": [
    {
     "name": "stdout",
     "output_type": "stream",
     "text": [
      "1123654\n"
     ]
    }
   ],
   "source": [
    "print(student_data[\"boomi\"].pop((\"Phone number\")))"
   ]
  },
  {
   "cell_type": "code",
   "execution_count": 31,
   "id": "17756b9b-bdd1-4e53-81e3-1b53c4f17c33",
   "metadata": {},
   "outputs": [
    {
     "name": "stdout",
     "output_type": "stream",
     "text": [
      "{'Ram': {'roll_no': 10, 'age': 20, 'course': 'Python'}, 'boomi': {'roll_no': 20, 'age': 22, 'course': 'java'}}\n"
     ]
    }
   ],
   "source": [
    "print(student_data)"
   ]
  },
  {
   "cell_type": "markdown",
   "id": "cf25195c-7390-46d3-b195-9332c3bbb3d9",
   "metadata": {},
   "source": [
    "## list within dictionaries"
   ]
  },
  {
   "cell_type": "code",
   "execution_count": 35,
   "id": "7b7d725d-6664-4fb2-9930-b20e29226928",
   "metadata": {},
   "outputs": [
    {
     "name": "stdout",
     "output_type": "stream",
     "text": [
      "['madurai', 'Ramanathapuram', 'chennai']\n"
     ]
    }
   ],
   "source": [
    "travel_data={\n",
    "    \"Tamilnadu\":[\"madurai\",\"Ramanathapuram\",\"chennai\"],\n",
    "    \"kerela\":[\"Kochin\",\"thiruvandram\"]\n",
    "}\n",
    "print(travel_data[\"Tamilnadu\"])"
   ]
  },
  {
   "cell_type": "code",
   "execution_count": 33,
   "id": "116af1a4-541c-409b-a86a-86ded726c9f7",
   "metadata": {},
   "outputs": [
    {
     "name": "stdout",
     "output_type": "stream",
     "text": [
      "{'Name': 'Ram', 'roll_no': 10, 'age': 20, 'course': 'Python'}\n"
     ]
    }
   ],
   "source": [
    "student_data=[\n",
    "    {\"Name\":\"Ram\",\"roll_no\":10,\"age\":20,\"course\":\"Python\"},\n",
    "    {\"Name\":\"boomi\",\"roll_no\":20,\"age\":22,\"course\":\"java\"}\n",
    "]\n",
    "print(student_data[0])"
   ]
  },
  {
   "cell_type": "code",
   "execution_count": 37,
   "id": "e1976d31-61ee-4db0-8518-d289c17d1eb3",
   "metadata": {},
   "outputs": [
    {
     "name": "stdout",
     "output_type": "stream",
     "text": [
      "[123456, 8520]\n"
     ]
    }
   ],
   "source": [
    "student_data=[\n",
    "    {\"Name\":\"Ram\",\n",
    "     \"roll_no\":10,\n",
    "     \"age\":20,\n",
    "     \"course\":\"Python\"\n",
    "    },\n",
    "    {\"Name\":\"boomi\",\n",
    "     \"roll_no\":20,\n",
    "     \"age\":22,\n",
    "     \"course\":\"java\",\n",
    "     \"Phone_no\":[123456,8520]\n",
    "    }\n",
    "]\n",
    "print(student_data[1][\"Phone_no\"])"
   ]
  },
  {
   "cell_type": "code",
   "execution_count": 38,
   "id": "27bc0c96-24d1-4f3c-8d4b-539c83f3b896",
   "metadata": {},
   "outputs": [
    {
     "name": "stdout",
     "output_type": "stream",
     "text": [
      "[{'Name': 'Ram', 'roll_no': 10, 'age': 20, 'course': 'Python'}, {'Name': 'boomi', 'roll_no': 20, 'age': 22, 'course': 'java'}, {'Name': 'kani', 'roll_no': 23, 'age': 12, 'course': 'HTML'}]\n"
     ]
    }
   ],
   "source": [
    "student_data=[\n",
    "    {\"Name\":\"Ram\",\n",
    "     \"roll_no\":10,\n",
    "     \"age\":20,\n",
    "     \"course\":\"Python\"\n",
    "    },\n",
    "    {\"Name\":\"boomi\",\n",
    "     \"roll_no\":20,\n",
    "     \"age\":22,\n",
    "     \"course\":\"java\"\n",
    "    }\n",
    "]\n",
    "\n",
    "def add_new_student(name,rollno,age,course):\n",
    "    new_student={}\n",
    "    new_student[\"Name\"]=name\n",
    "    new_student[\"roll_no\"]=rollno\n",
    "    new_student[\"age\"]=age\n",
    "    new_student[\"course\"]=course\n",
    "    student_data.append(new_student)\n",
    "\n",
    "add_new_student(\"kani\",23,12,\"HTML\")\n",
    "\n",
    "print(student_data)"
   ]
  },
  {
   "cell_type": "code",
   "execution_count": null,
   "id": "cf6cf94b-0866-4a95-ab36-8bcc96274841",
   "metadata": {},
   "outputs": [],
   "source": []
  }
 ],
 "metadata": {
  "kernelspec": {
   "display_name": "Python 3 (ipykernel)",
   "language": "python",
   "name": "python3"
  },
  "language_info": {
   "codemirror_mode": {
    "name": "ipython",
    "version": 3
   },
   "file_extension": ".py",
   "mimetype": "text/x-python",
   "name": "python",
   "nbconvert_exporter": "python",
   "pygments_lexer": "ipython3",
   "version": "3.11.7"
  }
 },
 "nbformat": 4,
 "nbformat_minor": 5
}
