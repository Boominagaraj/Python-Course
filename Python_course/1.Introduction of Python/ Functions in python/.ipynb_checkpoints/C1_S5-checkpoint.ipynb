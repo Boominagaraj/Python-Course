{
  "cells": [
    {
      "cell_type": "markdown",
      "metadata": {
        "id": "kseyiZklhlXo"
      },
      "source": [
        "# Functions in Python"
      ]
    },
    {
      "cell_type": "markdown",
      "metadata": {
        "id": "pVGPlV5RPsGc"
      },
      "source": [
        "1) User defined Function\n",
        "\n",
        "2) Built-in Function\n",
        "\n",
        "3) Lambda Functions in Python"
      ]
    },
    {
      "cell_type": "markdown",
      "metadata": {
        "id": "8jIDV_bfP_BU"
      },
      "source": [
        "## Defining a User defined function in Python:"
      ]
    },
    {
      "cell_type": "code",
      "execution_count": 1,
      "metadata": {
        "id": "JdaXLBjpQHQ5"
      },
      "outputs": [],
      "source": [
        "def any_name(x):\n",
        "  #Block of code\n",
        "  return y"
      ]
    },
    {
      "cell_type": "code",
      "execution_count": 8,
      "metadata": {
        "id": "FCJPDGLZQeEb"
      },
      "outputs": [],
      "source": [
        "def area_of_circle(r):\n",
        "  c = 3.14*(r**2)\n",
        "  return 10"
      ]
    },
    {
      "cell_type": "code",
      "execution_count": 10,
      "metadata": {
        "colab": {
          "base_uri": "https://localhost:8080/"
        },
        "id": "Y9UEwhZoQo8J",
        "outputId": "febea4b8-6040-49fe-c96b-9c9c43cdce02"
      },
      "outputs": [
        {
          "name": "stdout",
          "output_type": "stream",
          "text": [
            "10\n"
          ]
        }
      ],
      "source": [
        "print(area_of_circle(5))"
      ]
    },
    {
      "cell_type": "code",
      "execution_count": 6,
      "metadata": {
        "id": "wVlhwKrtR4aY"
      },
      "outputs": [],
      "source": [
        "def area_of_circle(r):\n",
        "  return 3.14*(r**2)"
      ]
    },
    {
      "cell_type": "code",
      "execution_count": 7,
      "metadata": {
        "colab": {
          "base_uri": "https://localhost:8080/"
        },
        "id": "uIA-g0I1R5N8",
        "outputId": "4d705c4d-685b-4f84-a13f-e55a55681445"
      },
      "outputs": [
        {
          "name": "stdout",
          "output_type": "stream",
          "text": [
            "314.0\n"
          ]
        }
      ],
      "source": [
        "print(area_of_circle(10))"
      ]
    },
    {
      "cell_type": "code",
      "execution_count": 15,
      "metadata": {
        "id": "I8Hk0Q7BSaNj"
      },
      "outputs": [],
      "source": [
        "def info(name, age):\n",
        "  print(\"Name:\", name)\n",
        "  print(\"Age:\", age)\n",
        "  return name"
      ]
    },
    {
      "cell_type": "code",
      "execution_count": 16,
      "metadata": {
        "colab": {
          "base_uri": "https://localhost:8080/",
          "height": 70
        },
        "id": "6g-lhnIXTEHV",
        "outputId": "ace3fa7f-356c-49ce-9a61-c3e190a9a8ff"
      },
      "outputs": [
        {
          "name": "stdout",
          "output_type": "stream",
          "text": [
            "Name: Selva\n",
            "Age: 27\n"
          ]
        },
        {
          "data": {
            "application/vnd.google.colaboratory.intrinsic+json": {
              "type": "string"
            },
            "text/plain": [
              "'Selva'"
            ]
          },
          "execution_count": 16,
          "metadata": {},
          "output_type": "execute_result"
        }
      ],
      "source": [
        "info(\"Selva\", 27)"
      ]
    },
    {
      "cell_type": "code",
      "execution_count": 18,
      "metadata": {
        "colab": {
          "base_uri": "https://localhost:8080/",
          "height": 70
        },
        "id": "cs74cdVGTLfN",
        "outputId": "2652c716-d203-495c-96f5-783e07a32b86"
      },
      "outputs": [
        {
          "name": "stdout",
          "output_type": "stream",
          "text": [
            "Name: Selva\n",
            "Age: 27\n"
          ]
        },
        {
          "data": {
            "application/vnd.google.colaboratory.intrinsic+json": {
              "type": "string"
            },
            "text/plain": [
              "'Selva'"
            ]
          },
          "execution_count": 18,
          "metadata": {},
          "output_type": "execute_result"
        }
      ],
      "source": [
        "info(\"Selva\", 27)"
      ]
    },
    {
      "cell_type": "code",
      "execution_count": 19,
      "metadata": {
        "id": "J4zJUlSkTV9L"
      },
      "outputs": [],
      "source": [
        "a = 2\n",
        "\n",
        "def m(r):\n",
        "  return r"
      ]
    },
    {
      "cell_type": "code",
      "execution_count": 21,
      "metadata": {
        "colab": {
          "base_uri": "https://localhost:8080/"
        },
        "id": "9evGMQNNTyjM",
        "outputId": "9c7f4bfc-db06-4f40-f16a-c976bf5d4823"
      },
      "outputs": [
        {
          "data": {
            "text/plain": [
              "2"
            ]
          },
          "execution_count": 21,
          "metadata": {},
          "output_type": "execute_result"
        }
      ],
      "source": [
        "a"
      ]
    },
    {
      "cell_type": "markdown",
      "metadata": {
        "id": "g1uEI0koT4xR"
      },
      "source": [
        "# Advantages of User Defined Functions:\n",
        "\n",
        "1) Modularizes your code\n",
        "\n",
        "2) Better readability\n",
        "\n",
        "3) Reusability\n",
        "\n",
        "4) Make us to built big application much easier"
      ]
    },
    {
      "cell_type": "markdown",
      "metadata": {
        "id": "4X-qB-0uUdep"
      },
      "source": [
        "# Lambda Python:"
      ]
    },
    {
      "cell_type": "markdown",
      "metadata": {
        "id": "ZR-Moj3HUpxs"
      },
      "source": [
        "It means one line function."
      ]
    },
    {
      "cell_type": "code",
      "execution_count": 24,
      "metadata": {
        "id": "Vw4SGs8ZUxuY"
      },
      "outputs": [],
      "source": [
        "func = lambda a,b:a*b"
      ]
    },
    {
      "cell_type": "code",
      "execution_count": 25,
      "metadata": {
        "colab": {
          "base_uri": "https://localhost:8080/"
        },
        "id": "QcI1BoyWU61G",
        "outputId": "34dd982b-ef91-4d1f-b185-bc99248ba096"
      },
      "outputs": [
        {
          "data": {
            "text/plain": [
              "20"
            ]
          },
          "execution_count": 25,
          "metadata": {},
          "output_type": "execute_result"
        }
      ],
      "source": [
        "func(10,2)"
      ]
    },
    {
      "cell_type": "code",
      "execution_count": 26,
      "metadata": {
        "id": "hLDw-jVHU8oE"
      },
      "outputs": [],
      "source": [
        "func = lambda a,b,c,d:a+b+c+d"
      ]
    },
    {
      "cell_type": "code",
      "execution_count": 27,
      "metadata": {
        "colab": {
          "base_uri": "https://localhost:8080/"
        },
        "id": "giiZYGKxVKSh",
        "outputId": "258fa58e-abb4-49e4-a7b7-baefec97894c"
      },
      "outputs": [
        {
          "data": {
            "text/plain": [
              "14"
            ]
          },
          "execution_count": 27,
          "metadata": {},
          "output_type": "execute_result"
        }
      ],
      "source": [
        "func(2,3,4,5)"
      ]
    },
    {
      "cell_type": "code",
      "execution_count": 29,
      "metadata": {
        "id": "YOo5-3KDVMZS"
      },
      "outputs": [],
      "source": [
        "func = lambda x,y,z : x+y+z"
      ]
    },
    {
      "cell_type": "code",
      "execution_count": 30,
      "metadata": {
        "colab": {
          "base_uri": "https://localhost:8080/",
          "height": 36
        },
        "id": "EvpK4vYdVdp3",
        "outputId": "8882f9fc-d22e-499a-cd9a-f9a8354548f6"
      },
      "outputs": [
        {
          "data": {
            "application/vnd.google.colaboratory.intrinsic+json": {
              "type": "string"
            },
            "text/plain": [
              "'selvaramabala'"
            ]
          },
          "execution_count": 30,
          "metadata": {},
          "output_type": "execute_result"
        }
      ],
      "source": [
        "func(\"selva\", \"rama\", \"bala\")"
      ]
    },
    {
      "cell_type": "code",
      "execution_count": 31,
      "metadata": {
        "id": "E581_-noVjDA"
      },
      "outputs": [],
      "source": [
        "from functools import reduce\n",
        "\n",
        "def add(x,y):\n",
        "  return x+y\n",
        "\n",
        "numbers = [1,2,3,4,5]\n",
        "\n",
        "result = reduce(add,numbers)"
      ]
    },
    {
      "cell_type": "code",
      "execution_count": 32,
      "metadata": {
        "colab": {
          "base_uri": "https://localhost:8080/"
        },
        "id": "bnCs0IYFWitj",
        "outputId": "b485a515-7b76-48b8-fd6d-ea8f0dc5a055"
      },
      "outputs": [
        {
          "data": {
            "text/plain": [
              "15"
            ]
          },
          "execution_count": 32,
          "metadata": {},
          "output_type": "execute_result"
        }
      ],
      "source": [
        "result"
      ]
    },
    {
      "cell_type": "code",
      "execution_count": 35,
      "metadata": {
        "id": "sVQnSTnaWjoY"
      },
      "outputs": [],
      "source": [
        "def order():\n",
        "  string = input(\"Enter a string: \")\n",
        "  string = string.lower()\n",
        "  st = reduce(lambda a,b : a+b)\n",
        "  return st"
      ]
    },
    {
      "cell_type": "code",
      "execution_count": 36,
      "metadata": {
        "colab": {
          "base_uri": "https://localhost:8080/",
          "height": 53
        },
        "id": "fxch2rplXrU1",
        "outputId": "10a8ee85-ff32-453e-e0d4-44d32a973332"
      },
      "outputs": [
        {
          "name": "stdout",
          "output_type": "stream",
          "text": [
            "Enter a string: Selva\n"
          ]
        },
        {
          "data": {
            "application/vnd.google.colaboratory.intrinsic+json": {
              "type": "string"
            },
            "text/plain": [
              "'aelsv'"
            ]
          },
          "execution_count": 36,
          "metadata": {},
          "output_type": "execute_result"
        }
      ],
      "source": [
        "order()"
      ]
    },
    {
      "cell_type": "code",
      "execution_count": 38,
      "metadata": {
        "colab": {
          "base_uri": "https://localhost:8080/"
        },
        "id": "vW18MNmGYPYe",
        "outputId": "7a3f88b3-0a6e-44cc-fbcd-d347438a0946"
      },
      "outputs": [
        {
          "data": {
            "text/plain": [
              "['a', 'e', 'l', 's', 'v']"
            ]
          },
          "execution_count": 38,
          "metadata": {},
          "output_type": "execute_result"
        }
      ],
      "source": [
        "a = \"selva\"\n",
        "sorted(a)"
      ]
    },
    {
      "cell_type": "code",
      "execution_count": 39,
      "metadata": {
        "id": "OBFrhNN4XtVI"
      },
      "outputs": [],
      "source": [
        "l = [\"s\", \"e\", \"l\", \"v\"]"
      ]
    },
    {
      "cell_type": "code",
      "execution_count": 40,
      "metadata": {
        "colab": {
          "base_uri": "https://localhost:8080/",
          "height": 36
        },
        "id": "XP5xr324YiQD",
        "outputId": "2fb574bd-c9a8-45f5-87c9-d89254cd13a3"
      },
      "outputs": [
        {
          "data": {
            "application/vnd.google.colaboratory.intrinsic+json": {
              "type": "string"
            },
            "text/plain": [
              "'selv'"
            ]
          },
          "execution_count": 40,
          "metadata": {},
          "output_type": "execute_result"
        }
      ],
      "source": [
        "reduce(lambda a,b:a+b, l)"
      ]
    },
    {
      "cell_type": "markdown",
      "metadata": {
        "id": "blaLQ1ipYnnI"
      },
      "source": [
        "Zip: Dictionary"
      ]
    },
    {
      "cell_type": "code",
      "execution_count": 41,
      "metadata": {
        "id": "k4AaYw5BY3tV"
      },
      "outputs": [],
      "source": [
        "d = {1:'selva', 2:'ram'}"
      ]
    },
    {
      "cell_type": "code",
      "execution_count": 43,
      "metadata": {
        "colab": {
          "base_uri": "https://localhost:8080/"
        },
        "id": "2aR32o1EY-B5",
        "outputId": "aec81d7b-5e41-4055-bf29-0f0856f78396"
      },
      "outputs": [
        {
          "data": {
            "text/plain": [
              "('selva', 1)"
            ]
          },
          "execution_count": 43,
          "metadata": {},
          "output_type": "execute_result"
        }
      ],
      "source": [
        "max(zip(d.values(), d.keys()))"
      ]
    },
    {
      "cell_type": "code",
      "execution_count": 46,
      "metadata": {
        "colab": {
          "base_uri": "https://localhost:8080/"
        },
        "id": "WBPH6_c3ZGKy",
        "outputId": "ed4415bc-0c94-447a-a6f3-00b9984e6b77"
      },
      "outputs": [
        {
          "data": {
            "text/plain": [
              "(1, 'selva')"
            ]
          },
          "execution_count": 46,
          "metadata": {},
          "output_type": "execute_result"
        }
      ],
      "source": [
        "min(zip(d.keys(), d.values()))"
      ]
    },
    {
      "cell_type": "code",
      "execution_count": 45,
      "metadata": {
        "colab": {
          "base_uri": "https://localhost:8080/"
        },
        "id": "aPi8QoJmZVge",
        "outputId": "60ea7d53-678c-4d99-dbe6-ebbb3d6c921d"
      },
      "outputs": [
        {
          "data": {
            "text/plain": [
              "('ram', 2)"
            ]
          },
          "execution_count": 45,
          "metadata": {},
          "output_type": "execute_result"
        }
      ],
      "source": [
        "min(zip(d.values(), d.keys()))"
      ]
    },
    {
      "cell_type": "code",
      "execution_count": 51,
      "metadata": {
        "id": "4YMfj1YAZc80"
      },
      "outputs": [],
      "source": [
        "color = [('black', 4), ('green', 1), ('red', 5), ('blue', 2), ('yellow', 3)]\n",
        "\n",
        "color.sort(key=lambda a:a[1])"
      ]
    },
    {
      "cell_type": "code",
      "execution_count": 52,
      "metadata": {
        "colab": {
          "base_uri": "https://localhost:8080/"
        },
        "id": "jXFsntVfZ5EY",
        "outputId": "5134676e-a224-49b7-dd4b-dd46f634aac5"
      },
      "outputs": [
        {
          "data": {
            "text/plain": [
              "[('green', 1), ('blue', 2), ('yellow', 3), ('black', 4), ('red', 5)]"
            ]
          },
          "execution_count": 52,
          "metadata": {},
          "output_type": "execute_result"
        }
      ],
      "source": [
        "color"
      ]
    },
    {
      "cell_type": "code",
      "execution_count": 53,
      "metadata": {
        "id": "sBJYc19TZ6-7"
      },
      "outputs": [],
      "source": [
        "a = ('black', 4)"
      ]
    },
    {
      "cell_type": "code",
      "execution_count": 56,
      "metadata": {
        "colab": {
          "base_uri": "https://localhost:8080/"
        },
        "id": "U5TqiJRuagFc",
        "outputId": "b8543e01-ad4d-4aef-86b1-a3025a9c0c73"
      },
      "outputs": [
        {
          "data": {
            "text/plain": [
              "4"
            ]
          },
          "execution_count": 56,
          "metadata": {},
          "output_type": "execute_result"
        }
      ],
      "source": [
        "a[1]"
      ]
    },
    {
      "cell_type": "code",
      "execution_count": 57,
      "metadata": {
        "id": "TyHUKntcag3c"
      },
      "outputs": [],
      "source": [
        "color = [('black', 4), ('green', 1), ('red', 5), ('blue', 2), ('yellow', 3)]"
      ]
    },
    {
      "cell_type": "code",
      "execution_count": 58,
      "metadata": {
        "id": "9XfqonlAa0tn"
      },
      "outputs": [],
      "source": [
        "color.sort()"
      ]
    },
    {
      "cell_type": "code",
      "execution_count": 59,
      "metadata": {
        "colab": {
          "base_uri": "https://localhost:8080/"
        },
        "id": "Ekw90vVwa1yj",
        "outputId": "a8607688-a422-4dfb-a60c-42e8c6937111"
      },
      "outputs": [
        {
          "data": {
            "text/plain": [
              "[('black', 4), ('blue', 2), ('green', 1), ('red', 5), ('yellow', 3)]"
            ]
          },
          "execution_count": 59,
          "metadata": {},
          "output_type": "execute_result"
        }
      ],
      "source": [
        "color"
      ]
    },
    {
      "cell_type": "markdown",
      "metadata": {
        "id": "nN1ZIkTka289"
      },
      "source": [
        "map"
      ]
    },
    {
      "cell_type": "code",
      "execution_count": 60,
      "metadata": {
        "id": "octeuJUSbQcJ"
      },
      "outputs": [],
      "source": [
        "c = [1,2,3]\n",
        "d = [3,4,5]"
      ]
    },
    {
      "cell_type": "code",
      "execution_count": 67,
      "metadata": {
        "id": "ERBkM_WLbbiq"
      },
      "outputs": [],
      "source": [
        "ans = list(map(lambda x,y:x+y, c,d))"
      ]
    },
    {
      "cell_type": "code",
      "execution_count": 68,
      "metadata": {
        "colab": {
          "base_uri": "https://localhost:8080/"
        },
        "id": "lblOGuufb3IA",
        "outputId": "5a234cd8-7377-49f0-95fe-c1a8cf880f07"
      },
      "outputs": [
        {
          "data": {
            "text/plain": [
              "[4, 6, 8]"
            ]
          },
          "execution_count": 68,
          "metadata": {},
          "output_type": "execute_result"
        }
      ],
      "source": [
        "ans"
      ]
    }
  ],
  "metadata": {
    "colab": {
      "provenance": []
    },
    "kernelspec": {
      "display_name": "Python 3",
      "name": "python3"
    },
    "language_info": {
      "name": "python"
    }
  },
  "nbformat": 4,
  "nbformat_minor": 0
}
