{
 "cells": [
  {
   "cell_type": "code",
   "execution_count": 5,
   "id": "1e716b5f-d800-4ea0-87e7-35dbef308b28",
   "metadata": {},
   "outputs": [
    {
     "name": "stdin",
     "output_type": "stream",
     "text": [
      "enter the name madam\n"
     ]
    },
    {
     "name": "stdout",
     "output_type": "stream",
     "text": [
      "madam it is pallidrome\n"
     ]
    }
   ],
   "source": [
    "def palli(s):\n",
    "    s1=reversed(s)\n",
    "    if list(s)==list(s1):\n",
    "        print(s,\"it is pallidrome\")\n",
    "    else:\n",
    "        print(s,\"it is not  pallidrome\")\n",
    "n=input(\"enter the name\")\n",
    "palli(n)\n"
   ]
  },
  {
   "cell_type": "code",
   "execution_count": 6,
   "id": "f40af6b4-5fe7-4596-ac40-c9c8f1bed761",
   "metadata": {},
   "outputs": [
    {
     "name": "stdin",
     "output_type": "stream",
     "text": [
      "enter the name boomi\n"
     ]
    },
    {
     "data": {
      "text/plain": [
       "['b', 'i', 'm', 'o', 'o']"
      ]
     },
     "execution_count": 6,
     "metadata": {},
     "output_type": "execute_result"
    }
   ],
   "source": [
    "def sort(s):\n",
    "    s1=sorted(s)\n",
    "    return s1\n",
    "n=input(\"enter the name\")\n",
    "sort(n)"
   ]
  },
  {
   "cell_type": "code",
   "execution_count": 23,
   "id": "8d67d5b1-0faf-48de-8af0-ebfd06a794f5",
   "metadata": {},
   "outputs": [
    {
     "name": "stdin",
     "output_type": "stream",
     "text": [
      "enter the number 5\n",
      " b\n",
      " o\n",
      " o\n",
      " m\n",
      " i\n"
     ]
    },
    {
     "name": "stdout",
     "output_type": "stream",
     "text": [
      "boomi\n"
     ]
    }
   ],
   "source": [
    "\n",
    "def string(n):\n",
    "    s1=\"\"\n",
    "    for i in n:\n",
    "        s1+=i\n",
    "    print(s1)\n",
    "s=int(input (\"enter the number\"))\n",
    "li=[]\n",
    "for i in range(s):\n",
    "    char=input()\n",
    "    li.append(char)\n",
    "string(li)"
   ]
  },
  {
   "cell_type": "code",
   "execution_count": 4,
   "id": "e7e2ccb8-42ee-445a-bf36-e7dcbaa267c2",
   "metadata": {},
   "outputs": [
    {
     "name": "stdin",
     "output_type": "stream",
     "text": [
      "enter the number 4\n",
      " 3\n",
      " 5\n",
      " 6\n",
      " 8\n"
     ]
    },
    {
     "name": "stdout",
     "output_type": "stream",
     "text": [
      "smallest number: 3\n",
      "largest number: 8\n"
     ]
    }
   ],
   "source": [
    "def find_min_max(n):\n",
    "    minvalue=min(n)\n",
    "    maxvalue=max(n)\n",
    "    return minvalue,maxvalue\n",
    "    \n",
    "number=int(input(\"enter the number\"))\n",
    "lis=[]\n",
    "for i in range(number):\n",
    "    num=int(input())\n",
    "    lis.append(num)\n",
    "minvalue,maxvalue=find_min_max(lis)\n",
    "print(\"smallest number:\",minvalue)\n",
    "print(\"largest number:\",maxvalue)"
   ]
  },
  {
   "cell_type": "code",
   "execution_count": 10,
   "id": "0adec05d-ad6b-4d06-84ab-3857082f7dfc",
   "metadata": {},
   "outputs": [
    {
     "name": "stdout",
     "output_type": "stream",
     "text": [
      "smallest number: 29\n",
      "largest number: 49.89\n"
     ]
    }
   ],
   "source": [
    "def find_min_max(n):\n",
    "    minvalue=min(n)\n",
    "    maxvalue=max(n)\n",
    "    return minvalue,maxvalue\n",
    "dict={\"item1\":45.50,\"item2\":35,\"item3\":41.30,\"item4\":29,\"item5\":49.89}\n",
    "minvalue,maxvalue=find_min_max(dict.values())\n",
    "print(\"smallest number:\",minvalue)\n",
    "print(\"largest number:\",maxvalue)"
   ]
  },
  {
   "cell_type": "code",
   "execution_count": 13,
   "id": "75f6eb47-b507-45a5-9492-b7cd2cd7bc40",
   "metadata": {},
   "outputs": [
    {
     "name": "stdin",
     "output_type": "stream",
     "text": [
      "enter the name boomi\n",
      "enter the age 23\n",
      "enter the gender male\n"
     ]
    },
    {
     "name": "stdout",
     "output_type": "stream",
     "text": [
      "name: boomi\n",
      "age: 23\n",
      "gender: male\n"
     ]
    }
   ],
   "source": [
    "def profile():\n",
    "    name=input(\"enter the name\")\n",
    "    age=int(input(\"enter the age\"))\n",
    "    gender=input(\"enter the gender\")\n",
    "    data(name,age,gender)\n",
    "def data(n,a,g):\n",
    "    print(\"name:\",n)\n",
    "    print(\"age:\",a)\n",
    "    print(\"gender:\",g)\n",
    "profile()"
   ]
  },
  {
   "cell_type": "code",
   "execution_count": 15,
   "id": "d22b6bc0-4a67-4c5e-8125-cbce6befcbaf",
   "metadata": {},
   "outputs": [
    {
     "name": "stdin",
     "output_type": "stream",
     "text": [
      "enter the number 5\n",
      "enter the number 6\n"
     ]
    },
    {
     "name": "stdout",
     "output_type": "stream",
     "text": [
      "result: 150\n"
     ]
    }
   ],
   "source": [
    "def outer():\n",
    "    def inner(x,y):\n",
    "        return x**2*y\n",
    "    x=int(input(\"enter the number\"))\n",
    "    y=int(input(\"enter the number\"))\n",
    "    result=inner(x,y)\n",
    "    print(\"result:\",result)\n",
    "outer()\n",
    "    \n",
    "    \n",
    "    "
   ]
  },
  {
   "cell_type": "code",
   "execution_count": 19,
   "id": "0bfada00-ca21-4a00-ac7b-6f22bee9db90",
   "metadata": {},
   "outputs": [
    {
     "data": {
      "text/plain": [
       "[('green', 1), ('blue', 2), ('yellow', 3), ('black', 4), ('red', 5)]"
      ]
     },
     "execution_count": 19,
     "metadata": {},
     "output_type": "execute_result"
    }
   ],
   "source": [
    "color=[(\"black\",4),(\"green\",1),(\"red\",5),(\"blue\",2),(\"yellow\",3)]\n",
    "color.sort(key=lambda a:a[1])\n",
    "color"
   ]
  },
  {
   "cell_type": "code",
   "execution_count": 24,
   "id": "0c1ad86b-1ebe-43eb-b661-f07eaebb128a",
   "metadata": {},
   "outputs": [
    {
     "name": "stdout",
     "output_type": "stream",
     "text": [
      "['mandy']\n"
     ]
    }
   ],
   "source": [
    "a=[\"andy\",\"mandy\",\"sandy\"]\n",
    "b=[\"handy\",\"brandy\",\"mandy\"]\n",
    "intersection=list(filter(lambda x:x in a,b))\n",
    "print(intersection)"
   ]
  },
  {
   "cell_type": "code",
   "execution_count": 26,
   "id": "1ec9c3b8-a876-4507-a19d-b78a9777f8dd",
   "metadata": {},
   "outputs": [
    {
     "name": "stdout",
     "output_type": "stream",
     "text": [
      "[29, 29, 29]\n"
     ]
    }
   ],
   "source": [
    "c=[12,13,14]\n",
    "d=[17,16,15]\n",
    "ans = list(map(lambda x,y:x+y, c,d))\n",
    "print(ans)"
   ]
  },
  {
   "cell_type": "markdown",
   "id": "a24e8649-68d6-43c9-8f36-abd8c3f7b4ef",
   "metadata": {},
   "source": [
    "# Challenging"
   ]
  },
  {
   "cell_type": "code",
   "execution_count": 45,
   "id": "d2f5569a-4d1c-42a9-8973-4682b9619098",
   "metadata": {},
   "outputs": [
    {
     "name": "stdin",
     "output_type": "stream",
     "text": [
      " 5\n"
     ]
    },
    {
     "name": "stdout",
     "output_type": "stream",
     "text": [
      "Radians to Degree: 286.4788975654116\n"
     ]
    },
    {
     "name": "stdin",
     "output_type": "stream",
     "text": [
      " 900\n"
     ]
    },
    {
     "name": "stdout",
     "output_type": "stream",
     "text": [
      "Degree to Radians: 15.707963267948966\n"
     ]
    },
    {
     "name": "stdin",
     "output_type": "stream",
     "text": [
      " 5\n"
     ]
    },
    {
     "name": "stdout",
     "output_type": "stream",
     "text": [
      "no.of.Factorial: 120\n"
     ]
    },
    {
     "name": "stdin",
     "output_type": "stream",
     "text": [
      " 144\n"
     ]
    },
    {
     "name": "stdout",
     "output_type": "stream",
     "text": [
      "Square root: 12.0\n"
     ]
    },
    {
     "name": "stdin",
     "output_type": "stream",
     "text": [
      " 25\n"
     ]
    },
    {
     "name": "stdout",
     "output_type": "stream",
     "text": [
      "Megabyte to Nibble 209715200\n"
     ]
    },
    {
     "name": "stdin",
     "output_type": "stream",
     "text": [
      " 84\n",
      " 15\n"
     ]
    },
    {
     "name": "stdout",
     "output_type": "stream",
     "text": [
      "Fraction To Decimal 5.6\n"
     ]
    },
    {
     "name": "stdin",
     "output_type": "stream",
     "text": [
      " 21\n"
     ]
    },
    {
     "name": "stdout",
     "output_type": "stream",
     "text": [
      "Kilometer/Hour to Meter/Second  5.833333333333333\n"
     ]
    },
    {
     "name": "stdin",
     "output_type": "stream",
     "text": [
      " 14\n"
     ]
    },
    {
     "name": "stdout",
     "output_type": "stream",
     "text": [
      " Meter/Second to Kilometer/Hour  50.4\n"
     ]
    },
    {
     "name": "stdin",
     "output_type": "stream",
     "text": [
      " 5\n"
     ]
    },
    {
     "name": "stdout",
     "output_type": "stream",
     "text": [
      "float value: 5.0\n"
     ]
    },
    {
     "name": "stdin",
     "output_type": "stream",
     "text": [
      " 4.6\n"
     ]
    },
    {
     "name": "stdout",
     "output_type": "stream",
     "text": [
      "Integer value: 4\n"
     ]
    },
    {
     "name": "stdin",
     "output_type": "stream",
     "text": [
      " 59\n"
     ]
    },
    {
     "name": "stdout",
     "output_type": "stream",
     "text": [
      "Decimal to Octal: 0o73\n"
     ]
    },
    {
     "name": "stdin",
     "output_type": "stream",
     "text": [
      " 52\n"
     ]
    },
    {
     "name": "stdout",
     "output_type": "stream",
     "text": [
      "Octal to Decmial: 42\n"
     ]
    },
    {
     "name": "stdin",
     "output_type": "stream",
     "text": [
      " 59\n"
     ]
    },
    {
     "name": "stdout",
     "output_type": "stream",
     "text": [
      "Decimal to hexadecimal: 0x3b\n"
     ]
    },
    {
     "name": "stdin",
     "output_type": "stream",
     "text": [
      " ff\n"
     ]
    },
    {
     "name": "stdout",
     "output_type": "stream",
     "text": [
      "Hexadecimal to Decimal: 255\n"
     ]
    },
    {
     "name": "stdin",
     "output_type": "stream",
     "text": [
      " 69\n"
     ]
    },
    {
     "name": "stdout",
     "output_type": "stream",
     "text": [
      "Decimal to binary: 0b1000101\n"
     ]
    },
    {
     "name": "stdin",
     "output_type": "stream",
     "text": [
      " 111011\n"
     ]
    },
    {
     "name": "stdout",
     "output_type": "stream",
     "text": [
      "Binary to Decimal: 59\n"
     ]
    },
    {
     "name": "stdin",
     "output_type": "stream",
     "text": [
      " b\n"
     ]
    },
    {
     "name": "stdout",
     "output_type": "stream",
     "text": [
      "Char to ASCII: 98\n"
     ]
    },
    {
     "name": "stdin",
     "output_type": "stream",
     "text": [
      " 95\n"
     ]
    },
    {
     "name": "stdout",
     "output_type": "stream",
     "text": [
      "ASCII to char: _\n"
     ]
    },
    {
     "name": "stdin",
     "output_type": "stream",
     "text": [
      " 60\n"
     ]
    },
    {
     "name": "stdout",
     "output_type": "stream",
     "text": [
      "celsius to fahhrenheit: 140.0\n"
     ]
    },
    {
     "name": "stdin",
     "output_type": "stream",
     "text": [
      " 120\n"
     ]
    },
    {
     "name": "stdout",
     "output_type": "stream",
     "text": [
      "celsius to fahhrenheit: 48.888888888888886\n"
     ]
    }
   ],
   "source": [
    "import math\n",
    "def rad_to_deg(value):\n",
    "    print(\"Radians to Degree:\",math.degrees(value))\n",
    "def deg_to_rad(value):\n",
    "    print(\"Degree to Radians:\",math.radians(value))\n",
    "def fact(value):\n",
    "    print(\"no.of.Factorial:\",math.factorial(value))\n",
    "def squ_root(value):\n",
    "    print(\"Square root:\",math.sqrt(value))\n",
    "def megabyte_nibble(value):\n",
    "    print(\"Megabyte to Nibble\",value*8*1024*1024)\n",
    "def frac_to_deci(num,deno):\n",
    "    print(\"Fraction To Decimal\",num/deno)\n",
    "def kilo_HotoMet_sec(value):\n",
    "     print(\"Kilometer/Hour to Meter/Second \",value*1000/3600)\n",
    "def Me_SectoKilo_Hou(value):\n",
    "    print(\" Meter/Second to Kilometer/Hour \",value*3600/1000)\n",
    "def int_to_float(value):\n",
    "    print(\"float value:\",float(value))\n",
    "def float_to_int(value):\n",
    "    print(\"Integer value:\",int(value))\n",
    "def Decimal_to_Octal(value):\n",
    "    print(\"Decimal to Octal:\",oct(value))\n",
    "def Octal_to_Decmial(value):\n",
    "    print(\"Octal to Decmial:\",int(str(value),8))\n",
    "def Decimal_to_hexadecimal(value):\n",
    "    print(\"Decimal to hexadecimal:\",hex(value))\n",
    "def Hexadecimal_to_Decimal(value):\n",
    "    print(\"Hexadecimal to Decimal:\",int(value,16))\n",
    "def Decimal_to_Binary(value):\n",
    "    print(\"Decimal to binary:\",bin(value))\n",
    "def binary_to_decimal(value):\n",
    "    print(\"Binary to Decimal:\",int(value,2))\n",
    "def Char_to_ASCII(value):\n",
    "    print(\"Char to ASCII:\",ord(value))\n",
    "def ASCII_to_char(value):\n",
    "    print(\"ASCII to char:\",chr(value))\n",
    "def cel_to_fah(value):\n",
    "    print(\"celsius to fahhrenheit:\",value*9/5+32)\n",
    "def fah_to_cel(value):\n",
    "    print(\"celsius to fahhrenheit:\",(value-32)*5/9)\n",
    "for i in range(1,21):\n",
    "    choice=i\n",
    "    if choice==1:\n",
    "        n=float(input())\n",
    "        rad_to_deg(n)\n",
    "    elif choice==2:\n",
    "        n=float(input())\n",
    "        deg_to_rad(n)\n",
    "    elif choice==3:\n",
    "        n=int(input())\n",
    "        fact(n)\n",
    "    elif choice==4:\n",
    "        n=int(input())\n",
    "        squ_root(n)\n",
    "    elif choice==5:\n",
    "        n=int(input())\n",
    "        megabyte_nibble(n)\n",
    "    elif choice==6:\n",
    "        n=int(input())\n",
    "        m=int(input())\n",
    "        frac_to_deci(n,m)\n",
    "    elif choice==7:\n",
    "        n=float(input())\n",
    "        kilo_HotoMet_sec(n)\n",
    "    elif choice==8:\n",
    "        n=float(input())\n",
    "        Me_SectoKilo_Hou(n)\n",
    "    elif choice==9:\n",
    "        n=int(input())\n",
    "        int_to_float(n)\n",
    "    elif choice==10:\n",
    "        n=float(input())\n",
    "        float_to_int(n)\n",
    "    elif choice==11:\n",
    "        n=int(input())\n",
    "        Decimal_to_Octal(n)\n",
    "    elif choice==12:\n",
    "        n=int(input())\n",
    "        Octal_to_Decmial(n)\n",
    "    elif choice==13:\n",
    "        n=int(input())\n",
    "        Decimal_to_hexadecimal(n)\n",
    "    elif choice==14:\n",
    "        n=input()\n",
    "        Hexadecimal_to_Decimal(n)\n",
    "    elif choice==15:\n",
    "        n=int(input())\n",
    "        Decimal_to_Binary(n)\n",
    "    elif choice==16:\n",
    "        n=input()\n",
    "        binary_to_decimal(n)\n",
    "    elif choice==17:\n",
    "        n=input()\n",
    "        Char_to_ASCII(n)\n",
    "    elif choice==18:\n",
    "        n=int(input())\n",
    "        ASCII_to_char(n)\n",
    "    elif choice==19:\n",
    "        n=float(input())\n",
    "        cel_to_fah(n)\n",
    "    elif choice==20:\n",
    "        n=float(input())\n",
    "        fah_to_cel(n)\n",
    "    \n",
    "\n",
    "    \n",
    "    \n",
    "    \n",
    "    \n",
    "\n",
    "\n"
   ]
  },
  {
   "cell_type": "code",
   "execution_count": 39,
   "id": "66e521c3-910f-4639-a7ab-d86ec5298844",
   "metadata": {},
   "outputs": [
    {
     "name": "stdout",
     "output_type": "stream",
     "text": [
      "255\n"
     ]
    }
   ],
   "source": [
    " n=\"ff\"\n",
    "print(int(n,16))"
   ]
  },
  {
   "cell_type": "code",
   "execution_count": null,
   "id": "23cb4509-03cc-44bc-96cd-d6079a0be5e2",
   "metadata": {},
   "outputs": [],
   "source": []
  }
 ],
 "metadata": {
  "kernelspec": {
   "display_name": "Python 3 (ipykernel)",
   "language": "python",
   "name": "python3"
  },
  "language_info": {
   "codemirror_mode": {
    "name": "ipython",
    "version": 3
   },
   "file_extension": ".py",
   "mimetype": "text/x-python",
   "name": "python",
   "nbconvert_exporter": "python",
   "pygments_lexer": "ipython3",
   "version": "3.11.7"
  }
 },
 "nbformat": 4,
 "nbformat_minor": 5
}
