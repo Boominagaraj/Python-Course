{
  "cells": [
    {
      "cell_type": "markdown",
      "metadata": {
        "id": "OYxXosE9UQ4x"
      },
      "source": [
        "# How to take input from User:"
      ]
    },
    {
      "cell_type": "code",
      "execution_count": 5,
      "metadata": {
        "colab": {
          "base_uri": "https://localhost:8080/"
        },
        "id": "eQjfs1cdYQXv",
        "outputId": "8de48f0f-881c-4c8a-b9ce-ac205e862cf3"
      },
      "outputs": [
        {
          "name": "stdout",
          "output_type": "stream",
          "text": [
            "1\n"
          ]
        }
      ],
      "source": [
        "print(a)"
      ]
    },
    {
      "cell_type": "code",
      "execution_count": 6,
      "metadata": {
        "colab": {
          "base_uri": "https://localhost:8080/"
        },
        "id": "_Mp9BxBeYRRM",
        "outputId": "44379de0-b6f2-421e-d338-bb6606985219"
      },
      "outputs": [
        {
          "data": {
            "text/plain": [
              "str"
            ]
          },
          "execution_count": 6,
          "metadata": {},
          "output_type": "execute_result"
        }
      ],
      "source": [
        "type(a)"
      ]
    },
    {
      "cell_type": "code",
      "execution_count": null,
      "metadata": {
        "id": "iI_ZBE0NYRZ5"
      },
      "outputs": [],
      "source": []
    },
    {
      "cell_type": "code",
      "execution_count": null,
      "metadata": {
        "id": "xWa8-cWYYRh0"
      },
      "outputs": [],
      "source": []
    },
    {
      "cell_type": "markdown",
      "metadata": {
        "id": "Neb_giniYRp_"
      },
      "source": [
        "# Type Casting"
      ]
    },
    {
      "cell_type": "code",
      "execution_count": 8,
      "metadata": {
        "id": "qQQThyldaHTI"
      },
      "outputs": [],
      "source": [
        "a = 1"
      ]
    },
    {
      "cell_type": "code",
      "execution_count": 9,
      "metadata": {
        "colab": {
          "base_uri": "https://localhost:8080/"
        },
        "id": "ZfSwj7yOaH2p",
        "outputId": "16c7b0bd-b4c2-424f-be6b-36c1423ff355"
      },
      "outputs": [
        {
          "data": {
            "text/plain": [
              "int"
            ]
          },
          "execution_count": 9,
          "metadata": {},
          "output_type": "execute_result"
        }
      ],
      "source": [
        "type(a)"
      ]
    },
    {
      "cell_type": "code",
      "execution_count": 10,
      "metadata": {
        "colab": {
          "base_uri": "https://localhost:8080/",
          "height": 36
        },
        "id": "KwbCcN2_aH-l",
        "outputId": "4f506797-e0e2-41cb-bbcc-b869f548321a"
      },
      "outputs": [
        {
          "data": {
            "application/vnd.google.colaboratory.intrinsic+json": {
              "type": "string"
            },
            "text/plain": [
              "'1'"
            ]
          },
          "execution_count": 10,
          "metadata": {},
          "output_type": "execute_result"
        }
      ],
      "source": [
        "str(a)"
      ]
    },
    {
      "cell_type": "code",
      "execution_count": 11,
      "metadata": {
        "colab": {
          "base_uri": "https://localhost:8080/"
        },
        "id": "wMLkh1dYaVFy",
        "outputId": "c124cc65-8c85-49b5-c3c9-8d04e5397e09"
      },
      "outputs": [
        {
          "data": {
            "text/plain": [
              "1.0"
            ]
          },
          "execution_count": 11,
          "metadata": {},
          "output_type": "execute_result"
        }
      ],
      "source": [
        "float(a)"
      ]
    },
    {
      "cell_type": "markdown",
      "metadata": {
        "id": "wEL-nXfGYWkA"
      },
      "source": [
        "# Implicit Type Casting:"
      ]
    },
    {
      "cell_type": "code",
      "execution_count": 12,
      "metadata": {
        "colab": {
          "base_uri": "https://localhost:8080/"
        },
        "id": "WRWto_bfYbCJ",
        "outputId": "db962627-ce0f-4798-d623-e30a4060ff0b"
      },
      "outputs": [
        {
          "name": "stdout",
          "output_type": "stream",
          "text": [
            "10\n"
          ]
        }
      ],
      "source": [
        "x = 10\n",
        "print(x)"
      ]
    },
    {
      "cell_type": "code",
      "execution_count": 13,
      "metadata": {
        "colab": {
          "base_uri": "https://localhost:8080/"
        },
        "id": "UXTImnhlYblc",
        "outputId": "b7e93fb3-eac3-4a8d-d2b6-0744cb712b70"
      },
      "outputs": [
        {
          "data": {
            "text/plain": [
              "int"
            ]
          },
          "execution_count": 13,
          "metadata": {},
          "output_type": "execute_result"
        }
      ],
      "source": [
        "type(x)"
      ]
    },
    {
      "cell_type": "code",
      "execution_count": 14,
      "metadata": {
        "id": "A4_-nspcarr-"
      },
      "outputs": [],
      "source": [
        "y = 10.1\n",
        "\n",
        "z = x+y"
      ]
    },
    {
      "cell_type": "code",
      "execution_count": 15,
      "metadata": {
        "colab": {
          "base_uri": "https://localhost:8080/"
        },
        "id": "2bP0In8AasM_",
        "outputId": "6a263398-a381-4708-a46c-61fb38435059"
      },
      "outputs": [
        {
          "data": {
            "text/plain": [
              "float"
            ]
          },
          "execution_count": 15,
          "metadata": {},
          "output_type": "execute_result"
        }
      ],
      "source": [
        "type(z)"
      ]
    },
    {
      "cell_type": "markdown",
      "metadata": {
        "id": "nvCNAGYZYbsU"
      },
      "source": [
        "# Explicit Type Casting:"
      ]
    },
    {
      "cell_type": "code",
      "execution_count": 16,
      "metadata": {
        "id": "JJ1La7MLYfqZ"
      },
      "outputs": [],
      "source": [
        "a = 10"
      ]
    },
    {
      "cell_type": "code",
      "execution_count": 17,
      "metadata": {
        "colab": {
          "base_uri": "https://localhost:8080/"
        },
        "id": "6GxxsFfaa7BI",
        "outputId": "a1b705d6-a880-4f45-825c-a2919e2f95f8"
      },
      "outputs": [
        {
          "data": {
            "text/plain": [
              "10.0"
            ]
          },
          "execution_count": 17,
          "metadata": {},
          "output_type": "execute_result"
        }
      ],
      "source": [
        "float(a)"
      ]
    },
    {
      "cell_type": "code",
      "execution_count": 19,
      "metadata": {
        "colab": {
          "base_uri": "https://localhost:8080/"
        },
        "id": "HAjupQpwa7NJ",
        "outputId": "812dd78a-66b9-4dac-d0df-19b869dc45c3"
      },
      "outputs": [
        {
          "name": "stdout",
          "output_type": "stream",
          "text": [
            "Enter a number: 10\n"
          ]
        },
        {
          "data": {
            "text/plain": [
              "int"
            ]
          },
          "execution_count": 19,
          "metadata": {},
          "output_type": "execute_result"
        }
      ],
      "source": [
        "type(int(input(\"Enter a number: \")))"
      ]
    },
    {
      "cell_type": "code",
      "execution_count": 20,
      "metadata": {
        "colab": {
          "base_uri": "https://localhost:8080/"
        },
        "id": "TkRLjVnoYglM",
        "outputId": "892e6d43-4b2c-4a07-dad6-f030aeaeed63"
      },
      "outputs": [
        {
          "name": "stdout",
          "output_type": "stream",
          "text": [
            "Enter a number: 2\n"
          ]
        },
        {
          "data": {
            "text/plain": [
              "2.0"
            ]
          },
          "execution_count": 20,
          "metadata": {},
          "output_type": "execute_result"
        }
      ],
      "source": [
        "float(input(\"Enter a number: \"))"
      ]
    },
    {
      "cell_type": "code",
      "execution_count": 21,
      "metadata": {
        "colab": {
          "base_uri": "https://localhost:8080/",
          "height": 53
        },
        "id": "Xs2be6Imbc8Q",
        "outputId": "07e1d8be-6c29-4a86-b02b-2141109cbd96"
      },
      "outputs": [
        {
          "name": "stdout",
          "output_type": "stream",
          "text": [
            "Enter a name: abc\n"
          ]
        },
        {
          "data": {
            "application/vnd.google.colaboratory.intrinsic+json": {
              "type": "string"
            },
            "text/plain": [
              "'abc'"
            ]
          },
          "execution_count": 21,
          "metadata": {},
          "output_type": "execute_result"
        }
      ],
      "source": [
        "str(input(\"Enter a name: \"))"
      ]
    },
    {
      "cell_type": "markdown",
      "metadata": {
        "id": "qdIkxHDhb6kT"
      },
      "source": [
        "# How to make all the String characters in Uppercase:"
      ]
    },
    {
      "cell_type": "code",
      "execution_count": 26,
      "metadata": {
        "colab": {
          "base_uri": "https://localhost:8080/"
        },
        "id": "dJ9oQByZb6KY",
        "outputId": "e7ab8888-0c28-4d2a-8372-d6dd3a84c8e9"
      },
      "outputs": [
        {
          "name": "stdout",
          "output_type": "stream",
          "text": [
            "Enter a character: selva rama\n"
          ]
        }
      ],
      "source": [
        "a = input(\"Enter a character: \")"
      ]
    },
    {
      "cell_type": "code",
      "execution_count": 27,
      "metadata": {
        "colab": {
          "base_uri": "https://localhost:8080/",
          "height": 36
        },
        "id": "vR9FzS2tb5zs",
        "outputId": "0ef96037-3613-46b6-c93e-f70b2e4775a1"
      },
      "outputs": [
        {
          "data": {
            "application/vnd.google.colaboratory.intrinsic+json": {
              "type": "string"
            },
            "text/plain": [
              "'SELVA RAMA'"
            ]
          },
          "execution_count": 27,
          "metadata": {},
          "output_type": "execute_result"
        }
      ],
      "source": [
        "a.upper()"
      ]
    },
    {
      "cell_type": "code",
      "execution_count": 28,
      "metadata": {
        "colab": {
          "base_uri": "https://localhost:8080/"
        },
        "id": "vOfdEXhKcVmy",
        "outputId": "a03aed98-720c-41b9-db8b-ce5972d525b7"
      },
      "outputs": [
        {
          "name": "stdout",
          "output_type": "stream",
          "text": [
            "Enter a character: SELVA RAM\n"
          ]
        }
      ],
      "source": [
        "b = input(\"Enter a character: \")"
      ]
    },
    {
      "cell_type": "code",
      "execution_count": 29,
      "metadata": {
        "colab": {
          "base_uri": "https://localhost:8080/",
          "height": 36
        },
        "id": "MJjxFGOxcpbc",
        "outputId": "ee2f39f3-6f93-4c28-f5e8-143c980e4658"
      },
      "outputs": [
        {
          "data": {
            "application/vnd.google.colaboratory.intrinsic+json": {
              "type": "string"
            },
            "text/plain": [
              "'selva ram'"
            ]
          },
          "execution_count": 29,
          "metadata": {},
          "output_type": "execute_result"
        }
      ],
      "source": [
        "b.lower()"
      ]
    },
    {
      "cell_type": "markdown",
      "metadata": {
        "id": "rWsvzkTyYguK"
      },
      "source": [
        "# Conditional Statements:\n",
        "\n"
      ]
    },
    {
      "cell_type": "markdown",
      "metadata": {
        "id": "egVYrdmVYlfS"
      },
      "source": [
        "IF, ELIF, ELSE"
      ]
    },
    {
      "cell_type": "code",
      "execution_count": 31,
      "metadata": {
        "colab": {
          "base_uri": "https://localhost:8080/"
        },
        "id": "SdxfXGzGdGgW",
        "outputId": "5964d42f-9405-4f05-f8de-d94af598ee46"
      },
      "outputs": [
        {
          "name": "stdout",
          "output_type": "stream",
          "text": [
            "Enter number 1: 5\n",
            "Enter number 2: 10\n"
          ]
        }
      ],
      "source": [
        "num1 = int(input(\"Enter number 1: \"))\n",
        "num2 = int(input(\"Enter number 2: \"))"
      ]
    },
    {
      "cell_type": "code",
      "execution_count": 32,
      "metadata": {
        "colab": {
          "base_uri": "https://localhost:8080/"
        },
        "id": "5GUBQ4wdd7mh",
        "outputId": "d4832072-1672-4860-dc50-792fcb6e3003"
      },
      "outputs": [
        {
          "name": "stdout",
          "output_type": "stream",
          "text": [
            "num2 is higher & num1 is smaller\n"
          ]
        }
      ],
      "source": [
        "if num1 > num2:\n",
        "  print(\"num1 is higher & num2 is smaller\")\n",
        "\n",
        "else:\n",
        "  print(\"num2 is higher & num1 is smaller\")"
      ]
    },
    {
      "cell_type": "code",
      "execution_count": 42,
      "metadata": {
        "id": "nNbzG-BleOxt"
      },
      "outputs": [],
      "source": [
        "a = \"\"\"In early 2024 it will be the turn of the England Test match squad to embark on a long awaited Test series of India. This mammoth five-Test tour will not be for the faint of heart England cricket supporter as those who travelled on the last Test match tour of India will confirm.\"\"\""
      ]
    },
    {
      "cell_type": "code",
      "execution_count": 40,
      "metadata": {
        "colab": {
          "base_uri": "https://localhost:8080/"
        },
        "id": "V-kqsgREeqD8",
        "outputId": "0b0083d3-8955-4603-c355-2b1a9dd8653e"
      },
      "outputs": [
        {
          "name": "stdout",
          "output_type": "stream",
          "text": [
            "Enter a word: In early 2024 it will be the turn of the England Test match squad to embark on a long awaited Test series of India. This mammoth five-Test tour will not be for the faint of heart England cricket supporter as those who travelled on the last Test match tour of India will confirm.\n"
          ]
        }
      ],
      "source": [
        "word = input(\"Enter a word: \")"
      ]
    },
    {
      "cell_type": "code",
      "execution_count": 43,
      "metadata": {
        "colab": {
          "base_uri": "https://localhost:8080/"
        },
        "id": "IejqLq5-ewEN",
        "outputId": "7636f47b-6ec2-4e93-8872-e124ccfad9b6"
      },
      "outputs": [
        {
          "name": "stdout",
          "output_type": "stream",
          "text": [
            "It is not same\n"
          ]
        }
      ],
      "source": [
        "if word is a:\n",
        "  print('It is same')\n",
        "\n",
        "else:\n",
        "  print('It is not same')"
      ]
    },
    {
      "cell_type": "markdown",
      "metadata": {
        "id": "a1xcfBq8e6Jo"
      },
      "source": [
        "# Using AND OR Case in conditional Statements:"
      ]
    },
    {
      "cell_type": "code",
      "execution_count": 50,
      "metadata": {
        "colab": {
          "base_uri": "https://localhost:8080/"
        },
        "id": "wexCodRyfxAJ",
        "outputId": "d31f86cd-b821-4163-d626-7307972b5c87"
      },
      "outputs": [
        {
          "name": "stdout",
          "output_type": "stream",
          "text": [
            "Enter a character: b\n"
          ]
        }
      ],
      "source": [
        "char = input(\"Enter a character: \")"
      ]
    },
    {
      "cell_type": "code",
      "execution_count": 47,
      "metadata": {
        "colab": {
          "base_uri": "https://localhost:8080/"
        },
        "id": "fkmaslq2f3u6",
        "outputId": "81fc10a6-4f10-4d6f-85d8-301750754fb5"
      },
      "outputs": [
        {
          "name": "stdout",
          "output_type": "stream",
          "text": [
            "A is an uppercase\n"
          ]
        }
      ],
      "source": [
        "if char >= 'A' and char <= \"Z\":\n",
        "  print(char, 'is an uppercase')\n",
        "\n",
        "elif char >= \"a\" and char <= \"z\":\n",
        "  print(char, 'is a lowercase')\n",
        "\n",
        "else:\n",
        "  print('wrong input')"
      ]
    },
    {
      "cell_type": "code",
      "execution_count": 51,
      "metadata": {
        "id": "Goitk0Rsg1RK"
      },
      "outputs": [],
      "source": [
        "char = char.lower()"
      ]
    },
    {
      "cell_type": "code",
      "execution_count": 52,
      "metadata": {
        "colab": {
          "base_uri": "https://localhost:8080/"
        },
        "id": "HcBivrq7hNX6",
        "outputId": "5ba5f236-77ba-48ab-8174-fabafcbdd454"
      },
      "outputs": [
        {
          "name": "stdout",
          "output_type": "stream",
          "text": [
            "Given input is not a vowel\n"
          ]
        }
      ],
      "source": [
        "if char == 'a' or char == 'e' or char == 'i' or char == 'o' or char == 'u':\n",
        "  print(\"Given input is a vowel\")\n",
        "\n",
        "else:\n",
        "  print(\"Given input is not a vowel\")"
      ]
    },
    {
      "cell_type": "code",
      "execution_count": null,
      "metadata": {
        "id": "vPk3fcbMhqb_"
      },
      "outputs": [],
      "source": []
    }
  ],
  "metadata": {
    "colab": {
      "provenance": []
    },
    "kernelspec": {
      "display_name": "Python 3",
      "name": "python3"
    },
    "language_info": {
      "name": "python"
    }
  },
  "nbformat": 4,
  "nbformat_minor": 0
}
