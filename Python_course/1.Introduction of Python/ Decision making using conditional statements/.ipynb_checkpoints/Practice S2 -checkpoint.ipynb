{
 "cells": [
  {
   "cell_type": "markdown",
   "id": "5846a32e-ba29-422f-97fe-352e636a4171",
   "metadata": {},
   "source": [
    "# Decision making using Conditional Statements"
   ]
  },
  {
   "cell_type": "code",
   "execution_count": 4,
   "id": "13cefc4d-eaba-4d53-a3c0-9b23d9f3c5b5",
   "metadata": {},
   "outputs": [
    {
     "name": "stdin",
     "output_type": "stream",
     "text": [
      "Enter a character :  c\n"
     ]
    },
    {
     "name": "stdout",
     "output_type": "stream",
     "text": [
      "Excel\n"
     ]
    }
   ],
   "source": [
    "n=input('Enter a character : ')\n",
    "n=n.upper()\n",
    "if n=='A':\n",
    "    print(\"Python\")\n",
    "elif n=='B':\n",
    "    print(\"MySQL\")\n",
    "elif n=='C':\n",
    "    print(\"Excel\")\n",
    "else:\n",
    "    print(\"Holiday\")"
   ]
  },
  {
   "cell_type": "code",
   "execution_count": 6,
   "id": "a5a00181-4c0e-4a5c-a5f3-9e914551d01b",
   "metadata": {},
   "outputs": [
    {
     "name": "stdin",
     "output_type": "stream",
     "text": [
      "Enter number 1 :  7\n",
      "Enter number 2 :  9\n"
     ]
    },
    {
     "name": "stdout",
     "output_type": "stream",
     "text": [
      "9\n"
     ]
    }
   ],
   "source": [
    "a=int(input(\"Enter number 1 : \"))\n",
    "b=int(input(\"Enter number 2 : \"))\n",
    "if a>b:\n",
    "    print(a)\n",
    "else:\n",
    "    print(b)"
   ]
  },
  {
   "cell_type": "code",
   "execution_count": 10,
   "id": "b4deef3d-5d6c-4cc0-bff5-9d6493e4fa34",
   "metadata": {},
   "outputs": [
    {
     "name": "stdin",
     "output_type": "stream",
     "text": [
      "Enter Basic Salary :  13000\n"
     ]
    },
    {
     "name": "stdout",
     "output_type": "stream",
     "text": [
      "Net Income =  15600.0\n"
     ]
    }
   ],
   "source": [
    "bs=int(input(\"Enter Basic Salary : \"))\n",
    "if bs>0 and bs<=4000:\n",
    "    ni=bs+(10/100*bs)+(5/100*bs)\n",
    "elif bs>4000 and bs<=10000:\n",
    "    ni=bs+(20/100*bs)+(10/100*bs)-(15/100*bs)\n",
    "else:\n",
    "    ni=bs+(25/100*bs)+(15/100*bs)-(20/100*bs)\n",
    "print(\"Net Income = \",ni)"
   ]
  },
  {
   "cell_type": "code",
   "execution_count": 14,
   "id": "58a05049-4273-4576-a850-34994a9419da",
   "metadata": {},
   "outputs": [
    {
     "name": "stdin",
     "output_type": "stream",
     "text": [
      "Enter a word :  scale\n"
     ]
    },
    {
     "name": "stdout",
     "output_type": "stream",
     "text": [
      "scale word is exists in var\n"
     ]
    }
   ],
   "source": [
    "var='''Python is an interpreted high-level general-purpose programming language,Its design philosophy emphasizes code readability with its \n",
    "        use of significant identation.Its language constructs as well as its object-oriented approach aim to help programmers write clear,logical code \n",
    "        for small and large scale projects.'''\n",
    "n=input(\"Enter a word : \")\n",
    "if n in var:\n",
    "    print(n,\"word is exists in var\")\n",
    "else:\n",
    "    print(n,\"word is not exists in var\")"
   ]
  },
  {
   "cell_type": "code",
   "execution_count": 19,
   "id": "3caacd1c-8ab3-49a4-9e83-0079c38c975a",
   "metadata": {},
   "outputs": [
    {
     "name": "stdin",
     "output_type": "stream",
     "text": [
      "Enter a Character :  u\n"
     ]
    },
    {
     "name": "stdout",
     "output_type": "stream",
     "text": [
      "u is lowercase\n"
     ]
    }
   ],
   "source": [
    "char=input(\"Enter a Character : \")\n",
    "if char>=\"A\" and char<=\"Z\":\n",
    "    print(char,\"is uppercase\")\n",
    "else:\n",
    "    print(char,\"is lowercase\")"
   ]
  },
  {
   "cell_type": "markdown",
   "id": "320bdf52-dc29-435a-bd08-6d544066d8a7",
   "metadata": {},
   "source": [
    "# Challenge"
   ]
  },
  {
   "cell_type": "markdown",
   "id": "8e322e5f-a77f-45db-a2e5-56dcab71a5e9",
   "metadata": {},
   "source": [
    "# Task-1"
   ]
  },
  {
   "cell_type": "code",
   "execution_count": 24,
   "id": "1e81e4c3-abda-454d-ba5b-8ad7c6913595",
   "metadata": {},
   "outputs": [
    {
     "name": "stdin",
     "output_type": "stream",
     "text": [
      "Enter a Year :  2024\n"
     ]
    },
    {
     "name": "stdout",
     "output_type": "stream",
     "text": [
      "It is a Leap Year\n"
     ]
    }
   ],
   "source": [
    "n=int(input('Enter a Year : '))\n",
    "if n%4==0 and n%100!=0:\n",
    "    print(\"It is a Leap Year\")\n",
    "elif n%100==0 and n%400==0:\n",
    "    print(\"It is a Leap Year\")\n",
    "else:\n",
    "    print(\"It is not a Leap Year\")"
   ]
  },
  {
   "cell_type": "markdown",
   "id": "9131f2f9-e466-44fc-a106-276467265f8b",
   "metadata": {},
   "source": [
    "# Task-2"
   ]
  },
  {
   "cell_type": "code",
   "execution_count": 33,
   "id": "d3f457f0-25af-4b4c-ae06-e8c0dfd94c02",
   "metadata": {},
   "outputs": [
    {
     "name": "stdin",
     "output_type": "stream",
     "text": [
      "Enter a month number :  6\n"
     ]
    },
    {
     "name": "stdout",
     "output_type": "stream",
     "text": [
      "June \n",
      "It has 30 Days\n"
     ]
    }
   ],
   "source": [
    "n=int(input('Enter a month number : '))\n",
    "if n==1:\n",
    "    print(\"January \\nIt has 31 Days\")\n",
    "elif n==2:\n",
    "    print(\"February \\nIt has 28 Days\")\n",
    "elif n==3:\n",
    "    print(\"March \\nIt has 31 Days\")\n",
    "elif n==4:\n",
    "    print(\"April \\nIt has 30 Days\")\n",
    "elif n==5:\n",
    "    print(\"May \\nIt has 31 Days\")\n",
    "elif n==6:\n",
    "    print(\"June \\nIt has 30 Days\")\n",
    "elif n==7:\n",
    "    print(\"July \\nIt has 31 Days\")\n",
    "elif n==8:\n",
    "    print(\"August \\nIt has 31 Days\")\n",
    "elif n==9:\n",
    "    print(\"September \\nIt has 30 Days\")\n",
    "elif n==10:\n",
    "    print(\"October \\nIt has 31 Days\")\n",
    "elif n==11:\n",
    "    print(\"November \\nIt has 30 Days\")\n",
    "elif n==12:\n",
    "    print(\"December \\nIt has 31 Days\")\n",
    "else:\n",
    "    print(\"Enter valid month\")"
   ]
  },
  {
   "cell_type": "markdown",
   "id": "eb96da64-7d89-47b2-a8cb-8ac6c3fd622d",
   "metadata": {},
   "source": [
    "# Task-3"
   ]
  },
  {
   "cell_type": "code",
   "execution_count": 29,
   "id": "b3042754-4841-42c2-ad40-a0e71bb1a8b1",
   "metadata": {},
   "outputs": [
    {
     "name": "stdin",
     "output_type": "stream",
     "text": [
      "Enter Purchase Amount :  235\n"
     ]
    },
    {
     "name": "stdout",
     "output_type": "stream",
     "text": [
      "20% Discount\n"
     ]
    }
   ],
   "source": [
    "n=int(input(\"Enter Purchase Amount : \"))\n",
    "if n<100:\n",
    "    print(\"No Discount\")\n",
    "elif n>=100 and n<150:\n",
    "    print(\"10% Discount\")\n",
    "elif n>=150 and n<200:\n",
    "    print(\"15% Discount\")\n",
    "elif n>=200 and n<250:\n",
    "    print(\"20% Discount\")\n",
    "else:\n",
    "    print(\"Discount is 25%\")"
   ]
  },
  {
   "cell_type": "markdown",
   "id": "dabd0342-7de1-457a-8785-ff1db69c5ac7",
   "metadata": {},
   "source": [
    "# Task-4"
   ]
  },
  {
   "cell_type": "code",
   "execution_count": 35,
   "id": "3c958595-644e-4e16-a616-4b4a4c66788b",
   "metadata": {},
   "outputs": [
    {
     "name": "stdout",
     "output_type": "stream",
     "text": [
      "Let's Play a Small GAME\n",
      "What's 5 times 2?\n"
     ]
    },
    {
     "name": "stdin",
     "output_type": "stream",
     "text": [
      "Enter your answer :  10\n"
     ]
    },
    {
     "name": "stdout",
     "output_type": "stream",
     "text": [
      "Correct\n",
      "What's 56-6?\n"
     ]
    },
    {
     "name": "stdin",
     "output_type": "stream",
     "text": [
      "Enter your answer :  45\n"
     ]
    },
    {
     "name": "stdout",
     "output_type": "stream",
     "text": [
      "Incorrect! Please try again.\n",
      "What's 56-6?\n"
     ]
    },
    {
     "name": "stdin",
     "output_type": "stream",
     "text": [
      "Enter your answer :  50\n"
     ]
    },
    {
     "name": "stdout",
     "output_type": "stream",
     "text": [
      "Correct\n",
      "What's 8times 9,plus 2?\n"
     ]
    },
    {
     "name": "stdin",
     "output_type": "stream",
     "text": [
      "Enter your answer :  67\n"
     ]
    },
    {
     "name": "stdout",
     "output_type": "stream",
     "text": [
      "Incorrect! Please try again.\n",
      "What's 8times 9,plus 2?\n"
     ]
    },
    {
     "name": "stdin",
     "output_type": "stream",
     "text": [
      "Enter your answer :  74\n"
     ]
    },
    {
     "name": "stdout",
     "output_type": "stream",
     "text": [
      "Correct\n",
      "Well Done! Thanks for Playing;)\n"
     ]
    }
   ],
   "source": [
    "print(\"Let's Play a Small GAME\")\n",
    "while(True):\n",
    "    print(\"What's 5 times 2?\")\n",
    "    n=int(input(\"Enter your answer : \"))\n",
    "    if n==10:\n",
    "          print(\"Correct\")\n",
    "          break\n",
    "    else:\n",
    "          print(\"Incorrect! Please try again.\")\n",
    "while(True):\n",
    "    print(\"What's 56-6?\")\n",
    "    n=int(input(\"Enter your answer : \"))\n",
    "    if n==50:\n",
    "          print(\"Correct\")\n",
    "          break\n",
    "    else:\n",
    "          print(\"Incorrect! Please try again.\")\n",
    "while(True):\n",
    "    print(\"What's 8times 9,plus 2?\")\n",
    "    n=int(input(\"Enter your answer : \"))\n",
    "    if n==74:\n",
    "          print(\"Correct\")\n",
    "          break\n",
    "    else:\n",
    "          print(\"Incorrect! Please try again.\")\n",
    "print(\"Well Done! Thanks for Playing;)\")"
   ]
  },
  {
   "cell_type": "markdown",
   "id": "df4d54a0-8bb2-4ffa-8c42-377256e46877",
   "metadata": {},
   "source": [
    "# Task-5"
   ]
  },
  {
   "cell_type": "code",
   "execution_count": 40,
   "id": "5da03b8e-7731-44b2-8dad-367d9cb80789",
   "metadata": {},
   "outputs": [
    {
     "name": "stdin",
     "output_type": "stream",
     "text": [
      "Enter ROCK or SCISSOR or PAPER : scissor\n"
     ]
    },
    {
     "name": "stdout",
     "output_type": "stream",
     "text": [
      "Scissor cut Paper. YOU WIN!\n"
     ]
    }
   ],
   "source": [
    "import random\n",
    "user=input(\"Enter ROCK or SCISSOR or PAPER :\")\n",
    "a=['rock','scissor','paper']\n",
    "computer=random.choice(a)\n",
    "if user==computer:\n",
    "    print(\"Its a tie\")\n",
    "elif user=='rock':\n",
    "    if computer=='scissor':\n",
    "        print(\"Rock smashes Scissor. YOU WIN!\")\n",
    "    else:\n",
    "        print(\"Paper covers Rock. YOU LOSE!\")\n",
    "elif user=='paper':\n",
    "    if computer=='rock':\n",
    "        print(\"Paper covers Rock. YOU WIN!\")\n",
    "    else:\n",
    "        print(\"Scissor cut Paper. YOU LOSE!\")\n",
    "elif user=='scissor':\n",
    "    if computer=='paper':\n",
    "        print(\"Scissor cut Paper. YOU WIN!\")\n",
    "    else:\n",
    "        print(\"Rock smashes Scissor. YOU LOSE!\")\n",
    "else:\n",
    "    print(\"Please enter valid ans to play.\")"
   ]
  },
  {
   "cell_type": "code",
   "execution_count": null,
   "id": "34bf29ba-7217-47e4-986b-283564b3c771",
   "metadata": {},
   "outputs": [],
   "source": []
  }
 ],
 "metadata": {
  "kernelspec": {
   "display_name": "Python 3 (ipykernel)",
   "language": "python",
   "name": "python3"
  },
  "language_info": {
   "codemirror_mode": {
    "name": "ipython",
    "version": 3
   },
   "file_extension": ".py",
   "mimetype": "text/x-python",
   "name": "python",
   "nbconvert_exporter": "python",
   "pygments_lexer": "ipython3",
   "version": "3.11.7"
  }
 },
 "nbformat": 4,
 "nbformat_minor": 5
}
