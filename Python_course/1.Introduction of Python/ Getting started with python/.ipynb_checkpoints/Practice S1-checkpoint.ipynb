{
 "cells": [
  {
   "cell_type": "markdown",
   "id": "44a5e055-1420-49b6-bb9d-2d015e3cb698",
   "metadata": {},
   "source": [
    "# Creating Variables"
   ]
  },
  {
   "cell_type": "code",
   "execution_count": 5,
   "id": "41d2d7fa-a40e-44dd-8f16-9876be2dc1c2",
   "metadata": {},
   "outputs": [
    {
     "name": "stdout",
     "output_type": "stream",
     "text": [
      "1813120\n"
     ]
    },
    {
     "data": {
      "text/plain": [
       "int"
      ]
     },
     "execution_count": 5,
     "metadata": {},
     "output_type": "execute_result"
    }
   ],
   "source": [
    "#a\n",
    "Rollno=1813120\n",
    "print(Rollno)\n",
    "print(id(Rollno))\n",
    "type(Rollno)"
   ]
  },
  {
   "cell_type": "code",
   "execution_count": 7,
   "id": "61374a79-288f-460c-8da7-b6b0708382f5",
   "metadata": {},
   "outputs": [
    {
     "name": "stdout",
     "output_type": "stream",
     "text": [
      "FirstName = boomi\n"
     ]
    },
    {
     "data": {
      "text/plain": [
       "2572287481200"
      ]
     },
     "execution_count": 7,
     "metadata": {},
     "output_type": "execute_result"
    }
   ],
   "source": [
    "#b\n",
    "Name=\"boomi\"\n",
    "print(\"FirstName =\",Name)\n",
    "print(id(Name))\n",
    "type(Name)"
   ]
  },
  {
   "cell_type": "code",
   "execution_count": 8,
   "id": "e467bba3-36a7-4561-adef-db8b7860657b",
   "metadata": {},
   "outputs": [
    {
     "name": "stdout",
     "output_type": "stream",
     "text": [
      "LastName = Nagaraj\n"
     ]
    },
    {
     "data": {
      "text/plain": [
       "str"
      ]
     },
     "execution_count": 8,
     "metadata": {},
     "output_type": "execute_result"
    }
   ],
   "source": [
    "#c\n",
    "Name=\"Nagaraj\"\n",
    "print(\"LastName =\",Name)\n",
    "print(id(Name))\n",
    "type(Name)"
   ]
  },
  {
   "cell_type": "code",
   "execution_count": 9,
   "id": "ccce024d-9e8b-45da-a31a-9dfddf86f202",
   "metadata": {},
   "outputs": [
    {
     "name": "stdout",
     "output_type": "stream",
     "text": [
      "Maxmarks = Nagaraj\n",
      "140730234554696\n"
     ]
    },
    {
     "data": {
      "text/plain": [
       "int"
      ]
     },
     "execution_count": 9,
     "metadata": {},
     "output_type": "execute_result"
    }
   ],
   "source": [
    "#d\n",
    "Maxmarks=50\n",
    "print(\"Maxmarks =\",Name)\n",
    "print(id(Maxmarks))\n",
    "type(Maxmarks)"
   ]
  },
  {
   "cell_type": "markdown",
   "id": "593e577e-c0b5-4b83-b365-b711afc96908",
   "metadata": {},
   "source": [
    "# Naming the variable"
   ]
  },
  {
   "cell_type": "code",
   "execution_count": 11,
   "id": "53309472-ff3b-447c-99b8-7bd4c3ed3ec1",
   "metadata": {},
   "outputs": [],
   "source": [
    "#a\n",
    "var1=2\n"
   ]
  },
  {
   "cell_type": "code",
   "execution_count": 12,
   "id": "286026fc-c0b2-46bb-be3e-1c4d2a80cdc6",
   "metadata": {},
   "outputs": [
    {
     "ename": "SyntaxError",
     "evalue": "invalid decimal literal (1729216075.py, line 1)",
     "output_type": "error",
     "traceback": [
      "\u001b[1;36m  Cell \u001b[1;32mIn[12], line 1\u001b[1;36m\u001b[0m\n\u001b[1;33m    2var=2\u001b[0m\n\u001b[1;37m    ^\u001b[0m\n\u001b[1;31mSyntaxError\u001b[0m\u001b[1;31m:\u001b[0m invalid decimal literal\n"
     ]
    }
   ],
   "source": [
    "#b\n",
    "2var=2"
   ]
  },
  {
   "cell_type": "code",
   "execution_count": 13,
   "id": "de135a4a-9197-44cb-a735-264fdc3525d2",
   "metadata": {},
   "outputs": [
    {
     "ename": "SyntaxError",
     "evalue": "invalid syntax (3073352835.py, line 1)",
     "output_type": "error",
     "traceback": [
      "\u001b[1;36m  Cell \u001b[1;32mIn[13], line 1\u001b[1;36m\u001b[0m\n\u001b[1;33m    var 1=2\u001b[0m\n\u001b[1;37m        ^\u001b[0m\n\u001b[1;31mSyntaxError\u001b[0m\u001b[1;31m:\u001b[0m invalid syntax\n"
     ]
    }
   ],
   "source": [
    "#c\n",
    "var 1=2\n",
    "#why its showing error means because of space inbetween in variable"
   ]
  },
  {
   "cell_type": "code",
   "execution_count": 14,
   "id": "1c782fc0-1053-4052-a51a-3eac3e897b64",
   "metadata": {},
   "outputs": [
    {
     "ename": "SyntaxError",
     "evalue": "invalid syntax (661466017.py, line 1)",
     "output_type": "error",
     "traceback": [
      "\u001b[1;36m  Cell \u001b[1;32mIn[14], line 1\u001b[1;36m\u001b[0m\n\u001b[1;33m    var$2=2\u001b[0m\n\u001b[1;37m       ^\u001b[0m\n\u001b[1;31mSyntaxError\u001b[0m\u001b[1;31m:\u001b[0m invalid syntax\n"
     ]
    }
   ],
   "source": [
    "#d\n",
    "var$2=2\n",
    "#why its showing error means beause of dollar symbol"
   ]
  },
  {
   "cell_type": "markdown",
   "id": "5046bd81-9720-422e-aff3-e2c8e51ede5c",
   "metadata": {},
   "source": [
    "# Assinging values to a variables"
   ]
  },
  {
   "cell_type": "code",
   "execution_count": 15,
   "id": "73f8ac5b-e843-495d-b32b-5f3506d3298e",
   "metadata": {},
   "outputs": [],
   "source": [
    "Class=15\n",
    "#Class is normal variable declaration"
   ]
  },
  {
   "cell_type": "code",
   "execution_count": 16,
   "id": "3587d4d6-d644-4598-b1d0-bc6f9dbf9b78",
   "metadata": {},
   "outputs": [
    {
     "ename": "SyntaxError",
     "evalue": "invalid syntax (1944381924.py, line 1)",
     "output_type": "error",
     "traceback": [
      "\u001b[1;36m  Cell \u001b[1;32mIn[16], line 1\u001b[1;36m\u001b[0m\n\u001b[1;33m    class=14\u001b[0m\n\u001b[1;37m         ^\u001b[0m\n\u001b[1;31mSyntaxError\u001b[0m\u001b[1;31m:\u001b[0m invalid syntax\n"
     ]
    }
   ],
   "source": [
    "class=14\n",
    "#because class is keyword in python"
   ]
  },
  {
   "cell_type": "code",
   "execution_count": 17,
   "id": "cc4944aa-006c-4051-861a-6b1e210306c1",
   "metadata": {},
   "outputs": [],
   "source": [
    "DEF=13\n",
    "# DEF is normal variable declaration"
   ]
  },
  {
   "cell_type": "code",
   "execution_count": 18,
   "id": "7699e8ef-4bfb-4490-8baa-799259c3ff66",
   "metadata": {},
   "outputs": [
    {
     "ename": "SyntaxError",
     "evalue": "invalid syntax (2880411144.py, line 1)",
     "output_type": "error",
     "traceback": [
      "\u001b[1;36m  Cell \u001b[1;32mIn[18], line 1\u001b[1;36m\u001b[0m\n\u001b[1;33m    def=12\u001b[0m\n\u001b[1;37m       ^\u001b[0m\n\u001b[1;31mSyntaxError\u001b[0m\u001b[1;31m:\u001b[0m invalid syntax\n"
     ]
    }
   ],
   "source": [
    "def=12\n",
    "#because class is keyword in python"
   ]
  },
  {
   "cell_type": "code",
   "execution_count": 21,
   "id": "f042de91-5d8c-4f5e-b9b6-a6e24b47fa12",
   "metadata": {},
   "outputs": [
    {
     "ename": "NameError",
     "evalue": "name 'TRUE' is not defined",
     "output_type": "error",
     "traceback": [
      "\u001b[1;31m---------------------------------------------------------------------------\u001b[0m",
      "\u001b[1;31mNameError\u001b[0m                                 Traceback (most recent call last)",
      "Cell \u001b[1;32mIn[21], line 1\u001b[0m\n\u001b[1;32m----> 1\u001b[0m a \u001b[38;5;241m=\u001b[39mTRUE\n",
      "\u001b[1;31mNameError\u001b[0m: name 'TRUE' is not defined"
     ]
    }
   ],
   "source": [
    "a =TRUE\n",
    "#why its showing error means because sytax error it's only allow True not TRUE"
   ]
  },
  {
   "cell_type": "code",
   "execution_count": 22,
   "id": "47546e10-4231-4dcf-bd7d-6cf6245af34c",
   "metadata": {},
   "outputs": [
    {
     "ename": "NameError",
     "evalue": "name 'false' is not defined",
     "output_type": "error",
     "traceback": [
      "\u001b[1;31m---------------------------------------------------------------------------\u001b[0m",
      "\u001b[1;31mNameError\u001b[0m                                 Traceback (most recent call last)",
      "Cell \u001b[1;32mIn[22], line 1\u001b[0m\n\u001b[1;32m----> 1\u001b[0m b\u001b[38;5;241m=\u001b[39mfalse\n",
      "\u001b[1;31mNameError\u001b[0m: name 'false' is not defined"
     ]
    }
   ],
   "source": [
    "b=false\n",
    "#why its showing error means because sytax error it's only allow False not false"
   ]
  },
  {
   "cell_type": "markdown",
   "id": "743d5392-2be6-4880-8058-3c56fef9542e",
   "metadata": {},
   "source": [
    "# Using id()"
   ]
  },
  {
   "cell_type": "code",
   "execution_count": 25,
   "id": "60de9480-6753-44de-90ee-be31685d5cab",
   "metadata": {},
   "outputs": [
    {
     "name": "stdout",
     "output_type": "stream",
     "text": [
      "22.5\n",
      "140730233177296\n",
      "24.5\n",
      "140730233177296\n"
     ]
    }
   ],
   "source": [
    "#a\n",
    "marks =22.5\n",
    "print(marks)\n",
    "print(id(type))\n",
    "#b\n",
    "marks=24.5\n",
    "print(marks)\n",
    "print(id(type))\n",
    "#yes,it is same beacuse it override the privious marks memory location"
   ]
  },
  {
   "cell_type": "markdown",
   "id": "89cc3ce3-6e1d-4d58-a405-7ede224f4d42",
   "metadata": {},
   "source": [
    "# formatting the output"
   ]
  },
  {
   "cell_type": "code",
   "execution_count": 29,
   "id": "950c1878-78dd-4a83-ad1e-e4e34e7eb547",
   "metadata": {},
   "outputs": [
    {
     "name": "stdout",
     "output_type": "stream",
     "text": [
      "percentage of marks 84.66666666666667 %\n"
     ]
    }
   ],
   "source": [
    "#a\n",
    "tamil=94\n",
    "english=85\n",
    "maths=75\n",
    "total_marks=tamil+english+maths\n",
    "percentage=(total_marks/300)*100\n",
    "print(\"percentage of marks\",percentage,\"%\")"
   ]
  },
  {
   "cell_type": "code",
   "execution_count": 31,
   "id": "e4d2a115-d3a5-4023-99a8-2fa32a9eafbf",
   "metadata": {},
   "outputs": [
    {
     "name": "stdout",
     "output_type": "stream",
     "text": [
      "FullName- boomiNagaraj\n"
     ]
    }
   ],
   "source": [
    "#b\n",
    "firstname=\"boomi\"\n",
    "lastname=\"Nagaraj\"\n",
    "print(\"FullName-\",firstname+lastname)"
   ]
  },
  {
   "cell_type": "code",
   "execution_count": 37,
   "id": "9118c0be-4686-4de3-af40-6ecc5f451467",
   "metadata": {},
   "outputs": [
    {
     "name": "stdout",
     "output_type": "stream",
     "text": [
      "boomi 95 %\n"
     ]
    }
   ],
   "source": [
    "#c\n",
    "Name=\"boomi\"\n",
    "marks=95\n",
    "print(Name,marks,'%')"
   ]
  },
  {
   "cell_type": "markdown",
   "id": "19fc78b6-3b33-4279-ae40-e83260b2f75d",
   "metadata": {},
   "source": [
    "# Creating DataStructure"
   ]
  },
  {
   "cell_type": "code",
   "execution_count": 39,
   "id": "56a74dd2-6ddd-49b7-95c5-64bef47691c6",
   "metadata": {},
   "outputs": [
    {
     "name": "stdout",
     "output_type": "stream",
     "text": [
      "{'RollNo': 'boomi'}\n"
     ]
    }
   ],
   "source": [
    "reg={\"RollNo\":\"boomi\"}\n",
    "print(reg)"
   ]
  },
  {
   "cell_type": "code",
   "execution_count": 41,
   "id": "ea4e9d30-cff2-4f9c-9e65-2cb2b8f3286b",
   "metadata": {},
   "outputs": [
    {
     "name": "stdout",
     "output_type": "stream",
     "text": [
      "[18, 'Boomi', 95]\n"
     ]
    }
   ],
   "source": [
    "reg=[18,\"Boomi\",95]\n",
    "print(reg)"
   ]
  },
  {
   "cell_type": "markdown",
   "id": "4c505c86-d723-4b2e-ae79-8a5a7ed57628",
   "metadata": {},
   "source": [
    "# Arithmetic operation"
   ]
  },
  {
   "cell_type": "code",
   "execution_count": 42,
   "id": "33c01472-2a23-4b70-989d-618a2c0161be",
   "metadata": {},
   "outputs": [
    {
     "ename": "TypeError",
     "evalue": "unsupported operand type(s) for +: 'int' and 'str'",
     "output_type": "error",
     "traceback": [
      "\u001b[1;31m---------------------------------------------------------------------------\u001b[0m",
      "\u001b[1;31mTypeError\u001b[0m                                 Traceback (most recent call last)",
      "Cell \u001b[1;32mIn[42], line 1\u001b[0m\n\u001b[1;32m----> 1\u001b[0m \u001b[38;5;241m1\u001b[39m\u001b[38;5;241m+\u001b[39m\u001b[38;5;124m\"\u001b[39m\u001b[38;5;124m2\u001b[39m\u001b[38;5;124m\"\u001b[39m\n",
      "\u001b[1;31mTypeError\u001b[0m: unsupported operand type(s) for +: 'int' and 'str'"
     ]
    }
   ],
   "source": [
    "1+\"2\"\n",
    "# why its showing error means we cant concatinate int and String"
   ]
  },
  {
   "cell_type": "code",
   "execution_count": 43,
   "id": "8949415a-6d83-4867-b65a-19de9892e408",
   "metadata": {},
   "outputs": [
    {
     "data": {
      "text/plain": [
       "'12'"
      ]
     },
     "execution_count": 43,
     "metadata": {},
     "output_type": "execute_result"
    }
   ],
   "source": [
    "\"1\"+\"2\"\n",
    "#the two operants are string so it will concatinate"
   ]
  },
  {
   "cell_type": "code",
   "execution_count": 44,
   "id": "85fe1e2a-a3d0-40be-96ad-39ffb0d3775b",
   "metadata": {},
   "outputs": [
    {
     "data": {
      "text/plain": [
       "0.5"
      ]
     },
     "execution_count": 44,
     "metadata": {},
     "output_type": "execute_result"
    }
   ],
   "source": [
    "1/2\n",
    "#divion it will give quotient value"
   ]
  },
  {
   "cell_type": "code",
   "execution_count": 45,
   "id": "647713a2-0434-40e8-adb1-21e51e86c92d",
   "metadata": {},
   "outputs": [
    {
     "data": {
      "text/plain": [
       "0"
      ]
     },
     "execution_count": 45,
     "metadata": {},
     "output_type": "execute_result"
    }
   ],
   "source": [
    "1//2\n",
    "# floordivision it will give the quotient rounded value"
   ]
  },
  {
   "cell_type": "markdown",
   "id": "f904dc97-8df3-4f0f-8051-ac6975e1aa3d",
   "metadata": {},
   "source": [
    "# Logical Operator"
   ]
  },
  {
   "cell_type": "code",
   "execution_count": 46,
   "id": "a2e1f669-0cf1-4c02-aa4f-f5676f32fa8f",
   "metadata": {},
   "outputs": [
    {
     "data": {
      "text/plain": [
       "True"
      ]
     },
     "execution_count": 46,
     "metadata": {},
     "output_type": "execute_result"
    }
   ],
   "source": [
    "True and True\n",
    "#AND operator gives true and true means only true\n",
    "#if any true and  false gives false "
   ]
  },
  {
   "cell_type": "code",
   "execution_count": 48,
   "id": "b71d82db-d504-4a7a-828e-0cf81c1e1adf",
   "metadata": {},
   "outputs": [
    {
     "data": {
      "text/plain": [
       "False"
      ]
     },
     "execution_count": 48,
     "metadata": {},
     "output_type": "execute_result"
    }
   ],
   "source": [
    "True and False\n",
    "#AND operator gives true and true means only \n",
    "#if any true and  false gives false "
   ]
  },
  {
   "cell_type": "code",
   "execution_count": 50,
   "id": "622c05d0-2505-45cf-a286-34140bcf87d9",
   "metadata": {},
   "outputs": [
    {
     "data": {
      "text/plain": [
       "True"
      ]
     },
     "execution_count": 50,
     "metadata": {},
     "output_type": "execute_result"
    }
   ],
   "source": [
    "False or True\n",
    "# OR operator gives false and true means true\n",
    "#in or operator only false and false gives false otherwise true only"
   ]
  },
  {
   "cell_type": "code",
   "execution_count": 51,
   "id": "1bdc4a8a-34d5-4e04-8343-2601aad54474",
   "metadata": {},
   "outputs": [
    {
     "data": {
      "text/plain": [
       "False"
      ]
     },
     "execution_count": 51,
     "metadata": {},
     "output_type": "execute_result"
    }
   ],
   "source": [
    "False or False\n",
    "# OR operator gives false and true means true\n",
    "#in or operator only false and false gives false otherwise true only"
   ]
  },
  {
   "cell_type": "markdown",
   "id": "33fd964f-25ec-409b-9f10-fdd8614f85e4",
   "metadata": {},
   "source": [
    "# identify and membership operation"
   ]
  },
  {
   "cell_type": "code",
   "execution_count": 52,
   "id": "824c90a0-1abb-4666-95db-ca1863249bf2",
   "metadata": {},
   "outputs": [
    {
     "name": "stdout",
     "output_type": "stream",
     "text": [
      "True\n"
     ]
    }
   ],
   "source": [
    "#a\n",
    "Firstname=\"boomi\"\n",
    "fullname=\"boominagraj\"\n",
    "print(Firstname in fullname)\n",
    "#why its showing true means by using IN operator\n",
    "#we can identify the content present or not"
   ]
  },
  {
   "cell_type": "code",
   "execution_count": 53,
   "id": "f0106338-d1d4-42f7-9e21-d1df0992026e",
   "metadata": {},
   "outputs": [
    {
     "name": "stdout",
     "output_type": "stream",
     "text": [
      "False\n"
     ]
    }
   ],
   "source": [
    "#b\n",
    "Firstname=\"boomi\"\n",
    "fullname=\"boominagraj\"\n",
    "print(Firstname is fullname)\n",
    "#why its showing False means by using IS operator\n",
    "#we can identify the content have same object or not"
   ]
  },
  {
   "cell_type": "markdown",
   "id": "7f9aae97-717a-4d2b-8201-e269ca72b1f5",
   "metadata": {},
   "source": [
    "# Associativity"
   ]
  },
  {
   "cell_type": "code",
   "execution_count": 57,
   "id": "73e2d991-5e46-4db7-9328-d6c47c6dbabd",
   "metadata": {},
   "outputs": [
    {
     "name": "stdout",
     "output_type": "stream",
     "text": [
      "d- 66\n",
      "e- 1024\n"
     ]
    }
   ],
   "source": [
    "a=4\n",
    "b=3\n",
    "c=2\n",
    "d=a**b+c\n",
    "e=a**(b+c)\n",
    "print(\"d-\",d)\n",
    "print(\"e-\",e)\n",
    "#it is not same d is takeing first piority is exponent ** then addition so its diffent\n",
    "# it is not same e is takeing first piority is pracket () then only next operator"
   ]
  },
  {
   "cell_type": "markdown",
   "id": "e49669de-138f-49c7-a757-199216865d0f",
   "metadata": {},
   "source": [
    "# Creating basic program"
   ]
  },
  {
   "cell_type": "code",
   "execution_count": 60,
   "id": "421de39f-39c5-45ef-a3ff-f26175e37600",
   "metadata": {},
   "outputs": [
    {
     "name": "stdout",
     "output_type": "stream",
     "text": [
      "Area_of_circle 113.04\n"
     ]
    }
   ],
   "source": [
    "pi=3.14\n",
    "radius=6\n",
    "print(\"Area_of_circle\",pi*radius**2)"
   ]
  },
  {
   "cell_type": "code",
   "execution_count": 62,
   "id": "442aa869-7a45-4e0a-8375-ee90d6981f56",
   "metadata": {},
   "outputs": [
    {
     "name": "stdout",
     "output_type": "stream",
     "text": [
      "Final amount with tax 100.3\n"
     ]
    }
   ],
   "source": [
    "Product_price=85\n",
    "tax=18\n",
    "tax_price=(18/100)*85\n",
    "total_Amount=tax_price+Product_price\n",
    "print(\"Final amount with tax\",total_Amount)"
   ]
  },
  {
   "cell_type": "code",
   "execution_count": 63,
   "id": "892ca16e-c733-40eb-bf38-9d3de85e0a7a",
   "metadata": {},
   "outputs": [
    {
     "name": "stdout",
     "output_type": "stream",
     "text": [
      "dollar values 44.44\n"
     ]
    }
   ],
   "source": [
    "Dollar_value=75\n",
    "rupess=3333\n",
    "rupess_to_dollar=3333/75\n",
    "print(\"dollar values\",rupess_to_dollar)"
   ]
  },
  {
   "cell_type": "code",
   "execution_count": 65,
   "id": "ce4df5ed-cb86-41f7-a995-7fe664558255",
   "metadata": {},
   "outputs": [
    {
     "name": "stdout",
     "output_type": "stream",
     "text": [
      "final purchasing power amount 467.2897196261682\n"
     ]
    }
   ],
   "source": [
    "inflation_rate=7/100\n",
    "Amount_of_power=500\n",
    "purchasing_power=Amount_of_power/(1+inflation_rate)\n",
    "print (\"final purchasing power amount\",purchasing_power)"
   ]
  },
  {
   "cell_type": "code",
   "execution_count": null,
   "id": "dbbad208-ea70-4021-b73b-339495d0e8a2",
   "metadata": {},
   "outputs": [],
   "source": []
  }
 ],
 "metadata": {
  "kernelspec": {
   "display_name": "Python 3 (ipykernel)",
   "language": "python",
   "name": "python3"
  },
  "language_info": {
   "codemirror_mode": {
    "name": "ipython",
    "version": 3
   },
   "file_extension": ".py",
   "mimetype": "text/x-python",
   "name": "python",
   "nbconvert_exporter": "python",
   "pygments_lexer": "ipython3",
   "version": "3.11.7"
  }
 },
 "nbformat": 4,
 "nbformat_minor": 5
}
