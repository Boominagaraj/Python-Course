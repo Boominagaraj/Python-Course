{
 "cells": [
  {
   "cell_type": "code",
   "execution_count": 6,
   "id": "31787415-3c77-4fef-bbee-8a19a835a043",
   "metadata": {},
   "outputs": [
    {
     "name": "stdin",
     "output_type": "stream",
     "text": [
      "enter the numer 5\n"
     ]
    },
    {
     "name": "stdout",
     "output_type": "stream",
     "text": [
      "factorial of n: 120\n"
     ]
    }
   ],
   "source": [
    "n=int(input(\"enter the numer\"))\n",
    "Fact=1\n",
    "i=1\n",
    "while i<=n:\n",
    "    Fact*=i\n",
    "    i+=1\n",
    "print(\"factorial of n:\",Fact)"
   ]
  },
  {
   "cell_type": "code",
   "execution_count": 1,
   "id": "6da196ad-33db-4637-b6aa-066f5d5a1494",
   "metadata": {},
   "outputs": [
    {
     "name": "stdout",
     "output_type": "stream",
     "text": [
      "Prime numbers up to 20:\n",
      "2 3 5 7 11 13 17 19 "
     ]
    }
   ],
   "source": [
    "\n",
    "num = 2\n",
    "\n",
    "print(\"Prime numbers up to 20:\")\n",
    "while num <= 20:\n",
    "    flag = True\n",
    "    div = 2\n",
    "    while div <= num ** 0.5:\n",
    "        if num % div == 0:\n",
    "            flag = False\n",
    "            break\n",
    "        div += 1\n",
    "    if flag:\n",
    "        print(num, end=\" \")\n",
    "    num += 1\n",
    "\n"
   ]
  },
  {
   "cell_type": "code",
   "execution_count": 2,
   "id": "3b0c9ef3-7d82-4457-9c64-98e7f3e44163",
   "metadata": {},
   "outputs": [
    {
     "data": {
      "text/plain": [
       "622.5"
      ]
     },
     "execution_count": 2,
     "metadata": {},
     "output_type": "execute_result"
    }
   ],
   "source": [
    "1245/2"
   ]
  },
  {
   "cell_type": "code",
   "execution_count": 3,
   "id": "79a64374-9301-451e-be5c-c2d657782e7e",
   "metadata": {},
   "outputs": [
    {
     "data": {
      "text/plain": [
       "1"
      ]
     },
     "execution_count": 3,
     "metadata": {},
     "output_type": "execute_result"
    }
   ],
   "source": [
    "1245%2"
   ]
  },
  {
   "cell_type": "code",
   "execution_count": 15,
   "id": "6a24ceee-64c0-41bb-a99c-4e871d840d8c",
   "metadata": {},
   "outputs": [
    {
     "name": "stdout",
     "output_type": "stream",
     "text": [
      "sum of digits: 15\n"
     ]
    }
   ],
   "source": [
    "num=12345\n",
    "sum=0\n",
    "while num>0:\n",
    "    sum += (num%10)\n",
    "    num //= 10\n",
    "print(\"sum of digits:\",sum)"
   ]
  },
  {
   "cell_type": "code",
   "execution_count": 20,
   "id": "cf06b93b-9b6d-4391-abdc-e037a3e7e60b",
   "metadata": {},
   "outputs": [
    {
     "name": "stdout",
     "output_type": "stream",
     "text": [
      "1 2\n",
      "3 5 8 13 21 34 55 "
     ]
    }
   ],
   "source": [
    "a=1\n",
    "b=2\n",
    "i=1\n",
    "print(\"1\",\"2\")\n",
    "while i<=7:\n",
    "    c=a+b\n",
    "    a=b\n",
    "    b=c\n",
    "    print(c,end=\" \")\n",
    "    i+=1"
   ]
  },
  {
   "cell_type": "code",
   "execution_count": 27,
   "id": "67a0521a-3aa3-4805-9cc8-f212660f797f",
   "metadata": {},
   "outputs": [
    {
     "name": "stdout",
     "output_type": "stream",
     "text": [
      "140728088447464 140728088447784\n",
      "140728088449544 140728088447784\n"
     ]
    }
   ],
   "source": [
    "t1=55\n",
    "t2=65\n",
    "print(id(t1),id(t2))\n",
    "t1=t1+t2\n",
    "print(id(t1),id(t2))"
   ]
  },
  {
   "cell_type": "code",
   "execution_count": 30,
   "id": "1bd94f4d-0ad0-454e-acd9-41b782f829e6",
   "metadata": {},
   "outputs": [
    {
     "name": "stdout",
     "output_type": "stream",
     "text": [
      "{70, 40, 10, 50, 20, 60, 30}\n"
     ]
    }
   ],
   "source": [
    "m={10,20,30,40,50}\n",
    "n={30,40,50,60,70}\n",
    "s={}\n",
    "m.update(n)\n",
    "print(m)"
   ]
  },
  {
   "cell_type": "code",
   "execution_count": 36,
   "id": "57dc4564-220b-492d-885a-0147f6d5add6",
   "metadata": {},
   "outputs": [
    {
     "name": "stdout",
     "output_type": "stream",
     "text": [
      "SSH 2\n",
      "http 4\n"
     ]
    }
   ],
   "source": [
    "port1={\"FTP\":1,\"SSH\":2,\"telnet\":3,\"http\":4}\n",
    "for key,value in port1.items():\n",
    "    if value %2==0:\n",
    "      print(key,value)  "
   ]
  },
  {
   "cell_type": "code",
   "execution_count": 39,
   "id": "d28c4bf8-cbe5-4e78-8cec-1087d0e9d294",
   "metadata": {},
   "outputs": [
    {
     "name": "stdout",
     "output_type": "stream",
     "text": [
      "{1: 1, 2: 4, 3: 9, 4: 16, 5: 25, 6: 36, 7: 49, 8: 64, 9: 81, 10: 100, 11: 121, 12: 144, 13: 169, 14: 196, 15: 225}\n",
      "{1: 1, 2: 4, 3: 9, 4: 16, 5: 25, 6: 36, 7: 49, 8: 64, 9: 81, 10: 100, 11: 121, 12: 144, 13: 169, 14: 196, 15: 225, 100: 10000}\n"
     ]
    }
   ],
   "source": [
    "Sqr_dis={}\n",
    "key=1\n",
    "while key<=15:\n",
    "    Sqr_dis[key]=key**2\n",
    "    key+=1\n",
    "print(Sqr_dis)\n",
    "add={100:10000}\n",
    "Sqr_dis.update(add)\n",
    "print(Sqr_dis)\n"
   ]
  },
  {
   "cell_type": "code",
   "execution_count": 40,
   "id": "f00b819c-5239-43bb-8fcd-80490643e7c3",
   "metadata": {},
   "outputs": [
    {
     "name": "stdout",
     "output_type": "stream",
     "text": [
      "{'FTP': 21, 'SSH': 22, 23: 'TELNET', 80: 'HTTP'}\n"
     ]
    }
   ],
   "source": [
    "port1={21:\"FTP\",22:\"SSH\",\"TELNET\":23,\"HTTP\":80}\n",
    "swap={}\n",
    "for key,value in port1.items():\n",
    "    swap[value]=key\n",
    "print(swap)"
   ]
  },
  {
   "cell_type": "markdown",
   "id": "9f5ac084-573c-42dd-815c-a6517a31bf05",
   "metadata": {},
   "source": [
    "# Challenge"
   ]
  },
  {
   "cell_type": "code",
   "execution_count": 53,
   "id": "b016245a-571c-45e1-b587-c7cafcdc1542",
   "metadata": {},
   "outputs": [
    {
     "name": "stdout",
     "output_type": "stream",
     "text": [
      "Quiz program\n"
     ]
    },
    {
     "name": "stdin",
     "output_type": "stream",
     "text": [
      "Enter the Question number 1\n"
     ]
    },
    {
     "name": "stdout",
     "output_type": "stream",
     "text": [
      "If the cost price is 95% of the selling price, what is the profit percent ?\n",
      "a)4%\n",
      "b)4.75%\n",
      "c)5%\n",
      "d)5.26%\n"
     ]
    },
    {
     "name": "stdin",
     "output_type": "stream",
     "text": [
      "enter the option a\n",
      "Enter the Question number 2\n"
     ]
    },
    {
     "name": "stdout",
     "output_type": "stream",
     "text": [
      "If the cost price of 25 pens is equal to the selling price of 20 pens, then the profit per cent is\n",
      "a)20%\n",
      "b)25%\n",
      "c)15%\n",
      "d)5%\n"
     ]
    },
    {
     "name": "stdin",
     "output_type": "stream",
     "text": [
      "enter the option b\n",
      "Enter the Question number 3\n"
     ]
    },
    {
     "name": "stdout",
     "output_type": "stream",
     "text": [
      "\tBy selling 12 oranges for 60, a man loses 25%. The number of oranges he has to sell for 100, so as to gain 25% is ?\n",
      "a)10\n",
      "b)11\n",
      "c)12\n",
      "d)15\n"
     ]
    },
    {
     "name": "stdin",
     "output_type": "stream",
     "text": [
      "enter the option c\n",
      "Enter the Question number 4\n"
     ]
    },
    {
     "name": "stdout",
     "output_type": "stream",
     "text": [
      "\tA vendor sells lemons at the rate of 5 for 14, gaining thereby 40%. For how much did he buy a dozen lemons ?\n",
      "a)20\n",
      "b)21\n",
      "c)24\n",
      "d)28\n"
     ]
    },
    {
     "name": "stdin",
     "output_type": "stream",
     "text": [
      "enter the option c\n",
      "Enter the Question number 5\n"
     ]
    },
    {
     "name": "stdout",
     "output_type": "stream",
     "text": [
      "An article is sold at 5% profit. The ratio of selling price and cost price will be ?\t\n",
      "a)1:5\n",
      "b)20:21\n",
      "c)21:20\n",
      "d)5:1\n"
     ]
    },
    {
     "name": "stdin",
     "output_type": "stream",
     "text": [
      "enter the option c\n"
     ]
    },
    {
     "name": "stdout",
     "output_type": "stream",
     "text": [
      "Total marks of quiz: 4\n"
     ]
    }
   ],
   "source": [
    "print(\"Quiz program\")\n",
    "i=1\n",
    "total=0\n",
    "while i<=10:\n",
    "    if(1==int(input(\"Enter the Question number\"))):\n",
    "        First=\"d\"\n",
    "        print(\"If the cost price is 95% of the selling price, what is the profit percent ?\")\n",
    "        print(\"a)4%\\nb)4.75%\\nc)5%\\nd)5.26%\")\n",
    "        if First==input(\"enter the option\"):\n",
    "            total+=1\n",
    "    if(2==int(input(\"Enter the Question number\"))):\n",
    "        Second=\"b\"\n",
    "        print(\"If the cost price of 25 pens is equal to the selling price of 20 pens, then the profit per cent is\")\n",
    "        print(\"a)20%\\nb)25%\\nc)15%\\nd)5%\")\n",
    "        if Second==input(\"enter the option\"):\n",
    "            total+=1\n",
    "    if(3==int(input(\"Enter the Question number\"))):\n",
    "        Third=\"c\"\n",
    "        print(\"By selling 12 oranges for 60, a man loses 25%. The number of oranges he has to sell for 100, so as to gain 25% is ?\")\n",
    "        print(\"a)10\\nb)11\\nc)12\\nd)15\")\n",
    "        if Third==input(\"enter the option\"):\n",
    "            total+=1\n",
    "    if(4==int(input(\"Enter the Question number\"))):\n",
    "        Fourth=\"c\"\n",
    "        print(\"A vendor sells lemons at the rate of 5 for 14, gaining thereby 40%. For how much did he buy a dozen lemons ?\")\n",
    "        print(\"a)20\\nb)21\\nc)24\\nd)28\")\n",
    "        if Fourth==input(\"enter the option\"):\n",
    "            total+=1\n",
    "    if(5==int(input(\"Enter the Question number\"))):\n",
    "        Fifth=\"c\"\n",
    "        print(\"An article is sold at 5% profit. The ratio of selling price and cost price will be ?\t\")\n",
    "        print(\"a)1:5\\nb)20:21\\nc)21:20\\nd)5:1\")\n",
    "        if Fifth==input(\"enter the option\"):\n",
    "            total+=1\n",
    "            break\n",
    "print(\"Total marks of quiz:\",total)\n",
    "    \n",
    "    \n",
    "        \n",
    "\n",
    "\n",
    "\n"
   ]
  },
  {
   "cell_type": "code",
   "execution_count": null,
   "id": "d68bd8c6-0f13-45c8-abed-a208ff8de497",
   "metadata": {},
   "outputs": [],
   "source": []
  },
  {
   "cell_type": "code",
   "execution_count": null,
   "id": "fef90d6e-f931-43aa-bfd0-6cb9ca69594e",
   "metadata": {},
   "outputs": [],
   "source": []
  }
 ],
 "metadata": {
  "kernelspec": {
   "display_name": "Python 3 (ipykernel)",
   "language": "python",
   "name": "python3"
  },
  "language_info": {
   "codemirror_mode": {
    "name": "ipython",
    "version": 3
   },
   "file_extension": ".py",
   "mimetype": "text/x-python",
   "name": "python",
   "nbconvert_exporter": "python",
   "pygments_lexer": "ipython3",
   "version": "3.11.7"
  }
 },
 "nbformat": 4,
 "nbformat_minor": 5
}
