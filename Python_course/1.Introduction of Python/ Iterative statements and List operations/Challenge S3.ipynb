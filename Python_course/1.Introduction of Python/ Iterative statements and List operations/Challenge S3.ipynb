{
 "cells": [
  {
   "cell_type": "markdown",
   "id": "647b97b4-59d4-4337-a517-d790e4c60b3b",
   "metadata": {},
   "source": [
    "# Challangeing "
   ]
  },
  {
   "cell_type": "code",
   "execution_count": null,
   "id": "b032314e-27ad-425a-a78f-7f7ec42b42ff",
   "metadata": {},
   "outputs": [
    {
     "name": "stdin",
     "output_type": "stream",
     "text": [
      "enter the name boomi\n"
     ]
    }
   ],
   "source": [
    "li=[]\n",
    "rev=[]\n",
    "for i in range(0,10):\n",
    "    n=input(\"enter the name\")\n",
    "    li.append(n)\n",
    "for j in li:\n",
    "    rev=j[::-1]\n",
    "    print(rev,end=\",\")"
   ]
  },
  {
   "cell_type": "code",
   "execution_count": 8,
   "id": "af8155c2-040d-46df-b0ef-42ed569a95b7",
   "metadata": {},
   "outputs": [
    {
     "name": "stdin",
     "output_type": "stream",
     "text": [
      " boomi\n",
      " nagraj\n",
      " kavis\n",
      " kani\n",
      " praba\n",
      " praka\n",
      " boobalan\n",
      " muthu\n",
      " rajesh\n",
      " ram\n"
     ]
    },
    {
     "name": "stdout",
     "output_type": "stream",
     "text": [
      "['ram', 'rajesh', 'muthu', 'boobalan', 'praka', 'praba', 'kani', 'kavis', 'nagraj', 'boomi']\n"
     ]
    }
   ],
   "source": [
    "li=[]\n",
    "rev=[]\n",
    "for i in range(0,10):\n",
    "    n=input(\"\")\n",
    "    li.append(n)\n",
    "li.reverse()\n",
    "print(li)"
   ]
  },
  {
   "cell_type": "code",
   "execution_count": 13,
   "id": "a6257e76-2288-4de0-b445-adbf16b5539a",
   "metadata": {},
   "outputs": [
    {
     "name": "stdin",
     "output_type": "stream",
     "text": [
      " boomi\n",
      " boomi\n",
      " nagraj\n",
      " ram\n",
      " rajesh\n",
      " rajesh\n",
      " praba\n",
      " praka\n",
      " muthu\n",
      " kavis\n"
     ]
    },
    {
     "name": "stdout",
     "output_type": "stream",
     "text": [
      "['boomi', 'boomi', 'nagraj', 'ram', 'rajesh', 'rajesh', 'praba', 'praka', 'muthu', 'kavis']\n"
     ]
    }
   ],
   "source": [
    "alist=[]\n",
    "for i in range(0,10):\n",
    "    n=input(\"\")\n",
    "    alist.append(n)\n",
    "print(alist)"
   ]
  },
  {
   "cell_type": "code",
   "execution_count": 14,
   "id": "62566edf-8914-4756-bba9-966add352b92",
   "metadata": {},
   "outputs": [
    {
     "name": "stdout",
     "output_type": "stream",
     "text": [
      "['boomi', 'nagraj', 'ram', 'rajesh', 'praba', 'praka', 'muthu', 'kavis']\n"
     ]
    }
   ],
   "source": [
    "blist=[]\n",
    "for i in alist:\n",
    "    if i not in blist:\n",
    "        blist.append(i)\n",
    "print(blist)"
   ]
  },
  {
   "cell_type": "code",
   "execution_count": 15,
   "id": "4207878d-ef55-499c-80cc-52cf0cdd2566",
   "metadata": {},
   "outputs": [
    {
     "name": "stdout",
     "output_type": "stream",
     "text": [
      "['boomi', 'kavis', 'muthu', 'nagraj', 'praba', 'praka', 'rajesh', 'ram']\n"
     ]
    }
   ],
   "source": [
    "blist.sort()\n",
    "print(blist)"
   ]
  },
  {
   "cell_type": "code",
   "execution_count": 16,
   "id": "efb8535f-005e-4186-ac2f-d41d126a7eb6",
   "metadata": {},
   "outputs": [
    {
     "name": "stdout",
     "output_type": "stream",
     "text": [
      "['boomi', 'kavis', 'muthu', 'nagraj', 'praba', 'praka', 'rajesh']\n",
      "['boomi', 'kavis', 'muthu', 'nagraj', 'praba', 'praka']\n",
      "['boomi', 'kavis', 'muthu', 'nagraj', 'praba']\n",
      "['boomi', 'kavis', 'muthu', 'nagraj']\n"
     ]
    }
   ],
   "source": [
    "for i in blist:\n",
    "    blist.pop()\n",
    "    print(blist)"
   ]
  },
  {
   "cell_type": "code",
   "execution_count": 17,
   "id": "3d3afa30-ec84-4423-a889-bec5c2b48bad",
   "metadata": {},
   "outputs": [
    {
     "name": "stdout",
     "output_type": "stream",
     "text": [
      "1505,1540,1575,1610,1645,1680,1715,1750,1785,1820,1855,1890,1925,1960,1995,2030,2065,2100,2135,2170,2205,2240,2275,2310,2345,2380,2415,2450,2485,2520,2555,2590,2625,2660,2695,"
     ]
    }
   ],
   "source": [
    "for i in range(1500,2700):\n",
    "    if i%7==0 and i%5==0:\n",
    "        print(i,end=\",\")"
   ]
  },
  {
   "cell_type": "code",
   "execution_count": 21,
   "id": "f505817a-9882-4ba4-8065-2c164889de2b",
   "metadata": {},
   "outputs": [
    {
     "name": "stdin",
     "output_type": "stream",
     "text": [
      "enter the number 4\n"
     ]
    },
    {
     "name": "stdout",
     "output_type": "stream",
     "text": [
      "1,2,3,5,6,7,9,10,11,13,14,15,17,18,19,21,22,23,25,26,27,29,30,"
     ]
    }
   ],
   "source": [
    "n=int(input(\"enter the number\"))\n",
    "for i in range(0,31):\n",
    "    if i%n!=0:\n",
    "        print(i,end=\",\")\n"
   ]
  },
  {
   "cell_type": "code",
   "execution_count": 16,
   "id": "1345b7f1-29fb-4530-996b-da16e7369486",
   "metadata": {},
   "outputs": [
    {
     "name": "stdout",
     "output_type": "stream",
     "text": [
      "[20, 20, 20]\n",
      "[20, 20, 20]\n",
      "[20, 20, 20]\n",
      "9\n"
     ]
    }
   ],
   "source": [
    "firstlist=[[1,2,3],[4,5,6],[7,8,9]]\n",
    "secondlist=[[19,18,17],[16,15,14],[13,12,11]]\n",
    "thirdlist=[[0,0,0],[0,0,0],[0,0,0,]]\n",
    "for i in range (len(firstlist)):\n",
    "    for j in range (len(firstlist)):\n",
    "        thirdlist[i][j]=firstlist[i][j]+secondlist[i][j]\n",
    "for result in thirdlist:\n",
    "    print(result)\n",
    "    \n",
    "print(firstlist[i][j])"
   ]
  },
  {
   "cell_type": "code",
   "execution_count": 10,
   "id": "d25a2ae4-a5c8-45ec-9642-2f6f80ce7464",
   "metadata": {},
   "outputs": [
    {
     "data": {
      "text/plain": [
       "3"
      ]
     },
     "execution_count": 10,
     "metadata": {},
     "output_type": "execute_result"
    }
   ],
   "source": [
    "len(firstlist[0])"
   ]
  },
  {
   "cell_type": "code",
   "execution_count": 37,
   "id": "deeaeb49-c359-4684-b208-3087a44c0f23",
   "metadata": {},
   "outputs": [
    {
     "name": "stdout",
     "output_type": "stream",
     "text": [
      "enter firstlist integers\n"
     ]
    },
    {
     "name": "stdin",
     "output_type": "stream",
     "text": [
      " 1\n",
      " 2\n",
      " 3\n",
      " 4\n",
      " 5\n",
      " 6\n",
      " 7\n",
      " 8\n",
      " 9\n"
     ]
    },
    {
     "name": "stdout",
     "output_type": "stream",
     "text": [
      "enter secondlist integers\n"
     ]
    },
    {
     "name": "stdin",
     "output_type": "stream",
     "text": [
      " 19\n",
      " 18\n",
      " 17\n",
      " 16\n",
      " 15\n",
      " 14\n",
      " 13\n",
      " 12\n",
      " 11\n"
     ]
    },
    {
     "name": "stdout",
     "output_type": "stream",
     "text": [
      "Firstlist [[1, 2, 3], [4, 5, 6], [7, 8, 9]]\n",
      "Secondlist [[19, 18, 17], [16, 15, 14], [13, 12, 11]]\n"
     ]
    }
   ],
   "source": [
    "Firstlist=[]\n",
    "Secondlist=[]\n",
    "print(\"enter firstlist integers\")\n",
    "for i in range(3):\n",
    "    innerlist=[]\n",
    "    for j in range(3):\n",
    "        innerlist.append(int(input()))\n",
    "    Firstlist.append(innerlist)\n",
    "print(\"enter secondlist integers\")\n",
    "for i in range(3):\n",
    "    innerlist=[]\n",
    "    for j in range(3):\n",
    "        innerlist.append(int(input()))\n",
    "    Secondlist.append(innerlist)\n",
    "print(\"Firstlist\",Firstlist)\n",
    "print(\"Secondlist\",Secondlist)"
   ]
  },
  {
   "cell_type": "code",
   "execution_count": 24,
   "id": "90364712-f388-4628-8f93-baec3d8ce135",
   "metadata": {},
   "outputs": [],
   "source": [
    "## Tuples\n",
    "# syntax -tuple_name=(item1,item2,item3)\n",
    "cars=(\"audi\",\"bmw\",\"benz\")"
   ]
  },
  {
   "cell_type": "code",
   "execution_count": 26,
   "id": "16a76c01-9854-4526-895f-d82975af507e",
   "metadata": {},
   "outputs": [],
   "source": [
    "li=list(cars)"
   ]
  },
  {
   "cell_type": "code",
   "execution_count": 28,
   "id": "31d4210e-c537-42ec-9e75-895b0f662381",
   "metadata": {},
   "outputs": [
    {
     "data": {
      "text/plain": [
       "['audi', 'bmw', 'benz']"
      ]
     },
     "execution_count": 28,
     "metadata": {},
     "output_type": "execute_result"
    }
   ],
   "source": [
    "li"
   ]
  },
  {
   "cell_type": "code",
   "execution_count": 30,
   "id": "d2f0e470-f9e7-494f-ae90-0e6eb5142446",
   "metadata": {},
   "outputs": [],
   "source": [
    "li.append('toyota')"
   ]
  },
  {
   "cell_type": "code",
   "execution_count": 32,
   "id": "c72928b1-4599-4cbc-834e-75cf5ad64586",
   "metadata": {},
   "outputs": [
    {
     "data": {
      "text/plain": [
       "['audi', 'bmw', 'benz', 'toyota']"
      ]
     },
     "execution_count": 32,
     "metadata": {},
     "output_type": "execute_result"
    }
   ],
   "source": [
    "li"
   ]
  },
  {
   "cell_type": "code",
   "execution_count": 34,
   "id": "7ce16142-62a6-4e1e-8798-1a202cc08a5d",
   "metadata": {},
   "outputs": [],
   "source": [
    "cars=tuple(li)"
   ]
  },
  {
   "cell_type": "code",
   "execution_count": 36,
   "id": "fba59c0f-c5cd-4860-b4c5-3dccde630cbf",
   "metadata": {},
   "outputs": [
    {
     "data": {
      "text/plain": [
       "('audi', 'bmw', 'benz', 'toyota')"
      ]
     },
     "execution_count": 36,
     "metadata": {},
     "output_type": "execute_result"
    }
   ],
   "source": [
    "cars"
   ]
  },
  {
   "cell_type": "code",
   "execution_count": 40,
   "id": "3401cf23-cf57-4359-a7c4-bfdefd99a348",
   "metadata": {},
   "outputs": [
    {
     "data": {
      "text/plain": [
       "('audi', 'bmw', 'benz', 'toyota')"
      ]
     },
     "execution_count": 40,
     "metadata": {},
     "output_type": "execute_result"
    }
   ],
   "source": [
    "cars"
   ]
  },
  {
   "cell_type": "code",
   "execution_count": 62,
   "id": "498e94a9-3fe2-4083-969b-fb426e9c2bc4",
   "metadata": {},
   "outputs": [],
   "source": [
    "cars=(\"audi\",\"bmw\",\"benz\",\"ford\",\"toyota\")\n",
    "car1,*car2,car3=cars"
   ]
  },
  {
   "cell_type": "code",
   "execution_count": 50,
   "id": "a0291bbf-74d0-498c-8246-0b66e0aefab4",
   "metadata": {},
   "outputs": [
    {
     "data": {
      "text/plain": [
       "'audi'"
      ]
     },
     "execution_count": 50,
     "metadata": {},
     "output_type": "execute_result"
    }
   ],
   "source": [
    "car1"
   ]
  },
  {
   "cell_type": "code",
   "execution_count": 66,
   "id": "0cb71ca5-057e-41cd-bd03-e189fadee384",
   "metadata": {},
   "outputs": [
    {
     "data": {
      "text/plain": [
       "['bmw', 'benz', 'ford']"
      ]
     },
     "execution_count": 66,
     "metadata": {},
     "output_type": "execute_result"
    }
   ],
   "source": [
    "car2"
   ]
  },
  {
   "cell_type": "code",
   "execution_count": 64,
   "id": "68e950cd-6e57-4b7e-829b-ebbadb1a4759",
   "metadata": {},
   "outputs": [
    {
     "data": {
      "text/plain": [
       "'toyota'"
      ]
     },
     "execution_count": 64,
     "metadata": {},
     "output_type": "execute_result"
    }
   ],
   "source": [
    "car3"
   ]
  },
  {
   "cell_type": "code",
   "execution_count": null,
   "id": "f60b34fe-fa3e-439c-bd07-3d0040346fe4",
   "metadata": {},
   "outputs": [],
   "source": [
    "## Set_name={values}"
   ]
  }
 ],
 "metadata": {
  "kernelspec": {
   "display_name": "Python 3 (ipykernel)",
   "language": "python",
   "name": "python3"
  },
  "language_info": {
   "codemirror_mode": {
    "name": "ipython",
    "version": 3
   },
   "file_extension": ".py",
   "mimetype": "text/x-python",
   "name": "python",
   "nbconvert_exporter": "python",
   "pygments_lexer": "ipython3",
   "version": "3.11.7"
  }
 },
 "nbformat": 4,
 "nbformat_minor": 5
}
