{
 "cells": [
  {
   "cell_type": "markdown",
   "id": "647b97b4-59d4-4337-a517-d790e4c60b3b",
   "metadata": {},
   "source": [
    "# Challangeing "
   ]
  },
  {
   "cell_type": "code",
   "execution_count": 7,
   "id": "b032314e-27ad-425a-a78f-7f7ec42b42ff",
   "metadata": {},
   "outputs": [
    {
     "ename": "KeyboardInterrupt",
     "evalue": "Interrupted by user",
     "output_type": "error",
     "traceback": [
      "\u001b[1;31m---------------------------------------------------------------------------\u001b[0m",
      "\u001b[1;31mKeyboardInterrupt\u001b[0m                         Traceback (most recent call last)",
      "Cell \u001b[1;32mIn[7], line 4\u001b[0m\n\u001b[0;32m      2\u001b[0m rev\u001b[38;5;241m=\u001b[39m[]\n\u001b[0;32m      3\u001b[0m \u001b[38;5;28;01mfor\u001b[39;00m i \u001b[38;5;129;01min\u001b[39;00m \u001b[38;5;28mrange\u001b[39m(\u001b[38;5;241m0\u001b[39m,\u001b[38;5;241m10\u001b[39m):\n\u001b[1;32m----> 4\u001b[0m     n\u001b[38;5;241m=\u001b[39m\u001b[38;5;28minput\u001b[39m(\u001b[38;5;124m\"\u001b[39m\u001b[38;5;124menter the number\u001b[39m\u001b[38;5;124m\"\u001b[39m)\n\u001b[0;32m      5\u001b[0m     li\u001b[38;5;241m.\u001b[39mappend(n)\n\u001b[0;32m      6\u001b[0m \u001b[38;5;28;01mfor\u001b[39;00m j \u001b[38;5;129;01min\u001b[39;00m li:\n",
      "File \u001b[1;32m~\\anaconda3\\Lib\\site-packages\\ipykernel\\kernelbase.py:1262\u001b[0m, in \u001b[0;36mKernel.raw_input\u001b[1;34m(self, prompt)\u001b[0m\n\u001b[0;32m   1260\u001b[0m     msg \u001b[38;5;241m=\u001b[39m \u001b[38;5;124m\"\u001b[39m\u001b[38;5;124mraw_input was called, but this frontend does not support input requests.\u001b[39m\u001b[38;5;124m\"\u001b[39m\n\u001b[0;32m   1261\u001b[0m     \u001b[38;5;28;01mraise\u001b[39;00m StdinNotImplementedError(msg)\n\u001b[1;32m-> 1262\u001b[0m \u001b[38;5;28;01mreturn\u001b[39;00m \u001b[38;5;28mself\u001b[39m\u001b[38;5;241m.\u001b[39m_input_request(\n\u001b[0;32m   1263\u001b[0m     \u001b[38;5;28mstr\u001b[39m(prompt),\n\u001b[0;32m   1264\u001b[0m     \u001b[38;5;28mself\u001b[39m\u001b[38;5;241m.\u001b[39m_parent_ident[\u001b[38;5;124m\"\u001b[39m\u001b[38;5;124mshell\u001b[39m\u001b[38;5;124m\"\u001b[39m],\n\u001b[0;32m   1265\u001b[0m     \u001b[38;5;28mself\u001b[39m\u001b[38;5;241m.\u001b[39mget_parent(\u001b[38;5;124m\"\u001b[39m\u001b[38;5;124mshell\u001b[39m\u001b[38;5;124m\"\u001b[39m),\n\u001b[0;32m   1266\u001b[0m     password\u001b[38;5;241m=\u001b[39m\u001b[38;5;28;01mFalse\u001b[39;00m,\n\u001b[0;32m   1267\u001b[0m )\n",
      "File \u001b[1;32m~\\anaconda3\\Lib\\site-packages\\ipykernel\\kernelbase.py:1305\u001b[0m, in \u001b[0;36mKernel._input_request\u001b[1;34m(self, prompt, ident, parent, password)\u001b[0m\n\u001b[0;32m   1302\u001b[0m \u001b[38;5;28;01mexcept\u001b[39;00m \u001b[38;5;167;01mKeyboardInterrupt\u001b[39;00m:\n\u001b[0;32m   1303\u001b[0m     \u001b[38;5;66;03m# re-raise KeyboardInterrupt, to truncate traceback\u001b[39;00m\n\u001b[0;32m   1304\u001b[0m     msg \u001b[38;5;241m=\u001b[39m \u001b[38;5;124m\"\u001b[39m\u001b[38;5;124mInterrupted by user\u001b[39m\u001b[38;5;124m\"\u001b[39m\n\u001b[1;32m-> 1305\u001b[0m     \u001b[38;5;28;01mraise\u001b[39;00m \u001b[38;5;167;01mKeyboardInterrupt\u001b[39;00m(msg) \u001b[38;5;28;01mfrom\u001b[39;00m \u001b[38;5;28;01mNone\u001b[39;00m\n\u001b[0;32m   1306\u001b[0m \u001b[38;5;28;01mexcept\u001b[39;00m \u001b[38;5;167;01mException\u001b[39;00m:\n\u001b[0;32m   1307\u001b[0m     \u001b[38;5;28mself\u001b[39m\u001b[38;5;241m.\u001b[39mlog\u001b[38;5;241m.\u001b[39mwarning(\u001b[38;5;124m\"\u001b[39m\u001b[38;5;124mInvalid Message:\u001b[39m\u001b[38;5;124m\"\u001b[39m, exc_info\u001b[38;5;241m=\u001b[39m\u001b[38;5;28;01mTrue\u001b[39;00m)\n",
      "\u001b[1;31mKeyboardInterrupt\u001b[0m: Interrupted by user"
     ]
    }
   ],
   "source": [
    "li=[]\n",
    "rev=[]\n",
    "for i in range(0,10):\n",
    "    n=input(\"enter the name\")\n",
    "    li.append(n)\n",
    "for j in li:\n",
    "    rev=j[::-1]\n",
    "    print(rev,end=\",\")"
   ]
  },
  {
   "cell_type": "code",
   "execution_count": 8,
   "id": "af8155c2-040d-46df-b0ef-42ed569a95b7",
   "metadata": {},
   "outputs": [
    {
     "name": "stdin",
     "output_type": "stream",
     "text": [
      " boomi\n",
      " nagraj\n",
      " kavis\n",
      " kani\n",
      " praba\n",
      " praka\n",
      " boobalan\n",
      " muthu\n",
      " rajesh\n",
      " ram\n"
     ]
    },
    {
     "name": "stdout",
     "output_type": "stream",
     "text": [
      "['ram', 'rajesh', 'muthu', 'boobalan', 'praka', 'praba', 'kani', 'kavis', 'nagraj', 'boomi']\n"
     ]
    }
   ],
   "source": [
    "li=[]\n",
    "rev=[]\n",
    "for i in range(0,10):\n",
    "    n=input(\"\")\n",
    "    li.append(n)\n",
    "li.reverse()\n",
    "print(li)"
   ]
  },
  {
   "cell_type": "code",
   "execution_count": 13,
   "id": "a6257e76-2288-4de0-b445-adbf16b5539a",
   "metadata": {},
   "outputs": [
    {
     "name": "stdin",
     "output_type": "stream",
     "text": [
      " boomi\n",
      " boomi\n",
      " nagraj\n",
      " ram\n",
      " rajesh\n",
      " rajesh\n",
      " praba\n",
      " praka\n",
      " muthu\n",
      " kavis\n"
     ]
    },
    {
     "name": "stdout",
     "output_type": "stream",
     "text": [
      "['boomi', 'boomi', 'nagraj', 'ram', 'rajesh', 'rajesh', 'praba', 'praka', 'muthu', 'kavis']\n"
     ]
    }
   ],
   "source": [
    "alist=[]\n",
    "for i in range(0,10):\n",
    "    n=input(\"\")\n",
    "    alist.append(n)\n",
    "print(alist)"
   ]
  },
  {
   "cell_type": "code",
   "execution_count": 14,
   "id": "62566edf-8914-4756-bba9-966add352b92",
   "metadata": {},
   "outputs": [
    {
     "name": "stdout",
     "output_type": "stream",
     "text": [
      "['boomi', 'nagraj', 'ram', 'rajesh', 'praba', 'praka', 'muthu', 'kavis']\n"
     ]
    }
   ],
   "source": [
    "blist=[]\n",
    "for i in alist:\n",
    "    if i not in blist:\n",
    "        blist.append(i)\n",
    "print(blist)"
   ]
  },
  {
   "cell_type": "code",
   "execution_count": 15,
   "id": "4207878d-ef55-499c-80cc-52cf0cdd2566",
   "metadata": {},
   "outputs": [
    {
     "name": "stdout",
     "output_type": "stream",
     "text": [
      "['boomi', 'kavis', 'muthu', 'nagraj', 'praba', 'praka', 'rajesh', 'ram']\n"
     ]
    }
   ],
   "source": [
    "blist.sort()\n",
    "print(blist)"
   ]
  },
  {
   "cell_type": "code",
   "execution_count": 16,
   "id": "efb8535f-005e-4186-ac2f-d41d126a7eb6",
   "metadata": {},
   "outputs": [
    {
     "name": "stdout",
     "output_type": "stream",
     "text": [
      "['boomi', 'kavis', 'muthu', 'nagraj', 'praba', 'praka', 'rajesh']\n",
      "['boomi', 'kavis', 'muthu', 'nagraj', 'praba', 'praka']\n",
      "['boomi', 'kavis', 'muthu', 'nagraj', 'praba']\n",
      "['boomi', 'kavis', 'muthu', 'nagraj']\n"
     ]
    }
   ],
   "source": [
    "for i in blist:\n",
    "    blist.pop()\n",
    "    print(blist)"
   ]
  },
  {
   "cell_type": "code",
   "execution_count": 17,
   "id": "3d3afa30-ec84-4423-a889-bec5c2b48bad",
   "metadata": {},
   "outputs": [
    {
     "name": "stdout",
     "output_type": "stream",
     "text": [
      "1505,1540,1575,1610,1645,1680,1715,1750,1785,1820,1855,1890,1925,1960,1995,2030,2065,2100,2135,2170,2205,2240,2275,2310,2345,2380,2415,2450,2485,2520,2555,2590,2625,2660,2695,"
     ]
    }
   ],
   "source": [
    "for i in range(1500,2700):\n",
    "    if i%7==0 and i%5==0:\n",
    "        print(i,end=\",\")"
   ]
  },
  {
   "cell_type": "code",
   "execution_count": 21,
   "id": "f505817a-9882-4ba4-8065-2c164889de2b",
   "metadata": {},
   "outputs": [
    {
     "name": "stdin",
     "output_type": "stream",
     "text": [
      "enter the number 4\n"
     ]
    },
    {
     "name": "stdout",
     "output_type": "stream",
     "text": [
      "1,2,3,5,6,7,9,10,11,13,14,15,17,18,19,21,22,23,25,26,27,29,30,"
     ]
    }
   ],
   "source": [
    "n=int(input(\"enter the number\"))\n",
    "for i in range(0,31):\n",
    "    if i%n!=0:\n",
    "        print(i,end=\",\")\n"
   ]
  },
  {
   "cell_type": "code",
   "execution_count": 25,
   "id": "1345b7f1-29fb-4530-996b-da16e7369486",
   "metadata": {},
   "outputs": [
    {
     "name": "stdout",
     "output_type": "stream",
     "text": [
      "[20, 20, 20]\n",
      "[20, 20, 20]\n",
      "[20, 20, 20]\n"
     ]
    }
   ],
   "source": [
    "firstlist=[[1,2,3],[4,5,6],[7,8,9]]\n",
    "secondlist=[[19,18,17],[16,15,14],[13,12,11]]\n",
    "thirdlist=[[0,0,0],[0,0,0],[0,0,0,]]\n",
    "for i in range (len(firstlist)):\n",
    "    for j in range (len(firstlist[0])):\n",
    "        thirdlist[i][j]=firstlist[i][j]+secondlist[i][j]\n",
    "for result in thirdlist:\n",
    "    print(result)"
   ]
  },
  {
   "cell_type": "code",
   "execution_count": 37,
   "id": "deeaeb49-c359-4684-b208-3087a44c0f23",
   "metadata": {},
   "outputs": [
    {
     "name": "stdout",
     "output_type": "stream",
     "text": [
      "enter firstlist integers\n"
     ]
    },
    {
     "name": "stdin",
     "output_type": "stream",
     "text": [
      " 1\n",
      " 2\n",
      " 3\n",
      " 4\n",
      " 5\n",
      " 6\n",
      " 7\n",
      " 8\n",
      " 9\n"
     ]
    },
    {
     "name": "stdout",
     "output_type": "stream",
     "text": [
      "enter secondlist integers\n"
     ]
    },
    {
     "name": "stdin",
     "output_type": "stream",
     "text": [
      " 19\n",
      " 18\n",
      " 17\n",
      " 16\n",
      " 15\n",
      " 14\n",
      " 13\n",
      " 12\n",
      " 11\n"
     ]
    },
    {
     "name": "stdout",
     "output_type": "stream",
     "text": [
      "Firstlist [[1, 2, 3], [4, 5, 6], [7, 8, 9]]\n",
      "Secondlist [[19, 18, 17], [16, 15, 14], [13, 12, 11]]\n"
     ]
    }
   ],
   "source": [
    "Firstlist=[]\n",
    "Secondlist=[]\n",
    "print(\"enter firstlist integers\")\n",
    "for i in range(3):\n",
    "    innerlist=[]\n",
    "    for j in range(3):\n",
    "        innerlist.append(int(input()))\n",
    "    Firstlist.append(innerlist)\n",
    "print(\"enter secondlist integers\")\n",
    "for i in range(3):\n",
    "    innerlist=[]\n",
    "    for j in range(3):\n",
    "        innerlist.append(int(input()))\n",
    "    Secondlist.append(innerlist)\n",
    "print(\"Firstlist\",Firstlist)\n",
    "print(\"Secondlist\",Secondlist)"
   ]
  },
  {
   "cell_type": "code",
   "execution_count": null,
   "id": "90364712-f388-4628-8f93-baec3d8ce135",
   "metadata": {},
   "outputs": [],
   "source": []
  }
 ],
 "metadata": {
  "kernelspec": {
   "display_name": "Python 3 (ipykernel)",
   "language": "python",
   "name": "python3"
  },
  "language_info": {
   "codemirror_mode": {
    "name": "ipython",
    "version": 3
   },
   "file_extension": ".py",
   "mimetype": "text/x-python",
   "name": "python",
   "nbconvert_exporter": "python",
   "pygments_lexer": "ipython3",
   "version": "3.11.7"
  }
 },
 "nbformat": 4,
 "nbformat_minor": 5
}
