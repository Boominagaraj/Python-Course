{
  "cells": [
    {
      "cell_type": "markdown",
      "metadata": {
        "id": "KJAty2KGIK2o"
      },
      "source": [
        "# Iterative Statements And List Operations"
      ]
    },
    {
      "cell_type": "markdown",
      "metadata": {
        "id": "6G4q2bmCIPKe"
      },
      "source": [
        "# Iterative Statements: For LOOP"
      ]
    },
    {
      "cell_type": "code",
      "execution_count": 4,
      "metadata": {
        "id": "xtc9xvW5IZ-B"
      },
      "outputs": [],
      "source": []
    },
    {
      "cell_type": "code",
      "execution_count": 2,
      "metadata": {
        "id": "eROVusQuI8pi"
      },
      "outputs": [],
      "source": [
        "## for i in range(start, stop, step):\n",
        "## start: It is an integer representing the starting value of the loop\n",
        "## stop: It is an integer representing the ending value of the loop\n",
        "## step: It is an integer where we can increment the starting value"
      ]
    },
    {
      "cell_type": "code",
      "execution_count": 3,
      "metadata": {
        "colab": {
          "base_uri": "https://localhost:8080/"
        },
        "id": "QqVKdampJs2O",
        "outputId": "b232cd96-159a-4ec7-ba0d-190c5a2dbdb9"
      },
      "outputs": [
        {
          "name": "stdout",
          "output_type": "stream",
          "text": [
            "0\n",
            "1\n",
            "2\n",
            "3\n",
            "4\n"
          ]
        }
      ],
      "source": [
        "for i in range(5):\n",
        "  print(i)"
      ]
    },
    {
      "cell_type": "code",
      "execution_count": 4,
      "metadata": {
        "colab": {
          "base_uri": "https://localhost:8080/"
        },
        "id": "ex4NsB3KJ6eO",
        "outputId": "705ccc93-14b8-429a-f8bf-9e9468a40462"
      },
      "outputs": [
        {
          "name": "stdout",
          "output_type": "stream",
          "text": [
            "0\n",
            "2\n",
            "4\n",
            "6\n",
            "8\n"
          ]
        }
      ],
      "source": [
        "for i in range(0,10,2):\n",
        "  print(i)"
      ]
    },
    {
      "cell_type": "code",
      "execution_count": 5,
      "metadata": {
        "colab": {
          "base_uri": "https://localhost:8080/"
        },
        "id": "Z0K92qR8KEI2",
        "outputId": "379078aa-bba1-4273-d8b9-ba575167ef02"
      },
      "outputs": [
        {
          "name": "stdout",
          "output_type": "stream",
          "text": [
            "Iteration 0\n",
            "Enter a number: 5\n",
            "Enter second number: 10\n",
            "The total is: 15\n",
            "Iteration 1\n",
            "Enter a number: 2\n",
            "Enter second number: 5\n",
            "The total is: 7\n",
            "Iteration 2\n",
            "Enter a number: 7\n",
            "Enter second number: 9\n",
            "The total is: 16\n",
            "Iteration 3\n",
            "Enter a number: 10\n",
            "Enter second number: 30\n",
            "The total is: 40\n",
            "Iteration 4\n",
            "Enter a number: 50\n",
            "Enter second number: 124\n",
            "The total is: 174\n"
          ]
        }
      ],
      "source": [
        "for i in range(5):\n",
        "  print(\"Iteration\", i)\n",
        "  a = int(input(\"Enter a number: \"))\n",
        "  b = int(input(\"Enter second number: \"))\n",
        "  sum = a+b\n",
        "  print(\"The total is:\", sum)"
      ]
    },
    {
      "cell_type": "code",
      "execution_count": 6,
      "metadata": {
        "colab": {
          "base_uri": "https://localhost:8080/"
        },
        "id": "sEdss2R7Kuc5",
        "outputId": "c5821d83-a806-4934-fa01-e06c15c07e32"
      },
      "outputs": [
        {
          "name": "stdout",
          "output_type": "stream",
          "text": [
            "1\n",
            "Selva\n",
            "Sai\n",
            "Boomi\n",
            "10\n",
            "15\n",
            "20\n"
          ]
        }
      ],
      "source": [
        "l1 = [1, \"Selva\", \"Sai\", \"Boomi\", 10, 15, 20]\n",
        "\n",
        "for i in l1:\n",
        "  print(i)"
      ]
    },
    {
      "cell_type": "code",
      "execution_count": 7,
      "metadata": {
        "colab": {
          "base_uri": "https://localhost:8080/"
        },
        "id": "PhSdDAUGLMLj",
        "outputId": "8d422afb-6eb3-41fe-89f5-9792157001b2"
      },
      "outputs": [
        {
          "name": "stdout",
          "output_type": "stream",
          "text": [
            "0\n",
            "1\n",
            "2\n",
            "3\n",
            "4\n",
            "5\n",
            "6\n"
          ]
        }
      ],
      "source": [
        "for i in range(len(l1)):\n",
        "  print(i)"
      ]
    },
    {
      "cell_type": "code",
      "execution_count": 8,
      "metadata": {
        "id": "7EIJUSiRLUTl"
      },
      "outputs": [],
      "source": [
        "# Count of Even Number in a given List:\n",
        "\n",
        "# List  = [0,1,2,3,15,20,40,80,35,45,55]\n",
        "\n",
        "# Ouptut: Total Count of even numbers in the above list"
      ]
    },
    {
      "cell_type": "code",
      "execution_count": 9,
      "metadata": {
        "colab": {
          "base_uri": "https://localhost:8080/"
        },
        "id": "s2ucFNZoMzzf",
        "outputId": "ee5b9f41-295b-4b4e-9dda-3f82b1bee965"
      },
      "outputs": [
        {
          "name": "stdout",
          "output_type": "stream",
          "text": [
            "s\n",
            "e\n",
            "q\n",
            "u\n",
            "e\n",
            "n\n",
            "c\n",
            "e\n"
          ]
        }
      ],
      "source": [
        "a = \"sequence\"\n",
        "\n",
        "for i in a:\n",
        "  print(i)"
      ]
    },
    {
      "cell_type": "code",
      "execution_count": 10,
      "metadata": {
        "colab": {
          "base_uri": "https://localhost:8080/"
        },
        "id": "HenkTxxTNHll",
        "outputId": "3cf5c6c4-c73f-4b14-e01c-64f414d85c65"
      },
      "outputs": [
        {
          "data": {
            "text/plain": [
              "8"
            ]
          },
          "execution_count": 10,
          "metadata": {},
          "output_type": "execute_result"
        }
      ],
      "source": [
        "len(a)"
      ]
    },
    {
      "cell_type": "markdown",
      "metadata": {
        "id": "m1kWjkQDNK2a"
      },
      "source": [
        "LIST METHODS:"
      ]
    },
    {
      "cell_type": "code",
      "execution_count": 11,
      "metadata": {
        "id": "aKOZUNwENUK9"
      },
      "outputs": [],
      "source": [
        "# List methods Clear, Pop(with position), pop, extend, insert, append, remove"
      ]
    },
    {
      "cell_type": "code",
      "execution_count": 12,
      "metadata": {
        "id": "n1gmIsfsOSZm"
      },
      "outputs": [],
      "source": [
        "# Append:\n",
        "\n",
        "ls = []\n",
        "\n",
        "ls.append(1)"
      ]
    },
    {
      "cell_type": "code",
      "execution_count": 13,
      "metadata": {
        "colab": {
          "base_uri": "https://localhost:8080/"
        },
        "id": "B9tnXO29OghF",
        "outputId": "f1f0a5d7-a0e8-40e6-ca70-f62495976ee9"
      },
      "outputs": [
        {
          "data": {
            "text/plain": [
              "[1]"
            ]
          },
          "execution_count": 13,
          "metadata": {},
          "output_type": "execute_result"
        }
      ],
      "source": [
        "ls"
      ]
    },
    {
      "cell_type": "code",
      "execution_count": 14,
      "metadata": {
        "id": "n9NEA7XLOhTE"
      },
      "outputs": [],
      "source": [
        "ls.append(10)"
      ]
    },
    {
      "cell_type": "code",
      "execution_count": 15,
      "metadata": {
        "colab": {
          "base_uri": "https://localhost:8080/"
        },
        "id": "x7FcTSyFOjTH",
        "outputId": "a37a012d-6578-445a-9bae-002ace24f69c"
      },
      "outputs": [
        {
          "data": {
            "text/plain": [
              "[1, 10]"
            ]
          },
          "execution_count": 15,
          "metadata": {},
          "output_type": "execute_result"
        }
      ],
      "source": [
        "ls"
      ]
    },
    {
      "cell_type": "code",
      "execution_count": 16,
      "metadata": {
        "id": "lLgbsilBOkT0"
      },
      "outputs": [],
      "source": [
        "ls.append((2,3))"
      ]
    },
    {
      "cell_type": "code",
      "execution_count": 17,
      "metadata": {
        "colab": {
          "base_uri": "https://localhost:8080/"
        },
        "id": "6NWgqcgROvxq",
        "outputId": "b34e99e5-acfd-489c-870f-747fa9889dc2"
      },
      "outputs": [
        {
          "data": {
            "text/plain": [
              "[1, 10, (2, 3)]"
            ]
          },
          "execution_count": 17,
          "metadata": {},
          "output_type": "execute_result"
        }
      ],
      "source": [
        "ls"
      ]
    },
    {
      "cell_type": "code",
      "execution_count": 18,
      "metadata": {
        "id": "JU8_0gWVOwiY"
      },
      "outputs": [],
      "source": [
        "ls.append([10,30,55])"
      ]
    },
    {
      "cell_type": "code",
      "execution_count": 19,
      "metadata": {
        "colab": {
          "base_uri": "https://localhost:8080/"
        },
        "id": "pWafB2OEO161",
        "outputId": "7c77dfe1-f077-4d48-c2ad-d91e58582b65"
      },
      "outputs": [
        {
          "data": {
            "text/plain": [
              "[1, 10, (2, 3), [10, 30, 55]]"
            ]
          },
          "execution_count": 19,
          "metadata": {},
          "output_type": "execute_result"
        }
      ],
      "source": [
        "ls"
      ]
    },
    {
      "cell_type": "code",
      "execution_count": 24,
      "metadata": {
        "colab": {
          "base_uri": "https://localhost:8080/"
        },
        "id": "NZ1hWbx9O2e9",
        "outputId": "2e9fb8e2-8c98-4459-89cc-c4f47e086f3c"
      },
      "outputs": [
        {
          "data": {
            "text/plain": [
              "(2, 3)"
            ]
          },
          "execution_count": 24,
          "metadata": {},
          "output_type": "execute_result"
        }
      ],
      "source": [
        "ls[2]  # ==> This is called List indexing"
      ]
    },
    {
      "cell_type": "code",
      "execution_count": 29,
      "metadata": {
        "colab": {
          "base_uri": "https://localhost:8080/"
        },
        "id": "eSOPp9fdPDHH",
        "outputId": "a7fb4db8-43e3-49ca-97f1-7e4570e7bd9b"
      },
      "outputs": [
        {
          "data": {
            "text/plain": [
              "30"
            ]
          },
          "execution_count": 29,
          "metadata": {},
          "output_type": "execute_result"
        }
      ],
      "source": [
        "ls[3][1]"
      ]
    },
    {
      "cell_type": "code",
      "execution_count": 32,
      "metadata": {
        "id": "6v8JqvlIPSIU"
      },
      "outputs": [],
      "source": [
        "ls.extend([3,4,5,(10,2)])"
      ]
    },
    {
      "cell_type": "code",
      "execution_count": 33,
      "metadata": {
        "colab": {
          "base_uri": "https://localhost:8080/"
        },
        "id": "KxeeZxCEPxW1",
        "outputId": "1fe4dbe8-6b87-4a04-8a9e-c4e3c094e8d7"
      },
      "outputs": [
        {
          "data": {
            "text/plain": [
              "[1, 10, (2, 3), [10, 30, 55], 3, 4, 5, 3, 4, 5, (10, 2)]"
            ]
          },
          "execution_count": 33,
          "metadata": {},
          "output_type": "execute_result"
        }
      ],
      "source": [
        "ls"
      ]
    },
    {
      "cell_type": "code",
      "execution_count": 34,
      "metadata": {
        "id": "OYlbQAXiPyBr"
      },
      "outputs": [],
      "source": [
        "# Insert\n",
        "\n",
        "ls.insert(2, 25)"
      ]
    },
    {
      "cell_type": "code",
      "execution_count": 35,
      "metadata": {
        "colab": {
          "base_uri": "https://localhost:8080/"
        },
        "id": "y_dp62PNQcPO",
        "outputId": "85813acc-1e2e-40ec-8b2f-225b5d2a635d"
      },
      "outputs": [
        {
          "data": {
            "text/plain": [
              "[1, 10, 25, (2, 3), [10, 30, 55], 3, 4, 5, 3, 4, 5, (10, 2)]"
            ]
          },
          "execution_count": 35,
          "metadata": {},
          "output_type": "execute_result"
        }
      ],
      "source": [
        "ls"
      ]
    },
    {
      "cell_type": "code",
      "execution_count": 36,
      "metadata": {
        "id": "vGdxbfZpQdIS"
      },
      "outputs": [],
      "source": [
        "ls.insert(7, [20,40])"
      ]
    },
    {
      "cell_type": "code",
      "execution_count": 37,
      "metadata": {
        "colab": {
          "base_uri": "https://localhost:8080/"
        },
        "id": "DDo6IdlAQmig",
        "outputId": "6a979bc9-76c4-4cff-ab3e-f64e3df1eebf"
      },
      "outputs": [
        {
          "data": {
            "text/plain": [
              "[1, 10, 25, (2, 3), [10, 30, 55], 3, 4, [20, 40], 5, 3, 4, 5, (10, 2)]"
            ]
          },
          "execution_count": 37,
          "metadata": {},
          "output_type": "execute_result"
        }
      ],
      "source": [
        "ls"
      ]
    },
    {
      "cell_type": "code",
      "execution_count": 38,
      "metadata": {
        "id": "WGIMC0g1Qnef"
      },
      "outputs": [],
      "source": [
        "ls.insert(4, \"hello\")"
      ]
    },
    {
      "cell_type": "code",
      "execution_count": 39,
      "metadata": {
        "colab": {
          "base_uri": "https://localhost:8080/"
        },
        "id": "gxT-TkvOQyXi",
        "outputId": "16891de1-6446-4484-98d2-27911eaf0939"
      },
      "outputs": [
        {
          "data": {
            "text/plain": [
              "[1, 10, 25, (2, 3), 'hello', [10, 30, 55], 3, 4, [20, 40], 5, 3, 4, 5, (10, 2)]"
            ]
          },
          "execution_count": 39,
          "metadata": {},
          "output_type": "execute_result"
        }
      ],
      "source": [
        "ls"
      ]
    },
    {
      "cell_type": "code",
      "execution_count": 40,
      "metadata": {
        "colab": {
          "base_uri": "https://localhost:8080/"
        },
        "id": "pcbQON61Qyvq",
        "outputId": "bbd9bb32-2bd8-44cb-ba2a-5ddc371d9ebc"
      },
      "outputs": [
        {
          "data": {
            "text/plain": [
              "(10, 2)"
            ]
          },
          "execution_count": 40,
          "metadata": {},
          "output_type": "execute_result"
        }
      ],
      "source": [
        "# POP:\n",
        "\n",
        "ls.pop()  # ==> It removes the last element from the list"
      ]
    },
    {
      "cell_type": "code",
      "execution_count": 41,
      "metadata": {
        "colab": {
          "base_uri": "https://localhost:8080/"
        },
        "id": "3twBX4kMQ46a",
        "outputId": "b5717f6e-6037-42cb-d5dc-10f274933049"
      },
      "outputs": [
        {
          "data": {
            "text/plain": [
              "[1, 10, 25, (2, 3), 'hello', [10, 30, 55], 3, 4, [20, 40], 5, 3, 4, 5]"
            ]
          },
          "execution_count": 41,
          "metadata": {},
          "output_type": "execute_result"
        }
      ],
      "source": [
        "ls"
      ]
    },
    {
      "cell_type": "code",
      "execution_count": 42,
      "metadata": {
        "colab": {
          "base_uri": "https://localhost:8080/"
        },
        "id": "IKm4JvBhQ5zr",
        "outputId": "cd3a3a39-b76e-4a4d-dd6a-0187e013f947"
      },
      "outputs": [
        {
          "data": {
            "text/plain": [
              "(2, 3)"
            ]
          },
          "execution_count": 42,
          "metadata": {},
          "output_type": "execute_result"
        }
      ],
      "source": [
        "ls.pop(3)"
      ]
    },
    {
      "cell_type": "code",
      "execution_count": 43,
      "metadata": {
        "colab": {
          "base_uri": "https://localhost:8080/"
        },
        "id": "sknkXFgnRJVv",
        "outputId": "f6bf9547-0551-47b0-e6eb-9b3f38fe6749"
      },
      "outputs": [
        {
          "data": {
            "text/plain": [
              "[1, 10, 25, 'hello', [10, 30, 55], 3, 4, [20, 40], 5, 3, 4, 5]"
            ]
          },
          "execution_count": 43,
          "metadata": {},
          "output_type": "execute_result"
        }
      ],
      "source": [
        "ls"
      ]
    },
    {
      "cell_type": "code",
      "execution_count": 44,
      "metadata": {
        "id": "9LvHsGGgRJ-M"
      },
      "outputs": [],
      "source": [
        "# remove\n",
        "\n",
        "ls.remove(\"hello\")"
      ]
    },
    {
      "cell_type": "code",
      "execution_count": 45,
      "metadata": {
        "colab": {
          "base_uri": "https://localhost:8080/"
        },
        "id": "8gdPh8tPRWP3",
        "outputId": "8ea825bc-3785-4245-87f7-5679c27f8543"
      },
      "outputs": [
        {
          "data": {
            "text/plain": [
              "[1, 10, 25, [10, 30, 55], 3, 4, [20, 40], 5, 3, 4, 5]"
            ]
          },
          "execution_count": 45,
          "metadata": {},
          "output_type": "execute_result"
        }
      ],
      "source": [
        "ls"
      ]
    },
    {
      "cell_type": "code",
      "execution_count": 46,
      "metadata": {
        "id": "sabL1Pk0RXLF"
      },
      "outputs": [],
      "source": [
        "ls.remove(5)"
      ]
    },
    {
      "cell_type": "code",
      "execution_count": 48,
      "metadata": {
        "colab": {
          "base_uri": "https://localhost:8080/"
        },
        "id": "-NfXwhJ0RiAc",
        "outputId": "f745f509-fd3f-4f1d-bc91-cb3c4b4c552a"
      },
      "outputs": [
        {
          "data": {
            "text/plain": [
              "2"
            ]
          },
          "execution_count": 48,
          "metadata": {},
          "output_type": "execute_result"
        }
      ],
      "source": [
        "ls.count(3)"
      ]
    },
    {
      "cell_type": "code",
      "execution_count": 49,
      "metadata": {
        "colab": {
          "base_uri": "https://localhost:8080/"
        },
        "id": "f_ypsH8bRiqp",
        "outputId": "9abc4d96-0b5e-4483-9a3b-a423e40ca542"
      },
      "outputs": [
        {
          "data": {
            "text/plain": [
              "2"
            ]
          },
          "execution_count": 49,
          "metadata": {},
          "output_type": "execute_result"
        }
      ],
      "source": [
        "ls.count(4)"
      ]
    },
    {
      "cell_type": "code",
      "execution_count": 50,
      "metadata": {
        "colab": {
          "base_uri": "https://localhost:8080/"
        },
        "id": "qcWIq3oUSCcO",
        "outputId": "fc97d7bc-bdff-4e44-c9a8-9dc7ddee7306"
      },
      "outputs": [
        {
          "data": {
            "text/plain": [
              "1"
            ]
          },
          "execution_count": 50,
          "metadata": {},
          "output_type": "execute_result"
        }
      ],
      "source": [
        "ls.count(1)"
      ]
    },
    {
      "cell_type": "code",
      "execution_count": 51,
      "metadata": {
        "colab": {
          "base_uri": "https://localhost:8080/"
        },
        "id": "bN7PFGJASD_q",
        "outputId": "0707dd99-8901-4d7d-d8b4-3d0f56a54a4c"
      },
      "outputs": [
        {
          "data": {
            "text/plain": [
              "[1, 10, 25, [10, 30, 55], 3, 4, [20, 40], 3, 4, 5]"
            ]
          },
          "execution_count": 51,
          "metadata": {},
          "output_type": "execute_result"
        }
      ],
      "source": [
        "ls"
      ]
    },
    {
      "cell_type": "code",
      "execution_count": 52,
      "metadata": {
        "id": "Yh4-rZJ-SGRa"
      },
      "outputs": [],
      "source": [
        "ls.reverse()"
      ]
    },
    {
      "cell_type": "code",
      "execution_count": 53,
      "metadata": {
        "colab": {
          "base_uri": "https://localhost:8080/"
        },
        "id": "eyA_iYAUSRF7",
        "outputId": "038ac17c-6b55-40bf-d821-7cb9cbeb9a3b"
      },
      "outputs": [
        {
          "data": {
            "text/plain": [
              "[5, 4, 3, [20, 40], 4, 3, [10, 30, 55], 25, 10, 1]"
            ]
          },
          "execution_count": 53,
          "metadata": {},
          "output_type": "execute_result"
        }
      ],
      "source": [
        "ls"
      ]
    },
    {
      "cell_type": "code",
      "execution_count": 54,
      "metadata": {
        "colab": {
          "base_uri": "https://localhost:8080/",
          "height": 141
        },
        "id": "G0IYGGJzSRyx",
        "outputId": "a2bdcd29-30bf-49d7-e777-4c3eb7aa5729"
      },
      "outputs": [
        {
          "ename": "TypeError",
          "evalue": "'<' not supported between instances of 'list' and 'int'",
          "output_type": "error",
          "traceback": [
            "\u001b[0;31m---------------------------------------------------------------------------\u001b[0m",
            "\u001b[0;31mTypeError\u001b[0m                                 Traceback (most recent call last)",
            "\u001b[0;32m<ipython-input-54-4b538c36201b>\u001b[0m in \u001b[0;36m<cell line: 1>\u001b[0;34m()\u001b[0m\n\u001b[0;32m----> 1\u001b[0;31m \u001b[0mls\u001b[0m\u001b[0;34m.\u001b[0m\u001b[0msort\u001b[0m\u001b[0;34m(\u001b[0m\u001b[0;34m)\u001b[0m\u001b[0;34m\u001b[0m\u001b[0;34m\u001b[0m\u001b[0m\n\u001b[0m",
            "\u001b[0;31mTypeError\u001b[0m: '<' not supported between instances of 'list' and 'int'"
          ]
        }
      ],
      "source": [
        "ls.sort()"
      ]
    },
    {
      "cell_type": "code",
      "execution_count": 55,
      "metadata": {
        "id": "ecDBWU1VSZAu"
      },
      "outputs": [],
      "source": [
        "l1 = [1,15,3,12,18,17,25]"
      ]
    },
    {
      "cell_type": "code",
      "execution_count": 56,
      "metadata": {
        "id": "Q-G3T66_Sg87"
      },
      "outputs": [],
      "source": [
        "l1.sort()"
      ]
    },
    {
      "cell_type": "code",
      "execution_count": 58,
      "metadata": {
        "id": "dkLqXsTLSh_c"
      },
      "outputs": [],
      "source": [
        "l1.sort(reverse=True)  # ==> Descending order of the int in the list"
      ]
    },
    {
      "cell_type": "code",
      "execution_count": 59,
      "metadata": {
        "colab": {
          "base_uri": "https://localhost:8080/"
        },
        "id": "PtR-mCuiSjNH",
        "outputId": "d9257500-afe6-4f53-fe5b-e37cbb6447e0"
      },
      "outputs": [
        {
          "data": {
            "text/plain": [
              "[25, 18, 17, 15, 12, 3, 1]"
            ]
          },
          "execution_count": 59,
          "metadata": {},
          "output_type": "execute_result"
        }
      ],
      "source": [
        "l1"
      ]
    },
    {
      "cell_type": "code",
      "execution_count": 60,
      "metadata": {
        "colab": {
          "base_uri": "https://localhost:8080/"
        },
        "id": "BM3FCv5hSpEk",
        "outputId": "24d8165a-26cb-4652-9744-c7ee8b4e4e29"
      },
      "outputs": [
        {
          "data": {
            "text/plain": [
              "[15, 12, 3, 1]"
            ]
          },
          "execution_count": 60,
          "metadata": {},
          "output_type": "execute_result"
        }
      ],
      "source": [
        "l1[3:]"
      ]
    },
    {
      "cell_type": "code",
      "execution_count": 68,
      "metadata": {
        "colab": {
          "base_uri": "https://localhost:8080/"
        },
        "id": "nJV2C-k2S96O",
        "outputId": "61c7593a-e326-49c5-cd7f-60790271297d"
      },
      "outputs": [
        {
          "data": {
            "text/plain": [
              "[17, 3]"
            ]
          },
          "execution_count": 68,
          "metadata": {},
          "output_type": "execute_result"
        }
      ],
      "source": [
        "l1[2: :3]"
      ]
    },
    {
      "cell_type": "code",
      "execution_count": 62,
      "metadata": {
        "colab": {
          "base_uri": "https://localhost:8080/"
        },
        "id": "CAL5Pjv5TG42",
        "outputId": "da9ba840-d084-415b-eca4-8440a2413fb8"
      },
      "outputs": [
        {
          "data": {
            "text/plain": [
              "[25, 18, 17, 15, 12, 3, 1]"
            ]
          },
          "execution_count": 62,
          "metadata": {},
          "output_type": "execute_result"
        }
      ],
      "source": [
        "l1"
      ]
    },
    {
      "cell_type": "code",
      "execution_count": 69,
      "metadata": {
        "colab": {
          "base_uri": "https://localhost:8080/"
        },
        "id": "wYSLaFp7Tdq-",
        "outputId": "07a920ab-29dc-46d9-e258-86516eb26953"
      },
      "outputs": [
        {
          "data": {
            "text/plain": [
              "[1, 3, 12, 15, 17, 18, 25]"
            ]
          },
          "execution_count": 69,
          "metadata": {},
          "output_type": "execute_result"
        }
      ],
      "source": [
        "l1[::-1]"
      ]
    },
    {
      "cell_type": "code",
      "execution_count": 70,
      "metadata": {
        "colab": {
          "base_uri": "https://localhost:8080/",
          "height": 36
        },
        "id": "_1WnDhNMUOOI",
        "outputId": "52b8306f-72ed-469d-8305-acc7e9f11b1c"
      },
      "outputs": [
        {
          "data": {
            "application/vnd.google.colaboratory.intrinsic+json": {
              "type": "string"
            },
            "text/plain": [
              "'ello, how are you?'"
            ]
          },
          "execution_count": 70,
          "metadata": {},
          "output_type": "execute_result"
        }
      ],
      "source": [
        "s = \"Hello, how are you?\"\n",
        "\n",
        "s[1:]"
      ]
    },
    {
      "cell_type": "code",
      "execution_count": 72,
      "metadata": {
        "colab": {
          "base_uri": "https://localhost:8080/",
          "height": 36
        },
        "id": "uK4hnKotUeko",
        "outputId": "21e00eee-60f8-4fa6-94b5-2277f6373e26"
      },
      "outputs": [
        {
          "data": {
            "application/vnd.google.colaboratory.intrinsic+json": {
              "type": "string"
            },
            "text/plain": [
              "'?uoy era woh ,olleH'"
            ]
          },
          "execution_count": 72,
          "metadata": {},
          "output_type": "execute_result"
        }
      ],
      "source": [
        "s[::-1]"
      ]
    },
    {
      "cell_type": "code",
      "execution_count": 73,
      "metadata": {
        "colab": {
          "base_uri": "https://localhost:8080/",
          "height": 36
        },
        "id": "FpPptWmLUjjD",
        "outputId": "f2b1740a-b09b-4112-e783-e03bd1713e7d"
      },
      "outputs": [
        {
          "data": {
            "application/vnd.google.colaboratory.intrinsic+json": {
              "type": "string"
            },
            "text/plain": [
              "'?yrw lH'"
            ]
          },
          "execution_count": 73,
          "metadata": {},
          "output_type": "execute_result"
        }
      ],
      "source": [
        "s[::-3]"
      ]
    },
    {
      "cell_type": "code",
      "execution_count": 83,
      "metadata": {
        "colab": {
          "base_uri": "https://localhost:8080/",
          "height": 36
        },
        "id": "lQx6veK5U2cA",
        "outputId": "af0e3f7b-4ff0-4eb1-c9a3-66372d816bfa"
      },
      "outputs": [
        {
          "data": {
            "application/vnd.google.colaboratory.intrinsic+json": {
              "type": "string"
            },
            "text/plain": [
              "'l'"
            ]
          },
          "execution_count": 83,
          "metadata": {},
          "output_type": "execute_result"
        }
      ],
      "source": [
        "s[3::-4]"
      ]
    },
    {
      "cell_type": "code",
      "execution_count": 75,
      "metadata": {
        "colab": {
          "base_uri": "https://localhost:8080/"
        },
        "id": "eDJMUwHxVbkR",
        "outputId": "da685bab-79ef-4fd4-c182-ca7eb277bc66"
      },
      "outputs": [
        {
          "data": {
            "text/plain": [
              "[25, 18, 17, 15, 12, 3, 1]"
            ]
          },
          "execution_count": 75,
          "metadata": {},
          "output_type": "execute_result"
        }
      ],
      "source": [
        "l1"
      ]
    },
    {
      "cell_type": "code",
      "execution_count": 76,
      "metadata": {
        "id": "lQMP6_ogV1BB"
      },
      "outputs": [],
      "source": [
        "l1[4] = 5"
      ]
    },
    {
      "cell_type": "code",
      "execution_count": 77,
      "metadata": {
        "colab": {
          "base_uri": "https://localhost:8080/"
        },
        "id": "cb2HqSU-V4GO",
        "outputId": "3e0b45ce-b49a-41bb-c430-5d5691e74f36"
      },
      "outputs": [
        {
          "data": {
            "text/plain": [
              "[25, 18, 17, 15, 5, 3, 1]"
            ]
          },
          "execution_count": 77,
          "metadata": {},
          "output_type": "execute_result"
        }
      ],
      "source": [
        "l1"
      ]
    },
    {
      "cell_type": "markdown",
      "metadata": {
        "id": "leHI95AvV428"
      },
      "source": [
        "# Dictionary Methods:"
      ]
    },
    {
      "cell_type": "code",
      "execution_count": 3,
      "metadata": {
        "colab": {
          "base_uri": "https://localhost:8080/"
        },
        "id": "N2ooe-q8XNn-",
        "outputId": "d9e960c5-d068-43f0-baeb-b6e56e7f777c"
      },
      "outputs": [
        {
          "data": {
            "text/plain": [
              "dict_keys([1, 2, 3])"
            ]
          },
          "execution_count": 3,
          "metadata": {},
          "output_type": "execute_result"
        }
      ],
      "source": [
        "dict1 = {1:\"Green\", 2:\"Blue\", 3:\"Pink\"}\n",
        "\n",
        "dict1.keys()"
      ]
    },
    {
      "cell_type": "code",
      "execution_count": 85,
      "metadata": {
        "colab": {
          "base_uri": "https://localhost:8080/"
        },
        "id": "fwWWvES3XZTS",
        "outputId": "943bdf12-76f0-49c0-cbd9-ca290dc3ad09"
      },
      "outputs": [
        {
          "data": {
            "text/plain": [
              "dict_values(['Green', 'Blue', 'Pink'])"
            ]
          },
          "execution_count": 85,
          "metadata": {},
          "output_type": "execute_result"
        }
      ],
      "source": [
        "dict1.values()"
      ]
    },
    {
      "cell_type": "code",
      "execution_count": 86,
      "metadata": {
        "colab": {
          "base_uri": "https://localhost:8080/"
        },
        "id": "bUwNUg5OXcr8",
        "outputId": "a81dec4b-5140-4ded-8c70-90c3e4d05e9a"
      },
      "outputs": [
        {
          "data": {
            "text/plain": [
              "dict_items([(1, 'Green'), (2, 'Blue'), (3, 'Pink')])"
            ]
          },
          "execution_count": 86,
          "metadata": {},
          "output_type": "execute_result"
        }
      ],
      "source": [
        "dict1.items()"
      ]
    },
    {
      "cell_type": "code",
      "execution_count": 88,
      "metadata": {
        "id": "AdNdzGvPXgGe"
      },
      "outputs": [],
      "source": [
        "dicts = {}\n",
        "\n",
        "dicts[1] = \"pink\""
      ]
    },
    {
      "cell_type": "code",
      "execution_count": 89,
      "metadata": {
        "colab": {
          "base_uri": "https://localhost:8080/"
        },
        "id": "FC8Kq1HIXp2m",
        "outputId": "aee838c0-cef0-48dd-f260-9ee38bb31e9f"
      },
      "outputs": [
        {
          "data": {
            "text/plain": [
              "{1: 'pink'}"
            ]
          },
          "execution_count": 89,
          "metadata": {},
          "output_type": "execute_result"
        }
      ],
      "source": [
        "dicts"
      ]
    },
    {
      "cell_type": "code",
      "execution_count": 92,
      "metadata": {
        "colab": {
          "base_uri": "https://localhost:8080/",
          "height": 36
        },
        "id": "VjTtCw-OXsmD",
        "outputId": "f7c39a2d-36b0-4aa3-8a41-b83f5814890a"
      },
      "outputs": [
        {
          "data": {
            "application/vnd.google.colaboratory.intrinsic+json": {
              "type": "string"
            },
            "text/plain": [
              "'pink'"
            ]
          },
          "execution_count": 92,
          "metadata": {},
          "output_type": "execute_result"
        }
      ],
      "source": [
        "dicts.get(1)"
      ]
    },
    {
      "cell_type": "code",
      "execution_count": 94,
      "metadata": {
        "colab": {
          "base_uri": "https://localhost:8080/",
          "height": 36
        },
        "id": "cpCk7DUcYFek",
        "outputId": "e19c1b72-43a9-4616-9e0d-77e23a456bc3"
      },
      "outputs": [
        {
          "data": {
            "application/vnd.google.colaboratory.intrinsic+json": {
              "type": "string"
            },
            "text/plain": [
              "'Blue'"
            ]
          },
          "execution_count": 94,
          "metadata": {},
          "output_type": "execute_result"
        }
      ],
      "source": [
        "dict1.get(2)"
      ]
    },
    {
      "cell_type": "code",
      "execution_count": 95,
      "metadata": {
        "id": "7kVQiiUyYGtK"
      },
      "outputs": [],
      "source": [
        "dict2 = {4:\"Black\", 5:\"White\"}"
      ]
    },
    {
      "cell_type": "code",
      "execution_count": 96,
      "metadata": {
        "id": "HtKqneCSYccp"
      },
      "outputs": [],
      "source": [
        "dict1.update(dict2)"
      ]
    },
    {
      "cell_type": "code",
      "execution_count": 97,
      "metadata": {
        "colab": {
          "base_uri": "https://localhost:8080/"
        },
        "id": "pVb1ZIMSYgIr",
        "outputId": "30862a3c-6795-4ee1-db53-84f9c42849a3"
      },
      "outputs": [
        {
          "data": {
            "text/plain": [
              "{1: 'Green', 2: 'Blue', 3: 'Pink', 4: 'Black', 5: 'White'}"
            ]
          },
          "execution_count": 97,
          "metadata": {},
          "output_type": "execute_result"
        }
      ],
      "source": [
        "dict1"
      ]
    },
    {
      "cell_type": "code",
      "execution_count": 99,
      "metadata": {
        "colab": {
          "base_uri": "https://localhost:8080/",
          "height": 36
        },
        "id": "IKN_EgIiYhS6",
        "outputId": "4118b2e5-bc76-4cbb-b535-dbcd8f3efbc4"
      },
      "outputs": [
        {
          "data": {
            "application/vnd.google.colaboratory.intrinsic+json": {
              "type": "string"
            },
            "text/plain": [
              "'White'"
            ]
          },
          "execution_count": 99,
          "metadata": {},
          "output_type": "execute_result"
        }
      ],
      "source": [
        "dict1.pop(5)"
      ]
    },
    {
      "cell_type": "code",
      "execution_count": 2,
      "metadata": {
        "colab": {
          "base_uri": "https://localhost:8080/"
        },
        "id": "xEX41jfwYp7a",
        "outputId": "3cf4f4e5-1fbf-4380-b9c3-34c6da08efc9"
      },
      "outputs": [
        {
          "ename": "NameError",
          "evalue": "name 'dict1' is not defined",
          "output_type": "error",
          "traceback": [
            "\u001b[1;31m---------------------------------------------------------------------------\u001b[0m",
            "\u001b[1;31mNameError\u001b[0m                                 Traceback (most recent call last)",
            "Cell \u001b[1;32mIn[2], line 1\u001b[0m\n\u001b[1;32m----> 1\u001b[0m \u001b[43mdict1\u001b[49m\n",
            "\u001b[1;31mNameError\u001b[0m: name 'dict1' is not defined"
          ]
        }
      ],
      "source": [
        "dict1"
      ]
    },
    {
      "cell_type": "code",
      "execution_count": 1,
      "metadata": {
        "colab": {
          "base_uri": "https://localhost:8080/",
          "height": 36
        },
        "id": "RyxyArGpYyug",
        "outputId": "f3716ef6-6c78-40c5-cc69-3b15b3006204"
      },
      "outputs": [
        {
          "ename": "NameError",
          "evalue": "name 'dict1' is not defined",
          "output_type": "error",
          "traceback": [
            "\u001b[1;31m---------------------------------------------------------------------------\u001b[0m",
            "\u001b[1;31mNameError\u001b[0m                                 Traceback (most recent call last)",
            "Cell \u001b[1;32mIn[1], line 1\u001b[0m\n\u001b[1;32m----> 1\u001b[0m \u001b[43mdict1\u001b[49m\u001b[38;5;241m.\u001b[39msetdefault(\u001b[38;5;241m5\u001b[39m,\u001b[38;5;124m\"\u001b[39m\u001b[38;5;124mWhite\u001b[39m\u001b[38;5;124m\"\u001b[39m)\n",
            "\u001b[1;31mNameError\u001b[0m: name 'dict1' is not defined"
          ]
        }
      ],
      "source": [
        "dict1.setdefault(5,\"White\")"
      ]
    },
    {
      "cell_type": "code",
      "execution_count": 102,
      "metadata": {
        "colab": {
          "base_uri": "https://localhost:8080/"
        },
        "id": "MR4xgt1oY-u_",
        "outputId": "876c25b1-994f-4034-d462-20e9b6055927"
      },
      "outputs": [
        {
          "data": {
            "text/plain": [
              "{1: 'Green', 2: 'Blue', 3: 'Pink', 4: 'Black', 5: 'White'}"
            ]
          },
          "execution_count": 102,
          "metadata": {},
          "output_type": "execute_result"
        }
      ],
      "source": [
        "dict1"
      ]
    },
    {
      "cell_type": "code",
      "execution_count": 103,
      "metadata": {
        "colab": {
          "base_uri": "https://localhost:8080/"
        },
        "id": "W5Z2jD-MZBDH",
        "outputId": "d4cb6172-a2f7-4247-f667-6ce2290037bb"
      },
      "outputs": [
        {
          "name": "stdout",
          "output_type": "stream",
          "text": [
            "1\n",
            "2\n",
            "3\n",
            "4\n",
            "5\n"
          ]
        }
      ],
      "source": [
        "for i in dict1.keys():\n",
        "  print(i)"
      ]
    },
    {
      "cell_type": "code",
      "execution_count": 105,
      "metadata": {
        "colab": {
          "base_uri": "https://localhost:8080/"
        },
        "id": "liE6SS5NaMVN",
        "outputId": "149a9b61-0e3f-4980-c813-046b6848d515"
      },
      "outputs": [
        {
          "name": "stdout",
          "output_type": "stream",
          "text": [
            "Green\n",
            "Blue\n",
            "Pink\n",
            "Black\n",
            "White\n"
          ]
        }
      ],
      "source": [
        "for i in dict1.values():\n",
        "  print(i)"
      ]
    },
    {
      "cell_type": "code",
      "execution_count": 106,
      "metadata": {
        "colab": {
          "base_uri": "https://localhost:8080/"
        },
        "id": "UZhkc-B0aP6M",
        "outputId": "dddd234b-c2ca-4bec-b1dc-948eb2289256"
      },
      "outputs": [
        {
          "name": "stdout",
          "output_type": "stream",
          "text": [
            "(1, 'Green')\n",
            "(2, 'Blue')\n",
            "(3, 'Pink')\n",
            "(4, 'Black')\n",
            "(5, 'White')\n"
          ]
        }
      ],
      "source": [
        "for i in dict1.items():\n",
        "  print(i)"
      ]
    },
    {
      "cell_type": "code",
      "execution_count": 107,
      "metadata": {
        "colab": {
          "base_uri": "https://localhost:8080/"
        },
        "id": "8509dX6gaVY-",
        "outputId": "a2e9973b-1935-48e9-fd68-3d19cb393f95"
      },
      "outputs": [
        {
          "data": {
            "text/plain": [
              "7"
            ]
          },
          "execution_count": 107,
          "metadata": {},
          "output_type": "execute_result"
        }
      ],
      "source": [
        "len(l1)"
      ]
    },
    {
      "cell_type": "code",
      "execution_count": null,
      "metadata": {
        "id": "V6kh9MMMam2B"
      },
      "outputs": [],
      "source": []
    }
  ],
  "metadata": {
    "colab": {
      "provenance": []
    },
    "kernelspec": {
      "display_name": "Python 3",
      "name": "python3"
    },
    "language_info": {
      "codemirror_mode": {
        "name": "ipython",
        "version": 3
      },
      "file_extension": ".py",
      "mimetype": "text/x-python",
      "name": "python",
      "nbconvert_exporter": "python",
      "pygments_lexer": "ipython3",
      "version": "3.12.2"
    }
  },
  "nbformat": 4,
  "nbformat_minor": 0
}
