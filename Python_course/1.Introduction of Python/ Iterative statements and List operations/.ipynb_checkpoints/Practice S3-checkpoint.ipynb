{
 "cells": [
  {
   "cell_type": "code",
   "execution_count": 9,
   "id": "278d518d-5b29-4007-8988-32b8396221cd",
   "metadata": {},
   "outputs": [
    {
     "name": "stdout",
     "output_type": "stream",
     "text": [
      "false\n",
      "false\n",
      "false\n",
      "true\n",
      "false\n",
      "false\n",
      "false\n",
      "false\n",
      "false\n",
      "false\n",
      "false\n",
      "false\n"
     ]
    }
   ],
   "source": [
    "mynames=[\"joe\",\"zoe\",\"world\",\"USA\",\"brad\",\"angelina\",\"world\",\"zuki\",\"tom\",\n",
    "         \"paris\",\"world\",\"maggi\"]\n",
    "for i in mynames:\n",
    "    if i==\"USA\":\n",
    "        print(\"true\")\n",
    "    else:\n",
    "        print(\"false\")"
   ]
  },
  {
   "cell_type": "code",
   "execution_count": 12,
   "id": "4bb0c6fa-c1a7-40bb-8439-ef0a0dd49cab",
   "metadata": {},
   "outputs": [],
   "source": [
    "name=[\"joe\",\"zoe\",\"world\",\"USA\",\"brad\",\"angelina\",\"world\",\"zuki\",\"tom\",\n",
    "         \"paris\",\"world\",\"magic\"]"
   ]
  },
  {
   "cell_type": "code",
   "execution_count": 13,
   "id": "155d1eda-22a9-414d-9a03-05d2d8930c8d",
   "metadata": {},
   "outputs": [
    {
     "data": {
      "text/plain": [
       "3"
      ]
     },
     "execution_count": 13,
     "metadata": {},
     "output_type": "execute_result"
    }
   ],
   "source": [
    "name.count(\"world\")"
   ]
  },
  {
   "cell_type": "code",
   "execution_count": 14,
   "id": "c51092dd-4a80-4eb7-b1c4-43b25e99b500",
   "metadata": {},
   "outputs": [
    {
     "name": "stdout",
     "output_type": "stream",
     "text": [
      "No.of Even numbers 14\n",
      "No.of Even numbers 15\n"
     ]
    }
   ],
   "source": [
    "dataset=list(range(1,30))\n",
    "Even=0\n",
    "Odd=0\n",
    "for i in dataset:\n",
    "    if i%2==0:\n",
    "        Even+=1\n",
    "    else:\n",
    "        Odd+=1\n",
    "print(\"No.of Even numbers\",Even)\n",
    "print(\"No.of Even numbers\",Odd)\n"
   ]
  },
  {
   "cell_type": "code",
   "execution_count": 21,
   "id": "25394879-a7b1-41ba-a5a9-b1b6c8beb87c",
   "metadata": {},
   "outputs": [
    {
     "name": "stdout",
     "output_type": "stream",
     "text": [
      "[2, 4, 6, 8, 10]\n"
     ]
    }
   ],
   "source": [
    "dataset=list(range(1,30))\n",
    "el=[]\n",
    "for i in dataset:\n",
    "    if i%2==0:\n",
    "        el.append(i)\n",
    "        if len(el)>=5:\n",
    "            break\n",
    "print(el)\n",
    "\n",
    "       "
   ]
  },
  {
   "cell_type": "code",
   "execution_count": 68,
   "id": "d8d8c0fa-2304-4165-b3ae-deca5ec0777a",
   "metadata": {},
   "outputs": [
    {
     "name": "stdout",
     "output_type": "stream",
     "text": [
      "last odd number 29\n",
      "second last odd number 27\n"
     ]
    }
   ],
   "source": [
    "odd1=0;\n",
    "odd2=0;\n",
    "dataset=list(range(1,30))\n",
    "for n in dataset:\n",
    "    if n%2!=0:\n",
    "        odd1=odd2\n",
    "        odd2=n\n",
    "print(\"last odd number\",odd2)\n",
    "print(\"second last odd number\",odd1)\n",
    "        "
   ]
  },
  {
   "cell_type": "code",
   "execution_count": 50,
   "id": "4a5bbdc3-cbc8-4b73-9dcf-94c1a2ff4659",
   "metadata": {},
   "outputs": [
    {
     "name": "stdin",
     "output_type": "stream",
     "text": [
      "enter the number 85\n",
      "enter the number 45\n",
      "enter the number 95\n",
      "enter the number 74\n",
      "enter the number 65\n",
      "enter the number 52\n",
      "enter the number 87\n",
      "enter the number 56\n",
      "enter the number 8\n",
      "enter the number 56\n",
      "enter the String boomi\n"
     ]
    },
    {
     "name": "stdout",
     "output_type": "stream",
     "text": [
      "Final values ['boomi', 85, 45, 95, 74, 65, 52, 87, 56, 8, 56]\n"
     ]
    }
   ],
   "source": [
    "x=[]\n",
    "y=[]\n",
    "for i in range(0,5):\n",
    "    n=int(input(\"enter the number\"))\n",
    "    x.append(n)\n",
    "for j in range(0,5):\n",
    "    n=int(input(\"enter the number\"))\n",
    "    y.append(n)\n",
    "x.extend(y)\n",
    "s=input(\"enter the String\")\n",
    "x.insert(0,s)\n",
    "print(\"Final values\",x)\n",
    "    "
   ]
  },
  {
   "cell_type": "code",
   "execution_count": 70,
   "id": "60f01772-2332-47a0-ac3f-76671417889e",
   "metadata": {},
   "outputs": [
    {
     "name": "stdout",
     "output_type": "stream",
     "text": [
      "first 10 square numbers [1, 4, 9, 16, 25, 36, 49, 64, 81, 100]\n",
      "Last 10 square numbers [900, 961, 1024, 1089, 1156, 1225, 1296, 1369, 1444, 1521]\n"
     ]
    }
   ],
   "source": [
    "l=[]\n",
    "for i in range(1,40):\n",
    "    l.append(i**2)\n",
    "print(\"first 10 square numbers\",l[:10])\n",
    "print(\"Last 10 square numbers\",l[-10:])\n",
    "    \n",
    "    \n",
    "    "
   ]
  },
  {
   "cell_type": "code",
   "execution_count": 62,
   "id": "d2a1ec66-d1b8-40e0-830a-29b0a497a7b1",
   "metadata": {},
   "outputs": [
    {
     "name": "stdin",
     "output_type": "stream",
     "text": [
      "enter the number 5\n"
     ]
    },
    {
     "name": "stdout",
     "output_type": "stream",
     "text": [
      "5 * 1 = 5\n",
      "5 * 2 = 10\n",
      "5 * 3 = 15\n",
      "5 * 4 = 20\n",
      "5 * 5 = 25\n",
      "5 * 6 = 30\n",
      "5 * 7 = 35\n",
      "5 * 8 = 40\n",
      "5 * 9 = 45\n",
      "5 * 10 = 50\n"
     ]
    }
   ],
   "source": [
    "n=int(input(\"enter the number\"))\n",
    "for i in range(1,11):\n",
    "    print(n,\"*\",i,\"=\",n*i)"
   ]
  },
  {
   "cell_type": "code",
   "execution_count": null,
   "id": "b38e0539-c4b5-46f1-a7b2-ad5b9b634f6a",
   "metadata": {},
   "outputs": [],
   "source": []
  }
 ],
 "metadata": {
  "kernelspec": {
   "display_name": "Python 3 (ipykernel)",
   "language": "python",
   "name": "python3"
  },
  "language_info": {
   "codemirror_mode": {
    "name": "ipython",
    "version": 3
   },
   "file_extension": ".py",
   "mimetype": "text/x-python",
   "name": "python",
   "nbconvert_exporter": "python",
   "pygments_lexer": "ipython3",
   "version": "3.11.7"
  }
 },
 "nbformat": 4,
 "nbformat_minor": 5
}
