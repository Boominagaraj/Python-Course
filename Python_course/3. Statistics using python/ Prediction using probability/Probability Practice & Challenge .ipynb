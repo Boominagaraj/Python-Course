{
 "cells": [
  {
   "cell_type": "markdown",
   "id": "36d84a52-41a0-4a50-996a-b8e5a2d32792",
   "metadata": {},
   "source": [
    "# Probability Practice & Challenge"
   ]
  },
  {
   "cell_type": "markdown",
   "id": "72e0d42b-8f6e-482b-8c5c-6f608dc4f209",
   "metadata": {},
   "source": [
    "# Combination"
   ]
  },
  {
   "cell_type": "markdown",
   "id": "71706ff8-d23e-46d2-999b-a5238e1dc08a",
   "metadata": {},
   "source": [
    "### Combination with No Order & No Repetition "
   ]
  },
  {
   "cell_type": "code",
   "execution_count": 1,
   "id": "620f2d89-bb0e-4417-971f-f206364595ba",
   "metadata": {},
   "outputs": [],
   "source": [
    "import math"
   ]
  },
  {
   "cell_type": "code",
   "execution_count": 2,
   "id": "9f402ab4-c6a0-4766-b3d5-641ec0cff14a",
   "metadata": {},
   "outputs": [],
   "source": [
    "def comno(n,r):\n",
    "    return math.factorial(n) // (math.factorial(r)* math.factorial(n-r))"
   ]
  },
  {
   "cell_type": "markdown",
   "id": "ca8d20a8-9da8-4408-b447-cbfb9d3bcc69",
   "metadata": {},
   "source": [
    "### Compination with No Order & Yes Repetition"
   ]
  },
  {
   "cell_type": "code",
   "execution_count": 3,
   "id": "f2508475-c913-4cdc-800a-b4971761ad53",
   "metadata": {},
   "outputs": [],
   "source": [
    "def comyes(n,r):\n",
    "    return math.factorial(n+r-1) // (math.factorial(r)* math.factorial(n-1))"
   ]
  },
  {
   "cell_type": "markdown",
   "id": "2b621c1b-9d99-4746-a1ba-ec5a3caa4745",
   "metadata": {},
   "source": [
    "# Permutation"
   ]
  },
  {
   "cell_type": "markdown",
   "id": "95188d36-b40e-417a-a40a-3d0f437fde40",
   "metadata": {},
   "source": [
    "### Permutation with yes Order & No Repetition "
   ]
  },
  {
   "cell_type": "code",
   "execution_count": 4,
   "id": "2c3e0bff-3dab-4679-bb36-1b8e730a7cbd",
   "metadata": {},
   "outputs": [],
   "source": [
    "def peryes(n,r):\n",
    "    return math.factorial(n) // math.factorial(n-r)"
   ]
  },
  {
   "cell_type": "markdown",
   "id": "ae6ef60b-9f48-46b8-a34b-943be5281c9c",
   "metadata": {},
   "source": [
    "### Permutation with No Order & Yes Repetition"
   ]
  },
  {
   "cell_type": "code",
   "execution_count": 5,
   "id": "9776c324-3797-4783-88aa-8c439c74938c",
   "metadata": {},
   "outputs": [],
   "source": [
    "def perno(n,r):\n",
    "    return pow(n,r)"
   ]
  },
  {
   "cell_type": "markdown",
   "id": "4bcd63bc-7f60-49f4-b9f2-ae8960c21a52",
   "metadata": {},
   "source": [
    "### Task-1"
   ]
  },
  {
   "cell_type": "code",
   "execution_count": 6,
   "id": "9da8489f-de67-4874-9e14-66a56d9323a6",
   "metadata": {},
   "outputs": [
    {
     "data": {
      "text/plain": [
       "120"
      ]
     },
     "execution_count": 6,
     "metadata": {},
     "output_type": "execute_result"
    }
   ],
   "source": [
    "res=comno(6,3)*comno(4,2)\n",
    "res"
   ]
  },
  {
   "cell_type": "code",
   "execution_count": 7,
   "id": "94764eff-1f61-4a58-a2a3-01089ffa193b",
   "metadata": {},
   "outputs": [
    {
     "data": {
      "text/plain": [
       "6"
      ]
     },
     "execution_count": 7,
     "metadata": {},
     "output_type": "execute_result"
    }
   ],
   "source": [
    "res2=comno(6,5)\n",
    "res2"
   ]
  },
  {
   "cell_type": "code",
   "execution_count": 8,
   "id": "9ee0f86e-b7f5-4067-9a95-16b64e88ddab",
   "metadata": {},
   "outputs": [
    {
     "data": {
      "text/plain": [
       "66"
      ]
     },
     "execution_count": 8,
     "metadata": {},
     "output_type": "execute_result"
    }
   ],
   "source": [
    "res3=comno(6,1)*comno(4,4)\n",
    "res4=comno(6,2)*comno(4,3)\n",
    "result=res3+res4\n",
    "result"
   ]
  },
  {
   "cell_type": "code",
   "execution_count": 9,
   "id": "dd636f3d-0a56-4a2b-a3e7-329b46b7fc3e",
   "metadata": {},
   "outputs": [
    {
     "name": "stdout",
     "output_type": "stream",
     "text": [
      "Answer is : 120 , 6 , 66\n"
     ]
    }
   ],
   "source": [
    "print(\"Answer is :\",res,',',res2,',',result)"
   ]
  },
  {
   "cell_type": "markdown",
   "id": "e6bd2d61-508c-47e2-a0b4-c8e5024c2952",
   "metadata": {},
   "source": [
    "### Task-2"
   ]
  },
  {
   "cell_type": "code",
   "execution_count": 10,
   "id": "5535dc4f-4e82-44d6-a7c6-e3705e6d7ddb",
   "metadata": {},
   "outputs": [
    {
     "data": {
      "text/plain": [
       "2598960"
      ]
     },
     "execution_count": 10,
     "metadata": {},
     "output_type": "execute_result"
    }
   ],
   "source": [
    "cards=comno(52,5)\n",
    "cards"
   ]
  },
  {
   "cell_type": "code",
   "execution_count": 11,
   "id": "0bb4f0f0-954a-4332-b2f9-2f88f6bc4820",
   "metadata": {},
   "outputs": [
    {
     "name": "stdout",
     "output_type": "stream",
     "text": [
      "Answer is : 2598960\n"
     ]
    }
   ],
   "source": [
    "print(\"Answer is :\",cards)"
   ]
  },
  {
   "cell_type": "markdown",
   "id": "276d6f19-e6d6-4297-8586-e63189bbd2d1",
   "metadata": {},
   "source": [
    "### Task-3"
   ]
  },
  {
   "cell_type": "code",
   "execution_count": 12,
   "id": "35d26dc0-2f32-4f3e-9551-701b54e16e5b",
   "metadata": {},
   "outputs": [
    {
     "data": {
      "text/plain": [
       "336"
      ]
     },
     "execution_count": 12,
     "metadata": {},
     "output_type": "execute_result"
    }
   ],
   "source": [
    "winner=peryes(8,3)\n",
    "winner"
   ]
  },
  {
   "cell_type": "code",
   "execution_count": 13,
   "id": "510fa1a7-b9b0-4cbf-8ca8-8317dad0d32a",
   "metadata": {},
   "outputs": [
    {
     "name": "stdout",
     "output_type": "stream",
     "text": [
      "Answer is : 336\n"
     ]
    }
   ],
   "source": [
    "print(\"Answer is :\",winner)"
   ]
  },
  {
   "cell_type": "markdown",
   "id": "1b84c37d-c80e-4294-a414-e07aa5b89586",
   "metadata": {},
   "source": [
    "### Task-4"
   ]
  },
  {
   "cell_type": "code",
   "execution_count": null,
   "id": "46669450-b58e-4bd6-bc5a-7b0cc9699dc2",
   "metadata": {},
   "outputs": [],
   "source": []
  },
  {
   "cell_type": "markdown",
   "id": "8f8dbe43-e9af-41e6-ab32-9da9ce8c97ba",
   "metadata": {},
   "source": [
    "### Task-5"
   ]
  },
  {
   "cell_type": "code",
   "execution_count": 14,
   "id": "932adbef-5f01-42d4-9ff1-bff293d67faf",
   "metadata": {},
   "outputs": [],
   "source": [
    "# posibility of rolling dice -(1,3),(2,6),(3,1),(6,2)\n",
    "# there are 4 posibility in dice\n",
    "# total posibilty of dice is 36\n",
    "dice=4/36\n",
    "dice=1/9"
   ]
  },
  {
   "cell_type": "markdown",
   "id": "4736d20d-a1b1-42c9-84d5-4bc41a210210",
   "metadata": {},
   "source": [
    "### Task-6"
   ]
  },
  {
   "cell_type": "code",
   "execution_count": 15,
   "id": "4e45dd44-3b8a-4f01-b024-59b977fdc987",
   "metadata": {},
   "outputs": [
    {
     "data": {
      "text/plain": [
       "210"
      ]
     },
     "execution_count": 15,
     "metadata": {},
     "output_type": "execute_result"
    }
   ],
   "source": [
    "word=comno(7,3)*comno(4,2)\n",
    "word"
   ]
  },
  {
   "cell_type": "code",
   "execution_count": 16,
   "id": "f42fb693-e2c9-41ff-a64b-44d86a31469d",
   "metadata": {},
   "outputs": [
    {
     "name": "stdout",
     "output_type": "stream",
     "text": [
      "Answer is:  210\n"
     ]
    }
   ],
   "source": [
    "print(\"Answer is: \",word)"
   ]
  },
  {
   "cell_type": "markdown",
   "id": "ab1dd681-71dc-47a4-bb72-f6dfc7de885d",
   "metadata": {},
   "source": [
    "### Task-7"
   ]
  },
  {
   "cell_type": "code",
   "execution_count": null,
   "id": "939a8c03-45cc-4d3c-98f3-43018d35c2b0",
   "metadata": {},
   "outputs": [],
   "source": []
  },
  {
   "cell_type": "markdown",
   "id": "53b61740-43bc-4f6c-a325-5775d1a44875",
   "metadata": {},
   "source": [
    "# Challenge"
   ]
  },
  {
   "cell_type": "markdown",
   "id": "65a43d10-0753-463d-aae8-1ee31e78a46e",
   "metadata": {},
   "source": [
    "### Task-1"
   ]
  },
  {
   "cell_type": "code",
   "execution_count": 17,
   "id": "1b192e31-aa98-43c5-9dae-ef8dfe3f0a22",
   "metadata": {},
   "outputs": [
    {
     "data": {
      "text/plain": [
       "330"
      ]
     },
     "execution_count": 17,
     "metadata": {},
     "output_type": "execute_result"
    }
   ],
   "source": [
    "society=comno(11,4)\n",
    "society"
   ]
  },
  {
   "cell_type": "markdown",
   "id": "4fd2934e-638b-4e22-829d-4f0cfbcdb38c",
   "metadata": {},
   "source": [
    "### Task-2"
   ]
  },
  {
   "cell_type": "code",
   "execution_count": 18,
   "id": "2af2e590-d2ab-4d27-9356-346d505d9411",
   "metadata": {},
   "outputs": [],
   "source": [
    "# A)\n",
    "# Van Leaving first\n",
    "van=50/150\n",
    "van=1/3"
   ]
  },
  {
   "cell_type": "code",
   "execution_count": 19,
   "id": "37661505-bbca-49f2-b4b9-1ffe61426161",
   "metadata": {},
   "outputs": [],
   "source": [
    "#B\n",
    "#lorry leaving first\n",
    "van=50/150\n",
    "lorry=2/15"
   ]
  },
  {
   "cell_type": "code",
   "execution_count": 20,
   "id": "498365da-8f1b-4d13-bac1-a7c4ef7fdfbb",
   "metadata": {},
   "outputs": [],
   "source": [
    "#c\n",
    "# lorry or van leaves first  and then car leaving\n",
    "#Total=150-1=149\n",
    "car=80/149\n",
    "car=40/74.5"
   ]
  },
  {
   "cell_type": "markdown",
   "id": "9b920c53-6326-4a85-8a29-3103a5e65d48",
   "metadata": {},
   "source": [
    "### Task-3"
   ]
  },
  {
   "cell_type": "code",
   "execution_count": 21,
   "id": "6d818bde-1b79-49c4-ab27-8617c7a658dd",
   "metadata": {},
   "outputs": [],
   "source": [
    "#A)\n",
    "# 2-left handed students\n",
    "left2=8/30\n",
    "left2=2/15"
   ]
  },
  {
   "cell_type": "code",
   "execution_count": 22,
   "id": "21dd200e-a040-4a9e-af95-029e44706fd1",
   "metadata": {},
   "outputs": [],
   "source": [
    "#b)\n",
    "# Atleast 3 left-Handed students\n",
    "# total=5+12+2=19\n",
    "left=19/30"
   ]
  },
  {
   "cell_type": "markdown",
   "id": "c7b05438-df5e-4330-92aa-a4ddd9fa2358",
   "metadata": {},
   "source": [
    "### Task-4"
   ]
  },
  {
   "cell_type": "code",
   "execution_count": null,
   "id": "760daf4c-1d79-43a7-85ba-f7ca851b5b42",
   "metadata": {},
   "outputs": [],
   "source": []
  },
  {
   "cell_type": "markdown",
   "id": "fca564d1-a8fc-41b3-8284-2303c4e5edd1",
   "metadata": {},
   "source": [
    "### Task-5"
   ]
  },
  {
   "cell_type": "code",
   "execution_count": 23,
   "id": "cfbf5458-c82a-4287-8dee-5f138080dbfd",
   "metadata": {},
   "outputs": [],
   "source": [
    "#1\n",
    "# Total Possibility is 36\n",
    "# Sum is equal to 1 is 0\n",
    "prob=0/36\n",
    "prob=0"
   ]
  },
  {
   "cell_type": "code",
   "execution_count": 24,
   "id": "12f9c8e3-4642-49db-9556-e42056b3d461",
   "metadata": {},
   "outputs": [],
   "source": [
    "#2\n",
    "# Sum is equal to 4 is 3\n",
    "#(1,3),(2,2),(3,1)\n",
    "prob1=3/36\n",
    "prob1=1/12"
   ]
  },
  {
   "cell_type": "code",
   "execution_count": 25,
   "id": "2c2240d8-2a37-408e-b7f9-3393d56f78f0",
   "metadata": {},
   "outputs": [],
   "source": [
    "#3\n",
    "# sum is less than 13 is 36\n",
    "# because all possibilities sum is less than 13\n",
    "prob2=36\n",
    "prob2=1"
   ]
  },
  {
   "cell_type": "markdown",
   "id": "0c704ab7-d4f4-4f90-87de-f6a905f6d26d",
   "metadata": {},
   "source": [
    "### Task-6"
   ]
  },
  {
   "cell_type": "code",
   "execution_count": 26,
   "id": "e453518a-b11f-4332-a174-f90aaa576897",
   "metadata": {},
   "outputs": [
    {
     "data": {
      "text/plain": [
       "670442572800"
      ]
     },
     "execution_count": 26,
     "metadata": {},
     "output_type": "execute_result"
    }
   ],
   "source": [
    "# A)\n",
    "# Probility of selecting even  number is 10\n",
    "even=peryes(20,10)\n",
    "even"
   ]
  },
  {
   "cell_type": "code",
   "execution_count": 27,
   "id": "bdebbb49-5273-4450-981f-185d315840bc",
   "metadata": {},
   "outputs": [
    {
     "data": {
      "text/plain": [
       "27907200"
      ]
     },
     "execution_count": 27,
     "metadata": {},
     "output_type": "execute_result"
    }
   ],
   "source": [
    "#B\n",
    "# Probility of selecting number divisible by 3 is 6\n",
    "# 3,6,9,12,15,18\n",
    "div3=peryes(20,6)\n",
    "div3"
   ]
  },
  {
   "cell_type": "code",
   "execution_count": 28,
   "id": "c06c7322-4ada-43e1-9b99-ed771b9376a5",
   "metadata": {},
   "outputs": [
    {
     "data": {
      "text/plain": [
       "5079110400"
      ]
     },
     "execution_count": 28,
     "metadata": {},
     "output_type": "execute_result"
    }
   ],
   "source": [
    "#C\n",
    "# Probability of selecting prime numbers is 8 \n",
    "# 2,3,5,7,11,13,17,19\n",
    "prime=peryes(20,8)\n",
    "prime"
   ]
  },
  {
   "cell_type": "code",
   "execution_count": 29,
   "id": "07544203-a22a-42f7-bace-ec54554c666b",
   "metadata": {},
   "outputs": [
    {
     "data": {
      "text/plain": [
       "116280"
      ]
     },
     "execution_count": 29,
     "metadata": {},
     "output_type": "execute_result"
    }
   ],
   "source": [
    "#d)\n",
    "# probability of selecting number divisible by 5 is 4\n",
    "# 5,10,15,20\n",
    "div5=peryes(20,4)\n",
    "div5"
   ]
  },
  {
   "cell_type": "markdown",
   "id": "8ee1952a-b675-454f-b82a-8a7806394352",
   "metadata": {},
   "source": [
    "### Task -7"
   ]
  },
  {
   "cell_type": "code",
   "execution_count": 30,
   "id": "fc7848ed-b98f-459f-82b5-dfcec8812827",
   "metadata": {},
   "outputs": [],
   "source": [
    "# Total possible ways are 216\n",
    "# ways to get 11: There are 3 ways to get a sum of 12:\n",
    "#(6,4,2),(6,3,3)\n",
    "prob12=2/216\n",
    "prob12=1/108"
   ]
  },
  {
   "cell_type": "code",
   "execution_count": null,
   "id": "f8f0b401-9957-43c7-9236-aa148dea639e",
   "metadata": {},
   "outputs": [],
   "source": []
  }
 ],
 "metadata": {
  "kernelspec": {
   "display_name": "Python 3 (ipykernel)",
   "language": "python",
   "name": "python3"
  },
  "language_info": {
   "codemirror_mode": {
    "name": "ipython",
    "version": 3
   },
   "file_extension": ".py",
   "mimetype": "text/x-python",
   "name": "python",
   "nbconvert_exporter": "python",
   "pygments_lexer": "ipython3",
   "version": "3.11.7"
  }
 },
 "nbformat": 4,
 "nbformat_minor": 5
}
