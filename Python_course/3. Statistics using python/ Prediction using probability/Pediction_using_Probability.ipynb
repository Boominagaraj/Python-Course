{
 "cells": [
  {
   "cell_type": "markdown",
   "id": "41b0fff4-e8f2-4231-90da-cff198182367",
   "metadata": {},
   "source": [
    "# Prediction using Probability"
   ]
  },
  {
   "cell_type": "markdown",
   "id": "d32b8d58-ad97-4afb-b15a-157d47c2e0e5",
   "metadata": {},
   "source": [
    "# Practice"
   ]
  },
  {
   "cell_type": "code",
   "execution_count": 1,
   "id": "c1d219cc-447b-4394-a363-a746cb692b3d",
   "metadata": {},
   "outputs": [],
   "source": [
    "import math"
   ]
  },
  {
   "cell_type": "markdown",
   "id": "aa5b96a2-df95-4f9d-8657-37757f4083b1",
   "metadata": {},
   "source": [
    "## Formulae : Combination"
   ]
  },
  {
   "cell_type": "code",
   "execution_count": 2,
   "id": "5c6863ac-f551-4443-a0a3-9d5318fdf61e",
   "metadata": {},
   "outputs": [],
   "source": [
    "# No Repetition\n",
    "def com(n,r):\n",
    "    return math.factorial(n) // (math.factorial(r) * math.factorial(n-r))"
   ]
  },
  {
   "cell_type": "code",
   "execution_count": 3,
   "id": "d5e0056b-564a-41cc-beef-2ae7663d0eed",
   "metadata": {},
   "outputs": [],
   "source": [
    "# Repetition\n",
    "def comr(n,r):\n",
    "    return math.factorial(n+r-1) // (math.factorial(r)*math.factorial(n-1))"
   ]
  },
  {
   "cell_type": "markdown",
   "id": "f571e6dd-d5e3-4cf2-9fc1-d5a48da76c47",
   "metadata": {},
   "source": [
    "## Formulae : Permutation"
   ]
  },
  {
   "cell_type": "code",
   "execution_count": 4,
   "id": "4fbb2d1e-ba9d-414a-8c8f-8179385a3b9a",
   "metadata": {},
   "outputs": [],
   "source": [
    "# No Repetition\n",
    "def per(n,r):\n",
    "    return math.factorial(n) // math.factorial(n-r)"
   ]
  },
  {
   "cell_type": "code",
   "execution_count": 5,
   "id": "1ad84025-38ba-4f30-b2b5-523760a28f6f",
   "metadata": {},
   "outputs": [],
   "source": [
    "# Repetition\n",
    "def perr(n,r):\n",
    "    return pow(n,r)"
   ]
  },
  {
   "cell_type": "markdown",
   "id": "e63886aa-5a5e-4f09-af53-53fb96107b03",
   "metadata": {},
   "source": [
    "### Task 1"
   ]
  },
  {
   "cell_type": "code",
   "execution_count": 6,
   "id": "31151e7c-2cef-4332-a2a5-07bad658f810",
   "metadata": {},
   "outputs": [
    {
     "data": {
      "text/plain": [
       "120"
      ]
     },
     "execution_count": 6,
     "metadata": {},
     "output_type": "execute_result"
    }
   ],
   "source": [
    "# A)\n",
    "res=com(6,3)*com(4,2)\n",
    "res"
   ]
  },
  {
   "cell_type": "code",
   "execution_count": 7,
   "id": "90177a00-8a12-4996-a068-d6c25108785d",
   "metadata": {},
   "outputs": [
    {
     "data": {
      "text/plain": [
       "6"
      ]
     },
     "execution_count": 7,
     "metadata": {},
     "output_type": "execute_result"
    }
   ],
   "source": [
    "# B)\n",
    "res1=com(6,5)\n",
    "res1"
   ]
  },
  {
   "cell_type": "code",
   "execution_count": 8,
   "id": "2d98c146-da40-442a-b9ce-c8db3e08f033",
   "metadata": {},
   "outputs": [
    {
     "data": {
      "text/plain": [
       "66"
      ]
     },
     "execution_count": 8,
     "metadata": {},
     "output_type": "execute_result"
    }
   ],
   "source": [
    "# C)\n",
    "res2=com(6,1)*com(4,4)\n",
    "res3=com(6,2)*com(4,3)\n",
    "res2+res3"
   ]
  },
  {
   "cell_type": "code",
   "execution_count": 9,
   "id": "924fdce6-9291-4f0f-87fc-8b4ac00b9d5b",
   "metadata": {},
   "outputs": [
    {
     "name": "stdout",
     "output_type": "stream",
     "text": [
      "Answer is :  120 , 6 , 66\n"
     ]
    }
   ],
   "source": [
    "print('Answer is : ',res,',',res1,',',res2+res3)"
   ]
  },
  {
   "cell_type": "markdown",
   "id": "2113d868-98c5-4de2-bab7-6e547cee7f82",
   "metadata": {},
   "source": [
    "### Task 2"
   ]
  },
  {
   "cell_type": "code",
   "execution_count": 10,
   "id": "3892f25a-1308-4d65-aec5-cc6b4fc87120",
   "metadata": {},
   "outputs": [
    {
     "data": {
      "text/plain": [
       "2598960"
      ]
     },
     "execution_count": 10,
     "metadata": {},
     "output_type": "execute_result"
    }
   ],
   "source": [
    "cards=com(52,5)\n",
    "cards"
   ]
  },
  {
   "cell_type": "code",
   "execution_count": 11,
   "id": "c5fc504a-592c-4c4f-8fcf-378cfe3f53a3",
   "metadata": {},
   "outputs": [
    {
     "name": "stdout",
     "output_type": "stream",
     "text": [
      "Answer is :  2598960\n"
     ]
    }
   ],
   "source": [
    "print('Answer is : ',cards)"
   ]
  },
  {
   "cell_type": "markdown",
   "id": "ee1934f7-69ba-47ec-b6cd-eb8e4b940db8",
   "metadata": {},
   "source": [
    "### Task 3"
   ]
  },
  {
   "cell_type": "code",
   "execution_count": 12,
   "id": "740aeb85-1681-41eb-a68a-881106d85ad2",
   "metadata": {},
   "outputs": [
    {
     "data": {
      "text/plain": [
       "336"
      ]
     },
     "execution_count": 12,
     "metadata": {},
     "output_type": "execute_result"
    }
   ],
   "source": [
    "winner=per(8,3)\n",
    "winner"
   ]
  },
  {
   "cell_type": "code",
   "execution_count": 13,
   "id": "40610d0a-4fdb-471e-bb75-b425025782e9",
   "metadata": {},
   "outputs": [
    {
     "name": "stdout",
     "output_type": "stream",
     "text": [
      "Answer is :  336\n"
     ]
    }
   ],
   "source": [
    "print('Answer is : ',winner)"
   ]
  },
  {
   "cell_type": "markdown",
   "id": "e39a3faa-2994-4e6c-af85-9039513ed725",
   "metadata": {},
   "source": [
    "### Task 4"
   ]
  },
  {
   "cell_type": "code",
   "execution_count": 14,
   "id": "9873bb97-bf3a-4199-92be-cd191e91bf60",
   "metadata": {},
   "outputs": [
    {
     "data": {
      "text/plain": [
       "105"
      ]
     },
     "execution_count": 14,
     "metadata": {},
     "output_type": "execute_result"
    }
   ],
   "source": [
    "student=com(15,2)\n",
    "student"
   ]
  },
  {
   "cell_type": "markdown",
   "id": "b2d624e4-9a6a-433d-afc8-3a91e8536fdb",
   "metadata": {},
   "source": [
    "### Task 5"
   ]
  },
  {
   "cell_type": "code",
   "execution_count": 15,
   "id": "0de24f82-d49f-4c03-82da-9aa93145686a",
   "metadata": {},
   "outputs": [],
   "source": [
    "# Possibility Outcome of One of the dice is Thrice the number obtained on other side is 4\n",
    "# (1,3),(2,6),(3,1),(6,2)\n",
    "# Total possibility outcome of two dice is 36\n",
    "dice=4/36\n",
    "dice=1/9"
   ]
  },
  {
   "cell_type": "markdown",
   "id": "1a370606-6751-4317-843d-7063a2f07a02",
   "metadata": {},
   "source": [
    "### Task 6"
   ]
  },
  {
   "cell_type": "code",
   "execution_count": 16,
   "id": "26b31524-cdf0-42fb-872f-fc5a661b868d",
   "metadata": {},
   "outputs": [
    {
     "data": {
      "text/plain": [
       "210"
      ]
     },
     "execution_count": 16,
     "metadata": {},
     "output_type": "execute_result"
    }
   ],
   "source": [
    "words=com(7,3)*com(4,2)\n",
    "words"
   ]
  },
  {
   "cell_type": "markdown",
   "id": "a347b797-4c79-45ad-abf5-15febd592cd6",
   "metadata": {},
   "source": [
    "### Task 7"
   ]
  },
  {
   "cell_type": "code",
   "execution_count": null,
   "id": "cdeb3a9e-7b6c-4ba5-b4bb-938220ea6e08",
   "metadata": {},
   "outputs": [],
   "source": [
    " "
   ]
  },
  {
   "cell_type": "markdown",
   "id": "e1d8da33-a88a-490c-bda7-ae3d090659bc",
   "metadata": {},
   "source": [
    "# Challenge"
   ]
  },
  {
   "cell_type": "markdown",
   "id": "0ed18ed6-cfd5-408b-b7f9-9fdebaddb9da",
   "metadata": {},
   "source": [
    "### Task 1"
   ]
  },
  {
   "cell_type": "code",
   "execution_count": 24,
   "id": "135a5caf-9508-4776-9123-c646b15976bb",
   "metadata": {},
   "outputs": [
    {
     "data": {
      "text/plain": [
       "330"
      ]
     },
     "execution_count": 24,
     "metadata": {},
     "output_type": "execute_result"
    }
   ],
   "source": [
    "society=com(11,4)\n",
    "society"
   ]
  },
  {
   "cell_type": "markdown",
   "id": "acc12f0a-bfb4-40f4-9104-8d1b67c5a5c3",
   "metadata": {},
   "source": [
    "### Task 2"
   ]
  },
  {
   "cell_type": "code",
   "execution_count": 26,
   "id": "922599f7-ff6c-447e-b1e4-69607c07c7b2",
   "metadata": {},
   "outputs": [],
   "source": [
    "# A)\n",
    "#van leaving first\n",
    "van=50/150\n",
    "van=1/3"
   ]
  },
  {
   "cell_type": "code",
   "execution_count": 33,
   "id": "ba1938a7-6da7-44f2-a380-266adb635a6c",
   "metadata": {},
   "outputs": [],
   "source": [
    "# B)\n",
    "#lorry leaving first\n",
    "lorry=20/150\n",
    "lorry=2/15"
   ]
  },
  {
   "cell_type": "code",
   "execution_count": 35,
   "id": "7b12dfea-356b-4215-8368-f39bcd5f54b0",
   "metadata": {},
   "outputs": [],
   "source": [
    "# C)\n",
    "#Lorry or Van leaves first and then car leaving\n",
    "#total=150-1=149\n",
    "car=80/149\n",
    "car=40/74.5"
   ]
  },
  {
   "cell_type": "markdown",
   "id": "fbbca72c-42fa-4d4f-8d19-5589323bf670",
   "metadata": {},
   "source": [
    "### Task 3"
   ]
  },
  {
   "cell_type": "code",
   "execution_count": null,
   "id": "e9a7ee35-a152-493c-855f-0a2df6f9addc",
   "metadata": {},
   "outputs": [],
   "source": [
    "# A)\n",
    "# 2 left-handed students\n",
    "left2=8/30\n",
    "left2=2/15"
   ]
  },
  {
   "cell_type": "code",
   "execution_count": 36,
   "id": "3d17488e-5742-4a52-b619-0df5a3d9cdd6",
   "metadata": {},
   "outputs": [],
   "source": [
    "# B)\n",
    "# Atleast 3 left-handed students\n",
    "# total= 5+12+2 = 19\n",
    "left3=19/30"
   ]
  },
  {
   "cell_type": "markdown",
   "id": "b7c94ac3-46ce-4bb7-bdc9-b1557c9aae28",
   "metadata": {},
   "source": [
    "### Task 4"
   ]
  },
  {
   "cell_type": "code",
   "execution_count": null,
   "id": "cd636087-9897-4df6-9871-d50994d8090d",
   "metadata": {},
   "outputs": [],
   "source": []
  },
  {
   "cell_type": "markdown",
   "id": "9d38bc89-8a9e-4fcd-81e4-c8832c861723",
   "metadata": {},
   "source": [
    "### Task 5"
   ]
  },
  {
   "cell_type": "code",
   "execution_count": 39,
   "id": "83a6fb1e-92fe-4e93-aa57-d96436ee3e25",
   "metadata": {},
   "outputs": [],
   "source": [
    "# 1)\n",
    "#total possibility is 36\n",
    "# sum is equal to 1 is 0\n",
    "prob=0/36\n",
    "prob=0"
   ]
  },
  {
   "cell_type": "code",
   "execution_count": 40,
   "id": "ed47e159-0f44-435e-9a6e-2fc296214cc5",
   "metadata": {},
   "outputs": [],
   "source": [
    "# 2)\n",
    "# sum is equal to 4 is 3\n",
    "# (1,3),(2,2),(3,1)\n",
    "prob1=3/36\n",
    "prob1=1/12"
   ]
  },
  {
   "cell_type": "code",
   "execution_count": 42,
   "id": "300cf029-5c42-4d83-8767-5c37f03dbfca",
   "metadata": {},
   "outputs": [],
   "source": [
    "# 3)\n",
    "# sum is less than 13 is 36\n",
    "# because all possibilities sum is less than 13\n",
    "prob2=36/36\n",
    "prob2=1"
   ]
  },
  {
   "cell_type": "markdown",
   "id": "15affaa8-0cf6-4dde-b1e6-0e9ea8907862",
   "metadata": {},
   "source": [
    "### Task 6"
   ]
  },
  {
   "cell_type": "code",
   "execution_count": 45,
   "id": "4483214b-9bc8-4aad-95ae-d1a9a19a98d4",
   "metadata": {},
   "outputs": [
    {
     "data": {
      "text/plain": [
       "670442572800"
      ]
     },
     "execution_count": 45,
     "metadata": {},
     "output_type": "execute_result"
    }
   ],
   "source": [
    "# A)\n",
    "# probability of selecting even number is 10\n",
    "even=per(20,10)\n",
    "even"
   ]
  },
  {
   "cell_type": "code",
   "execution_count": 46,
   "id": "0a6dfb1f-ab6a-491e-8f28-264d1a16e7c5",
   "metadata": {},
   "outputs": [
    {
     "data": {
      "text/plain": [
       "27907200"
      ]
     },
     "execution_count": 46,
     "metadata": {},
     "output_type": "execute_result"
    }
   ],
   "source": [
    "# B)\n",
    "# probability of selecting number divisible by 3 is 6\n",
    "# 3,6,9,12,15,18\n",
    "div3=per(20,6)\n",
    "div3"
   ]
  },
  {
   "cell_type": "code",
   "execution_count": 47,
   "id": "af57b066-1883-4cd7-967c-22c88ebf8aa4",
   "metadata": {},
   "outputs": [
    {
     "data": {
      "text/plain": [
       "5079110400"
      ]
     },
     "execution_count": 47,
     "metadata": {},
     "output_type": "execute_result"
    }
   ],
   "source": [
    "# C)\n",
    "# probability of selecting prime numbers is 8\n",
    "# 2,3,5,7,11,13,17,19\n",
    "prime=per(20,8)\n",
    "prime"
   ]
  },
  {
   "cell_type": "code",
   "execution_count": 48,
   "id": "dcc4a476-086d-4881-8bf2-91926aba6ab5",
   "metadata": {},
   "outputs": [
    {
     "data": {
      "text/plain": [
       "116280"
      ]
     },
     "execution_count": 48,
     "metadata": {},
     "output_type": "execute_result"
    }
   ],
   "source": [
    "# D)\n",
    "# probability of selecting number divisible by 5 is 4\n",
    "# 5,10,15,20\n",
    "div5=per(20,4)\n",
    "div5"
   ]
  },
  {
   "cell_type": "markdown",
   "id": "c767dc7f-254d-41a0-9774-d49de26e0dee",
   "metadata": {},
   "source": [
    "### Task 7"
   ]
  },
  {
   "cell_type": "code",
   "execution_count": 49,
   "id": "00e39198-0a86-4a1c-951b-1cddda14517b",
   "metadata": {},
   "outputs": [],
   "source": [
    "# Total possible ways are 216\n",
    "# Ways to Get 11: There are 3 ways to get a sum of 11:\n",
    "# (5, 5, 1),(5, 2, 4),(6, 3, 2)\n",
    "prob11=3/216\n",
    "prob11=1/72\n",
    "# Ways to Get 12: There are only 2 ways to get a sum of 12:\n",
    "# (6, 4, 2),(6, 3, 3)\n",
    "prob12=2/216\n",
    "prob12=1/108"
   ]
  },
  {
   "cell_type": "markdown",
   "id": "f40c0cdc-7e94-4901-a84f-70194d47635b",
   "metadata": {},
   "source": [
    "#### The sum of 11 will occur more probably"
   ]
  },
  {
   "cell_type": "code",
   "execution_count": null,
   "id": "e524d722-66a3-4527-9dea-ce4e9e66c55f",
   "metadata": {},
   "outputs": [],
   "source": []
  }
 ],
 "metadata": {
  "kernelspec": {
   "display_name": "Python 3 (ipykernel)",
   "language": "python",
   "name": "python3"
  },
  "language_info": {
   "codemirror_mode": {
    "name": "ipython",
    "version": 3
   },
   "file_extension": ".py",
   "mimetype": "text/x-python",
   "name": "python",
   "nbconvert_exporter": "python",
   "pygments_lexer": "ipython3",
   "version": "3.11.7"
  }
 },
 "nbformat": 4,
 "nbformat_minor": 5
}
