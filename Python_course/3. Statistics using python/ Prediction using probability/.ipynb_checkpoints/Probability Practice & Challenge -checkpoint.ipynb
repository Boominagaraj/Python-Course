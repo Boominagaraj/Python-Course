{
 "cells": [
  {
   "cell_type": "markdown",
   "id": "36d84a52-41a0-4a50-996a-b8e5a2d32792",
   "metadata": {},
   "source": [
    "# Probability Practice & Challenge"
   ]
  },
  {
   "cell_type": "markdown",
   "id": "72e0d42b-8f6e-482b-8c5c-6f608dc4f209",
   "metadata": {},
   "source": [
    "# Combination"
   ]
  },
  {
   "cell_type": "markdown",
   "id": "71706ff8-d23e-46d2-999b-a5238e1dc08a",
   "metadata": {},
   "source": [
    "### Combination with No Order & No Repetition "
   ]
  },
  {
   "cell_type": "code",
   "execution_count": 1,
   "id": "620f2d89-bb0e-4417-971f-f206364595ba",
   "metadata": {},
   "outputs": [],
   "source": [
    "import math"
   ]
  },
  {
   "cell_type": "code",
   "execution_count": 2,
   "id": "9f402ab4-c6a0-4766-b3d5-641ec0cff14a",
   "metadata": {},
   "outputs": [],
   "source": [
    "def comno(n,r):\n",
    "    return math.factorial(n) // (math.factorial(r)* math.factorial(n-r))"
   ]
  },
  {
   "cell_type": "markdown",
   "id": "ca8d20a8-9da8-4408-b447-cbfb9d3bcc69",
   "metadata": {},
   "source": [
    "### Compination with No Order & Yes Repetition"
   ]
  },
  {
   "cell_type": "code",
   "execution_count": 3,
   "id": "f2508475-c913-4cdc-800a-b4971761ad53",
   "metadata": {},
   "outputs": [],
   "source": [
    "def comyes(n,r):\n",
    "    return math.factorial(n+r-1) // (math.factorial(r)* math.factorial(n-1))"
   ]
  },
  {
   "cell_type": "markdown",
   "id": "2b621c1b-9d99-4746-a1ba-ec5a3caa4745",
   "metadata": {},
   "source": [
    "# Permutation"
   ]
  },
  {
   "cell_type": "markdown",
   "id": "95188d36-b40e-417a-a40a-3d0f437fde40",
   "metadata": {},
   "source": [
    "### Permutation with yes Order & No Repetition "
   ]
  },
  {
   "cell_type": "code",
   "execution_count": 4,
   "id": "2c3e0bff-3dab-4679-bb36-1b8e730a7cbd",
   "metadata": {},
   "outputs": [],
   "source": [
    "def peryes(n,r):\n",
    "    return math.factorial(n) // math.factorial(n-r)"
   ]
  },
  {
   "cell_type": "markdown",
   "id": "ae6ef60b-9f48-46b8-a34b-943be5281c9c",
   "metadata": {},
   "source": [
    "### Permutation with No Order & Yes Repetition"
   ]
  },
  {
   "cell_type": "code",
   "execution_count": 5,
   "id": "9776c324-3797-4783-88aa-8c439c74938c",
   "metadata": {},
   "outputs": [],
   "source": [
    "def perno(n,r):\n",
    "    return pow(n,r)"
   ]
  },
  {
   "cell_type": "markdown",
   "id": "4bcd63bc-7f60-49f4-b9f2-ae8960c21a52",
   "metadata": {},
   "source": [
    "### Task-1"
   ]
  },
  {
   "cell_type": "code",
   "execution_count": 6,
   "id": "9da8489f-de67-4874-9e14-66a56d9323a6",
   "metadata": {},
   "outputs": [
    {
     "data": {
      "text/plain": [
       "120"
      ]
     },
     "execution_count": 6,
     "metadata": {},
     "output_type": "execute_result"
    }
   ],
   "source": [
    "res=comno(6,3)*comno(4,2)\n",
    "res"
   ]
  },
  {
   "cell_type": "code",
   "execution_count": 7,
   "id": "94764eff-1f61-4a58-a2a3-01089ffa193b",
   "metadata": {},
   "outputs": [
    {
     "data": {
      "text/plain": [
       "6"
      ]
     },
     "execution_count": 7,
     "metadata": {},
     "output_type": "execute_result"
    }
   ],
   "source": [
    "res2=comno(6,5)\n",
    "res2"
   ]
  },
  {
   "cell_type": "code",
   "execution_count": 8,
   "id": "9ee0f86e-b7f5-4067-9a95-16b64e88ddab",
   "metadata": {},
   "outputs": [
    {
     "data": {
      "text/plain": [
       "66"
      ]
     },
     "execution_count": 8,
     "metadata": {},
     "output_type": "execute_result"
    }
   ],
   "source": [
    "res3=comno(6,1)*comno(4,4)\n",
    "res4=comno(6,2)*comno(4,3)\n",
    "result=res3+res4\n",
    "result"
   ]
  },
  {
   "cell_type": "code",
   "execution_count": 14,
   "id": "dd636f3d-0a56-4a2b-a3e7-329b46b7fc3e",
   "metadata": {},
   "outputs": [
    {
     "name": "stdout",
     "output_type": "stream",
     "text": [
      "Answer is : 120 , 6 , 66\n"
     ]
    }
   ],
   "source": [
    "print(\"Answer is :\",res,',',res2,',',result)"
   ]
  },
  {
   "cell_type": "markdown",
   "id": "e6bd2d61-508c-47e2-a0b4-c8e5024c2952",
   "metadata": {},
   "source": [
    "### Task-2"
   ]
  },
  {
   "cell_type": "code",
   "execution_count": 10,
   "id": "5535dc4f-4e82-44d6-a7c6-e3705e6d7ddb",
   "metadata": {},
   "outputs": [
    {
     "data": {
      "text/plain": [
       "2598960"
      ]
     },
     "execution_count": 10,
     "metadata": {},
     "output_type": "execute_result"
    }
   ],
   "source": [
    "cards=comno(52,5)\n",
    "cards"
   ]
  },
  {
   "cell_type": "code",
   "execution_count": 13,
   "id": "0bb4f0f0-954a-4332-b2f9-2f88f6bc4820",
   "metadata": {},
   "outputs": [
    {
     "name": "stdout",
     "output_type": "stream",
     "text": [
      "Answer is : 2598960\n"
     ]
    }
   ],
   "source": [
    "print(\"Answer is :\",cards)"
   ]
  },
  {
   "cell_type": "markdown",
   "id": "276d6f19-e6d6-4297-8586-e63189bbd2d1",
   "metadata": {},
   "source": [
    "### Task-3"
   ]
  },
  {
   "cell_type": "code",
   "execution_count": 15,
   "id": "35d26dc0-2f32-4f3e-9551-701b54e16e5b",
   "metadata": {},
   "outputs": [
    {
     "data": {
      "text/plain": [
       "336"
      ]
     },
     "execution_count": 15,
     "metadata": {},
     "output_type": "execute_result"
    }
   ],
   "source": [
    "winner=peryes(8,3)\n",
    "winner"
   ]
  },
  {
   "cell_type": "code",
   "execution_count": 16,
   "id": "510fa1a7-b9b0-4cbf-8ca8-8317dad0d32a",
   "metadata": {},
   "outputs": [
    {
     "name": "stdout",
     "output_type": "stream",
     "text": [
      "Answer is : 336\n"
     ]
    }
   ],
   "source": [
    "print(\"Answer is :\",winner)"
   ]
  },
  {
   "cell_type": "markdown",
   "id": "1b84c37d-c80e-4294-a414-e07aa5b89586",
   "metadata": {},
   "source": [
    "### Task-4"
   ]
  },
  {
   "cell_type": "code",
   "execution_count": null,
   "id": "46669450-b58e-4bd6-bc5a-7b0cc9699dc2",
   "metadata": {},
   "outputs": [],
   "source": []
  },
  {
   "cell_type": "markdown",
   "id": "8f8dbe43-e9af-41e6-ab32-9da9ce8c97ba",
   "metadata": {},
   "source": [
    "### Task-5"
   ]
  },
  {
   "cell_type": "code",
   "execution_count": 18,
   "id": "932adbef-5f01-42d4-9ff1-bff293d67faf",
   "metadata": {},
   "outputs": [],
   "source": [
    "# posibility of rolling dice -(1,3),(2,6),(3,1),(6,2)\n",
    "# there are 4 posibility in dice\n",
    "# total posibilty of dice is 36\n",
    "dice=4/36\n",
    "dice=1/9"
   ]
  },
  {
   "cell_type": "markdown",
   "id": "4736d20d-a1b1-42c9-84d5-4bc41a210210",
   "metadata": {},
   "source": [
    "### Task-6"
   ]
  },
  {
   "cell_type": "code",
   "execution_count": 21,
   "id": "4e45dd44-3b8a-4f01-b024-59b977fdc987",
   "metadata": {},
   "outputs": [
    {
     "data": {
      "text/plain": [
       "210"
      ]
     },
     "execution_count": 21,
     "metadata": {},
     "output_type": "execute_result"
    }
   ],
   "source": [
    "word=comno(7,3)*comno(4,2)\n",
    "word"
   ]
  },
  {
   "cell_type": "code",
   "execution_count": 22,
   "id": "f42fb693-e2c9-41ff-a64b-44d86a31469d",
   "metadata": {},
   "outputs": [
    {
     "name": "stdout",
     "output_type": "stream",
     "text": [
      "Answer is:  210\n"
     ]
    }
   ],
   "source": [
    "print(\"Answer is: \",word)"
   ]
  },
  {
   "cell_type": "code",
   "execution_count": null,
   "id": "a5dd74f8-b1a2-4ac9-985d-8cfdaab58a6d",
   "metadata": {},
   "outputs": [],
   "source": []
  }
 ],
 "metadata": {
  "kernelspec": {
   "display_name": "Python 3 (ipykernel)",
   "language": "python",
   "name": "python3"
  },
  "language_info": {
   "codemirror_mode": {
    "name": "ipython",
    "version": 3
   },
   "file_extension": ".py",
   "mimetype": "text/x-python",
   "name": "python",
   "nbconvert_exporter": "python",
   "pygments_lexer": "ipython3",
   "version": "3.11.7"
  }
 },
 "nbformat": 4,
 "nbformat_minor": 5
}
