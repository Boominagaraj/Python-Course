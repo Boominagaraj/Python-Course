{
 "cells": [
  {
   "cell_type": "markdown",
   "id": "248c4bac-7cc3-4cd6-accb-a8d0ac7d26e9",
   "metadata": {},
   "source": [
    "# Descriptive Analysis using python"
   ]
  },
  {
   "cell_type": "code",
   "execution_count": 16,
   "id": "4ddf74fd-2d2e-44fa-9a01-475eb75e08fe",
   "metadata": {},
   "outputs": [],
   "source": [
    "import pandas as pd\n",
    "import statistics as st\n",
    "import matplotlib.pyplot as plt\n",
    "import seaborn as sb"
   ]
  },
  {
   "cell_type": "code",
   "execution_count": 4,
   "id": "537bf0c7-b2a9-4e4d-9def-6a2ce8b0d6ec",
   "metadata": {},
   "outputs": [
    {
     "data": {
      "text/html": [
       "<div>\n",
       "<style scoped>\n",
       "    .dataframe tbody tr th:only-of-type {\n",
       "        vertical-align: middle;\n",
       "    }\n",
       "\n",
       "    .dataframe tbody tr th {\n",
       "        vertical-align: top;\n",
       "    }\n",
       "\n",
       "    .dataframe thead th {\n",
       "        text-align: right;\n",
       "    }\n",
       "</style>\n",
       "<table border=\"1\" class=\"dataframe\">\n",
       "  <thead>\n",
       "    <tr style=\"text-align: right;\">\n",
       "      <th></th>\n",
       "      <th>Intel</th>\n",
       "      <th>Microsoft</th>\n",
       "      <th>Adobe</th>\n",
       "    </tr>\n",
       "  </thead>\n",
       "  <tbody>\n",
       "    <tr>\n",
       "      <th>0</th>\n",
       "      <td>125</td>\n",
       "      <td>159</td>\n",
       "      <td>142</td>\n",
       "    </tr>\n",
       "    <tr>\n",
       "      <th>1</th>\n",
       "      <td>144</td>\n",
       "      <td>188</td>\n",
       "      <td>106</td>\n",
       "    </tr>\n",
       "    <tr>\n",
       "      <th>2</th>\n",
       "      <td>115</td>\n",
       "      <td>125</td>\n",
       "      <td>130</td>\n",
       "    </tr>\n",
       "    <tr>\n",
       "      <th>3</th>\n",
       "      <td>137</td>\n",
       "      <td>164</td>\n",
       "      <td>119</td>\n",
       "    </tr>\n",
       "    <tr>\n",
       "      <th>4</th>\n",
       "      <td>128</td>\n",
       "      <td>97</td>\n",
       "      <td>82</td>\n",
       "    </tr>\n",
       "    <tr>\n",
       "      <th>5</th>\n",
       "      <td>121</td>\n",
       "      <td>221</td>\n",
       "      <td>122</td>\n",
       "    </tr>\n",
       "    <tr>\n",
       "      <th>6</th>\n",
       "      <td>126</td>\n",
       "      <td>244</td>\n",
       "      <td>135</td>\n",
       "    </tr>\n",
       "    <tr>\n",
       "      <th>7</th>\n",
       "      <td>118</td>\n",
       "      <td>268</td>\n",
       "      <td>82</td>\n",
       "    </tr>\n",
       "    <tr>\n",
       "      <th>8</th>\n",
       "      <td>116</td>\n",
       "      <td>149</td>\n",
       "      <td>101</td>\n",
       "    </tr>\n",
       "    <tr>\n",
       "      <th>9</th>\n",
       "      <td>112</td>\n",
       "      <td>203</td>\n",
       "      <td>131</td>\n",
       "    </tr>\n",
       "    <tr>\n",
       "      <th>10</th>\n",
       "      <td>180</td>\n",
       "      <td>191</td>\n",
       "      <td>103</td>\n",
       "    </tr>\n",
       "    <tr>\n",
       "      <th>11</th>\n",
       "      <td>112</td>\n",
       "      <td>187</td>\n",
       "      <td>87</td>\n",
       "    </tr>\n",
       "    <tr>\n",
       "      <th>12</th>\n",
       "      <td>122</td>\n",
       "      <td>120</td>\n",
       "      <td>99</td>\n",
       "    </tr>\n",
       "    <tr>\n",
       "      <th>13</th>\n",
       "      <td>136</td>\n",
       "      <td>200</td>\n",
       "      <td>116</td>\n",
       "    </tr>\n",
       "    <tr>\n",
       "      <th>14</th>\n",
       "      <td>131</td>\n",
       "      <td>138</td>\n",
       "      <td>129</td>\n",
       "    </tr>\n",
       "    <tr>\n",
       "      <th>15</th>\n",
       "      <td>89</td>\n",
       "      <td>123</td>\n",
       "      <td>133</td>\n",
       "    </tr>\n",
       "    <tr>\n",
       "      <th>16</th>\n",
       "      <td>112</td>\n",
       "      <td>300</td>\n",
       "      <td>121</td>\n",
       "    </tr>\n",
       "    <tr>\n",
       "      <th>17</th>\n",
       "      <td>132</td>\n",
       "      <td>155</td>\n",
       "      <td>100</td>\n",
       "    </tr>\n",
       "    <tr>\n",
       "      <th>18</th>\n",
       "      <td>114</td>\n",
       "      <td>203</td>\n",
       "      <td>111</td>\n",
       "    </tr>\n",
       "    <tr>\n",
       "      <th>19</th>\n",
       "      <td>120</td>\n",
       "      <td>121</td>\n",
       "      <td>76</td>\n",
       "    </tr>\n",
       "    <tr>\n",
       "      <th>20</th>\n",
       "      <td>130</td>\n",
       "      <td>107</td>\n",
       "      <td>126</td>\n",
       "    </tr>\n",
       "    <tr>\n",
       "      <th>21</th>\n",
       "      <td>119</td>\n",
       "      <td>150</td>\n",
       "      <td>128</td>\n",
       "    </tr>\n",
       "    <tr>\n",
       "      <th>22</th>\n",
       "      <td>103</td>\n",
       "      <td>172</td>\n",
       "      <td>146</td>\n",
       "    </tr>\n",
       "    <tr>\n",
       "      <th>23</th>\n",
       "      <td>127</td>\n",
       "      <td>154</td>\n",
       "      <td>120</td>\n",
       "    </tr>\n",
       "    <tr>\n",
       "      <th>24</th>\n",
       "      <td>104</td>\n",
       "      <td>156</td>\n",
       "      <td>110</td>\n",
       "    </tr>\n",
       "  </tbody>\n",
       "</table>\n",
       "</div>"
      ],
      "text/plain": [
       "    Intel  Microsoft  Adobe\n",
       "0     125        159    142\n",
       "1     144        188    106\n",
       "2     115        125    130\n",
       "3     137        164    119\n",
       "4     128         97     82\n",
       "5     121        221    122\n",
       "6     126        244    135\n",
       "7     118        268     82\n",
       "8     116        149    101\n",
       "9     112        203    131\n",
       "10    180        191    103\n",
       "11    112        187     87\n",
       "12    122        120     99\n",
       "13    136        200    116\n",
       "14    131        138    129\n",
       "15     89        123    133\n",
       "16    112        300    121\n",
       "17    132        155    100\n",
       "18    114        203    111\n",
       "19    120        121     76\n",
       "20    130        107    126\n",
       "21    119        150    128\n",
       "22    103        172    146\n",
       "23    127        154    120\n",
       "24    104        156    110"
      ]
     },
     "execution_count": 4,
     "metadata": {},
     "output_type": "execute_result"
    }
   ],
   "source": [
    "df=pd.read_csv(\"DS1_C4_S5_Salary_Data_Concept.csv\")\n",
    "df"
   ]
  },
  {
   "cell_type": "markdown",
   "id": "4cd9dc0f-a885-4afd-9e1b-5bb46e327ca4",
   "metadata": {},
   "source": [
    "# Demo central Tendency"
   ]
  },
  {
   "cell_type": "markdown",
   "id": "be515a4f-65bc-4d45-8b5b-a39fdcb0e08c",
   "metadata": {},
   "source": [
    "# Calculating Mean,Median and Mode"
   ]
  },
  {
   "cell_type": "code",
   "execution_count": 5,
   "id": "12dc75dc-794f-4a49-a17a-2641e8c01b48",
   "metadata": {},
   "outputs": [
    {
     "data": {
      "text/html": [
       "<div>\n",
       "<style scoped>\n",
       "    .dataframe tbody tr th:only-of-type {\n",
       "        vertical-align: middle;\n",
       "    }\n",
       "\n",
       "    .dataframe tbody tr th {\n",
       "        vertical-align: top;\n",
       "    }\n",
       "\n",
       "    .dataframe thead th {\n",
       "        text-align: right;\n",
       "    }\n",
       "</style>\n",
       "<table border=\"1\" class=\"dataframe\">\n",
       "  <thead>\n",
       "    <tr style=\"text-align: right;\">\n",
       "      <th></th>\n",
       "      <th>Intel</th>\n",
       "      <th>Microsoft</th>\n",
       "      <th>Adobe</th>\n",
       "    </tr>\n",
       "  </thead>\n",
       "  <tbody>\n",
       "    <tr>\n",
       "      <th>0</th>\n",
       "      <td>125</td>\n",
       "      <td>159</td>\n",
       "      <td>142</td>\n",
       "    </tr>\n",
       "    <tr>\n",
       "      <th>1</th>\n",
       "      <td>144</td>\n",
       "      <td>188</td>\n",
       "      <td>106</td>\n",
       "    </tr>\n",
       "    <tr>\n",
       "      <th>2</th>\n",
       "      <td>115</td>\n",
       "      <td>125</td>\n",
       "      <td>130</td>\n",
       "    </tr>\n",
       "    <tr>\n",
       "      <th>3</th>\n",
       "      <td>137</td>\n",
       "      <td>164</td>\n",
       "      <td>119</td>\n",
       "    </tr>\n",
       "    <tr>\n",
       "      <th>4</th>\n",
       "      <td>128</td>\n",
       "      <td>97</td>\n",
       "      <td>82</td>\n",
       "    </tr>\n",
       "  </tbody>\n",
       "</table>\n",
       "</div>"
      ],
      "text/plain": [
       "   Intel  Microsoft  Adobe\n",
       "0    125        159    142\n",
       "1    144        188    106\n",
       "2    115        125    130\n",
       "3    137        164    119\n",
       "4    128         97     82"
      ]
     },
     "execution_count": 5,
     "metadata": {},
     "output_type": "execute_result"
    }
   ],
   "source": [
    "df.head()"
   ]
  },
  {
   "cell_type": "code",
   "execution_count": 7,
   "id": "0ce934be-294e-456e-892f-f2ca7e73409f",
   "metadata": {},
   "outputs": [],
   "source": [
    "mean=[]\n",
    "median=[]\n",
    "mode=[]\n",
    "for col in df.columns:\n",
    "    mean.append(st.mean(df[col]))\n",
    "    median.append(st.median(df[col]))\n",
    "    mode.append(st.mode(df[col]))"
   ]
  },
  {
   "cell_type": "code",
   "execution_count": 8,
   "id": "7faaf6ed-221f-4d28-8127-7a5b6958ea7a",
   "metadata": {},
   "outputs": [
    {
     "data": {
      "text/plain": [
       "([122.92, 171.8, 114.2], [121, 159, 119], [112, 203, 82])"
      ]
     },
     "execution_count": 8,
     "metadata": {},
     "output_type": "execute_result"
    }
   ],
   "source": [
    "mean,median,mode"
   ]
  },
  {
   "cell_type": "code",
   "execution_count": 9,
   "id": "788767a5-f9fa-45f5-9a49-7c12f1a772c6",
   "metadata": {},
   "outputs": [
    {
     "data": {
      "text/plain": [
       "Index(['Intel', 'Microsoft', 'Adobe'], dtype='object')"
      ]
     },
     "execution_count": 9,
     "metadata": {},
     "output_type": "execute_result"
    }
   ],
   "source": [
    "df.columns"
   ]
  },
  {
   "cell_type": "code",
   "execution_count": 11,
   "id": "b6c599dc-3a55-49b9-b459-24087eb190ba",
   "metadata": {},
   "outputs": [
    {
     "data": {
      "text/plain": [
       "['Intel', 'Microsoft', 'Adobe']"
      ]
     },
     "execution_count": 11,
     "metadata": {},
     "output_type": "execute_result"
    }
   ],
   "source": [
    "df.columns.tolist()"
   ]
  },
  {
   "cell_type": "code",
   "execution_count": 13,
   "id": "3e9d2464-0a66-4064-9376-393eebf94967",
   "metadata": {},
   "outputs": [
    {
     "data": {
      "text/html": [
       "<div>\n",
       "<style scoped>\n",
       "    .dataframe tbody tr th:only-of-type {\n",
       "        vertical-align: middle;\n",
       "    }\n",
       "\n",
       "    .dataframe tbody tr th {\n",
       "        vertical-align: top;\n",
       "    }\n",
       "\n",
       "    .dataframe thead th {\n",
       "        text-align: right;\n",
       "    }\n",
       "</style>\n",
       "<table border=\"1\" class=\"dataframe\">\n",
       "  <thead>\n",
       "    <tr style=\"text-align: right;\">\n",
       "      <th></th>\n",
       "      <th>Intel</th>\n",
       "      <th>Microsoft</th>\n",
       "      <th>Adobe</th>\n",
       "    </tr>\n",
       "  </thead>\n",
       "  <tbody>\n",
       "    <tr>\n",
       "      <th>Mean</th>\n",
       "      <td>122.92</td>\n",
       "      <td>171.8</td>\n",
       "      <td>114.2</td>\n",
       "    </tr>\n",
       "    <tr>\n",
       "      <th>Median</th>\n",
       "      <td>121.00</td>\n",
       "      <td>159.0</td>\n",
       "      <td>119.0</td>\n",
       "    </tr>\n",
       "    <tr>\n",
       "      <th>Mode</th>\n",
       "      <td>112.00</td>\n",
       "      <td>203.0</td>\n",
       "      <td>82.0</td>\n",
       "    </tr>\n",
       "  </tbody>\n",
       "</table>\n",
       "</div>"
      ],
      "text/plain": [
       "         Intel  Microsoft  Adobe\n",
       "Mean    122.92      171.8  114.2\n",
       "Median  121.00      159.0  119.0\n",
       "Mode    112.00      203.0   82.0"
      ]
     },
     "execution_count": 13,
     "metadata": {},
     "output_type": "execute_result"
    }
   ],
   "source": [
    "row_head=[\"Mean\",\"Median\",\"Mode\"]\n",
    "col_head=df.columns.tolist()\n",
    "\n",
    "ct_df=pd.DataFrame([mean,median,mode],index=row_head,columns=col_head)\n",
    "ct_df"
   ]
  },
  {
   "cell_type": "markdown",
   "id": "3fbe31c0-70af-4c15-aee3-07790b24a7c4",
   "metadata": {},
   "source": [
    "# Calculation of Standard variation and Coefficent of variance"
   ]
  },
  {
   "cell_type": "code",
   "execution_count": 14,
   "id": "a99101b2-e6f2-41ac-ae4b-2340ea19c45e",
   "metadata": {},
   "outputs": [],
   "source": [
    "sd=[]\n",
    "cv=[]\n",
    "\n",
    "for col in df.columns:\n",
    "    sd.append(st.stdev(df[col]))\n",
    "    cv.append((st.stdev(df[col])/st.mean(df[col]))*100)"
   ]
  },
  {
   "cell_type": "code",
   "execution_count": 15,
   "id": "72826411-ca25-4139-bdbc-6c44a98c0146",
   "metadata": {},
   "outputs": [
    {
     "data": {
      "text/plain": [
       "([16.87187008010671, 49.903239707791855, 19.276496915501358],\n",
       " [13.725894956155802, 29.04728737356918, 16.87959449693639])"
      ]
     },
     "execution_count": 15,
     "metadata": {},
     "output_type": "execute_result"
    }
   ],
   "source": [
    "sd,cv"
   ]
  },
  {
   "cell_type": "markdown",
   "id": "07536226-bfa6-4701-9295-08ea91db3888",
   "metadata": {},
   "source": [
    "# Calculation of Range ,inter Quartile Range and Q1,Q2,Q3"
   ]
  },
  {
   "cell_type": "code",
   "execution_count": 18,
   "id": "5c225e55-d9a1-407d-99d9-2b4255fe335b",
   "metadata": {},
   "outputs": [
    {
     "data": {
      "image/png": "[encoded data removed]",
      "text/plain": [
       "<Figure size 640x480 with 1 Axes>"
      ]
     },
     "metadata": {},
     "output_type": "display_data"
    }
   ],
   "source": [
    "plt.boxplot(df['Intel'])\n",
    "plt.show()"
   ]
  },
  {
   "cell_type": "code",
   "execution_count": 20,
   "id": "ea076722-d1f1-49d5-b65c-99f7a3a9fad1",
   "metadata": {},
   "outputs": [
    {
     "data": {
      "text/html": [
       "<div>\n",
       "<style scoped>\n",
       "    .dataframe tbody tr th:only-of-type {\n",
       "        vertical-align: middle;\n",
       "    }\n",
       "\n",
       "    .dataframe tbody tr th {\n",
       "        vertical-align: top;\n",
       "    }\n",
       "\n",
       "    .dataframe thead th {\n",
       "        text-align: right;\n",
       "    }\n",
       "</style>\n",
       "<table border=\"1\" class=\"dataframe\">\n",
       "  <thead>\n",
       "    <tr style=\"text-align: right;\">\n",
       "      <th></th>\n",
       "      <th>Company_Name</th>\n",
       "      <th>min</th>\n",
       "      <th>max</th>\n",
       "      <th>q1</th>\n",
       "      <th>q3</th>\n",
       "      <th>iqr</th>\n",
       "      <th>UF</th>\n",
       "      <th>LF</th>\n",
       "      <th>UO</th>\n",
       "      <th>LO</th>\n",
       "    </tr>\n",
       "  </thead>\n",
       "  <tbody>\n",
       "    <tr>\n",
       "      <th>0</th>\n",
       "      <td>Intel</td>\n",
       "      <td>89</td>\n",
       "      <td>180</td>\n",
       "      <td>114.0</td>\n",
       "      <td>130.0</td>\n",
       "      <td>16.0</td>\n",
       "      <td>154.0</td>\n",
       "      <td>90.0</td>\n",
       "      <td>[180]</td>\n",
       "      <td>[89]</td>\n",
       "    </tr>\n",
       "    <tr>\n",
       "      <th>1</th>\n",
       "      <td>Microsoft</td>\n",
       "      <td>97</td>\n",
       "      <td>300</td>\n",
       "      <td>138.0</td>\n",
       "      <td>200.0</td>\n",
       "      <td>62.0</td>\n",
       "      <td>293.0</td>\n",
       "      <td>45.0</td>\n",
       "      <td>[300]</td>\n",
       "      <td>[]</td>\n",
       "    </tr>\n",
       "    <tr>\n",
       "      <th>2</th>\n",
       "      <td>Adobe</td>\n",
       "      <td>76</td>\n",
       "      <td>146</td>\n",
       "      <td>101.0</td>\n",
       "      <td>129.0</td>\n",
       "      <td>28.0</td>\n",
       "      <td>171.0</td>\n",
       "      <td>59.0</td>\n",
       "      <td>[]</td>\n",
       "      <td>[]</td>\n",
       "    </tr>\n",
       "  </tbody>\n",
       "</table>\n",
       "</div>"
      ],
      "text/plain": [
       "  Company_Name  min  max     q1     q3   iqr     UF    LF     UO    LO\n",
       "0        Intel   89  180  114.0  130.0  16.0  154.0  90.0  [180]  [89]\n",
       "1    Microsoft   97  300  138.0  200.0  62.0  293.0  45.0  [300]    []\n",
       "2        Adobe   76  146  101.0  129.0  28.0  171.0  59.0     []    []"
      ]
     },
     "execution_count": 20,
     "metadata": {},
     "output_type": "execute_result"
    }
   ],
   "source": [
    "for col in df.columns:\n",
    "    LO=[]#Lower Outliers\n",
    "    UO=[]#Upper Ouliers\n",
    "\n",
    "    ser=pd.Series(df[col])\n",
    "\n",
    "    min=ser.min()\n",
    "    max=ser.max()\n",
    "\n",
    "    q1=ser.quantile(0.25)\n",
    "    q3=ser.quantile(0.75)\n",
    "\n",
    "    iqr=q3-q1\n",
    "\n",
    "    UF=q3+(1.5*iqr) #Upper Fence\n",
    "    LF=q1-(1.5*iqr) #Lower Fence\n",
    "\n",
    "    for val in ser:\n",
    "        if val> UF:\n",
    "            UO.append(val)\n",
    "        elif val<LF:\n",
    "            LO.append(val)\n",
    "\n",
    "    if col==\"Intel\":\n",
    "        Intel=[\"Intel\",min,max,q1,q3,iqr,UF,LF,UO,LO]\n",
    "    elif col==\"Microsoft\":\n",
    "        Microsoft=[\"Microsoft\",min,max,q1,q3,iqr,UF,LF,UO,LO]\n",
    "    elif col==\"Adobe\":\n",
    "        Adobe=[\"Adobe\",min,max,q1,q3,iqr,UF,LF,UO,LO]\n",
    "\n",
    "col_head=[\"Company_Name\",\"min\",\"max\",\"q1\",\"q3\",\"iqr\",\"UF\",\"LF\",\"UO\",\"LO\"]\n",
    "range_df=pd.DataFrame([Intel,Microsoft,Adobe],columns=col_head)\n",
    "range_df"
   ]
  },
  {
   "cell_type": "code",
   "execution_count": null,
   "id": "47015ea7-f3bd-4c70-bdcf-42cce9de68ba",
   "metadata": {},
   "outputs": [],
   "source": []
  }
 ],
 "metadata": {
  "kernelspec": {
   "display_name": "Python 3 (ipykernel)",
   "language": "python",
   "name": "python3"
  },
  "language_info": {
   "codemirror_mode": {
    "name": "ipython",
    "version": 3
   },
   "file_extension": ".py",
   "mimetype": "text/x-python",
   "name": "python",
   "nbconvert_exporter": "python",
   "pygments_lexer": "ipython3",
   "version": "3.11.7"
  }
 },
 "nbformat": 4,
 "nbformat_minor": 5
}
